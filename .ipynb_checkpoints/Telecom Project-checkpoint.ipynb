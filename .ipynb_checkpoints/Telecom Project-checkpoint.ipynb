{
 "cells": [
  {
   "cell_type": "markdown",
   "metadata": {},
   "source": [
    "# SyriaTel Customer Churn Issues"
   ]
  },
  {
   "cell_type": "markdown",
   "metadata": {},
   "source": [
    "This is project is an attempt to predict those customers that will be leaving the SyriaTel mobile network. I will be using predictive modeling techniques to perform this task. Customer churn is described on Hubspot as\n",
    "> Customer churn is the percentage of customers that stopped using your company's product or service during a certain time frame\n",
    "\n",
    "Also according to Hubspot:\n",
    ">In fact, an increase in customer retention of just 5% can create at least a 25% increase in profit. This is because returning customers will likely spend 67% more on your company's products and services. \n",
    "\n",
    "Being able to detect who will leave a given service before they actually do is an invalueable insight for any company. Being able to target those customers preemptively with incenstivs, discounts, and other attention may help to slow churn rate. Specific targetting can help with being judicious with such enticements. Rather than offering everyone on a given service a price break, being able to diagnos with speicifc metrics will make the best use of rescources for customer retention. "
   ]
  },
  {
   "cell_type": "markdown",
   "metadata": {},
   "source": [
    "## Exploratory Data Analysis"
   ]
  },
  {
   "cell_type": "markdown",
   "metadata": {},
   "source": [
    "Before specific and granular exploration of the dataset that I will be using for predictive modeling, I want to first take a look at the current churn rate of SyriaTel."
   ]
  },
  {
   "cell_type": "code",
   "execution_count": 80,
   "metadata": {},
   "outputs": [],
   "source": [
    "#The Many imports I will be using for this project\n",
    "import pandas as pd\n",
    "from sklearn.model_selection import train_test_split\n",
    "from sklearn.linear_model import LogisticRegression\n",
    "from sklearn.preprocessing import StandardScaler\n",
    "from sklearn.metrics import confusion_matrix\n",
    "from sklearn.metrics import plot_confusion_matrix\n",
    "from sklearn.metrics import ConfusionMatrixDisplay\n",
    "from sklearn.metrics import accuracy_score\n",
    "from sklearn.metrics import f1_score\n",
    "from sklearn.model_selection import cross_val_score\n",
    "from sklearn.metrics import recall_score\n",
    "from sklearn.metrics import precision_score\n",
    "import numpy as np\n",
    "from sklearn.neighbors import KNeighborsClassifier\n",
    "from sklearn.tree import DecisionTreeClassifier \n",
    "from sklearn.ensemble import BaggingClassifier, RandomForestClassifier\n",
    "import matplotlib.pyplot as plt\n",
    "from sklearn.ensemble import AdaBoostClassifier, GradientBoostingClassifier\n",
    "from xgboost import XGBClassifier\n",
    "from sklearn.model_selection import GridSearchCV\n",
    "import seaborn as sns\n",
    "from sklearn.preprocessing import OneHotEncoder \n",
    "from sklearn import metrics\n",
    "from skippa import Skippa, columns\n",
    "from sklearn.metrics import fbeta_score, make_scorer"
   ]
  },
  {
   "cell_type": "code",
   "execution_count": 44,
   "metadata": {},
   "outputs": [],
   "source": [
    "#Loading the initial dataframe\n",
    "df = pd.read_csv(\"bigml_59c28831336c6604c800002a.csv\")"
   ]
  },
  {
   "cell_type": "code",
   "execution_count": 5,
   "metadata": {},
   "outputs": [
    {
     "name": "stdout",
     "output_type": "stream",
     "text": [
      "<class 'pandas.core.frame.DataFrame'>\n",
      "RangeIndex: 3333 entries, 0 to 3332\n",
      "Data columns (total 21 columns):\n",
      " #   Column                  Non-Null Count  Dtype  \n",
      "---  ------                  --------------  -----  \n",
      " 0   state                   3333 non-null   object \n",
      " 1   account length          3333 non-null   int64  \n",
      " 2   area code               3333 non-null   int64  \n",
      " 3   phone number            3333 non-null   object \n",
      " 4   international plan      3333 non-null   object \n",
      " 5   voice mail plan         3333 non-null   object \n",
      " 6   number vmail messages   3333 non-null   int64  \n",
      " 7   total day minutes       3333 non-null   float64\n",
      " 8   total day calls         3333 non-null   int64  \n",
      " 9   total day charge        3333 non-null   float64\n",
      " 10  total eve minutes       3333 non-null   float64\n",
      " 11  total eve calls         3333 non-null   int64  \n",
      " 12  total eve charge        3333 non-null   float64\n",
      " 13  total night minutes     3333 non-null   float64\n",
      " 14  total night calls       3333 non-null   int64  \n",
      " 15  total night charge      3333 non-null   float64\n",
      " 16  total intl minutes      3333 non-null   float64\n",
      " 17  total intl calls        3333 non-null   int64  \n",
      " 18  total intl charge       3333 non-null   float64\n",
      " 19  customer service calls  3333 non-null   int64  \n",
      " 20  churn                   3333 non-null   bool   \n",
      "dtypes: bool(1), float64(8), int64(8), object(4)\n",
      "memory usage: 524.2+ KB\n"
     ]
    }
   ],
   "source": [
    "#Taking a look at the entire dataset\n",
    "df.info()"
   ]
  },
  {
   "cell_type": "markdown",
   "metadata": {},
   "source": [
    "Initially this dataset looks nice and clean. There are no null observations, though there is a mixture of objects and numeric features. The target for modeling is the \"churn\" feature. Which is where initial attention will be paid."
   ]
  },
  {
   "cell_type": "code",
   "execution_count": 6,
   "metadata": {},
   "outputs": [
    {
     "data": {
      "text/html": [
       "<div>\n",
       "<style scoped>\n",
       "    .dataframe tbody tr th:only-of-type {\n",
       "        vertical-align: middle;\n",
       "    }\n",
       "\n",
       "    .dataframe tbody tr th {\n",
       "        vertical-align: top;\n",
       "    }\n",
       "\n",
       "    .dataframe thead th {\n",
       "        text-align: right;\n",
       "    }\n",
       "</style>\n",
       "<table border=\"1\" class=\"dataframe\">\n",
       "  <thead>\n",
       "    <tr style=\"text-align: right;\">\n",
       "      <th></th>\n",
       "      <th>state</th>\n",
       "      <th>account length</th>\n",
       "      <th>area code</th>\n",
       "      <th>phone number</th>\n",
       "      <th>international plan</th>\n",
       "      <th>voice mail plan</th>\n",
       "      <th>number vmail messages</th>\n",
       "      <th>total day minutes</th>\n",
       "      <th>total day calls</th>\n",
       "      <th>total day charge</th>\n",
       "      <th>...</th>\n",
       "      <th>total eve calls</th>\n",
       "      <th>total eve charge</th>\n",
       "      <th>total night minutes</th>\n",
       "      <th>total night calls</th>\n",
       "      <th>total night charge</th>\n",
       "      <th>total intl minutes</th>\n",
       "      <th>total intl calls</th>\n",
       "      <th>total intl charge</th>\n",
       "      <th>customer service calls</th>\n",
       "      <th>churn</th>\n",
       "    </tr>\n",
       "  </thead>\n",
       "  <tbody>\n",
       "    <tr>\n",
       "      <th>0</th>\n",
       "      <td>KS</td>\n",
       "      <td>128</td>\n",
       "      <td>415</td>\n",
       "      <td>382-4657</td>\n",
       "      <td>no</td>\n",
       "      <td>yes</td>\n",
       "      <td>25</td>\n",
       "      <td>265.1</td>\n",
       "      <td>110</td>\n",
       "      <td>45.07</td>\n",
       "      <td>...</td>\n",
       "      <td>99</td>\n",
       "      <td>16.78</td>\n",
       "      <td>244.7</td>\n",
       "      <td>91</td>\n",
       "      <td>11.01</td>\n",
       "      <td>10.0</td>\n",
       "      <td>3</td>\n",
       "      <td>2.70</td>\n",
       "      <td>1</td>\n",
       "      <td>False</td>\n",
       "    </tr>\n",
       "    <tr>\n",
       "      <th>1</th>\n",
       "      <td>OH</td>\n",
       "      <td>107</td>\n",
       "      <td>415</td>\n",
       "      <td>371-7191</td>\n",
       "      <td>no</td>\n",
       "      <td>yes</td>\n",
       "      <td>26</td>\n",
       "      <td>161.6</td>\n",
       "      <td>123</td>\n",
       "      <td>27.47</td>\n",
       "      <td>...</td>\n",
       "      <td>103</td>\n",
       "      <td>16.62</td>\n",
       "      <td>254.4</td>\n",
       "      <td>103</td>\n",
       "      <td>11.45</td>\n",
       "      <td>13.7</td>\n",
       "      <td>3</td>\n",
       "      <td>3.70</td>\n",
       "      <td>1</td>\n",
       "      <td>False</td>\n",
       "    </tr>\n",
       "    <tr>\n",
       "      <th>2</th>\n",
       "      <td>NJ</td>\n",
       "      <td>137</td>\n",
       "      <td>415</td>\n",
       "      <td>358-1921</td>\n",
       "      <td>no</td>\n",
       "      <td>no</td>\n",
       "      <td>0</td>\n",
       "      <td>243.4</td>\n",
       "      <td>114</td>\n",
       "      <td>41.38</td>\n",
       "      <td>...</td>\n",
       "      <td>110</td>\n",
       "      <td>10.30</td>\n",
       "      <td>162.6</td>\n",
       "      <td>104</td>\n",
       "      <td>7.32</td>\n",
       "      <td>12.2</td>\n",
       "      <td>5</td>\n",
       "      <td>3.29</td>\n",
       "      <td>0</td>\n",
       "      <td>False</td>\n",
       "    </tr>\n",
       "    <tr>\n",
       "      <th>3</th>\n",
       "      <td>OH</td>\n",
       "      <td>84</td>\n",
       "      <td>408</td>\n",
       "      <td>375-9999</td>\n",
       "      <td>yes</td>\n",
       "      <td>no</td>\n",
       "      <td>0</td>\n",
       "      <td>299.4</td>\n",
       "      <td>71</td>\n",
       "      <td>50.90</td>\n",
       "      <td>...</td>\n",
       "      <td>88</td>\n",
       "      <td>5.26</td>\n",
       "      <td>196.9</td>\n",
       "      <td>89</td>\n",
       "      <td>8.86</td>\n",
       "      <td>6.6</td>\n",
       "      <td>7</td>\n",
       "      <td>1.78</td>\n",
       "      <td>2</td>\n",
       "      <td>False</td>\n",
       "    </tr>\n",
       "    <tr>\n",
       "      <th>4</th>\n",
       "      <td>OK</td>\n",
       "      <td>75</td>\n",
       "      <td>415</td>\n",
       "      <td>330-6626</td>\n",
       "      <td>yes</td>\n",
       "      <td>no</td>\n",
       "      <td>0</td>\n",
       "      <td>166.7</td>\n",
       "      <td>113</td>\n",
       "      <td>28.34</td>\n",
       "      <td>...</td>\n",
       "      <td>122</td>\n",
       "      <td>12.61</td>\n",
       "      <td>186.9</td>\n",
       "      <td>121</td>\n",
       "      <td>8.41</td>\n",
       "      <td>10.1</td>\n",
       "      <td>3</td>\n",
       "      <td>2.73</td>\n",
       "      <td>3</td>\n",
       "      <td>False</td>\n",
       "    </tr>\n",
       "  </tbody>\n",
       "</table>\n",
       "<p>5 rows × 21 columns</p>\n",
       "</div>"
      ],
      "text/plain": [
       "  state  account length  area code phone number international plan  \\\n",
       "0    KS             128        415     382-4657                 no   \n",
       "1    OH             107        415     371-7191                 no   \n",
       "2    NJ             137        415     358-1921                 no   \n",
       "3    OH              84        408     375-9999                yes   \n",
       "4    OK              75        415     330-6626                yes   \n",
       "\n",
       "  voice mail plan  number vmail messages  total day minutes  total day calls  \\\n",
       "0             yes                     25              265.1              110   \n",
       "1             yes                     26              161.6              123   \n",
       "2              no                      0              243.4              114   \n",
       "3              no                      0              299.4               71   \n",
       "4              no                      0              166.7              113   \n",
       "\n",
       "   total day charge  ...  total eve calls  total eve charge  \\\n",
       "0             45.07  ...               99             16.78   \n",
       "1             27.47  ...              103             16.62   \n",
       "2             41.38  ...              110             10.30   \n",
       "3             50.90  ...               88              5.26   \n",
       "4             28.34  ...              122             12.61   \n",
       "\n",
       "   total night minutes  total night calls  total night charge  \\\n",
       "0                244.7                 91               11.01   \n",
       "1                254.4                103               11.45   \n",
       "2                162.6                104                7.32   \n",
       "3                196.9                 89                8.86   \n",
       "4                186.9                121                8.41   \n",
       "\n",
       "   total intl minutes  total intl calls  total intl charge  \\\n",
       "0                10.0                 3               2.70   \n",
       "1                13.7                 3               3.70   \n",
       "2                12.2                 5               3.29   \n",
       "3                 6.6                 7               1.78   \n",
       "4                10.1                 3               2.73   \n",
       "\n",
       "   customer service calls  churn  \n",
       "0                       1  False  \n",
       "1                       1  False  \n",
       "2                       0  False  \n",
       "3                       2  False  \n",
       "4                       3  False  \n",
       "\n",
       "[5 rows x 21 columns]"
      ]
     },
     "execution_count": 6,
     "metadata": {},
     "output_type": "execute_result"
    }
   ],
   "source": [
    "df.head(5)"
   ]
  },
  {
   "cell_type": "code",
   "execution_count": 7,
   "metadata": {},
   "outputs": [
    {
     "data": {
      "text/plain": [
       "False    2850\n",
       "True      483\n",
       "Name: churn, dtype: int64"
      ]
     },
     "execution_count": 7,
     "metadata": {},
     "output_type": "execute_result"
    }
   ],
   "source": [
    "df['churn'].value_counts()"
   ]
  },
  {
   "cell_type": "markdown",
   "metadata": {},
   "source": [
    "The churn feature is a boolean, and what be best converted to binary values for modeling."
   ]
  },
  {
   "cell_type": "code",
   "execution_count": 8,
   "metadata": {},
   "outputs": [],
   "source": [
    "df['churn']=df['churn'].astype(int)"
   ]
  },
  {
   "cell_type": "code",
   "execution_count": 9,
   "metadata": {},
   "outputs": [
    {
     "data": {
      "text/plain": [
       "0    2850\n",
       "1     483\n",
       "Name: churn, dtype: int64"
      ]
     },
     "execution_count": 9,
     "metadata": {},
     "output_type": "execute_result"
    }
   ],
   "source": [
    "df['churn'].value_counts()"
   ]
  },
  {
   "cell_type": "code",
   "execution_count": 10,
   "metadata": {},
   "outputs": [
    {
     "data": {
      "text/plain": [
       "0.14491449144914492"
      ]
     },
     "execution_count": 10,
     "metadata": {},
     "output_type": "execute_result"
    }
   ],
   "source": [
    "#Calculating churn by dividing the number of customers lost by the total customers.\n",
    "np.sum(df['churn']==1)/len(df['churn'])"
   ]
  },
  {
   "cell_type": "markdown",
   "metadata": {},
   "source": [
    "The current churn rate for the period of this data set is 14.5%. Being able to reduce this figure using a targeted approach. It's also important to remember that we are dealing with an unbalanced dataset and the models used will need to be weighted to deal with this issue."
   ]
  },
  {
   "cell_type": "markdown",
   "metadata": {},
   "source": [
    "### Feature Exploration"
   ]
  },
  {
   "cell_type": "markdown",
   "metadata": {},
   "source": [
    "Several of the features in this dataset are objects. I will start by looking at the state feature."
   ]
  },
  {
   "cell_type": "code",
   "execution_count": 11,
   "metadata": {},
   "outputs": [
    {
     "data": {
      "text/plain": [
       "WV    106\n",
       "MN     84\n",
       "NY     83\n",
       "AL     80\n",
       "OR     78\n",
       "WI     78\n",
       "OH     78\n",
       "WY     77\n",
       "VA     77\n",
       "CT     74\n",
       "VT     73\n",
       "ID     73\n",
       "MI     73\n",
       "TX     72\n",
       "UT     72\n",
       "IN     71\n",
       "KS     70\n",
       "MD     70\n",
       "NC     68\n",
       "NJ     68\n",
       "MT     68\n",
       "CO     66\n",
       "NV     66\n",
       "WA     66\n",
       "RI     65\n",
       "MS     65\n",
       "MA     65\n",
       "AZ     64\n",
       "FL     63\n",
       "MO     63\n",
       "NM     62\n",
       "ND     62\n",
       "ME     62\n",
       "NE     61\n",
       "OK     61\n",
       "DE     61\n",
       "SD     60\n",
       "SC     60\n",
       "KY     59\n",
       "IL     58\n",
       "NH     56\n",
       "AR     55\n",
       "GA     54\n",
       "DC     54\n",
       "HI     53\n",
       "TN     53\n",
       "AK     52\n",
       "LA     51\n",
       "PA     45\n",
       "IA     44\n",
       "CA     34\n",
       "Name: state, dtype: int64"
      ]
     },
     "execution_count": 11,
     "metadata": {},
     "output_type": "execute_result"
    }
   ],
   "source": [
    "df['state'].value_counts()"
   ]
  },
  {
   "cell_type": "markdown",
   "metadata": {},
   "source": [
    "Though this is a dataset for a Syrian telecom, the user base is located in the United States, with a higher number of users in West Virgina and the lowest number being in California. State may or may not be an important feature in the dataset. "
   ]
  },
  {
   "cell_type": "code",
   "execution_count": 12,
   "metadata": {},
   "outputs": [
    {
     "data": {
      "text/plain": [
       "0        no\n",
       "1        no\n",
       "2        no\n",
       "3       yes\n",
       "4       yes\n",
       "       ... \n",
       "3328     no\n",
       "3329     no\n",
       "3330     no\n",
       "3331    yes\n",
       "3332     no\n",
       "Name: international plan, Length: 3333, dtype: object"
      ]
     },
     "execution_count": 12,
     "metadata": {},
     "output_type": "execute_result"
    }
   ],
   "source": [
    "df['international plan']"
   ]
  },
  {
   "cell_type": "code",
   "execution_count": 13,
   "metadata": {},
   "outputs": [
    {
     "data": {
      "text/plain": [
       "0       yes\n",
       "1       yes\n",
       "2        no\n",
       "3        no\n",
       "4        no\n",
       "       ... \n",
       "3328    yes\n",
       "3329     no\n",
       "3330     no\n",
       "3331     no\n",
       "3332    yes\n",
       "Name: voice mail plan, Length: 3333, dtype: object"
      ]
     },
     "execution_count": 13,
     "metadata": {},
     "output_type": "execute_result"
    }
   ],
   "source": [
    "df['voice mail plan']"
   ]
  },
  {
   "cell_type": "code",
   "execution_count": 14,
   "metadata": {},
   "outputs": [
    {
     "data": {
      "text/plain": [
       "0       382-4657\n",
       "1       371-7191\n",
       "2       358-1921\n",
       "3       375-9999\n",
       "4       330-6626\n",
       "          ...   \n",
       "3328    414-4276\n",
       "3329    370-3271\n",
       "3330    328-8230\n",
       "3331    364-6381\n",
       "3332    400-4344\n",
       "Name: phone number, Length: 3333, dtype: object"
      ]
     },
     "execution_count": 14,
     "metadata": {},
     "output_type": "execute_result"
    }
   ],
   "source": [
    "df['phone number']"
   ]
  },
  {
   "cell_type": "code",
   "execution_count": 15,
   "metadata": {},
   "outputs": [
    {
     "data": {
      "text/plain": [
       "3333"
      ]
     },
     "execution_count": 15,
     "metadata": {},
     "output_type": "execute_result"
    }
   ],
   "source": [
    "df['phone number'].nunique()"
   ]
  },
  {
   "cell_type": "markdown",
   "metadata": {},
   "source": [
    "The other object features are above should be converted to numeric with one-hot-encoding during preprocessing. I will probably drop the phone number column as a model should generalize, and a phone number is the most granular data in the set. I will always consider dropping the state column as any information in state would be learned in the area code feature and I want to reduce dimensionality in modeling."
   ]
  },
  {
   "cell_type": "code",
   "execution_count": 16,
   "metadata": {},
   "outputs": [
    {
     "data": {
      "text/plain": [
       "415    1655\n",
       "510     840\n",
       "408     838\n",
       "Name: area code, dtype: int64"
      ]
     },
     "execution_count": 16,
     "metadata": {},
     "output_type": "execute_result"
    }
   ],
   "source": [
    "df['area code'].value_counts()"
   ]
  },
  {
   "cell_type": "code",
   "execution_count": 17,
   "metadata": {},
   "outputs": [
    {
     "data": {
      "text/plain": [
       "3"
      ]
     },
     "execution_count": 17,
     "metadata": {},
     "output_type": "execute_result"
    }
   ],
   "source": [
    "df['area code'].nunique()"
   ]
  },
  {
   "cell_type": "markdown",
   "metadata": {},
   "source": [
    "Curiously there are 50 unique values in the state column, but only 3 area codes in the entire dataset. It seems like something is amiss, and my inclination will be to remove those features if they do not prove useful."
   ]
  },
  {
   "cell_type": "markdown",
   "metadata": {},
   "source": [
    "### Numeric Features"
   ]
  },
  {
   "cell_type": "code",
   "execution_count": 18,
   "metadata": {},
   "outputs": [
    {
     "data": {
      "text/html": [
       "<div>\n",
       "<style scoped>\n",
       "    .dataframe tbody tr th:only-of-type {\n",
       "        vertical-align: middle;\n",
       "    }\n",
       "\n",
       "    .dataframe tbody tr th {\n",
       "        vertical-align: top;\n",
       "    }\n",
       "\n",
       "    .dataframe thead th {\n",
       "        text-align: right;\n",
       "    }\n",
       "</style>\n",
       "<table border=\"1\" class=\"dataframe\">\n",
       "  <thead>\n",
       "    <tr style=\"text-align: right;\">\n",
       "      <th></th>\n",
       "      <th>account length</th>\n",
       "      <th>area code</th>\n",
       "      <th>number vmail messages</th>\n",
       "      <th>total day minutes</th>\n",
       "      <th>total day calls</th>\n",
       "      <th>total day charge</th>\n",
       "      <th>total eve minutes</th>\n",
       "      <th>total eve calls</th>\n",
       "      <th>total eve charge</th>\n",
       "      <th>total night minutes</th>\n",
       "      <th>total night calls</th>\n",
       "      <th>total night charge</th>\n",
       "      <th>total intl minutes</th>\n",
       "      <th>total intl calls</th>\n",
       "      <th>total intl charge</th>\n",
       "      <th>customer service calls</th>\n",
       "      <th>churn</th>\n",
       "    </tr>\n",
       "  </thead>\n",
       "  <tbody>\n",
       "    <tr>\n",
       "      <th>count</th>\n",
       "      <td>3333.000000</td>\n",
       "      <td>3333.000000</td>\n",
       "      <td>3333.000000</td>\n",
       "      <td>3333.000000</td>\n",
       "      <td>3333.000000</td>\n",
       "      <td>3333.000000</td>\n",
       "      <td>3333.000000</td>\n",
       "      <td>3333.000000</td>\n",
       "      <td>3333.000000</td>\n",
       "      <td>3333.000000</td>\n",
       "      <td>3333.000000</td>\n",
       "      <td>3333.000000</td>\n",
       "      <td>3333.000000</td>\n",
       "      <td>3333.000000</td>\n",
       "      <td>3333.000000</td>\n",
       "      <td>3333.000000</td>\n",
       "      <td>3333.000000</td>\n",
       "    </tr>\n",
       "    <tr>\n",
       "      <th>mean</th>\n",
       "      <td>101.064806</td>\n",
       "      <td>437.182418</td>\n",
       "      <td>8.099010</td>\n",
       "      <td>179.775098</td>\n",
       "      <td>100.435644</td>\n",
       "      <td>30.562307</td>\n",
       "      <td>200.980348</td>\n",
       "      <td>100.114311</td>\n",
       "      <td>17.083540</td>\n",
       "      <td>200.872037</td>\n",
       "      <td>100.107711</td>\n",
       "      <td>9.039325</td>\n",
       "      <td>10.237294</td>\n",
       "      <td>4.479448</td>\n",
       "      <td>2.764581</td>\n",
       "      <td>1.562856</td>\n",
       "      <td>0.144914</td>\n",
       "    </tr>\n",
       "    <tr>\n",
       "      <th>std</th>\n",
       "      <td>39.822106</td>\n",
       "      <td>42.371290</td>\n",
       "      <td>13.688365</td>\n",
       "      <td>54.467389</td>\n",
       "      <td>20.069084</td>\n",
       "      <td>9.259435</td>\n",
       "      <td>50.713844</td>\n",
       "      <td>19.922625</td>\n",
       "      <td>4.310668</td>\n",
       "      <td>50.573847</td>\n",
       "      <td>19.568609</td>\n",
       "      <td>2.275873</td>\n",
       "      <td>2.791840</td>\n",
       "      <td>2.461214</td>\n",
       "      <td>0.753773</td>\n",
       "      <td>1.315491</td>\n",
       "      <td>0.352067</td>\n",
       "    </tr>\n",
       "    <tr>\n",
       "      <th>min</th>\n",
       "      <td>1.000000</td>\n",
       "      <td>408.000000</td>\n",
       "      <td>0.000000</td>\n",
       "      <td>0.000000</td>\n",
       "      <td>0.000000</td>\n",
       "      <td>0.000000</td>\n",
       "      <td>0.000000</td>\n",
       "      <td>0.000000</td>\n",
       "      <td>0.000000</td>\n",
       "      <td>23.200000</td>\n",
       "      <td>33.000000</td>\n",
       "      <td>1.040000</td>\n",
       "      <td>0.000000</td>\n",
       "      <td>0.000000</td>\n",
       "      <td>0.000000</td>\n",
       "      <td>0.000000</td>\n",
       "      <td>0.000000</td>\n",
       "    </tr>\n",
       "    <tr>\n",
       "      <th>25%</th>\n",
       "      <td>74.000000</td>\n",
       "      <td>408.000000</td>\n",
       "      <td>0.000000</td>\n",
       "      <td>143.700000</td>\n",
       "      <td>87.000000</td>\n",
       "      <td>24.430000</td>\n",
       "      <td>166.600000</td>\n",
       "      <td>87.000000</td>\n",
       "      <td>14.160000</td>\n",
       "      <td>167.000000</td>\n",
       "      <td>87.000000</td>\n",
       "      <td>7.520000</td>\n",
       "      <td>8.500000</td>\n",
       "      <td>3.000000</td>\n",
       "      <td>2.300000</td>\n",
       "      <td>1.000000</td>\n",
       "      <td>0.000000</td>\n",
       "    </tr>\n",
       "    <tr>\n",
       "      <th>50%</th>\n",
       "      <td>101.000000</td>\n",
       "      <td>415.000000</td>\n",
       "      <td>0.000000</td>\n",
       "      <td>179.400000</td>\n",
       "      <td>101.000000</td>\n",
       "      <td>30.500000</td>\n",
       "      <td>201.400000</td>\n",
       "      <td>100.000000</td>\n",
       "      <td>17.120000</td>\n",
       "      <td>201.200000</td>\n",
       "      <td>100.000000</td>\n",
       "      <td>9.050000</td>\n",
       "      <td>10.300000</td>\n",
       "      <td>4.000000</td>\n",
       "      <td>2.780000</td>\n",
       "      <td>1.000000</td>\n",
       "      <td>0.000000</td>\n",
       "    </tr>\n",
       "    <tr>\n",
       "      <th>75%</th>\n",
       "      <td>127.000000</td>\n",
       "      <td>510.000000</td>\n",
       "      <td>20.000000</td>\n",
       "      <td>216.400000</td>\n",
       "      <td>114.000000</td>\n",
       "      <td>36.790000</td>\n",
       "      <td>235.300000</td>\n",
       "      <td>114.000000</td>\n",
       "      <td>20.000000</td>\n",
       "      <td>235.300000</td>\n",
       "      <td>113.000000</td>\n",
       "      <td>10.590000</td>\n",
       "      <td>12.100000</td>\n",
       "      <td>6.000000</td>\n",
       "      <td>3.270000</td>\n",
       "      <td>2.000000</td>\n",
       "      <td>0.000000</td>\n",
       "    </tr>\n",
       "    <tr>\n",
       "      <th>max</th>\n",
       "      <td>243.000000</td>\n",
       "      <td>510.000000</td>\n",
       "      <td>51.000000</td>\n",
       "      <td>350.800000</td>\n",
       "      <td>165.000000</td>\n",
       "      <td>59.640000</td>\n",
       "      <td>363.700000</td>\n",
       "      <td>170.000000</td>\n",
       "      <td>30.910000</td>\n",
       "      <td>395.000000</td>\n",
       "      <td>175.000000</td>\n",
       "      <td>17.770000</td>\n",
       "      <td>20.000000</td>\n",
       "      <td>20.000000</td>\n",
       "      <td>5.400000</td>\n",
       "      <td>9.000000</td>\n",
       "      <td>1.000000</td>\n",
       "    </tr>\n",
       "  </tbody>\n",
       "</table>\n",
       "</div>"
      ],
      "text/plain": [
       "       account length    area code  number vmail messages  total day minutes  \\\n",
       "count     3333.000000  3333.000000            3333.000000        3333.000000   \n",
       "mean       101.064806   437.182418               8.099010         179.775098   \n",
       "std         39.822106    42.371290              13.688365          54.467389   \n",
       "min          1.000000   408.000000               0.000000           0.000000   \n",
       "25%         74.000000   408.000000               0.000000         143.700000   \n",
       "50%        101.000000   415.000000               0.000000         179.400000   \n",
       "75%        127.000000   510.000000              20.000000         216.400000   \n",
       "max        243.000000   510.000000              51.000000         350.800000   \n",
       "\n",
       "       total day calls  total day charge  total eve minutes  total eve calls  \\\n",
       "count      3333.000000       3333.000000        3333.000000      3333.000000   \n",
       "mean        100.435644         30.562307         200.980348       100.114311   \n",
       "std          20.069084          9.259435          50.713844        19.922625   \n",
       "min           0.000000          0.000000           0.000000         0.000000   \n",
       "25%          87.000000         24.430000         166.600000        87.000000   \n",
       "50%         101.000000         30.500000         201.400000       100.000000   \n",
       "75%         114.000000         36.790000         235.300000       114.000000   \n",
       "max         165.000000         59.640000         363.700000       170.000000   \n",
       "\n",
       "       total eve charge  total night minutes  total night calls  \\\n",
       "count       3333.000000          3333.000000        3333.000000   \n",
       "mean          17.083540           200.872037         100.107711   \n",
       "std            4.310668            50.573847          19.568609   \n",
       "min            0.000000            23.200000          33.000000   \n",
       "25%           14.160000           167.000000          87.000000   \n",
       "50%           17.120000           201.200000         100.000000   \n",
       "75%           20.000000           235.300000         113.000000   \n",
       "max           30.910000           395.000000         175.000000   \n",
       "\n",
       "       total night charge  total intl minutes  total intl calls  \\\n",
       "count         3333.000000         3333.000000       3333.000000   \n",
       "mean             9.039325           10.237294          4.479448   \n",
       "std              2.275873            2.791840          2.461214   \n",
       "min              1.040000            0.000000          0.000000   \n",
       "25%              7.520000            8.500000          3.000000   \n",
       "50%              9.050000           10.300000          4.000000   \n",
       "75%             10.590000           12.100000          6.000000   \n",
       "max             17.770000           20.000000         20.000000   \n",
       "\n",
       "       total intl charge  customer service calls        churn  \n",
       "count        3333.000000             3333.000000  3333.000000  \n",
       "mean            2.764581                1.562856     0.144914  \n",
       "std             0.753773                1.315491     0.352067  \n",
       "min             0.000000                0.000000     0.000000  \n",
       "25%             2.300000                1.000000     0.000000  \n",
       "50%             2.780000                1.000000     0.000000  \n",
       "75%             3.270000                2.000000     0.000000  \n",
       "max             5.400000                9.000000     1.000000  "
      ]
     },
     "execution_count": 18,
     "metadata": {},
     "output_type": "execute_result"
    }
   ],
   "source": [
    "df.describe()"
   ]
  },
  {
   "cell_type": "markdown",
   "metadata": {},
   "source": [
    "Taking a look at some of the statistics for the numeric columns, the maximum length of an account is 243, which is likely days of an account. That does seem short, but this could be for a short period for the sample. I do expect to see significant multicollineartiy in this dataset, which will not be an issue for binary modeling, it could make interpretation of features more difficult and make an unnecisarily more complicate dmodel."
   ]
  },
  {
   "cell_type": "code",
   "execution_count": 19,
   "metadata": {},
   "outputs": [
    {
     "data": {
      "image/png": "[encoded data removed]",
      "text/plain": [
       "<Figure size 432x288 with 1 Axes>"
      ]
     },
     "metadata": {
      "needs_background": "light"
     },
     "output_type": "display_data"
    }
   ],
   "source": [
    "df['account length'].hist();"
   ]
  },
  {
   "cell_type": "markdown",
   "metadata": {},
   "source": [
    "Looking at the histogram for the account length, it appears there is normal distribution of account length."
   ]
  },
  {
   "cell_type": "code",
   "execution_count": 20,
   "metadata": {},
   "outputs": [
    {
     "data": {
      "text/html": [
       "<div>\n",
       "<style scoped>\n",
       "    .dataframe tbody tr th:only-of-type {\n",
       "        vertical-align: middle;\n",
       "    }\n",
       "\n",
       "    .dataframe tbody tr th {\n",
       "        vertical-align: top;\n",
       "    }\n",
       "\n",
       "    .dataframe thead th {\n",
       "        text-align: right;\n",
       "    }\n",
       "</style>\n",
       "<table border=\"1\" class=\"dataframe\">\n",
       "  <thead>\n",
       "    <tr style=\"text-align: right;\">\n",
       "      <th></th>\n",
       "      <th>account length</th>\n",
       "      <th>area code</th>\n",
       "      <th>number vmail messages</th>\n",
       "      <th>total day minutes</th>\n",
       "      <th>total day calls</th>\n",
       "      <th>total day charge</th>\n",
       "      <th>total eve minutes</th>\n",
       "      <th>total eve calls</th>\n",
       "      <th>total eve charge</th>\n",
       "      <th>total night minutes</th>\n",
       "      <th>total night calls</th>\n",
       "      <th>total night charge</th>\n",
       "      <th>total intl minutes</th>\n",
       "      <th>total intl calls</th>\n",
       "      <th>total intl charge</th>\n",
       "      <th>customer service calls</th>\n",
       "      <th>churn</th>\n",
       "    </tr>\n",
       "  </thead>\n",
       "  <tbody>\n",
       "    <tr>\n",
       "      <th>account length</th>\n",
       "      <td>1.000000</td>\n",
       "      <td>-0.012463</td>\n",
       "      <td>-0.004628</td>\n",
       "      <td>0.006216</td>\n",
       "      <td>0.038470</td>\n",
       "      <td>0.006214</td>\n",
       "      <td>-0.006757</td>\n",
       "      <td>0.019260</td>\n",
       "      <td>-0.006745</td>\n",
       "      <td>-0.008955</td>\n",
       "      <td>-0.013176</td>\n",
       "      <td>-0.008960</td>\n",
       "      <td>0.009514</td>\n",
       "      <td>0.020661</td>\n",
       "      <td>0.009546</td>\n",
       "      <td>-0.003796</td>\n",
       "      <td>0.016541</td>\n",
       "    </tr>\n",
       "    <tr>\n",
       "      <th>area code</th>\n",
       "      <td>-0.012463</td>\n",
       "      <td>1.000000</td>\n",
       "      <td>-0.001994</td>\n",
       "      <td>-0.008264</td>\n",
       "      <td>-0.009646</td>\n",
       "      <td>-0.008264</td>\n",
       "      <td>0.003580</td>\n",
       "      <td>-0.011886</td>\n",
       "      <td>0.003607</td>\n",
       "      <td>-0.005825</td>\n",
       "      <td>0.016522</td>\n",
       "      <td>-0.005845</td>\n",
       "      <td>-0.018288</td>\n",
       "      <td>-0.024179</td>\n",
       "      <td>-0.018395</td>\n",
       "      <td>0.027572</td>\n",
       "      <td>0.006174</td>\n",
       "    </tr>\n",
       "    <tr>\n",
       "      <th>number vmail messages</th>\n",
       "      <td>-0.004628</td>\n",
       "      <td>-0.001994</td>\n",
       "      <td>1.000000</td>\n",
       "      <td>0.000778</td>\n",
       "      <td>-0.009548</td>\n",
       "      <td>0.000776</td>\n",
       "      <td>0.017562</td>\n",
       "      <td>-0.005864</td>\n",
       "      <td>0.017578</td>\n",
       "      <td>0.007681</td>\n",
       "      <td>0.007123</td>\n",
       "      <td>0.007663</td>\n",
       "      <td>0.002856</td>\n",
       "      <td>0.013957</td>\n",
       "      <td>0.002884</td>\n",
       "      <td>-0.013263</td>\n",
       "      <td>-0.089728</td>\n",
       "    </tr>\n",
       "    <tr>\n",
       "      <th>total day minutes</th>\n",
       "      <td>0.006216</td>\n",
       "      <td>-0.008264</td>\n",
       "      <td>0.000778</td>\n",
       "      <td>1.000000</td>\n",
       "      <td>0.006750</td>\n",
       "      <td>1.000000</td>\n",
       "      <td>0.007043</td>\n",
       "      <td>0.015769</td>\n",
       "      <td>0.007029</td>\n",
       "      <td>0.004323</td>\n",
       "      <td>0.022972</td>\n",
       "      <td>0.004300</td>\n",
       "      <td>-0.010155</td>\n",
       "      <td>0.008033</td>\n",
       "      <td>-0.010092</td>\n",
       "      <td>-0.013423</td>\n",
       "      <td>0.205151</td>\n",
       "    </tr>\n",
       "    <tr>\n",
       "      <th>total day calls</th>\n",
       "      <td>0.038470</td>\n",
       "      <td>-0.009646</td>\n",
       "      <td>-0.009548</td>\n",
       "      <td>0.006750</td>\n",
       "      <td>1.000000</td>\n",
       "      <td>0.006753</td>\n",
       "      <td>-0.021451</td>\n",
       "      <td>0.006462</td>\n",
       "      <td>-0.021449</td>\n",
       "      <td>0.022938</td>\n",
       "      <td>-0.019557</td>\n",
       "      <td>0.022927</td>\n",
       "      <td>0.021565</td>\n",
       "      <td>0.004574</td>\n",
       "      <td>0.021666</td>\n",
       "      <td>-0.018942</td>\n",
       "      <td>0.018459</td>\n",
       "    </tr>\n",
       "    <tr>\n",
       "      <th>total day charge</th>\n",
       "      <td>0.006214</td>\n",
       "      <td>-0.008264</td>\n",
       "      <td>0.000776</td>\n",
       "      <td>1.000000</td>\n",
       "      <td>0.006753</td>\n",
       "      <td>1.000000</td>\n",
       "      <td>0.007050</td>\n",
       "      <td>0.015769</td>\n",
       "      <td>0.007036</td>\n",
       "      <td>0.004324</td>\n",
       "      <td>0.022972</td>\n",
       "      <td>0.004301</td>\n",
       "      <td>-0.010157</td>\n",
       "      <td>0.008032</td>\n",
       "      <td>-0.010094</td>\n",
       "      <td>-0.013427</td>\n",
       "      <td>0.205151</td>\n",
       "    </tr>\n",
       "    <tr>\n",
       "      <th>total eve minutes</th>\n",
       "      <td>-0.006757</td>\n",
       "      <td>0.003580</td>\n",
       "      <td>0.017562</td>\n",
       "      <td>0.007043</td>\n",
       "      <td>-0.021451</td>\n",
       "      <td>0.007050</td>\n",
       "      <td>1.000000</td>\n",
       "      <td>-0.011430</td>\n",
       "      <td>1.000000</td>\n",
       "      <td>-0.012584</td>\n",
       "      <td>0.007586</td>\n",
       "      <td>-0.012593</td>\n",
       "      <td>-0.011035</td>\n",
       "      <td>0.002541</td>\n",
       "      <td>-0.011067</td>\n",
       "      <td>-0.012985</td>\n",
       "      <td>0.092796</td>\n",
       "    </tr>\n",
       "    <tr>\n",
       "      <th>total eve calls</th>\n",
       "      <td>0.019260</td>\n",
       "      <td>-0.011886</td>\n",
       "      <td>-0.005864</td>\n",
       "      <td>0.015769</td>\n",
       "      <td>0.006462</td>\n",
       "      <td>0.015769</td>\n",
       "      <td>-0.011430</td>\n",
       "      <td>1.000000</td>\n",
       "      <td>-0.011423</td>\n",
       "      <td>-0.002093</td>\n",
       "      <td>0.007710</td>\n",
       "      <td>-0.002056</td>\n",
       "      <td>0.008703</td>\n",
       "      <td>0.017434</td>\n",
       "      <td>0.008674</td>\n",
       "      <td>0.002423</td>\n",
       "      <td>0.009233</td>\n",
       "    </tr>\n",
       "    <tr>\n",
       "      <th>total eve charge</th>\n",
       "      <td>-0.006745</td>\n",
       "      <td>0.003607</td>\n",
       "      <td>0.017578</td>\n",
       "      <td>0.007029</td>\n",
       "      <td>-0.021449</td>\n",
       "      <td>0.007036</td>\n",
       "      <td>1.000000</td>\n",
       "      <td>-0.011423</td>\n",
       "      <td>1.000000</td>\n",
       "      <td>-0.012592</td>\n",
       "      <td>0.007596</td>\n",
       "      <td>-0.012601</td>\n",
       "      <td>-0.011043</td>\n",
       "      <td>0.002541</td>\n",
       "      <td>-0.011074</td>\n",
       "      <td>-0.012987</td>\n",
       "      <td>0.092786</td>\n",
       "    </tr>\n",
       "    <tr>\n",
       "      <th>total night minutes</th>\n",
       "      <td>-0.008955</td>\n",
       "      <td>-0.005825</td>\n",
       "      <td>0.007681</td>\n",
       "      <td>0.004323</td>\n",
       "      <td>0.022938</td>\n",
       "      <td>0.004324</td>\n",
       "      <td>-0.012584</td>\n",
       "      <td>-0.002093</td>\n",
       "      <td>-0.012592</td>\n",
       "      <td>1.000000</td>\n",
       "      <td>0.011204</td>\n",
       "      <td>0.999999</td>\n",
       "      <td>-0.015207</td>\n",
       "      <td>-0.012353</td>\n",
       "      <td>-0.015180</td>\n",
       "      <td>-0.009288</td>\n",
       "      <td>0.035493</td>\n",
       "    </tr>\n",
       "    <tr>\n",
       "      <th>total night calls</th>\n",
       "      <td>-0.013176</td>\n",
       "      <td>0.016522</td>\n",
       "      <td>0.007123</td>\n",
       "      <td>0.022972</td>\n",
       "      <td>-0.019557</td>\n",
       "      <td>0.022972</td>\n",
       "      <td>0.007586</td>\n",
       "      <td>0.007710</td>\n",
       "      <td>0.007596</td>\n",
       "      <td>0.011204</td>\n",
       "      <td>1.000000</td>\n",
       "      <td>0.011188</td>\n",
       "      <td>-0.013605</td>\n",
       "      <td>0.000305</td>\n",
       "      <td>-0.013630</td>\n",
       "      <td>-0.012802</td>\n",
       "      <td>0.006141</td>\n",
       "    </tr>\n",
       "    <tr>\n",
       "      <th>total night charge</th>\n",
       "      <td>-0.008960</td>\n",
       "      <td>-0.005845</td>\n",
       "      <td>0.007663</td>\n",
       "      <td>0.004300</td>\n",
       "      <td>0.022927</td>\n",
       "      <td>0.004301</td>\n",
       "      <td>-0.012593</td>\n",
       "      <td>-0.002056</td>\n",
       "      <td>-0.012601</td>\n",
       "      <td>0.999999</td>\n",
       "      <td>0.011188</td>\n",
       "      <td>1.000000</td>\n",
       "      <td>-0.015214</td>\n",
       "      <td>-0.012329</td>\n",
       "      <td>-0.015186</td>\n",
       "      <td>-0.009277</td>\n",
       "      <td>0.035496</td>\n",
       "    </tr>\n",
       "    <tr>\n",
       "      <th>total intl minutes</th>\n",
       "      <td>0.009514</td>\n",
       "      <td>-0.018288</td>\n",
       "      <td>0.002856</td>\n",
       "      <td>-0.010155</td>\n",
       "      <td>0.021565</td>\n",
       "      <td>-0.010157</td>\n",
       "      <td>-0.011035</td>\n",
       "      <td>0.008703</td>\n",
       "      <td>-0.011043</td>\n",
       "      <td>-0.015207</td>\n",
       "      <td>-0.013605</td>\n",
       "      <td>-0.015214</td>\n",
       "      <td>1.000000</td>\n",
       "      <td>0.032304</td>\n",
       "      <td>0.999993</td>\n",
       "      <td>-0.009640</td>\n",
       "      <td>0.068239</td>\n",
       "    </tr>\n",
       "    <tr>\n",
       "      <th>total intl calls</th>\n",
       "      <td>0.020661</td>\n",
       "      <td>-0.024179</td>\n",
       "      <td>0.013957</td>\n",
       "      <td>0.008033</td>\n",
       "      <td>0.004574</td>\n",
       "      <td>0.008032</td>\n",
       "      <td>0.002541</td>\n",
       "      <td>0.017434</td>\n",
       "      <td>0.002541</td>\n",
       "      <td>-0.012353</td>\n",
       "      <td>0.000305</td>\n",
       "      <td>-0.012329</td>\n",
       "      <td>0.032304</td>\n",
       "      <td>1.000000</td>\n",
       "      <td>0.032372</td>\n",
       "      <td>-0.017561</td>\n",
       "      <td>-0.052844</td>\n",
       "    </tr>\n",
       "    <tr>\n",
       "      <th>total intl charge</th>\n",
       "      <td>0.009546</td>\n",
       "      <td>-0.018395</td>\n",
       "      <td>0.002884</td>\n",
       "      <td>-0.010092</td>\n",
       "      <td>0.021666</td>\n",
       "      <td>-0.010094</td>\n",
       "      <td>-0.011067</td>\n",
       "      <td>0.008674</td>\n",
       "      <td>-0.011074</td>\n",
       "      <td>-0.015180</td>\n",
       "      <td>-0.013630</td>\n",
       "      <td>-0.015186</td>\n",
       "      <td>0.999993</td>\n",
       "      <td>0.032372</td>\n",
       "      <td>1.000000</td>\n",
       "      <td>-0.009675</td>\n",
       "      <td>0.068259</td>\n",
       "    </tr>\n",
       "    <tr>\n",
       "      <th>customer service calls</th>\n",
       "      <td>-0.003796</td>\n",
       "      <td>0.027572</td>\n",
       "      <td>-0.013263</td>\n",
       "      <td>-0.013423</td>\n",
       "      <td>-0.018942</td>\n",
       "      <td>-0.013427</td>\n",
       "      <td>-0.012985</td>\n",
       "      <td>0.002423</td>\n",
       "      <td>-0.012987</td>\n",
       "      <td>-0.009288</td>\n",
       "      <td>-0.012802</td>\n",
       "      <td>-0.009277</td>\n",
       "      <td>-0.009640</td>\n",
       "      <td>-0.017561</td>\n",
       "      <td>-0.009675</td>\n",
       "      <td>1.000000</td>\n",
       "      <td>0.208750</td>\n",
       "    </tr>\n",
       "    <tr>\n",
       "      <th>churn</th>\n",
       "      <td>0.016541</td>\n",
       "      <td>0.006174</td>\n",
       "      <td>-0.089728</td>\n",
       "      <td>0.205151</td>\n",
       "      <td>0.018459</td>\n",
       "      <td>0.205151</td>\n",
       "      <td>0.092796</td>\n",
       "      <td>0.009233</td>\n",
       "      <td>0.092786</td>\n",
       "      <td>0.035493</td>\n",
       "      <td>0.006141</td>\n",
       "      <td>0.035496</td>\n",
       "      <td>0.068239</td>\n",
       "      <td>-0.052844</td>\n",
       "      <td>0.068259</td>\n",
       "      <td>0.208750</td>\n",
       "      <td>1.000000</td>\n",
       "    </tr>\n",
       "  </tbody>\n",
       "</table>\n",
       "</div>"
      ],
      "text/plain": [
       "                        account length  area code  number vmail messages  \\\n",
       "account length                1.000000  -0.012463              -0.004628   \n",
       "area code                    -0.012463   1.000000              -0.001994   \n",
       "number vmail messages        -0.004628  -0.001994               1.000000   \n",
       "total day minutes             0.006216  -0.008264               0.000778   \n",
       "total day calls               0.038470  -0.009646              -0.009548   \n",
       "total day charge              0.006214  -0.008264               0.000776   \n",
       "total eve minutes            -0.006757   0.003580               0.017562   \n",
       "total eve calls               0.019260  -0.011886              -0.005864   \n",
       "total eve charge             -0.006745   0.003607               0.017578   \n",
       "total night minutes          -0.008955  -0.005825               0.007681   \n",
       "total night calls            -0.013176   0.016522               0.007123   \n",
       "total night charge           -0.008960  -0.005845               0.007663   \n",
       "total intl minutes            0.009514  -0.018288               0.002856   \n",
       "total intl calls              0.020661  -0.024179               0.013957   \n",
       "total intl charge             0.009546  -0.018395               0.002884   \n",
       "customer service calls       -0.003796   0.027572              -0.013263   \n",
       "churn                         0.016541   0.006174              -0.089728   \n",
       "\n",
       "                        total day minutes  total day calls  total day charge  \\\n",
       "account length                   0.006216         0.038470          0.006214   \n",
       "area code                       -0.008264        -0.009646         -0.008264   \n",
       "number vmail messages            0.000778        -0.009548          0.000776   \n",
       "total day minutes                1.000000         0.006750          1.000000   \n",
       "total day calls                  0.006750         1.000000          0.006753   \n",
       "total day charge                 1.000000         0.006753          1.000000   \n",
       "total eve minutes                0.007043        -0.021451          0.007050   \n",
       "total eve calls                  0.015769         0.006462          0.015769   \n",
       "total eve charge                 0.007029        -0.021449          0.007036   \n",
       "total night minutes              0.004323         0.022938          0.004324   \n",
       "total night calls                0.022972        -0.019557          0.022972   \n",
       "total night charge               0.004300         0.022927          0.004301   \n",
       "total intl minutes              -0.010155         0.021565         -0.010157   \n",
       "total intl calls                 0.008033         0.004574          0.008032   \n",
       "total intl charge               -0.010092         0.021666         -0.010094   \n",
       "customer service calls          -0.013423        -0.018942         -0.013427   \n",
       "churn                            0.205151         0.018459          0.205151   \n",
       "\n",
       "                        total eve minutes  total eve calls  total eve charge  \\\n",
       "account length                  -0.006757         0.019260         -0.006745   \n",
       "area code                        0.003580        -0.011886          0.003607   \n",
       "number vmail messages            0.017562        -0.005864          0.017578   \n",
       "total day minutes                0.007043         0.015769          0.007029   \n",
       "total day calls                 -0.021451         0.006462         -0.021449   \n",
       "total day charge                 0.007050         0.015769          0.007036   \n",
       "total eve minutes                1.000000        -0.011430          1.000000   \n",
       "total eve calls                 -0.011430         1.000000         -0.011423   \n",
       "total eve charge                 1.000000        -0.011423          1.000000   \n",
       "total night minutes             -0.012584        -0.002093         -0.012592   \n",
       "total night calls                0.007586         0.007710          0.007596   \n",
       "total night charge              -0.012593        -0.002056         -0.012601   \n",
       "total intl minutes              -0.011035         0.008703         -0.011043   \n",
       "total intl calls                 0.002541         0.017434          0.002541   \n",
       "total intl charge               -0.011067         0.008674         -0.011074   \n",
       "customer service calls          -0.012985         0.002423         -0.012987   \n",
       "churn                            0.092796         0.009233          0.092786   \n",
       "\n",
       "                        total night minutes  total night calls  \\\n",
       "account length                    -0.008955          -0.013176   \n",
       "area code                         -0.005825           0.016522   \n",
       "number vmail messages              0.007681           0.007123   \n",
       "total day minutes                  0.004323           0.022972   \n",
       "total day calls                    0.022938          -0.019557   \n",
       "total day charge                   0.004324           0.022972   \n",
       "total eve minutes                 -0.012584           0.007586   \n",
       "total eve calls                   -0.002093           0.007710   \n",
       "total eve charge                  -0.012592           0.007596   \n",
       "total night minutes                1.000000           0.011204   \n",
       "total night calls                  0.011204           1.000000   \n",
       "total night charge                 0.999999           0.011188   \n",
       "total intl minutes                -0.015207          -0.013605   \n",
       "total intl calls                  -0.012353           0.000305   \n",
       "total intl charge                 -0.015180          -0.013630   \n",
       "customer service calls            -0.009288          -0.012802   \n",
       "churn                              0.035493           0.006141   \n",
       "\n",
       "                        total night charge  total intl minutes  \\\n",
       "account length                   -0.008960            0.009514   \n",
       "area code                        -0.005845           -0.018288   \n",
       "number vmail messages             0.007663            0.002856   \n",
       "total day minutes                 0.004300           -0.010155   \n",
       "total day calls                   0.022927            0.021565   \n",
       "total day charge                  0.004301           -0.010157   \n",
       "total eve minutes                -0.012593           -0.011035   \n",
       "total eve calls                  -0.002056            0.008703   \n",
       "total eve charge                 -0.012601           -0.011043   \n",
       "total night minutes               0.999999           -0.015207   \n",
       "total night calls                 0.011188           -0.013605   \n",
       "total night charge                1.000000           -0.015214   \n",
       "total intl minutes               -0.015214            1.000000   \n",
       "total intl calls                 -0.012329            0.032304   \n",
       "total intl charge                -0.015186            0.999993   \n",
       "customer service calls           -0.009277           -0.009640   \n",
       "churn                             0.035496            0.068239   \n",
       "\n",
       "                        total intl calls  total intl charge  \\\n",
       "account length                  0.020661           0.009546   \n",
       "area code                      -0.024179          -0.018395   \n",
       "number vmail messages           0.013957           0.002884   \n",
       "total day minutes               0.008033          -0.010092   \n",
       "total day calls                 0.004574           0.021666   \n",
       "total day charge                0.008032          -0.010094   \n",
       "total eve minutes               0.002541          -0.011067   \n",
       "total eve calls                 0.017434           0.008674   \n",
       "total eve charge                0.002541          -0.011074   \n",
       "total night minutes            -0.012353          -0.015180   \n",
       "total night calls               0.000305          -0.013630   \n",
       "total night charge             -0.012329          -0.015186   \n",
       "total intl minutes              0.032304           0.999993   \n",
       "total intl calls                1.000000           0.032372   \n",
       "total intl charge               0.032372           1.000000   \n",
       "customer service calls         -0.017561          -0.009675   \n",
       "churn                          -0.052844           0.068259   \n",
       "\n",
       "                        customer service calls     churn  \n",
       "account length                       -0.003796  0.016541  \n",
       "area code                             0.027572  0.006174  \n",
       "number vmail messages                -0.013263 -0.089728  \n",
       "total day minutes                    -0.013423  0.205151  \n",
       "total day calls                      -0.018942  0.018459  \n",
       "total day charge                     -0.013427  0.205151  \n",
       "total eve minutes                    -0.012985  0.092796  \n",
       "total eve calls                       0.002423  0.009233  \n",
       "total eve charge                     -0.012987  0.092786  \n",
       "total night minutes                  -0.009288  0.035493  \n",
       "total night calls                    -0.012802  0.006141  \n",
       "total night charge                   -0.009277  0.035496  \n",
       "total intl minutes                   -0.009640  0.068239  \n",
       "total intl calls                     -0.017561 -0.052844  \n",
       "total intl charge                    -0.009675  0.068259  \n",
       "customer service calls                1.000000  0.208750  \n",
       "churn                                 0.208750  1.000000  "
      ]
     },
     "execution_count": 20,
     "metadata": {},
     "output_type": "execute_result"
    }
   ],
   "source": [
    "df.corr()"
   ]
  },
  {
   "cell_type": "code",
   "execution_count": 21,
   "metadata": {},
   "outputs": [
    {
     "data": {
      "image/png": "[encoded data removed]",
      "text/plain": [
       "<Figure size 792x648 with 2 Axes>"
      ]
     },
     "metadata": {
      "needs_background": "light"
     },
     "output_type": "display_data"
    }
   ],
   "source": [
    "f, ax = plt.subplots(figsize=(11, 9))\n",
    "matrix = df.corr().round(2)\n",
    "sns.heatmap(matrix, annot=True)\n",
    "plt.show()"
   ]
  },
  {
   "cell_type": "code",
   "execution_count": null,
   "metadata": {},
   "outputs": [],
   "source": [
    "df['international plan'].value_counts()"
   ]
  },
  {
   "cell_type": "code",
   "execution_count": 23,
   "metadata": {},
   "outputs": [
    {
     "data": {
      "text/plain": [
       "['total day minutes',\n",
       " 'total day calls',\n",
       " 'total day charge',\n",
       " 'total eve minutes',\n",
       " 'total eve calls',\n",
       " 'total eve charge',\n",
       " 'total night minutes',\n",
       " 'total night calls',\n",
       " 'total night charge',\n",
       " 'total intl minutes',\n",
       " 'total intl calls',\n",
       " 'total intl charge']"
      ]
     },
     "execution_count": 23,
     "metadata": {},
     "output_type": "execute_result"
    }
   ],
   "source": [
    "total_cols"
   ]
  },
  {
   "cell_type": "code",
   "execution_count": 25,
   "metadata": {},
   "outputs": [],
   "source": [
    "df_columns = df.columns\n",
    "total_cols = [col for col in df_columns if 'total' in col]"
   ]
  },
  {
   "cell_type": "code",
   "execution_count": 24,
   "metadata": {},
   "outputs": [
    {
     "ename": "NameError",
     "evalue": "name 'fig' is not defined",
     "output_type": "error",
     "traceback": [
      "\u001b[0;31m---------------------------------------------------------------------------\u001b[0m",
      "\u001b[0;31mNameError\u001b[0m                                 Traceback (most recent call last)",
      "\u001b[0;32m<ipython-input-24-70bc13f9504c>\u001b[0m in \u001b[0;36m<module>\u001b[0;34m\u001b[0m\n\u001b[1;32m      1\u001b[0m \u001b[0mdf\u001b[0m\u001b[0;34m[\u001b[0m\u001b[0mtotal_cols\u001b[0m\u001b[0;34m]\u001b[0m\u001b[0;34m.\u001b[0m\u001b[0mhist\u001b[0m\u001b[0;34m(\u001b[0m\u001b[0mfigsize\u001b[0m\u001b[0;34m=\u001b[0m\u001b[0;34m(\u001b[0m\u001b[0;36m14\u001b[0m\u001b[0;34m,\u001b[0m \u001b[0;36m7\u001b[0m\u001b[0;34m)\u001b[0m\u001b[0;34m)\u001b[0m\u001b[0;34m\u001b[0m\u001b[0;34m\u001b[0m\u001b[0m\n\u001b[0;32m----> 2\u001b[0;31m \u001b[0mfig\u001b[0m\u001b[0;34m.\u001b[0m\u001b[0mtight_layout\u001b[0m\u001b[0;34m(\u001b[0m\u001b[0;34m)\u001b[0m  \u001b[0;31m# Improves appearance a bit.\u001b[0m\u001b[0;34m\u001b[0m\u001b[0;34m\u001b[0m\u001b[0m\n\u001b[0m\u001b[1;32m      3\u001b[0m \u001b[0mplt\u001b[0m\u001b[0;34m.\u001b[0m\u001b[0mshow\u001b[0m\u001b[0;34m(\u001b[0m\u001b[0;34m)\u001b[0m\u001b[0;34m\u001b[0m\u001b[0;34m\u001b[0m\u001b[0m\n",
      "\u001b[0;31mNameError\u001b[0m: name 'fig' is not defined"
     ]
    },
    {
     "data": {
      "image/png": "[encoded data removed]",
      "text/plain": [
       "<Figure size 1008x504 with 12 Axes>"
      ]
     },
     "metadata": {
      "needs_background": "light"
     },
     "output_type": "display_data"
    }
   ],
   "source": [
    "df[total_cols].hist(figsize=(14, 7))\n",
    "fig.tight_layout()  # Improves appearance a bit.\n",
    "plt.show()"
   ]
  },
  {
   "cell_type": "code",
   "execution_count": 26,
   "metadata": {},
   "outputs": [
    {
     "data": {
      "image/png": "[encoded data removed]",
      "text/plain": [
       "<Figure size 432x288 with 1 Axes>"
      ]
     },
     "metadata": {
      "needs_background": "light"
     },
     "output_type": "display_data"
    },
    {
     "name": "stdout",
     "output_type": "stream",
     "text": [
      "total day minutes\n"
     ]
    },
    {
     "data": {
      "image/png": "[encoded data removed]",
      "text/plain": [
       "<Figure size 432x288 with 1 Axes>"
      ]
     },
     "metadata": {
      "needs_background": "light"
     },
     "output_type": "display_data"
    },
    {
     "name": "stdout",
     "output_type": "stream",
     "text": [
      "total day calls\n"
     ]
    },
    {
     "data": {
      "image/png": "[encoded data removed]",
      "text/plain": [
       "<Figure size 432x288 with 1 Axes>"
      ]
     },
     "metadata": {
      "needs_background": "light"
     },
     "output_type": "display_data"
    },
    {
     "name": "stdout",
     "output_type": "stream",
     "text": [
      "total day charge\n"
     ]
    },
    {
     "data": {
      "image/png": "[encoded data removed]",
      "text/plain": [
       "<Figure size 432x288 with 1 Axes>"
      ]
     },
     "metadata": {
      "needs_background": "light"
     },
     "output_type": "display_data"
    },
    {
     "name": "stdout",
     "output_type": "stream",
     "text": [
      "total eve minutes\n"
     ]
    },
    {
     "data": {
      "image/png": "[encoded data removed]",
      "text/plain": [
       "<Figure size 432x288 with 1 Axes>"
      ]
     },
     "metadata": {
      "needs_background": "light"
     },
     "output_type": "display_data"
    },
    {
     "name": "stdout",
     "output_type": "stream",
     "text": [
      "total eve calls\n"
     ]
    },
    {
     "data": {
      "image/png": "[encoded data removed]",
      "text/plain": [
       "<Figure size 432x288 with 1 Axes>"
      ]
     },
     "metadata": {
      "needs_background": "light"
     },
     "output_type": "display_data"
    },
    {
     "name": "stdout",
     "output_type": "stream",
     "text": [
      "total eve charge\n"
     ]
    },
    {
     "data": {
      "image/png": "[encoded data removed]",
      "text/plain": [
       "<Figure size 432x288 with 1 Axes>"
      ]
     },
     "metadata": {
      "needs_background": "light"
     },
     "output_type": "display_data"
    },
    {
     "name": "stdout",
     "output_type": "stream",
     "text": [
      "total night minutes\n"
     ]
    },
    {
     "data": {
      "image/png": "[encoded data removed]",
      "text/plain": [
       "<Figure size 432x288 with 1 Axes>"
      ]
     },
     "metadata": {
      "needs_background": "light"
     },
     "output_type": "display_data"
    },
    {
     "name": "stdout",
     "output_type": "stream",
     "text": [
      "total night calls\n"
     ]
    },
    {
     "data": {
      "image/png": "[encoded data removed]",
      "text/plain": [
       "<Figure size 432x288 with 1 Axes>"
      ]
     },
     "metadata": {
      "needs_background": "light"
     },
     "output_type": "display_data"
    },
    {
     "name": "stdout",
     "output_type": "stream",
     "text": [
      "total night charge\n"
     ]
    },
    {
     "data": {
      "image/png": "[encoded data removed]",
      "text/plain": [
       "<Figure size 432x288 with 1 Axes>"
      ]
     },
     "metadata": {
      "needs_background": "light"
     },
     "output_type": "display_data"
    },
    {
     "name": "stdout",
     "output_type": "stream",
     "text": [
      "total intl minutes\n"
     ]
    },
    {
     "data": {
      "image/png": "[encoded data removed]",
      "text/plain": [
       "<Figure size 432x288 with 1 Axes>"
      ]
     },
     "metadata": {
      "needs_background": "light"
     },
     "output_type": "display_data"
    },
    {
     "name": "stdout",
     "output_type": "stream",
     "text": [
      "total intl calls\n"
     ]
    },
    {
     "data": {
      "image/png": "[encoded data removed]",
      "text/plain": [
       "<Figure size 432x288 with 1 Axes>"
      ]
     },
     "metadata": {
      "needs_background": "light"
     },
     "output_type": "display_data"
    },
    {
     "name": "stdout",
     "output_type": "stream",
     "text": [
      "total intl charge\n"
     ]
    }
   ],
   "source": [
    "for col in total_cols:\n",
    "    df[col].hist()\n",
    "    plt.show()\n",
    "    print(col)"
   ]
  },
  {
   "cell_type": "code",
   "execution_count": 27,
   "metadata": {},
   "outputs": [
    {
     "data": {
      "text/plain": [
       "<AxesSubplot:>"
      ]
     },
     "execution_count": 27,
     "metadata": {},
     "output_type": "execute_result"
    },
    {
     "data": {
      "image/png": "[encoded data removed]",
      "text/plain": [
       "<Figure size 432x288 with 1 Axes>"
      ]
     },
     "metadata": {
      "needs_background": "light"
     },
     "output_type": "display_data"
    }
   ],
   "source": [
    "df['number vmail messages'].hist()"
   ]
  },
  {
   "cell_type": "code",
   "execution_count": 29,
   "metadata": {},
   "outputs": [
    {
     "data": {
      "text/plain": [
       "<AxesSubplot:>"
      ]
     },
     "execution_count": 29,
     "metadata": {},
     "output_type": "execute_result"
    },
    {
     "data": {
      "image/png": "[encoded data removed]",
      "text/plain": [
       "<Figure size 432x288 with 1 Axes>"
      ]
     },
     "metadata": {
      "needs_background": "light"
     },
     "output_type": "display_data"
    }
   ],
   "source": [
    "df['customer service calls'].hist(bins='auto')"
   ]
  },
  {
   "cell_type": "code",
   "execution_count": null,
   "metadata": {},
   "outputs": [],
   "source": [
    "df['churn']=df['churn'].astype(int)"
   ]
  },
  {
   "cell_type": "code",
   "execution_count": null,
   "metadata": {},
   "outputs": [],
   "source": [
    "df['churn'].hist()"
   ]
  },
  {
   "cell_type": "code",
   "execution_count": null,
   "metadata": {},
   "outputs": [],
   "source": [
    "df['area code'].value_counts()"
   ]
  },
  {
   "cell_type": "markdown",
   "metadata": {},
   "source": [
    "## Feature Engineering"
   ]
  },
  {
   "cell_type": "markdown",
   "metadata": {},
   "source": [
    "There are several collinearities, they do not make a difference for classifcation per se, but may be hidnerance with explanation of features. "
   ]
  },
  {
   "cell_type": "code",
   "execution_count": 31,
   "metadata": {},
   "outputs": [
    {
     "name": "stdout",
     "output_type": "stream",
     "text": [
      "<class 'pandas.core.frame.DataFrame'>\n",
      "RangeIndex: 3333 entries, 0 to 3332\n",
      "Data columns (total 21 columns):\n",
      " #   Column                  Non-Null Count  Dtype  \n",
      "---  ------                  --------------  -----  \n",
      " 0   state                   3333 non-null   object \n",
      " 1   account length          3333 non-null   int64  \n",
      " 2   area code               3333 non-null   int64  \n",
      " 3   phone number            3333 non-null   object \n",
      " 4   international plan      3333 non-null   object \n",
      " 5   voice mail plan         3333 non-null   object \n",
      " 6   number vmail messages   3333 non-null   int64  \n",
      " 7   total day minutes       3333 non-null   float64\n",
      " 8   total day calls         3333 non-null   int64  \n",
      " 9   total day charge        3333 non-null   float64\n",
      " 10  total eve minutes       3333 non-null   float64\n",
      " 11  total eve calls         3333 non-null   int64  \n",
      " 12  total eve charge        3333 non-null   float64\n",
      " 13  total night minutes     3333 non-null   float64\n",
      " 14  total night calls       3333 non-null   int64  \n",
      " 15  total night charge      3333 non-null   float64\n",
      " 16  total intl minutes      3333 non-null   float64\n",
      " 17  total intl calls        3333 non-null   int64  \n",
      " 18  total intl charge       3333 non-null   float64\n",
      " 19  customer service calls  3333 non-null   int64  \n",
      " 20  churn                   3333 non-null   int64  \n",
      "dtypes: float64(8), int64(9), object(4)\n",
      "memory usage: 546.9+ KB\n"
     ]
    }
   ],
   "source": [
    "df.info()"
   ]
  },
  {
   "cell_type": "code",
   "execution_count": 46,
   "metadata": {},
   "outputs": [],
   "source": [
    "df['total minutes']=df['total eve minutes']+df['total night minutes']+df['total intl minutes']+df['total day minutes']"
   ]
  },
  {
   "cell_type": "code",
   "execution_count": 48,
   "metadata": {},
   "outputs": [
    {
     "ename": "KeyError",
     "evalue": "\"['total eve minutes' 'total night minutes' 'total intl minutes'\\n 'total day minutes'] not found in axis\"",
     "output_type": "error",
     "traceback": [
      "\u001b[0;31m---------------------------------------------------------------------------\u001b[0m",
      "\u001b[0;31mKeyError\u001b[0m                                  Traceback (most recent call last)",
      "\u001b[0;32m<ipython-input-48-81be281a89de>\u001b[0m in \u001b[0;36m<module>\u001b[0;34m\u001b[0m\n\u001b[0;32m----> 1\u001b[0;31m \u001b[0mdf\u001b[0m \u001b[0;34m=\u001b[0m \u001b[0mdf\u001b[0m\u001b[0;34m.\u001b[0m\u001b[0mdrop\u001b[0m\u001b[0;34m(\u001b[0m\u001b[0;34m[\u001b[0m\u001b[0;34m'total eve minutes'\u001b[0m\u001b[0;34m,\u001b[0m\u001b[0;34m'total night minutes'\u001b[0m\u001b[0;34m,\u001b[0m\u001b[0;34m'total intl minutes'\u001b[0m\u001b[0;34m,\u001b[0m\u001b[0;34m'total day minutes'\u001b[0m\u001b[0;34m]\u001b[0m\u001b[0;34m,\u001b[0m\u001b[0maxis\u001b[0m\u001b[0;34m=\u001b[0m\u001b[0;36m1\u001b[0m\u001b[0;34m)\u001b[0m\u001b[0;34m\u001b[0m\u001b[0;34m\u001b[0m\u001b[0m\n\u001b[0m",
      "\u001b[0;32m/opt/anaconda3/envs/learn-env/lib/python3.8/site-packages/pandas/core/frame.py\u001b[0m in \u001b[0;36mdrop\u001b[0;34m(self, labels, axis, index, columns, level, inplace, errors)\u001b[0m\n\u001b[1;32m   4161\u001b[0m                 \u001b[0mweight\u001b[0m  \u001b[0;36m1.0\u001b[0m     \u001b[0;36m0.8\u001b[0m\u001b[0;34m\u001b[0m\u001b[0;34m\u001b[0m\u001b[0m\n\u001b[1;32m   4162\u001b[0m         \"\"\"\n\u001b[0;32m-> 4163\u001b[0;31m         return super().drop(\n\u001b[0m\u001b[1;32m   4164\u001b[0m             \u001b[0mlabels\u001b[0m\u001b[0;34m=\u001b[0m\u001b[0mlabels\u001b[0m\u001b[0;34m,\u001b[0m\u001b[0;34m\u001b[0m\u001b[0;34m\u001b[0m\u001b[0m\n\u001b[1;32m   4165\u001b[0m             \u001b[0maxis\u001b[0m\u001b[0;34m=\u001b[0m\u001b[0maxis\u001b[0m\u001b[0;34m,\u001b[0m\u001b[0;34m\u001b[0m\u001b[0;34m\u001b[0m\u001b[0m\n",
      "\u001b[0;32m/opt/anaconda3/envs/learn-env/lib/python3.8/site-packages/pandas/core/generic.py\u001b[0m in \u001b[0;36mdrop\u001b[0;34m(self, labels, axis, index, columns, level, inplace, errors)\u001b[0m\n\u001b[1;32m   3885\u001b[0m         \u001b[0;32mfor\u001b[0m \u001b[0maxis\u001b[0m\u001b[0;34m,\u001b[0m \u001b[0mlabels\u001b[0m \u001b[0;32min\u001b[0m \u001b[0maxes\u001b[0m\u001b[0;34m.\u001b[0m\u001b[0mitems\u001b[0m\u001b[0;34m(\u001b[0m\u001b[0;34m)\u001b[0m\u001b[0;34m:\u001b[0m\u001b[0;34m\u001b[0m\u001b[0;34m\u001b[0m\u001b[0m\n\u001b[1;32m   3886\u001b[0m             \u001b[0;32mif\u001b[0m \u001b[0mlabels\u001b[0m \u001b[0;32mis\u001b[0m \u001b[0;32mnot\u001b[0m \u001b[0;32mNone\u001b[0m\u001b[0;34m:\u001b[0m\u001b[0;34m\u001b[0m\u001b[0;34m\u001b[0m\u001b[0m\n\u001b[0;32m-> 3887\u001b[0;31m                 \u001b[0mobj\u001b[0m \u001b[0;34m=\u001b[0m \u001b[0mobj\u001b[0m\u001b[0;34m.\u001b[0m\u001b[0m_drop_axis\u001b[0m\u001b[0;34m(\u001b[0m\u001b[0mlabels\u001b[0m\u001b[0;34m,\u001b[0m \u001b[0maxis\u001b[0m\u001b[0;34m,\u001b[0m \u001b[0mlevel\u001b[0m\u001b[0;34m=\u001b[0m\u001b[0mlevel\u001b[0m\u001b[0;34m,\u001b[0m \u001b[0merrors\u001b[0m\u001b[0;34m=\u001b[0m\u001b[0merrors\u001b[0m\u001b[0;34m)\u001b[0m\u001b[0;34m\u001b[0m\u001b[0;34m\u001b[0m\u001b[0m\n\u001b[0m\u001b[1;32m   3888\u001b[0m \u001b[0;34m\u001b[0m\u001b[0m\n\u001b[1;32m   3889\u001b[0m         \u001b[0;32mif\u001b[0m \u001b[0minplace\u001b[0m\u001b[0;34m:\u001b[0m\u001b[0;34m\u001b[0m\u001b[0;34m\u001b[0m\u001b[0m\n",
      "\u001b[0;32m/opt/anaconda3/envs/learn-env/lib/python3.8/site-packages/pandas/core/generic.py\u001b[0m in \u001b[0;36m_drop_axis\u001b[0;34m(self, labels, axis, level, errors)\u001b[0m\n\u001b[1;32m   3919\u001b[0m                 \u001b[0mnew_axis\u001b[0m \u001b[0;34m=\u001b[0m \u001b[0maxis\u001b[0m\u001b[0;34m.\u001b[0m\u001b[0mdrop\u001b[0m\u001b[0;34m(\u001b[0m\u001b[0mlabels\u001b[0m\u001b[0;34m,\u001b[0m \u001b[0mlevel\u001b[0m\u001b[0;34m=\u001b[0m\u001b[0mlevel\u001b[0m\u001b[0;34m,\u001b[0m \u001b[0merrors\u001b[0m\u001b[0;34m=\u001b[0m\u001b[0merrors\u001b[0m\u001b[0;34m)\u001b[0m\u001b[0;34m\u001b[0m\u001b[0;34m\u001b[0m\u001b[0m\n\u001b[1;32m   3920\u001b[0m             \u001b[0;32melse\u001b[0m\u001b[0;34m:\u001b[0m\u001b[0;34m\u001b[0m\u001b[0;34m\u001b[0m\u001b[0m\n\u001b[0;32m-> 3921\u001b[0;31m                 \u001b[0mnew_axis\u001b[0m \u001b[0;34m=\u001b[0m \u001b[0maxis\u001b[0m\u001b[0;34m.\u001b[0m\u001b[0mdrop\u001b[0m\u001b[0;34m(\u001b[0m\u001b[0mlabels\u001b[0m\u001b[0;34m,\u001b[0m \u001b[0merrors\u001b[0m\u001b[0;34m=\u001b[0m\u001b[0merrors\u001b[0m\u001b[0;34m)\u001b[0m\u001b[0;34m\u001b[0m\u001b[0;34m\u001b[0m\u001b[0m\n\u001b[0m\u001b[1;32m   3922\u001b[0m             \u001b[0mresult\u001b[0m \u001b[0;34m=\u001b[0m \u001b[0mself\u001b[0m\u001b[0;34m.\u001b[0m\u001b[0mreindex\u001b[0m\u001b[0;34m(\u001b[0m\u001b[0;34m**\u001b[0m\u001b[0;34m{\u001b[0m\u001b[0maxis_name\u001b[0m\u001b[0;34m:\u001b[0m \u001b[0mnew_axis\u001b[0m\u001b[0;34m}\u001b[0m\u001b[0;34m)\u001b[0m\u001b[0;34m\u001b[0m\u001b[0;34m\u001b[0m\u001b[0m\n\u001b[1;32m   3923\u001b[0m \u001b[0;34m\u001b[0m\u001b[0m\n",
      "\u001b[0;32m/opt/anaconda3/envs/learn-env/lib/python3.8/site-packages/pandas/core/indexes/base.py\u001b[0m in \u001b[0;36mdrop\u001b[0;34m(self, labels, errors)\u001b[0m\n\u001b[1;32m   5280\u001b[0m         \u001b[0;32mif\u001b[0m \u001b[0mmask\u001b[0m\u001b[0;34m.\u001b[0m\u001b[0many\u001b[0m\u001b[0;34m(\u001b[0m\u001b[0;34m)\u001b[0m\u001b[0;34m:\u001b[0m\u001b[0;34m\u001b[0m\u001b[0;34m\u001b[0m\u001b[0m\n\u001b[1;32m   5281\u001b[0m             \u001b[0;32mif\u001b[0m \u001b[0merrors\u001b[0m \u001b[0;34m!=\u001b[0m \u001b[0;34m\"ignore\"\u001b[0m\u001b[0;34m:\u001b[0m\u001b[0;34m\u001b[0m\u001b[0;34m\u001b[0m\u001b[0m\n\u001b[0;32m-> 5282\u001b[0;31m                 \u001b[0;32mraise\u001b[0m \u001b[0mKeyError\u001b[0m\u001b[0;34m(\u001b[0m\u001b[0;34mf\"{labels[mask]} not found in axis\"\u001b[0m\u001b[0;34m)\u001b[0m\u001b[0;34m\u001b[0m\u001b[0;34m\u001b[0m\u001b[0m\n\u001b[0m\u001b[1;32m   5283\u001b[0m             \u001b[0mindexer\u001b[0m \u001b[0;34m=\u001b[0m \u001b[0mindexer\u001b[0m\u001b[0;34m[\u001b[0m\u001b[0;34m~\u001b[0m\u001b[0mmask\u001b[0m\u001b[0;34m]\u001b[0m\u001b[0;34m\u001b[0m\u001b[0;34m\u001b[0m\u001b[0m\n\u001b[1;32m   5284\u001b[0m         \u001b[0;32mreturn\u001b[0m \u001b[0mself\u001b[0m\u001b[0;34m.\u001b[0m\u001b[0mdelete\u001b[0m\u001b[0;34m(\u001b[0m\u001b[0mindexer\u001b[0m\u001b[0;34m)\u001b[0m\u001b[0;34m\u001b[0m\u001b[0;34m\u001b[0m\u001b[0m\n",
      "\u001b[0;31mKeyError\u001b[0m: \"['total eve minutes' 'total night minutes' 'total intl minutes'\\n 'total day minutes'] not found in axis\""
     ]
    }
   ],
   "source": [
    "df = df.drop(['total eve minutes','total night minutes','total intl minutes','total day minutes'],axis=1)"
   ]
  },
  {
   "cell_type": "markdown",
   "metadata": {},
   "source": [
    "## Preprocessing Steps"
   ]
  },
  {
   "cell_type": "code",
   "execution_count": 114,
   "metadata": {},
   "outputs": [],
   "source": [
    "#Dropping the target Churn from the trainging set\n",
    "X = df.drop('churn',axis=1)\n",
    "#Cresting the target variable for modelling\n",
    "y = df['churn'].astype(int)"
   ]
  },
  {
   "cell_type": "code",
   "execution_count": 115,
   "metadata": {},
   "outputs": [],
   "source": [
    "#Dropping 'phoe number from the training set'\n",
    "X = X.drop(['phone number','state'],axis=1)"
   ]
  },
  {
   "cell_type": "code",
   "execution_count": 116,
   "metadata": {},
   "outputs": [],
   "source": [
    "#Seperating Categorical and Numeric Columns\n",
    "categories = X.select_dtypes(include='object')\n",
    "numerics = X.select_dtypes(exclude='object')"
   ]
  },
  {
   "cell_type": "markdown",
   "metadata": {},
   "source": [
    "### Train Test Split"
   ]
  },
  {
   "cell_type": "code",
   "execution_count": 117,
   "metadata": {},
   "outputs": [],
   "source": [
    "#Splitting Data into Train Test Data\n",
    "X_train, X_test, y_train, y_test = train_test_split(X,y,test_size=.2,random_state=6)"
   ]
  },
  {
   "cell_type": "code",
   "execution_count": 118,
   "metadata": {},
   "outputs": [
    {
     "data": {
      "text/html": [
       "<div>\n",
       "<style scoped>\n",
       "    .dataframe tbody tr th:only-of-type {\n",
       "        vertical-align: middle;\n",
       "    }\n",
       "\n",
       "    .dataframe tbody tr th {\n",
       "        vertical-align: top;\n",
       "    }\n",
       "\n",
       "    .dataframe thead th {\n",
       "        text-align: right;\n",
       "    }\n",
       "</style>\n",
       "<table border=\"1\" class=\"dataframe\">\n",
       "  <thead>\n",
       "    <tr style=\"text-align: right;\">\n",
       "      <th></th>\n",
       "      <th>account length</th>\n",
       "      <th>area code</th>\n",
       "      <th>international plan</th>\n",
       "      <th>voice mail plan</th>\n",
       "      <th>number vmail messages</th>\n",
       "      <th>total day calls</th>\n",
       "      <th>total day charge</th>\n",
       "      <th>total eve calls</th>\n",
       "      <th>total eve charge</th>\n",
       "      <th>total night calls</th>\n",
       "      <th>total night charge</th>\n",
       "      <th>total intl calls</th>\n",
       "      <th>total intl charge</th>\n",
       "      <th>customer service calls</th>\n",
       "      <th>total minutes</th>\n",
       "    </tr>\n",
       "  </thead>\n",
       "  <tbody>\n",
       "    <tr>\n",
       "      <th>2024</th>\n",
       "      <td>159</td>\n",
       "      <td>415</td>\n",
       "      <td>no</td>\n",
       "      <td>yes</td>\n",
       "      <td>23</td>\n",
       "      <td>93</td>\n",
       "      <td>26.11</td>\n",
       "      <td>88</td>\n",
       "      <td>18.44</td>\n",
       "      <td>91</td>\n",
       "      <td>7.26</td>\n",
       "      <td>3</td>\n",
       "      <td>3.40</td>\n",
       "      <td>2</td>\n",
       "      <td>544.4</td>\n",
       "    </tr>\n",
       "    <tr>\n",
       "      <th>953</th>\n",
       "      <td>132</td>\n",
       "      <td>415</td>\n",
       "      <td>no</td>\n",
       "      <td>yes</td>\n",
       "      <td>39</td>\n",
       "      <td>93</td>\n",
       "      <td>29.87</td>\n",
       "      <td>94</td>\n",
       "      <td>15.91</td>\n",
       "      <td>118</td>\n",
       "      <td>10.15</td>\n",
       "      <td>3</td>\n",
       "      <td>2.32</td>\n",
       "      <td>2</td>\n",
       "      <td>597.0</td>\n",
       "    </tr>\n",
       "    <tr>\n",
       "      <th>2396</th>\n",
       "      <td>127</td>\n",
       "      <td>510</td>\n",
       "      <td>yes</td>\n",
       "      <td>no</td>\n",
       "      <td>0</td>\n",
       "      <td>99</td>\n",
       "      <td>42.08</td>\n",
       "      <td>118</td>\n",
       "      <td>9.22</td>\n",
       "      <td>72</td>\n",
       "      <td>10.44</td>\n",
       "      <td>3</td>\n",
       "      <td>2.86</td>\n",
       "      <td>2</td>\n",
       "      <td>598.6</td>\n",
       "    </tr>\n",
       "    <tr>\n",
       "      <th>3195</th>\n",
       "      <td>77</td>\n",
       "      <td>510</td>\n",
       "      <td>no</td>\n",
       "      <td>yes</td>\n",
       "      <td>29</td>\n",
       "      <td>89</td>\n",
       "      <td>35.89</td>\n",
       "      <td>97</td>\n",
       "      <td>19.00</td>\n",
       "      <td>106</td>\n",
       "      <td>6.68</td>\n",
       "      <td>9</td>\n",
       "      <td>2.62</td>\n",
       "      <td>2</td>\n",
       "      <td>592.7</td>\n",
       "    </tr>\n",
       "    <tr>\n",
       "      <th>1116</th>\n",
       "      <td>130</td>\n",
       "      <td>415</td>\n",
       "      <td>no</td>\n",
       "      <td>no</td>\n",
       "      <td>0</td>\n",
       "      <td>95</td>\n",
       "      <td>26.50</td>\n",
       "      <td>97</td>\n",
       "      <td>21.77</td>\n",
       "      <td>103</td>\n",
       "      <td>11.83</td>\n",
       "      <td>3</td>\n",
       "      <td>3.16</td>\n",
       "      <td>3</td>\n",
       "      <td>686.6</td>\n",
       "    </tr>\n",
       "  </tbody>\n",
       "</table>\n",
       "</div>"
      ],
      "text/plain": [
       "      account length  area code international plan voice mail plan  \\\n",
       "2024             159        415                 no             yes   \n",
       "953              132        415                 no             yes   \n",
       "2396             127        510                yes              no   \n",
       "3195              77        510                 no             yes   \n",
       "1116             130        415                 no              no   \n",
       "\n",
       "      number vmail messages  total day calls  total day charge  \\\n",
       "2024                     23               93             26.11   \n",
       "953                      39               93             29.87   \n",
       "2396                      0               99             42.08   \n",
       "3195                     29               89             35.89   \n",
       "1116                      0               95             26.50   \n",
       "\n",
       "      total eve calls  total eve charge  total night calls  \\\n",
       "2024               88             18.44                 91   \n",
       "953                94             15.91                118   \n",
       "2396              118              9.22                 72   \n",
       "3195               97             19.00                106   \n",
       "1116               97             21.77                103   \n",
       "\n",
       "      total night charge  total intl calls  total intl charge  \\\n",
       "2024                7.26                 3               3.40   \n",
       "953                10.15                 3               2.32   \n",
       "2396               10.44                 3               2.86   \n",
       "3195                6.68                 9               2.62   \n",
       "1116               11.83                 3               3.16   \n",
       "\n",
       "      customer service calls  total minutes  \n",
       "2024                       2          544.4  \n",
       "953                        2          597.0  \n",
       "2396                       2          598.6  \n",
       "3195                       2          592.7  \n",
       "1116                       3          686.6  "
      ]
     },
     "execution_count": 118,
     "metadata": {},
     "output_type": "execute_result"
    }
   ],
   "source": [
    "X_train.head(5)"
   ]
  },
  {
   "cell_type": "code",
   "execution_count": 119,
   "metadata": {},
   "outputs": [
    {
     "data": {
      "image/png": "[encoded data removed]",
      "text/plain": [
       "<Figure size 792x648 with 2 Axes>"
      ]
     },
     "metadata": {
      "needs_background": "light"
     },
     "output_type": "display_data"
    }
   ],
   "source": [
    "f, ax = plt.subplots(figsize=(11, 9))\n",
    "matrix = X_train.corr().round(2)\n",
    "sns.heatmap(matrix, annot=True)\n",
    "plt.show()"
   ]
  },
  {
   "cell_type": "code",
   "execution_count": 120,
   "metadata": {},
   "outputs": [
    {
     "data": {
      "text/plain": [
       "2024    0\n",
       "953     0\n",
       "2396    0\n",
       "3195    0\n",
       "1116    0\n",
       "Name: churn, dtype: int64"
      ]
     },
     "execution_count": 120,
     "metadata": {},
     "output_type": "execute_result"
    }
   ],
   "source": [
    "y_train.head(5)"
   ]
  },
  {
   "cell_type": "markdown",
   "metadata": {},
   "source": [
    "### Preprocessing Pipeline with Skippa"
   ]
  },
  {
   "cell_type": "code",
   "execution_count": 121,
   "metadata": {},
   "outputs": [],
   "source": [
    "Preprocessed = (\n",
    "    Skippa()\n",
    "    .scale(columns(dtype_include='number'), type='standard')\n",
    "   \n",
    "    .onehot(columns(dtype_exclude='number'))\n",
    "    .build())"
   ]
  },
  {
   "cell_type": "code",
   "execution_count": 122,
   "metadata": {},
   "outputs": [
    {
     "data": {
      "text/html": [
       "<div>\n",
       "<style scoped>\n",
       "    .dataframe tbody tr th:only-of-type {\n",
       "        vertical-align: middle;\n",
       "    }\n",
       "\n",
       "    .dataframe tbody tr th {\n",
       "        vertical-align: top;\n",
       "    }\n",
       "\n",
       "    .dataframe thead th {\n",
       "        text-align: right;\n",
       "    }\n",
       "</style>\n",
       "<table border=\"1\" class=\"dataframe\">\n",
       "  <thead>\n",
       "    <tr style=\"text-align: right;\">\n",
       "      <th></th>\n",
       "      <th>account length</th>\n",
       "      <th>area code</th>\n",
       "      <th>number vmail messages</th>\n",
       "      <th>total day calls</th>\n",
       "      <th>total day charge</th>\n",
       "      <th>total eve calls</th>\n",
       "      <th>total eve charge</th>\n",
       "      <th>total night calls</th>\n",
       "      <th>total night charge</th>\n",
       "      <th>total intl calls</th>\n",
       "      <th>total intl charge</th>\n",
       "      <th>customer service calls</th>\n",
       "      <th>total minutes</th>\n",
       "      <th>international plan_no</th>\n",
       "      <th>international plan_yes</th>\n",
       "      <th>voice mail plan_no</th>\n",
       "      <th>voice mail plan_yes</th>\n",
       "    </tr>\n",
       "  </thead>\n",
       "  <tbody>\n",
       "    <tr>\n",
       "      <th>2024</th>\n",
       "      <td>1.442200</td>\n",
       "      <td>-0.513694</td>\n",
       "      <td>1.092144</td>\n",
       "      <td>-0.365022</td>\n",
       "      <td>-0.480130</td>\n",
       "      <td>-0.602542</td>\n",
       "      <td>0.310540</td>\n",
       "      <td>-0.454737</td>\n",
       "      <td>-0.791998</td>\n",
       "      <td>-0.612794</td>\n",
       "      <td>0.846293</td>\n",
       "      <td>0.318929</td>\n",
       "      <td>-0.541532</td>\n",
       "      <td>1.0</td>\n",
       "      <td>0.0</td>\n",
       "      <td>0.0</td>\n",
       "      <td>1.0</td>\n",
       "    </tr>\n",
       "    <tr>\n",
       "      <th>953</th>\n",
       "      <td>0.774780</td>\n",
       "      <td>-0.513694</td>\n",
       "      <td>2.262658</td>\n",
       "      <td>-0.365022</td>\n",
       "      <td>-0.077339</td>\n",
       "      <td>-0.304982</td>\n",
       "      <td>-0.279869</td>\n",
       "      <td>0.922098</td>\n",
       "      <td>0.467929</td>\n",
       "      <td>-0.612794</td>\n",
       "      <td>-0.597497</td>\n",
       "      <td>0.318929</td>\n",
       "      <td>0.042402</td>\n",
       "      <td>1.0</td>\n",
       "      <td>0.0</td>\n",
       "      <td>0.0</td>\n",
       "      <td>1.0</td>\n",
       "    </tr>\n",
       "    <tr>\n",
       "      <th>2396</th>\n",
       "      <td>0.651184</td>\n",
       "      <td>1.746337</td>\n",
       "      <td>-0.590471</td>\n",
       "      <td>-0.069726</td>\n",
       "      <td>1.230661</td>\n",
       "      <td>0.885258</td>\n",
       "      <td>-1.841069</td>\n",
       "      <td>-1.423621</td>\n",
       "      <td>0.594357</td>\n",
       "      <td>-0.612794</td>\n",
       "      <td>0.124398</td>\n",
       "      <td>0.318929</td>\n",
       "      <td>0.060164</td>\n",
       "      <td>0.0</td>\n",
       "      <td>1.0</td>\n",
       "      <td>1.0</td>\n",
       "      <td>0.0</td>\n",
       "    </tr>\n",
       "    <tr>\n",
       "      <th>3195</th>\n",
       "      <td>-0.584778</td>\n",
       "      <td>1.746337</td>\n",
       "      <td>1.531086</td>\n",
       "      <td>-0.561886</td>\n",
       "      <td>0.567555</td>\n",
       "      <td>-0.156202</td>\n",
       "      <td>0.441224</td>\n",
       "      <td>0.310171</td>\n",
       "      <td>-1.044855</td>\n",
       "      <td>1.809909</td>\n",
       "      <td>-0.196445</td>\n",
       "      <td>0.318929</td>\n",
       "      <td>-0.005334</td>\n",
       "      <td>1.0</td>\n",
       "      <td>0.0</td>\n",
       "      <td>0.0</td>\n",
       "      <td>1.0</td>\n",
       "    </tr>\n",
       "    <tr>\n",
       "      <th>1116</th>\n",
       "      <td>0.725342</td>\n",
       "      <td>-0.513694</td>\n",
       "      <td>-0.590471</td>\n",
       "      <td>-0.266590</td>\n",
       "      <td>-0.438351</td>\n",
       "      <td>-0.156202</td>\n",
       "      <td>1.087640</td>\n",
       "      <td>0.157190</td>\n",
       "      <td>1.200343</td>\n",
       "      <td>-0.612794</td>\n",
       "      <td>0.525450</td>\n",
       "      <td>1.080814</td>\n",
       "      <td>1.037087</td>\n",
       "      <td>1.0</td>\n",
       "      <td>0.0</td>\n",
       "      <td>1.0</td>\n",
       "      <td>0.0</td>\n",
       "    </tr>\n",
       "    <tr>\n",
       "      <th>...</th>\n",
       "      <td>...</td>\n",
       "      <td>...</td>\n",
       "      <td>...</td>\n",
       "      <td>...</td>\n",
       "      <td>...</td>\n",
       "      <td>...</td>\n",
       "      <td>...</td>\n",
       "      <td>...</td>\n",
       "      <td>...</td>\n",
       "      <td>...</td>\n",
       "      <td>...</td>\n",
       "      <td>...</td>\n",
       "      <td>...</td>\n",
       "      <td>...</td>\n",
       "      <td>...</td>\n",
       "      <td>...</td>\n",
       "      <td>...</td>\n",
       "    </tr>\n",
       "    <tr>\n",
       "      <th>618</th>\n",
       "      <td>1.293884</td>\n",
       "      <td>1.746337</td>\n",
       "      <td>-0.590471</td>\n",
       "      <td>0.324002</td>\n",
       "      <td>0.281531</td>\n",
       "      <td>-0.205796</td>\n",
       "      <td>-0.926285</td>\n",
       "      <td>-0.148774</td>\n",
       "      <td>-1.153846</td>\n",
       "      <td>0.598557</td>\n",
       "      <td>0.485345</td>\n",
       "      <td>-0.442957</td>\n",
       "      <td>-0.985588</td>\n",
       "      <td>1.0</td>\n",
       "      <td>0.0</td>\n",
       "      <td>1.0</td>\n",
       "      <td>0.0</td>\n",
       "    </tr>\n",
       "    <tr>\n",
       "      <th>2004</th>\n",
       "      <td>-0.584778</td>\n",
       "      <td>1.746337</td>\n",
       "      <td>-0.590471</td>\n",
       "      <td>-0.709534</td>\n",
       "      <td>-0.080553</td>\n",
       "      <td>-1.098475</td>\n",
       "      <td>0.074843</td>\n",
       "      <td>0.004208</td>\n",
       "      <td>0.851574</td>\n",
       "      <td>-0.612794</td>\n",
       "      <td>2.731240</td>\n",
       "      <td>1.842699</td>\n",
       "      <td>0.559727</td>\n",
       "      <td>1.0</td>\n",
       "      <td>0.0</td>\n",
       "      <td>1.0</td>\n",
       "      <td>0.0</td>\n",
       "    </tr>\n",
       "    <tr>\n",
       "      <th>227</th>\n",
       "      <td>0.626465</td>\n",
       "      <td>-0.680222</td>\n",
       "      <td>1.384772</td>\n",
       "      <td>-1.103262</td>\n",
       "      <td>0.113344</td>\n",
       "      <td>-0.850509</td>\n",
       "      <td>-0.230863</td>\n",
       "      <td>1.992970</td>\n",
       "      <td>-2.457369</td>\n",
       "      <td>-0.612794</td>\n",
       "      <td>-0.236550</td>\n",
       "      <td>0.318929</td>\n",
       "      <td>-1.457397</td>\n",
       "      <td>1.0</td>\n",
       "      <td>0.0</td>\n",
       "      <td>0.0</td>\n",
       "      <td>1.0</td>\n",
       "    </tr>\n",
       "    <tr>\n",
       "      <th>2761</th>\n",
       "      <td>-0.312866</td>\n",
       "      <td>-0.513694</td>\n",
       "      <td>-0.590471</td>\n",
       "      <td>0.766946</td>\n",
       "      <td>0.028715</td>\n",
       "      <td>0.934851</td>\n",
       "      <td>-0.282202</td>\n",
       "      <td>-0.199768</td>\n",
       "      <td>0.363298</td>\n",
       "      <td>1.002341</td>\n",
       "      <td>0.097661</td>\n",
       "      <td>-0.442957</td>\n",
       "      <td>0.067935</td>\n",
       "      <td>1.0</td>\n",
       "      <td>0.0</td>\n",
       "      <td>1.0</td>\n",
       "      <td>0.0</td>\n",
       "    </tr>\n",
       "    <tr>\n",
       "      <th>2954</th>\n",
       "      <td>-1.079163</td>\n",
       "      <td>-0.513694</td>\n",
       "      <td>-0.590471</td>\n",
       "      <td>0.619298</td>\n",
       "      <td>-0.345152</td>\n",
       "      <td>1.678751</td>\n",
       "      <td>0.133184</td>\n",
       "      <td>-0.964676</td>\n",
       "      <td>0.123520</td>\n",
       "      <td>-0.209010</td>\n",
       "      <td>-0.664340</td>\n",
       "      <td>1.080814</td>\n",
       "      <td>-0.085264</td>\n",
       "      <td>1.0</td>\n",
       "      <td>0.0</td>\n",
       "      <td>1.0</td>\n",
       "      <td>0.0</td>\n",
       "    </tr>\n",
       "  </tbody>\n",
       "</table>\n",
       "<p>2666 rows × 17 columns</p>\n",
       "</div>"
      ],
      "text/plain": [
       "      account length  area code  number vmail messages  total day calls  \\\n",
       "2024        1.442200  -0.513694               1.092144        -0.365022   \n",
       "953         0.774780  -0.513694               2.262658        -0.365022   \n",
       "2396        0.651184   1.746337              -0.590471        -0.069726   \n",
       "3195       -0.584778   1.746337               1.531086        -0.561886   \n",
       "1116        0.725342  -0.513694              -0.590471        -0.266590   \n",
       "...              ...        ...                    ...              ...   \n",
       "618         1.293884   1.746337              -0.590471         0.324002   \n",
       "2004       -0.584778   1.746337              -0.590471        -0.709534   \n",
       "227         0.626465  -0.680222               1.384772        -1.103262   \n",
       "2761       -0.312866  -0.513694              -0.590471         0.766946   \n",
       "2954       -1.079163  -0.513694              -0.590471         0.619298   \n",
       "\n",
       "      total day charge  total eve calls  total eve charge  total night calls  \\\n",
       "2024         -0.480130        -0.602542          0.310540          -0.454737   \n",
       "953          -0.077339        -0.304982         -0.279869           0.922098   \n",
       "2396          1.230661         0.885258         -1.841069          -1.423621   \n",
       "3195          0.567555        -0.156202          0.441224           0.310171   \n",
       "1116         -0.438351        -0.156202          1.087640           0.157190   \n",
       "...                ...              ...               ...                ...   \n",
       "618           0.281531        -0.205796         -0.926285          -0.148774   \n",
       "2004         -0.080553        -1.098475          0.074843           0.004208   \n",
       "227           0.113344        -0.850509         -0.230863           1.992970   \n",
       "2761          0.028715         0.934851         -0.282202          -0.199768   \n",
       "2954         -0.345152         1.678751          0.133184          -0.964676   \n",
       "\n",
       "      total night charge  total intl calls  total intl charge  \\\n",
       "2024           -0.791998         -0.612794           0.846293   \n",
       "953             0.467929         -0.612794          -0.597497   \n",
       "2396            0.594357         -0.612794           0.124398   \n",
       "3195           -1.044855          1.809909          -0.196445   \n",
       "1116            1.200343         -0.612794           0.525450   \n",
       "...                  ...               ...                ...   \n",
       "618            -1.153846          0.598557           0.485345   \n",
       "2004            0.851574         -0.612794           2.731240   \n",
       "227            -2.457369         -0.612794          -0.236550   \n",
       "2761            0.363298          1.002341           0.097661   \n",
       "2954            0.123520         -0.209010          -0.664340   \n",
       "\n",
       "      customer service calls  total minutes  international plan_no  \\\n",
       "2024                0.318929      -0.541532                    1.0   \n",
       "953                 0.318929       0.042402                    1.0   \n",
       "2396                0.318929       0.060164                    0.0   \n",
       "3195                0.318929      -0.005334                    1.0   \n",
       "1116                1.080814       1.037087                    1.0   \n",
       "...                      ...            ...                    ...   \n",
       "618                -0.442957      -0.985588                    1.0   \n",
       "2004                1.842699       0.559727                    1.0   \n",
       "227                 0.318929      -1.457397                    1.0   \n",
       "2761               -0.442957       0.067935                    1.0   \n",
       "2954                1.080814      -0.085264                    1.0   \n",
       "\n",
       "      international plan_yes  voice mail plan_no  voice mail plan_yes  \n",
       "2024                     0.0                 0.0                  1.0  \n",
       "953                      0.0                 0.0                  1.0  \n",
       "2396                     1.0                 1.0                  0.0  \n",
       "3195                     0.0                 0.0                  1.0  \n",
       "1116                     0.0                 1.0                  0.0  \n",
       "...                      ...                 ...                  ...  \n",
       "618                      0.0                 1.0                  0.0  \n",
       "2004                     0.0                 1.0                  0.0  \n",
       "227                      0.0                 0.0                  1.0  \n",
       "2761                     0.0                 1.0                  0.0  \n",
       "2954                     0.0                 1.0                  0.0  \n",
       "\n",
       "[2666 rows x 17 columns]"
      ]
     },
     "execution_count": 122,
     "metadata": {},
     "output_type": "execute_result"
    }
   ],
   "source": [
    "Preprocessed.fit_transform(X_train)\n"
   ]
  },
  {
   "cell_type": "markdown",
   "metadata": {},
   "source": [
    "There are a mixture of continuous and categorical values in this dataframe, I might consider binning some of the values like 'customer service calls, 'number of voicemail messages,' and maybe 'account length.' I will see how scoring looks before proceeding. "
   ]
  },
  {
   "cell_type": "code",
   "execution_count": 123,
   "metadata": {},
   "outputs": [
    {
     "data": {
      "text/plain": [
       "(2666, 15)"
      ]
     },
     "metadata": {},
     "output_type": "display_data"
    },
    {
     "data": {
      "text/plain": [
       "(2666,)"
      ]
     },
     "metadata": {},
     "output_type": "display_data"
    }
   ],
   "source": [
    "display(X_train.shape,\n",
    "y_train.shape)"
   ]
  },
  {
   "cell_type": "markdown",
   "metadata": {},
   "source": [
    "## Model Scoring"
   ]
  },
  {
   "cell_type": "markdown",
   "metadata": {},
   "source": [
    "It will be important to keep track of my models as I got forward as there will be multiple models with different tuned parameters. I will make a couple of helper functions in order to put scores into a dataframe to make my final selections. I will be optimizing my models for recall score, but I do not want to overaly correct. I will keep track of other relevent metrics."
   ]
  },
  {
   "cell_type": "markdown",
   "metadata": {},
   "source": [
    "### Helper Functions"
   ]
  },
  {
   "cell_type": "code",
   "execution_count": 124,
   "metadata": {},
   "outputs": [],
   "source": [
    "def score_report(model_name,model,X,Y):\n",
    "    #return a dictionary of of model scores\n",
    "    #creating a dictionary\n",
    "    model_dict={}\n",
    "    \n",
    "    #Getting Predictions for training data\n",
    "    preds = model.predict(X)\n",
    "    \n",
    "    #creating key/values of different metrics\n",
    "    model_dict['model_name']=model_name\n",
    "    model_dict['accuracy']=accuracy_score(Y,preds)\n",
    "    model_dict['precision']=precision_score(Y,preds)\n",
    "    model_dict['recall']=recall_score(Y,preds)\n",
    "    model_dict['f1']=f1_score(Y,preds)\n",
    "        \n",
    "    return model_dict\n",
    "\n",
    "    "
   ]
  },
  {
   "cell_type": "code",
   "execution_count": 306,
   "metadata": {},
   "outputs": [],
   "source": [
    "def cross_val_report(model_name,model,X,Y):\n",
    "    #creating a function to return the cross-val scores of the different mretrics\n",
    "    model_dict={}\n",
    "    \n",
    "    model_dict['model_name']=model_name\n",
    "    \n",
    "    model_dict['mean_accuracy']=np.mean(cross_val_score(model,X,Y,scoring='accuracy'))\n",
    "    model_dict['std_accuracy']=np.std(cross_val_score(model,X,Y,scoring='accuracy'))\n",
    "    model_dict['mean_precision']=np.mean(cross_val_score(model,X,Y,scoring='precision'))\n",
    "    model_dict['std_precision']=np.std(cross_val_score(model,X,Y,scoring='precision'))\n",
    "    model_dict['mean_recall']=np.mean(cross_val_score(model,X,Y,scoring='recall'))\n",
    "    model_dict['std_recall']=np.std(cross_val_score(model,X,Y,scoring='recall'))\n",
    "    model_dict['mean_f1']=np.mean(cross_val_score(model,X,Y,scoring='f1'))\n",
    "    model_dict['std_f1']=np.std(cross_val_score(model,X,Y,scoring='f1'))\n",
    "    \n",
    "    return model_dict"
   ]
  },
  {
   "cell_type": "code",
   "execution_count": 126,
   "metadata": {},
   "outputs": [],
   "source": [
    "def append_df(dictionary,df):\n",
    "    new_df = df.append(dictionary,ignore_index=True)\n",
    "    return new_df"
   ]
  },
  {
   "cell_type": "markdown",
   "metadata": {},
   "source": [
    "### Beta 2 Scoring"
   ]
  },
  {
   "cell_type": "markdown",
   "metadata": {},
   "source": [
    "Beta 2 scoring will prioritize recall over precision without completely abondoning precision."
   ]
  },
  {
   "cell_type": "code",
   "execution_count": 127,
   "metadata": {},
   "outputs": [],
   "source": [
    "two_scorer = make_scorer(fbeta_score, beta=2)"
   ]
  },
  {
   "cell_type": "markdown",
   "metadata": {},
   "source": [
    "## Logistic Regression"
   ]
  },
  {
   "cell_type": "markdown",
   "metadata": {},
   "source": [
    "### Baseline Model"
   ]
  },
  {
   "cell_type": "markdown",
   "metadata": {},
   "source": [
    "I will first make a baseline Logistic Regression Model to get a handle on this classification issue."
   ]
  },
  {
   "cell_type": "code",
   "execution_count": 128,
   "metadata": {},
   "outputs": [],
   "source": [
    "Logistic_Pipeline = (\n",
    "    Skippa()\n",
    "    .scale(columns(dtype_include='number'), type='standard')\n",
    "    .onehot(columns(dtype_exclude='number'))\n",
    "    .model(LogisticRegression()))"
   ]
  },
  {
   "cell_type": "code",
   "execution_count": 129,
   "metadata": {},
   "outputs": [
    {
     "data": {
      "text/plain": [
       "SkippaPipeline(steps=[('scale_standard_0',\n",
       "                       SkippaStandardScaler(cols=<skippa.transformers.base.ColumnSelector object at 0x7fd5a69da1c0>,\n",
       "                                            copy=True, with_mean=True,\n",
       "                                            with_std=True)),\n",
       "                      ('onehot_1',\n",
       "                       SkippaOneHotEncoder(categories='auto',\n",
       "                                           cols=<skippa.transformers.base.ColumnSelector object at 0x7fd5a69da430>,\n",
       "                                           drop=None,\n",
       "                                           dtype=<class 'numpy.float64'>,\n",
       "                                           handle_unknown='error',\n",
       "                                           sparse=False)),\n",
       "                      ('model_2', LogisticRegression())])"
      ]
     },
     "execution_count": 129,
     "metadata": {},
     "output_type": "execute_result"
    }
   ],
   "source": [
    "Logistic_Pipeline.fit(X_train,y_train)"
   ]
  },
  {
   "cell_type": "code",
   "execution_count": 130,
   "metadata": {},
   "outputs": [],
   "source": [
    "Logistic_Baseline = score_report('LogisticBaseline',Logistic_Pipeline,X,y)"
   ]
  },
  {
   "cell_type": "code",
   "execution_count": 131,
   "metadata": {},
   "outputs": [],
   "source": [
    "models_df = pd.DataFrame(Logistic_Baseline,index=[0])"
   ]
  },
  {
   "cell_type": "code",
   "execution_count": 132,
   "metadata": {},
   "outputs": [
    {
     "data": {
      "text/html": [
       "<div>\n",
       "<style scoped>\n",
       "    .dataframe tbody tr th:only-of-type {\n",
       "        vertical-align: middle;\n",
       "    }\n",
       "\n",
       "    .dataframe tbody tr th {\n",
       "        vertical-align: top;\n",
       "    }\n",
       "\n",
       "    .dataframe thead th {\n",
       "        text-align: right;\n",
       "    }\n",
       "</style>\n",
       "<table border=\"1\" class=\"dataframe\">\n",
       "  <thead>\n",
       "    <tr style=\"text-align: right;\">\n",
       "      <th></th>\n",
       "      <th>model_name</th>\n",
       "      <th>accuracy</th>\n",
       "      <th>precision</th>\n",
       "      <th>recall</th>\n",
       "      <th>f1</th>\n",
       "    </tr>\n",
       "  </thead>\n",
       "  <tbody>\n",
       "    <tr>\n",
       "      <th>0</th>\n",
       "      <td>LogisticBaseline</td>\n",
       "      <td>0.863186</td>\n",
       "      <td>0.579882</td>\n",
       "      <td>0.202899</td>\n",
       "      <td>0.300613</td>\n",
       "    </tr>\n",
       "  </tbody>\n",
       "</table>\n",
       "</div>"
      ],
      "text/plain": [
       "         model_name  accuracy  precision    recall        f1\n",
       "0  LogisticBaseline  0.863186   0.579882  0.202899  0.300613"
      ]
     },
     "execution_count": 132,
     "metadata": {},
     "output_type": "execute_result"
    }
   ],
   "source": [
    "models_df"
   ]
  },
  {
   "cell_type": "code",
   "execution_count": 133,
   "metadata": {},
   "outputs": [],
   "source": [
    "param_grid = {'model_2__class_weight': ['none','balanced'],'model_2__C':[.01,.1,1,5,10,100]}"
   ]
  },
  {
   "cell_type": "code",
   "execution_count": 134,
   "metadata": {},
   "outputs": [
    {
     "data": {
      "text/plain": [
       "GridSearchCV(cv=4,\n",
       "             estimator=SkippaPipeline(steps=[('scale_standard_0',\n",
       "                                              SkippaStandardScaler(cols=<skippa.transformers.base.ColumnSelector object at 0x7fd5a69da1c0>,\n",
       "                                                                   copy=True,\n",
       "                                                                   with_mean=True,\n",
       "                                                                   with_std=True)),\n",
       "                                             ('onehot_1',\n",
       "                                              SkippaOneHotEncoder(categories='auto',\n",
       "                                                                  cols=<skippa.transformers.base.ColumnSelector object at 0x7fd5a69da430>,\n",
       "                                                                  drop=None,\n",
       "                                                                  dtype=<class 'numpy.float64'>,\n",
       "                                                                  handle_unknown='error',\n",
       "                                                                  sparse=False)),\n",
       "                                             ('model_2',\n",
       "                                              LogisticRegression())]),\n",
       "             param_grid={'model_2__C': [0.01, 0.1, 1, 5, 10, 100],\n",
       "                         'model_2__class_weight': ['none', 'balanced']},\n",
       "             scoring=make_scorer(fbeta_score, beta=2))"
      ]
     },
     "execution_count": 134,
     "metadata": {},
     "output_type": "execute_result"
    }
   ],
   "source": [
    "LG_GS = GridSearchCV(estimator=Logistic_Pipeline,cv=4,param_grid=param_grid,scoring=two_scorer,refit=True)\n",
    "LG_GS.fit(X_train,y_train)"
   ]
  },
  {
   "cell_type": "code",
   "execution_count": 135,
   "metadata": {},
   "outputs": [
    {
     "data": {
      "text/plain": [
       "SkippaPipeline(steps=[('scale_standard_0',\n",
       "                       SkippaStandardScaler(cols=<skippa.transformers.base.ColumnSelector object at 0x7fd5a596b130>,\n",
       "                                            copy=True, with_mean=True,\n",
       "                                            with_std=True)),\n",
       "                      ('onehot_1',\n",
       "                       SkippaOneHotEncoder(categories='auto',\n",
       "                                           cols=<skippa.transformers.base.ColumnSelector object at 0x7fd5a5c0ba60>,\n",
       "                                           drop=None,\n",
       "                                           dtype=<class 'numpy.float64'>,\n",
       "                                           handle_unknown='error',\n",
       "                                           sparse=False)),\n",
       "                      ('model_2',\n",
       "                       LogisticRegression(C=5, class_weight='balanced'))])"
      ]
     },
     "execution_count": 135,
     "metadata": {},
     "output_type": "execute_result"
    }
   ],
   "source": [
    "LG_GS.best_estimator_"
   ]
  },
  {
   "cell_type": "code",
   "execution_count": 136,
   "metadata": {},
   "outputs": [],
   "source": [
    "cross_val_df = pd.DataFrame((cross_val_report('Logistic_Regression_Grid',LG_GS.best_estimator_,X_train,y_train)),index=[0])"
   ]
  },
  {
   "cell_type": "code",
   "execution_count": 137,
   "metadata": {},
   "outputs": [
    {
     "data": {
      "text/html": [
       "<div>\n",
       "<style scoped>\n",
       "    .dataframe tbody tr th:only-of-type {\n",
       "        vertical-align: middle;\n",
       "    }\n",
       "\n",
       "    .dataframe tbody tr th {\n",
       "        vertical-align: top;\n",
       "    }\n",
       "\n",
       "    .dataframe thead th {\n",
       "        text-align: right;\n",
       "    }\n",
       "</style>\n",
       "<table border=\"1\" class=\"dataframe\">\n",
       "  <thead>\n",
       "    <tr style=\"text-align: right;\">\n",
       "      <th></th>\n",
       "      <th>model_name</th>\n",
       "      <th>accuracy</th>\n",
       "      <th>precision</th>\n",
       "      <th>recall</th>\n",
       "      <th>f1</th>\n",
       "    </tr>\n",
       "  </thead>\n",
       "  <tbody>\n",
       "    <tr>\n",
       "      <th>0</th>\n",
       "      <td>LogisticBaseline</td>\n",
       "      <td>0.863186</td>\n",
       "      <td>0.579882</td>\n",
       "      <td>0.202899</td>\n",
       "      <td>0.300613</td>\n",
       "    </tr>\n",
       "  </tbody>\n",
       "</table>\n",
       "</div>"
      ],
      "text/plain": [
       "         model_name  accuracy  precision    recall        f1\n",
       "0  LogisticBaseline  0.863186   0.579882  0.202899  0.300613"
      ]
     },
     "metadata": {},
     "output_type": "display_data"
    },
    {
     "data": {
      "text/html": [
       "<div>\n",
       "<style scoped>\n",
       "    .dataframe tbody tr th:only-of-type {\n",
       "        vertical-align: middle;\n",
       "    }\n",
       "\n",
       "    .dataframe tbody tr th {\n",
       "        vertical-align: top;\n",
       "    }\n",
       "\n",
       "    .dataframe thead th {\n",
       "        text-align: right;\n",
       "    }\n",
       "</style>\n",
       "<table border=\"1\" class=\"dataframe\">\n",
       "  <thead>\n",
       "    <tr style=\"text-align: right;\">\n",
       "      <th></th>\n",
       "      <th>model_name</th>\n",
       "      <th>mean_accuracy</th>\n",
       "      <th>std_accuracy</th>\n",
       "      <th>mean_precision</th>\n",
       "      <th>std_precision</th>\n",
       "      <th>mean_recall</th>\n",
       "      <th>std_recall</th>\n",
       "      <th>mean_f1</th>\n",
       "      <th>std_f1</th>\n",
       "    </tr>\n",
       "  </thead>\n",
       "  <tbody>\n",
       "    <tr>\n",
       "      <th>0</th>\n",
       "      <td>Logistic_Regression_Grid</td>\n",
       "      <td>0.761813</td>\n",
       "      <td>0.010476</td>\n",
       "      <td>0.35127</td>\n",
       "      <td>0.012696</td>\n",
       "      <td>0.754579</td>\n",
       "      <td>0.027855</td>\n",
       "      <td>0.47919</td>\n",
       "      <td>0.014369</td>\n",
       "    </tr>\n",
       "  </tbody>\n",
       "</table>\n",
       "</div>"
      ],
      "text/plain": [
       "                 model_name  mean_accuracy  std_accuracy  mean_precision  \\\n",
       "0  Logistic_Regression_Grid       0.761813      0.010476         0.35127   \n",
       "\n",
       "   std_precision  mean_recall  std_recall  mean_f1    std_f1  \n",
       "0       0.012696     0.754579    0.027855  0.47919  0.014369  "
      ]
     },
     "metadata": {},
     "output_type": "display_data"
    }
   ],
   "source": [
    "display(models_df,cross_val_df)"
   ]
  },
  {
   "cell_type": "code",
   "execution_count": 138,
   "metadata": {},
   "outputs": [],
   "source": [
    "models_df = models_df.append(score_report('LogisticTuned',LG_GS.best_estimator_,X_train,y_train),ignore_index=True)"
   ]
  },
  {
   "cell_type": "code",
   "execution_count": 139,
   "metadata": {},
   "outputs": [
    {
     "data": {
      "text/html": [
       "<div>\n",
       "<style scoped>\n",
       "    .dataframe tbody tr th:only-of-type {\n",
       "        vertical-align: middle;\n",
       "    }\n",
       "\n",
       "    .dataframe tbody tr th {\n",
       "        vertical-align: top;\n",
       "    }\n",
       "\n",
       "    .dataframe thead th {\n",
       "        text-align: right;\n",
       "    }\n",
       "</style>\n",
       "<table border=\"1\" class=\"dataframe\">\n",
       "  <thead>\n",
       "    <tr style=\"text-align: right;\">\n",
       "      <th></th>\n",
       "      <th>model_name</th>\n",
       "      <th>accuracy</th>\n",
       "      <th>precision</th>\n",
       "      <th>recall</th>\n",
       "      <th>f1</th>\n",
       "    </tr>\n",
       "  </thead>\n",
       "  <tbody>\n",
       "    <tr>\n",
       "      <th>0</th>\n",
       "      <td>LogisticBaseline</td>\n",
       "      <td>0.863186</td>\n",
       "      <td>0.579882</td>\n",
       "      <td>0.202899</td>\n",
       "      <td>0.300613</td>\n",
       "    </tr>\n",
       "    <tr>\n",
       "      <th>1</th>\n",
       "      <td>LogisticTuned</td>\n",
       "      <td>0.767442</td>\n",
       "      <td>0.360479</td>\n",
       "      <td>0.777778</td>\n",
       "      <td>0.492635</td>\n",
       "    </tr>\n",
       "  </tbody>\n",
       "</table>\n",
       "</div>"
      ],
      "text/plain": [
       "         model_name  accuracy  precision    recall        f1\n",
       "0  LogisticBaseline  0.863186   0.579882  0.202899  0.300613\n",
       "1     LogisticTuned  0.767442   0.360479  0.777778  0.492635"
      ]
     },
     "metadata": {},
     "output_type": "display_data"
    },
    {
     "data": {
      "text/html": [
       "<div>\n",
       "<style scoped>\n",
       "    .dataframe tbody tr th:only-of-type {\n",
       "        vertical-align: middle;\n",
       "    }\n",
       "\n",
       "    .dataframe tbody tr th {\n",
       "        vertical-align: top;\n",
       "    }\n",
       "\n",
       "    .dataframe thead th {\n",
       "        text-align: right;\n",
       "    }\n",
       "</style>\n",
       "<table border=\"1\" class=\"dataframe\">\n",
       "  <thead>\n",
       "    <tr style=\"text-align: right;\">\n",
       "      <th></th>\n",
       "      <th>model_name</th>\n",
       "      <th>mean_accuracy</th>\n",
       "      <th>std_accuracy</th>\n",
       "      <th>mean_precision</th>\n",
       "      <th>std_precision</th>\n",
       "      <th>mean_recall</th>\n",
       "      <th>std_recall</th>\n",
       "      <th>mean_f1</th>\n",
       "      <th>std_f1</th>\n",
       "    </tr>\n",
       "  </thead>\n",
       "  <tbody>\n",
       "    <tr>\n",
       "      <th>0</th>\n",
       "      <td>Logistic_Regression_Grid</td>\n",
       "      <td>0.761813</td>\n",
       "      <td>0.010476</td>\n",
       "      <td>0.35127</td>\n",
       "      <td>0.012696</td>\n",
       "      <td>0.754579</td>\n",
       "      <td>0.027855</td>\n",
       "      <td>0.47919</td>\n",
       "      <td>0.014369</td>\n",
       "    </tr>\n",
       "  </tbody>\n",
       "</table>\n",
       "</div>"
      ],
      "text/plain": [
       "                 model_name  mean_accuracy  std_accuracy  mean_precision  \\\n",
       "0  Logistic_Regression_Grid       0.761813      0.010476         0.35127   \n",
       "\n",
       "   std_precision  mean_recall  std_recall  mean_f1    std_f1  \n",
       "0       0.012696     0.754579    0.027855  0.47919  0.014369  "
      ]
     },
     "metadata": {},
     "output_type": "display_data"
    }
   ],
   "source": [
    "display(models_df,cross_val_df)"
   ]
  },
  {
   "cell_type": "code",
   "execution_count": 140,
   "metadata": {},
   "outputs": [
    {
     "data": {
      "image/png": "[encoded data removed]",
      "text/plain": [
       "<Figure size 432x288 with 2 Axes>"
      ]
     },
     "metadata": {
      "needs_background": "light"
     },
     "output_type": "display_data"
    }
   ],
   "source": [
    "ConfusionMatrixDisplay.from_estimator(LG_GS.best_estimator_,X_train,y_train);"
   ]
  },
  {
   "cell_type": "markdown",
   "metadata": {},
   "source": [
    "This model returns a very poor recall score and the confusion matrix clearly shows that it is making very poor guesses on predicted positives. I will log this score into a dataframe with the rest of the model scores as I try to find the best model. I will also try to deal with the class imbalance issue by passing different values into the class weight parameter."
   ]
  },
  {
   "cell_type": "markdown",
   "metadata": {},
   "source": [
    "## K Nearest Neighbors"
   ]
  },
  {
   "cell_type": "markdown",
   "metadata": {},
   "source": [
    "### Baseline Model"
   ]
  },
  {
   "cell_type": "code",
   "execution_count": 141,
   "metadata": {},
   "outputs": [],
   "source": [
    "KNN_Base_Pipeline = (\n",
    "    Skippa()\n",
    "    .scale(columns(dtype_include='number'), type='standard')\n",
    "    .onehot(columns(dtype_exclude='number'))\n",
    "    .model(KNeighborsClassifier()))"
   ]
  },
  {
   "cell_type": "code",
   "execution_count": 142,
   "metadata": {},
   "outputs": [
    {
     "data": {
      "text/plain": [
       "SkippaPipeline(steps=[('scale_standard_0',\n",
       "                       SkippaStandardScaler(cols=<skippa.transformers.base.ColumnSelector object at 0x7fd5a5d793a0>,\n",
       "                                            copy=True, with_mean=True,\n",
       "                                            with_std=True)),\n",
       "                      ('onehot_1',\n",
       "                       SkippaOneHotEncoder(categories='auto',\n",
       "                                           cols=<skippa.transformers.base.ColumnSelector object at 0x7fd5a5d797c0>,\n",
       "                                           drop=None,\n",
       "                                           dtype=<class 'numpy.float64'>,\n",
       "                                           handle_unknown='error',\n",
       "                                           sparse=False)),\n",
       "                      ('model_2', KNeighborsClassifier())])"
      ]
     },
     "execution_count": 142,
     "metadata": {},
     "output_type": "execute_result"
    }
   ],
   "source": [
    "KNN_Base_Pipeline.fit(X_train,y_train)"
   ]
  },
  {
   "cell_type": "code",
   "execution_count": 143,
   "metadata": {},
   "outputs": [],
   "source": [
    "models_df=models_df.append(score_report('KNN Base',KNN_Base_Pipeline,X_train,y_train),ignore_index=True)"
   ]
  },
  {
   "cell_type": "code",
   "execution_count": 144,
   "metadata": {},
   "outputs": [
    {
     "data": {
      "text/html": [
       "<div>\n",
       "<style scoped>\n",
       "    .dataframe tbody tr th:only-of-type {\n",
       "        vertical-align: middle;\n",
       "    }\n",
       "\n",
       "    .dataframe tbody tr th {\n",
       "        vertical-align: top;\n",
       "    }\n",
       "\n",
       "    .dataframe thead th {\n",
       "        text-align: right;\n",
       "    }\n",
       "</style>\n",
       "<table border=\"1\" class=\"dataframe\">\n",
       "  <thead>\n",
       "    <tr style=\"text-align: right;\">\n",
       "      <th></th>\n",
       "      <th>model_name</th>\n",
       "      <th>accuracy</th>\n",
       "      <th>precision</th>\n",
       "      <th>recall</th>\n",
       "      <th>f1</th>\n",
       "    </tr>\n",
       "  </thead>\n",
       "  <tbody>\n",
       "    <tr>\n",
       "      <th>0</th>\n",
       "      <td>LogisticBaseline</td>\n",
       "      <td>0.863186</td>\n",
       "      <td>0.579882</td>\n",
       "      <td>0.202899</td>\n",
       "      <td>0.300613</td>\n",
       "    </tr>\n",
       "    <tr>\n",
       "      <th>1</th>\n",
       "      <td>LogisticTuned</td>\n",
       "      <td>0.767442</td>\n",
       "      <td>0.360479</td>\n",
       "      <td>0.777778</td>\n",
       "      <td>0.492635</td>\n",
       "    </tr>\n",
       "    <tr>\n",
       "      <th>2</th>\n",
       "      <td>KNN Base</td>\n",
       "      <td>0.921230</td>\n",
       "      <td>0.968254</td>\n",
       "      <td>0.472868</td>\n",
       "      <td>0.635417</td>\n",
       "    </tr>\n",
       "  </tbody>\n",
       "</table>\n",
       "</div>"
      ],
      "text/plain": [
       "         model_name  accuracy  precision    recall        f1\n",
       "0  LogisticBaseline  0.863186   0.579882  0.202899  0.300613\n",
       "1     LogisticTuned  0.767442   0.360479  0.777778  0.492635\n",
       "2          KNN Base  0.921230   0.968254  0.472868  0.635417"
      ]
     },
     "execution_count": 144,
     "metadata": {},
     "output_type": "execute_result"
    }
   ],
   "source": [
    "models_df"
   ]
  },
  {
   "cell_type": "markdown",
   "metadata": {},
   "source": [
    "### Tuned K Nearest Neighbors"
   ]
  },
  {
   "cell_type": "code",
   "execution_count": 145,
   "metadata": {},
   "outputs": [],
   "source": [
    "#Setting Parameters for KNN Gridsearch"
   ]
  },
  {
   "cell_type": "code",
   "execution_count": 146,
   "metadata": {},
   "outputs": [],
   "source": [
    "KNN_Params = {'model_2__weights':['uniform','distance'],'model_2__n_neighbors':list(range(4,11)),\n",
    "              'model_2__metric': ['euclidean', 'manhattan','minkowski']}"
   ]
  },
  {
   "cell_type": "code",
   "execution_count": 147,
   "metadata": {},
   "outputs": [
    {
     "data": {
      "text/plain": [
       "GridSearchCV(cv=5,\n",
       "             estimator=SkippaPipeline(steps=[('scale_standard_0',\n",
       "                                              SkippaStandardScaler(cols=<skippa.transformers.base.ColumnSelector object at 0x7fd5a5d793a0>,\n",
       "                                                                   copy=True,\n",
       "                                                                   with_mean=True,\n",
       "                                                                   with_std=True)),\n",
       "                                             ('onehot_1',\n",
       "                                              SkippaOneHotEncoder(categories='auto',\n",
       "                                                                  cols=<skippa.transformers.base.ColumnSelector object at 0x7fd5a5d797c0>,\n",
       "                                                                  drop=None,\n",
       "                                                                  dtype=<class 'numpy.float64'>,\n",
       "                                                                  handle_unknown='error',\n",
       "                                                                  sparse=False)),\n",
       "                                             ('model_2',\n",
       "                                              KNeighborsClassifier())]),\n",
       "             param_grid={'model_2__metric': ['euclidean', 'manhattan',\n",
       "                                             'minkowski'],\n",
       "                         'model_2__n_neighbors': [4, 5, 6, 7, 8, 9, 10],\n",
       "                         'model_2__weights': ['uniform', 'distance']},\n",
       "             scoring=make_scorer(fbeta_score, beta=2))"
      ]
     },
     "execution_count": 147,
     "metadata": {},
     "output_type": "execute_result"
    }
   ],
   "source": [
    "KNN_GS = GridSearchCV(estimator=KNN_Base_Pipeline,cv=5,param_grid=KNN_Params,scoring=two_scorer,refit=True)\n",
    "KNN_GS.fit(X_train,y_train)"
   ]
  },
  {
   "cell_type": "code",
   "execution_count": 148,
   "metadata": {},
   "outputs": [],
   "source": [
    "KNN_Tuned = cross_val_report('KNN_Tuned',KNN_GS.best_estimator_,X,y)\n",
    "cross_val_df = append_df(KNN_Tuned,cross_val_df)"
   ]
  },
  {
   "cell_type": "code",
   "execution_count": 150,
   "metadata": {},
   "outputs": [
    {
     "data": {
      "text/html": [
       "<div>\n",
       "<style scoped>\n",
       "    .dataframe tbody tr th:only-of-type {\n",
       "        vertical-align: middle;\n",
       "    }\n",
       "\n",
       "    .dataframe tbody tr th {\n",
       "        vertical-align: top;\n",
       "    }\n",
       "\n",
       "    .dataframe thead th {\n",
       "        text-align: right;\n",
       "    }\n",
       "</style>\n",
       "<table border=\"1\" class=\"dataframe\">\n",
       "  <thead>\n",
       "    <tr style=\"text-align: right;\">\n",
       "      <th></th>\n",
       "      <th>model_name</th>\n",
       "      <th>accuracy</th>\n",
       "      <th>precision</th>\n",
       "      <th>recall</th>\n",
       "      <th>f1</th>\n",
       "    </tr>\n",
       "  </thead>\n",
       "  <tbody>\n",
       "    <tr>\n",
       "      <th>0</th>\n",
       "      <td>LogisticBaseline</td>\n",
       "      <td>0.863186</td>\n",
       "      <td>0.579882</td>\n",
       "      <td>0.202899</td>\n",
       "      <td>0.300613</td>\n",
       "    </tr>\n",
       "    <tr>\n",
       "      <th>1</th>\n",
       "      <td>LogisticTuned</td>\n",
       "      <td>0.767442</td>\n",
       "      <td>0.360479</td>\n",
       "      <td>0.777778</td>\n",
       "      <td>0.492635</td>\n",
       "    </tr>\n",
       "    <tr>\n",
       "      <th>2</th>\n",
       "      <td>KNN Base</td>\n",
       "      <td>0.921230</td>\n",
       "      <td>0.968254</td>\n",
       "      <td>0.472868</td>\n",
       "      <td>0.635417</td>\n",
       "    </tr>\n",
       "  </tbody>\n",
       "</table>\n",
       "</div>"
      ],
      "text/plain": [
       "         model_name  accuracy  precision    recall        f1\n",
       "0  LogisticBaseline  0.863186   0.579882  0.202899  0.300613\n",
       "1     LogisticTuned  0.767442   0.360479  0.777778  0.492635\n",
       "2          KNN Base  0.921230   0.968254  0.472868  0.635417"
      ]
     },
     "metadata": {},
     "output_type": "display_data"
    },
    {
     "data": {
      "text/html": [
       "<div>\n",
       "<style scoped>\n",
       "    .dataframe tbody tr th:only-of-type {\n",
       "        vertical-align: middle;\n",
       "    }\n",
       "\n",
       "    .dataframe tbody tr th {\n",
       "        vertical-align: top;\n",
       "    }\n",
       "\n",
       "    .dataframe thead th {\n",
       "        text-align: right;\n",
       "    }\n",
       "</style>\n",
       "<table border=\"1\" class=\"dataframe\">\n",
       "  <thead>\n",
       "    <tr style=\"text-align: right;\">\n",
       "      <th></th>\n",
       "      <th>model_name</th>\n",
       "      <th>mean_accuracy</th>\n",
       "      <th>std_accuracy</th>\n",
       "      <th>mean_precision</th>\n",
       "      <th>std_precision</th>\n",
       "      <th>mean_recall</th>\n",
       "      <th>std_recall</th>\n",
       "      <th>mean_f1</th>\n",
       "      <th>std_f1</th>\n",
       "    </tr>\n",
       "  </thead>\n",
       "  <tbody>\n",
       "    <tr>\n",
       "      <th>0</th>\n",
       "      <td>Logistic_Regression_Grid</td>\n",
       "      <td>0.761813</td>\n",
       "      <td>0.010476</td>\n",
       "      <td>0.351270</td>\n",
       "      <td>0.012696</td>\n",
       "      <td>0.754579</td>\n",
       "      <td>0.027855</td>\n",
       "      <td>0.479190</td>\n",
       "      <td>0.014369</td>\n",
       "    </tr>\n",
       "    <tr>\n",
       "      <th>1</th>\n",
       "      <td>KNN_Tuned</td>\n",
       "      <td>0.894090</td>\n",
       "      <td>0.008459</td>\n",
       "      <td>0.788693</td>\n",
       "      <td>0.035826</td>\n",
       "      <td>0.368428</td>\n",
       "      <td>0.070499</td>\n",
       "      <td>0.498233</td>\n",
       "      <td>0.066698</td>\n",
       "    </tr>\n",
       "  </tbody>\n",
       "</table>\n",
       "</div>"
      ],
      "text/plain": [
       "                 model_name  mean_accuracy  std_accuracy  mean_precision  \\\n",
       "0  Logistic_Regression_Grid       0.761813      0.010476        0.351270   \n",
       "1                 KNN_Tuned       0.894090      0.008459        0.788693   \n",
       "\n",
       "   std_precision  mean_recall  std_recall   mean_f1    std_f1  \n",
       "0       0.012696     0.754579    0.027855  0.479190  0.014369  \n",
       "1       0.035826     0.368428    0.070499  0.498233  0.066698  "
      ]
     },
     "metadata": {},
     "output_type": "display_data"
    }
   ],
   "source": [
    "display(models_df, cross_val_df)"
   ]
  },
  {
   "cell_type": "code",
   "execution_count": 92,
   "metadata": {},
   "outputs": [
    {
     "data": {
      "text/plain": [
       "<bound method Pipeline.get_params of SkippaPipeline(steps=[('scale_standard_0',\n",
       "                       SkippaStandardScaler(cols=<skippa.transformers.base.ColumnSelector object at 0x7fd5a1c65910>,\n",
       "                                            copy=True, with_mean=True,\n",
       "                                            with_std=True)),\n",
       "                      ('onehot_1',\n",
       "                       SkippaOneHotEncoder(categories='auto',\n",
       "                                           cols=<skippa.transformers.base.ColumnSelector object at 0x7fd5a0e09c40>,\n",
       "                                           drop=None,\n",
       "                                           dtype=<class 'numpy.float64'>,\n",
       "                                           handle_unknown='error',\n",
       "                                           sparse=False)),\n",
       "                      ('model_2', KNeighborsClassifier())])>"
      ]
     },
     "execution_count": 92,
     "metadata": {},
     "output_type": "execute_result"
    }
   ],
   "source": [
    "KNN_Base_Pipeline.get_params"
   ]
  },
  {
   "cell_type": "code",
   "execution_count": 152,
   "metadata": {},
   "outputs": [],
   "source": [
    "models_df = append_df(score_report('KNN_Tuned',KNN_GS.best_estimator_,X_train,y_train),models_df)"
   ]
  },
  {
   "cell_type": "code",
   "execution_count": 103,
   "metadata": {},
   "outputs": [
    {
     "data": {
      "image/png": "[encoded data removed]",
      "text/plain": [
       "<Figure size 432x288 with 2 Axes>"
      ]
     },
     "metadata": {
      "needs_background": "light"
     },
     "output_type": "display_data"
    }
   ],
   "source": [
    "ConfusionMatrixDisplay.from_estimator(KNN_GS.best_estimator_,X_train,y_train);"
   ]
  },
  {
   "cell_type": "markdown",
   "metadata": {},
   "source": [
    "The base K nearest neighbors model was better that the tuned model on the test data, but still peforms poorly with a weak recall score of around 50%. I could not pass the 'class weights' balanced into the model and did not want to synthesize data with SMOTE. So I will move on from the K Nearest Neighbors as a model option. "
   ]
  },
  {
   "cell_type": "markdown",
   "metadata": {},
   "source": [
    "## Decision Trees"
   ]
  },
  {
   "cell_type": "markdown",
   "metadata": {},
   "source": [
    "### Baseline Decision Tree"
   ]
  },
  {
   "cell_type": "code",
   "execution_count": 162,
   "metadata": {},
   "outputs": [],
   "source": [
    "DT_Base_Pipeline = (\n",
    "    Skippa()\n",
    "    .scale(columns(dtype_include='number'), type='standard')\n",
    "    .onehot(columns(dtype_exclude='number'))\n",
    "    .model(DecisionTreeClassifier(class_weight='balanced')))"
   ]
  },
  {
   "cell_type": "code",
   "execution_count": 163,
   "metadata": {},
   "outputs": [
    {
     "data": {
      "text/plain": [
       "SkippaPipeline(steps=[('scale_standard_0',\n",
       "                       SkippaStandardScaler(cols=<skippa.transformers.base.ColumnSelector object at 0x7fd5a6c8dbe0>,\n",
       "                                            copy=True, with_mean=True,\n",
       "                                            with_std=True)),\n",
       "                      ('onehot_1',\n",
       "                       SkippaOneHotEncoder(categories='auto',\n",
       "                                           cols=<skippa.transformers.base.ColumnSelector object at 0x7fd5a698ad00>,\n",
       "                                           drop=None,\n",
       "                                           dtype=<class 'numpy.float64'>,\n",
       "                                           handle_unknown='error',\n",
       "                                           sparse=False)),\n",
       "                      ('model_2',\n",
       "                       DecisionTreeClassifier(class_weight='balanced'))])"
      ]
     },
     "execution_count": 163,
     "metadata": {},
     "output_type": "execute_result"
    }
   ],
   "source": [
    "DT_Base_Pipeline.fit(X_train,y_train)"
   ]
  },
  {
   "cell_type": "code",
   "execution_count": 164,
   "metadata": {},
   "outputs": [],
   "source": [
    "models_df = append_df(score_report('Base Decision Tree',DT_Base_Pipeline,X_train,y_train),models_df)"
   ]
  },
  {
   "cell_type": "markdown",
   "metadata": {},
   "source": [
    "The baseline decision tree is showing pefect scores, so it must be overfitting. This will probably be revealed in cross-validation."
   ]
  },
  {
   "cell_type": "markdown",
   "metadata": {},
   "source": [
    "### Tune Base Decision Tree"
   ]
  },
  {
   "cell_type": "code",
   "execution_count": 168,
   "metadata": {},
   "outputs": [
    {
     "data": {
      "text/plain": [
       "{'scale_standard_0': SkippaStandardScaler(cols=<skippa.transformers.base.ColumnSelector object at 0x7fd5a6c8dbe0>,\n",
       "                      copy=True, with_mean=True, with_std=True),\n",
       " 'onehot_1': SkippaOneHotEncoder(categories='auto',\n",
       "                     cols=<skippa.transformers.base.ColumnSelector object at 0x7fd5a698ad00>,\n",
       "                     drop=None, dtype=<class 'numpy.float64'>,\n",
       "                     handle_unknown='error', sparse=False),\n",
       " 'model_2': DecisionTreeClassifier(class_weight='balanced')}"
      ]
     },
     "execution_count": 168,
     "metadata": {},
     "output_type": "execute_result"
    }
   ],
   "source": [
    "DT_Base_Pipeline.named_steps"
   ]
  },
  {
   "cell_type": "markdown",
   "metadata": {},
   "source": [
    "Currently I've only adjusted the class weights parameter. I will try several hyperparemeters in order reduce the current overfitting on the model. "
   ]
  },
  {
   "cell_type": "code",
   "execution_count": 179,
   "metadata": {},
   "outputs": [],
   "source": [
    "DTC_Params_1 = {'model_2__class_weight':['balanced'],\n",
    "                'model_2__min_samples_split': [2, 3, 4], 'model_2__max_depth':[5,10,15,20],\n",
    "                'model_2__min_samples_leaf':[1,3,5,7,10],\n",
    "                'model_2__ccp_alpha':[0,.5,.10,.15,.20],\n",
    "                'model_2__criterion':['gini','entropy']}"
   ]
  },
  {
   "cell_type": "code",
   "execution_count": 175,
   "metadata": {},
   "outputs": [
    {
     "data": {
      "text/plain": [
       "array([0.76642336, 0.75268817, 0.72695035, 0.76785714, 0.72438163,\n",
       "       0.8       , 0.65298507])"
      ]
     },
     "execution_count": 175,
     "metadata": {},
     "output_type": "execute_result"
    }
   ],
   "source": [
    "cross_val_score(DT_Base_Pipeline,X_train,y_train,cv=7,scoring=two_scorer)"
   ]
  },
  {
   "cell_type": "code",
   "execution_count": 238,
   "metadata": {},
   "outputs": [
    {
     "data": {
      "text/plain": [
       "{'model_name': 'test',\n",
       " 'accuracy': 0.9175412293853074,\n",
       " 'precision': 0.7204301075268817,\n",
       " 'recall': 0.6979166666666666,\n",
       " 'f1': 0.708994708994709}"
      ]
     },
     "execution_count": 238,
     "metadata": {},
     "output_type": "execute_result"
    }
   ],
   "source": [
    "score_report('test',DT_Base_Pipeline,X_test,y_test)"
   ]
  },
  {
   "cell_type": "code",
   "execution_count": 541,
   "metadata": {},
   "outputs": [
    {
     "data": {
      "text/plain": [
       "dict_keys(['ccp_alpha', 'class_weight', 'criterion', 'max_depth', 'max_features', 'max_leaf_nodes', 'min_impurity_decrease', 'min_samples_leaf', 'min_samples_split', 'min_weight_fraction_leaf', 'random_state', 'splitter'])"
      ]
     },
     "execution_count": 541,
     "metadata": {},
     "output_type": "execute_result"
    }
   ],
   "source": [
    "DT_Base_Pipeline."
   ]
  },
  {
   "cell_type": "code",
   "execution_count": 180,
   "metadata": {},
   "outputs": [
    {
     "data": {
      "text/plain": [
       "GridSearchCV(cv=5,\n",
       "             estimator=SkippaPipeline(steps=[('scale_standard_0',\n",
       "                                              SkippaStandardScaler(cols=<skippa.transformers.base.ColumnSelector object at 0x7fd5a6c8dbe0>,\n",
       "                                                                   copy=True,\n",
       "                                                                   with_mean=True,\n",
       "                                                                   with_std=True)),\n",
       "                                             ('onehot_1',\n",
       "                                              SkippaOneHotEncoder(categories='auto',\n",
       "                                                                  cols=<skippa.transformers.base.ColumnSelector object at 0x7fd5a698ad00>,\n",
       "                                                                  drop=None,\n",
       "                                                                  dtype=<class 'numpy.f...\n",
       "                                                                  sparse=False)),\n",
       "                                             ('model_2',\n",
       "                                              DecisionTreeClassifier(class_weight='balanced'))]),\n",
       "             param_grid={'model_2__ccp_alpha': [0, 0.5, 0.1, 0.15, 0.2],\n",
       "                         'model_2__class_weight': ['balanced'],\n",
       "                         'model_2__criterion': ['gini', 'entropy'],\n",
       "                         'model_2__max_depth': [5, 10, 15, 20],\n",
       "                         'model_2__min_samples_leaf': [1, 3, 5, 7, 10],\n",
       "                         'model_2__min_samples_split': [2, 3, 4]},\n",
       "             scoring=make_scorer(fbeta_score, beta=2))"
      ]
     },
     "execution_count": 180,
     "metadata": {},
     "output_type": "execute_result"
    }
   ],
   "source": [
    "DTC_GS = GridSearchCV(estimator=DT_Base_Pipeline,cv=5,param_grid=DTC_Params_1,scoring=two_scorer,refit=True)\n",
    "DTC_GS.fit(X_train,y_train)"
   ]
  },
  {
   "cell_type": "code",
   "execution_count": 239,
   "metadata": {},
   "outputs": [],
   "source": [
    "DTC_Tuned = cross_val_report('DTC_Tuned_1',DTC_GS.best_estimator_,X_train,y_train)"
   ]
  },
  {
   "cell_type": "code",
   "execution_count": 182,
   "metadata": {},
   "outputs": [],
   "source": [
    "cross_val_df = append_df(DTC_Tuned,cross_val_df)"
   ]
  },
  {
   "cell_type": "code",
   "execution_count": 183,
   "metadata": {},
   "outputs": [
    {
     "data": {
      "text/html": [
       "<div>\n",
       "<style scoped>\n",
       "    .dataframe tbody tr th:only-of-type {\n",
       "        vertical-align: middle;\n",
       "    }\n",
       "\n",
       "    .dataframe tbody tr th {\n",
       "        vertical-align: top;\n",
       "    }\n",
       "\n",
       "    .dataframe thead th {\n",
       "        text-align: right;\n",
       "    }\n",
       "</style>\n",
       "<table border=\"1\" class=\"dataframe\">\n",
       "  <thead>\n",
       "    <tr style=\"text-align: right;\">\n",
       "      <th></th>\n",
       "      <th>model_name</th>\n",
       "      <th>mean_accuracy</th>\n",
       "      <th>std_accuracy</th>\n",
       "      <th>mean_precision</th>\n",
       "      <th>std_precision</th>\n",
       "      <th>mean_recall</th>\n",
       "      <th>std_recall</th>\n",
       "      <th>mean_f1</th>\n",
       "      <th>std_f1</th>\n",
       "    </tr>\n",
       "  </thead>\n",
       "  <tbody>\n",
       "    <tr>\n",
       "      <th>0</th>\n",
       "      <td>Logistic_Regression_Grid</td>\n",
       "      <td>0.761813</td>\n",
       "      <td>0.010476</td>\n",
       "      <td>0.351270</td>\n",
       "      <td>0.012696</td>\n",
       "      <td>0.754579</td>\n",
       "      <td>0.027855</td>\n",
       "      <td>0.479190</td>\n",
       "      <td>0.014369</td>\n",
       "    </tr>\n",
       "    <tr>\n",
       "      <th>1</th>\n",
       "      <td>KNN_Tuned</td>\n",
       "      <td>0.894090</td>\n",
       "      <td>0.008459</td>\n",
       "      <td>0.788693</td>\n",
       "      <td>0.035826</td>\n",
       "      <td>0.368428</td>\n",
       "      <td>0.070499</td>\n",
       "      <td>0.498233</td>\n",
       "      <td>0.066698</td>\n",
       "    </tr>\n",
       "    <tr>\n",
       "      <th>2</th>\n",
       "      <td>DTC_Tuned_1</td>\n",
       "      <td>0.932102</td>\n",
       "      <td>0.009919</td>\n",
       "      <td>0.744311</td>\n",
       "      <td>0.039434</td>\n",
       "      <td>0.824442</td>\n",
       "      <td>0.047813</td>\n",
       "      <td>0.776484</td>\n",
       "      <td>0.033504</td>\n",
       "    </tr>\n",
       "  </tbody>\n",
       "</table>\n",
       "</div>"
      ],
      "text/plain": [
       "                 model_name  mean_accuracy  std_accuracy  mean_precision  \\\n",
       "0  Logistic_Regression_Grid       0.761813      0.010476        0.351270   \n",
       "1                 KNN_Tuned       0.894090      0.008459        0.788693   \n",
       "2               DTC_Tuned_1       0.932102      0.009919        0.744311   \n",
       "\n",
       "   std_precision  mean_recall  std_recall   mean_f1    std_f1  \n",
       "0       0.012696     0.754579    0.027855  0.479190  0.014369  \n",
       "1       0.035826     0.368428    0.070499  0.498233  0.066698  \n",
       "2       0.039434     0.824442    0.047813  0.776484  0.033504  "
      ]
     },
     "metadata": {},
     "output_type": "display_data"
    }
   ],
   "source": [
    "display(cross_val_df)"
   ]
  },
  {
   "cell_type": "markdown",
   "metadata": {},
   "source": [
    "Given the promising scores on this model, I think it's fair to try to fine tune the parameters on this model."
   ]
  },
  {
   "cell_type": "code",
   "execution_count": 229,
   "metadata": {},
   "outputs": [
    {
     "data": {
      "text/plain": [
       "<bound method Pipeline.get_params of SkippaPipeline(steps=[('scale_standard_0',\n",
       "                       SkippaStandardScaler(cols=<skippa.transformers.base.ColumnSelector object at 0x7fd58cc4d730>,\n",
       "                                            copy=True, with_mean=True,\n",
       "                                            with_std=True)),\n",
       "                      ('onehot_1',\n",
       "                       SkippaOneHotEncoder(categories='auto',\n",
       "                                           cols=<skippa.transformers.base.ColumnSelector object at 0x7fd58cc4d580>,\n",
       "                                           drop=None,\n",
       "                                           dtype=<class 'numpy.float64'>,\n",
       "                                           handle_unknown='error',\n",
       "                                           sparse=False)),\n",
       "                      ('model_2',\n",
       "                       DecisionTreeClassifier(ccp_alpha=0,\n",
       "                                              class_weight='balanced',\n",
       "                                              max_depth=5,\n",
       "                                              min_samples_leaf=3))])>"
      ]
     },
     "execution_count": 229,
     "metadata": {},
     "output_type": "execute_result"
    }
   ],
   "source": [
    "DTC_GS.best_estimator_.get_params"
   ]
  },
  {
   "cell_type": "code",
   "execution_count": 257,
   "metadata": {},
   "outputs": [
    {
     "data": {
      "text/plain": [
       "15"
      ]
     },
     "execution_count": 257,
     "metadata": {},
     "output_type": "execute_result"
    }
   ],
   "source": []
  },
  {
   "cell_type": "code",
   "execution_count": 258,
   "metadata": {},
   "outputs": [],
   "source": [
    "DTC_Params_2={'model_2__class_weight': ['balanced'],\n",
    " 'model_2__criterion': ['entropy'],\n",
    " 'model_2__max_depth': [4,5,6],\n",
    " 'model_2__min_samples_leaf': [3,4,5],\n",
    " 'model_2__min_samples_split': [2,3,4],\n",
    "'model_2__max_features':[None,3,5,10,15]}"
   ]
  },
  {
   "cell_type": "code",
   "execution_count": 260,
   "metadata": {},
   "outputs": [
    {
     "data": {
      "text/plain": [
       "GridSearchCV(cv=5,\n",
       "             estimator=SkippaPipeline(steps=[('scale_standard_0',\n",
       "                                              SkippaStandardScaler(cols=<skippa.transformers.base.ColumnSelector object at 0x7fd5a6c8dbe0>,\n",
       "                                                                   copy=True,\n",
       "                                                                   with_mean=True,\n",
       "                                                                   with_std=True)),\n",
       "                                             ('onehot_1',\n",
       "                                              SkippaOneHotEncoder(categories='auto',\n",
       "                                                                  cols=<skippa.transformers.base.ColumnSelector object at 0x7fd5a698ad00>,\n",
       "                                                                  drop=None,\n",
       "                                                                  dtype=<class 'numpy.f...\n",
       "                                                                  handle_unknown='error',\n",
       "                                                                  sparse=False)),\n",
       "                                             ('model_2',\n",
       "                                              DecisionTreeClassifier(class_weight='balanced'))]),\n",
       "             param_grid={'model_2__class_weight': ['balanced'],\n",
       "                         'model_2__criterion': ['entropy'],\n",
       "                         'model_2__max_depth': [4, 5, 6],\n",
       "                         'model_2__max_features': [None, 3, 5, 10, 15],\n",
       "                         'model_2__min_samples_leaf': [3, 4, 5],\n",
       "                         'model_2__min_samples_split': [2, 3, 4]},\n",
       "             scoring=make_scorer(fbeta_score, beta=2))"
      ]
     },
     "execution_count": 260,
     "metadata": {},
     "output_type": "execute_result"
    }
   ],
   "source": [
    "DTC_GS_2 = GridSearchCV(estimator=DT_Base_Pipeline,cv=5,param_grid=DTC_Params_2,scoring=two_scorer,refit=True)\n",
    "DTC_GS_2.fit(X_train,y_train)"
   ]
  },
  {
   "cell_type": "code",
   "execution_count": 255,
   "metadata": {},
   "outputs": [
    {
     "data": {
      "text/plain": [
       "{'model_2__ccp_alpha': 0,\n",
       " 'model_2__class_weight': 'balanced',\n",
       " 'model_2__criterion': 'entropy',\n",
       " 'model_2__max_depth': 6,\n",
       " 'model_2__min_samples_leaf': 4,\n",
       " 'model_2__min_samples_split': 4}"
      ]
     },
     "execution_count": 255,
     "metadata": {},
     "output_type": "execute_result"
    }
   ],
   "source": [
    "DTC_GS_2.best_params_"
   ]
  },
  {
   "cell_type": "code",
   "execution_count": 274,
   "metadata": {},
   "outputs": [
    {
     "data": {
      "text/html": [
       "<div>\n",
       "<style scoped>\n",
       "    .dataframe tbody tr th:only-of-type {\n",
       "        vertical-align: middle;\n",
       "    }\n",
       "\n",
       "    .dataframe tbody tr th {\n",
       "        vertical-align: top;\n",
       "    }\n",
       "\n",
       "    .dataframe thead th {\n",
       "        text-align: right;\n",
       "    }\n",
       "</style>\n",
       "<table border=\"1\" class=\"dataframe\">\n",
       "  <thead>\n",
       "    <tr style=\"text-align: right;\">\n",
       "      <th></th>\n",
       "      <th>model_name</th>\n",
       "      <th>mean_accuracy</th>\n",
       "      <th>std_accuracy</th>\n",
       "      <th>mean_precision</th>\n",
       "      <th>std_precision</th>\n",
       "      <th>mean_recall</th>\n",
       "      <th>std_recall</th>\n",
       "      <th>mean_f1</th>\n",
       "      <th>std_f1</th>\n",
       "    </tr>\n",
       "  </thead>\n",
       "  <tbody>\n",
       "    <tr>\n",
       "      <th>0</th>\n",
       "      <td>Logistic_Regression_Grid</td>\n",
       "      <td>0.761813</td>\n",
       "      <td>0.010476</td>\n",
       "      <td>0.351270</td>\n",
       "      <td>0.012696</td>\n",
       "      <td>0.754579</td>\n",
       "      <td>0.027855</td>\n",
       "      <td>0.479190</td>\n",
       "      <td>0.014369</td>\n",
       "    </tr>\n",
       "    <tr>\n",
       "      <th>1</th>\n",
       "      <td>KNN_Tuned</td>\n",
       "      <td>0.894090</td>\n",
       "      <td>0.008459</td>\n",
       "      <td>0.788693</td>\n",
       "      <td>0.035826</td>\n",
       "      <td>0.368428</td>\n",
       "      <td>0.070499</td>\n",
       "      <td>0.498233</td>\n",
       "      <td>0.066698</td>\n",
       "    </tr>\n",
       "    <tr>\n",
       "      <th>2</th>\n",
       "      <td>DTC_Tuned_1</td>\n",
       "      <td>0.932102</td>\n",
       "      <td>0.009919</td>\n",
       "      <td>0.744311</td>\n",
       "      <td>0.039434</td>\n",
       "      <td>0.824442</td>\n",
       "      <td>0.047813</td>\n",
       "      <td>0.776484</td>\n",
       "      <td>0.033504</td>\n",
       "    </tr>\n",
       "  </tbody>\n",
       "</table>\n",
       "</div>"
      ],
      "text/plain": [
       "                 model_name  mean_accuracy  std_accuracy  mean_precision  \\\n",
       "0  Logistic_Regression_Grid       0.761813      0.010476        0.351270   \n",
       "1                 KNN_Tuned       0.894090      0.008459        0.788693   \n",
       "2               DTC_Tuned_1       0.932102      0.009919        0.744311   \n",
       "\n",
       "   std_precision  mean_recall  std_recall   mean_f1    std_f1  \n",
       "0       0.012696     0.754579    0.027855  0.479190  0.014369  \n",
       "1       0.035826     0.368428    0.070499  0.498233  0.066698  \n",
       "2       0.039434     0.824442    0.047813  0.776484  0.033504  "
      ]
     },
     "execution_count": 274,
     "metadata": {},
     "output_type": "execute_result"
    }
   ],
   "source": [
    "cross_val_df"
   ]
  },
  {
   "cell_type": "code",
   "execution_count": 275,
   "metadata": {},
   "outputs": [],
   "source": [
    "cross_val_df=append_df(cross_val_report('DTC_Tuned_2',DTC_GS_2.best_estimator_,X_train,y_train),cross_val_df)"
   ]
  },
  {
   "cell_type": "code",
   "execution_count": 276,
   "metadata": {},
   "outputs": [
    {
     "data": {
      "text/html": [
       "<div>\n",
       "<style scoped>\n",
       "    .dataframe tbody tr th:only-of-type {\n",
       "        vertical-align: middle;\n",
       "    }\n",
       "\n",
       "    .dataframe tbody tr th {\n",
       "        vertical-align: top;\n",
       "    }\n",
       "\n",
       "    .dataframe thead th {\n",
       "        text-align: right;\n",
       "    }\n",
       "</style>\n",
       "<table border=\"1\" class=\"dataframe\">\n",
       "  <thead>\n",
       "    <tr style=\"text-align: right;\">\n",
       "      <th></th>\n",
       "      <th>model_name</th>\n",
       "      <th>mean_accuracy</th>\n",
       "      <th>std_accuracy</th>\n",
       "      <th>mean_precision</th>\n",
       "      <th>std_precision</th>\n",
       "      <th>mean_recall</th>\n",
       "      <th>std_recall</th>\n",
       "      <th>mean_f1</th>\n",
       "      <th>std_f1</th>\n",
       "    </tr>\n",
       "  </thead>\n",
       "  <tbody>\n",
       "    <tr>\n",
       "      <th>0</th>\n",
       "      <td>Logistic_Regression_Grid</td>\n",
       "      <td>0.761813</td>\n",
       "      <td>0.010476</td>\n",
       "      <td>0.351270</td>\n",
       "      <td>0.012696</td>\n",
       "      <td>0.754579</td>\n",
       "      <td>0.027855</td>\n",
       "      <td>0.479190</td>\n",
       "      <td>0.014369</td>\n",
       "    </tr>\n",
       "    <tr>\n",
       "      <th>1</th>\n",
       "      <td>KNN_Tuned</td>\n",
       "      <td>0.894090</td>\n",
       "      <td>0.008459</td>\n",
       "      <td>0.788693</td>\n",
       "      <td>0.035826</td>\n",
       "      <td>0.368428</td>\n",
       "      <td>0.070499</td>\n",
       "      <td>0.498233</td>\n",
       "      <td>0.066698</td>\n",
       "    </tr>\n",
       "    <tr>\n",
       "      <th>2</th>\n",
       "      <td>DTC_Tuned_1</td>\n",
       "      <td>0.932102</td>\n",
       "      <td>0.009919</td>\n",
       "      <td>0.744311</td>\n",
       "      <td>0.039434</td>\n",
       "      <td>0.824442</td>\n",
       "      <td>0.047813</td>\n",
       "      <td>0.776484</td>\n",
       "      <td>0.033504</td>\n",
       "    </tr>\n",
       "    <tr>\n",
       "      <th>3</th>\n",
       "      <td>DTC_Tuned_2</td>\n",
       "      <td>0.932111</td>\n",
       "      <td>0.010271</td>\n",
       "      <td>0.742428</td>\n",
       "      <td>0.012168</td>\n",
       "      <td>0.798568</td>\n",
       "      <td>0.040830</td>\n",
       "      <td>0.758572</td>\n",
       "      <td>0.028682</td>\n",
       "    </tr>\n",
       "  </tbody>\n",
       "</table>\n",
       "</div>"
      ],
      "text/plain": [
       "                 model_name  mean_accuracy  std_accuracy  mean_precision  \\\n",
       "0  Logistic_Regression_Grid       0.761813      0.010476        0.351270   \n",
       "1                 KNN_Tuned       0.894090      0.008459        0.788693   \n",
       "2               DTC_Tuned_1       0.932102      0.009919        0.744311   \n",
       "3               DTC_Tuned_2       0.932111      0.010271        0.742428   \n",
       "\n",
       "   std_precision  mean_recall  std_recall   mean_f1    std_f1  \n",
       "0       0.012696     0.754579    0.027855  0.479190  0.014369  \n",
       "1       0.035826     0.368428    0.070499  0.498233  0.066698  \n",
       "2       0.039434     0.824442    0.047813  0.776484  0.033504  \n",
       "3       0.012168     0.798568    0.040830  0.758572  0.028682  "
      ]
     },
     "execution_count": 276,
     "metadata": {},
     "output_type": "execute_result"
    }
   ],
   "source": [
    "cross_val_df"
   ]
  },
  {
   "cell_type": "markdown",
   "metadata": {},
   "source": [
    "Attempting to fine tune this decision tree hasn't helped the scores, let's also compare the cross_val score to the base model."
   ]
  },
  {
   "cell_type": "code",
   "execution_count": 307,
   "metadata": {},
   "outputs": [],
   "source": [
    "cross_val_df = append_df(cross_val_report('Base Decision Tree',DT_Base_Pipeline,X_train,y_train),cross_val_df)"
   ]
  },
  {
   "cell_type": "code",
   "execution_count": 281,
   "metadata": {},
   "outputs": [
    {
     "data": {
      "image/png": "[encoded data removed]",
      "text/plain": [
       "<Figure size 432x288 with 2 Axes>"
      ]
     },
     "metadata": {
      "needs_background": "light"
     },
     "output_type": "display_data"
    }
   ],
   "source": [
    "ConfusionMatrixDisplay.from_estimator(DTC_GS.best_estimator_,X_train,y_train);"
   ]
  },
  {
   "cell_type": "code",
   "execution_count": 286,
   "metadata": {},
   "outputs": [],
   "source": [
    "models_df=append_df(score_report('Tuned Decision Tree 1',DTC_GS.best_estimator_,X_train,y_train),models_df)"
   ]
  },
  {
   "cell_type": "code",
   "execution_count": 308,
   "metadata": {},
   "outputs": [
    {
     "data": {
      "text/html": [
       "<div>\n",
       "<style scoped>\n",
       "    .dataframe tbody tr th:only-of-type {\n",
       "        vertical-align: middle;\n",
       "    }\n",
       "\n",
       "    .dataframe tbody tr th {\n",
       "        vertical-align: top;\n",
       "    }\n",
       "\n",
       "    .dataframe thead th {\n",
       "        text-align: right;\n",
       "    }\n",
       "</style>\n",
       "<table border=\"1\" class=\"dataframe\">\n",
       "  <thead>\n",
       "    <tr style=\"text-align: right;\">\n",
       "      <th></th>\n",
       "      <th>model_name</th>\n",
       "      <th>accuracy</th>\n",
       "      <th>precision</th>\n",
       "      <th>recall</th>\n",
       "      <th>f1</th>\n",
       "    </tr>\n",
       "  </thead>\n",
       "  <tbody>\n",
       "    <tr>\n",
       "      <th>0</th>\n",
       "      <td>LogisticBaseline</td>\n",
       "      <td>0.863186</td>\n",
       "      <td>0.579882</td>\n",
       "      <td>0.202899</td>\n",
       "      <td>0.300613</td>\n",
       "    </tr>\n",
       "    <tr>\n",
       "      <th>1</th>\n",
       "      <td>LogisticTuned</td>\n",
       "      <td>0.767442</td>\n",
       "      <td>0.360479</td>\n",
       "      <td>0.777778</td>\n",
       "      <td>0.492635</td>\n",
       "    </tr>\n",
       "    <tr>\n",
       "      <th>2</th>\n",
       "      <td>KNN Base</td>\n",
       "      <td>0.921230</td>\n",
       "      <td>0.968254</td>\n",
       "      <td>0.472868</td>\n",
       "      <td>0.635417</td>\n",
       "    </tr>\n",
       "    <tr>\n",
       "      <th>3</th>\n",
       "      <td>KNN_Tuned</td>\n",
       "      <td>1.000000</td>\n",
       "      <td>1.000000</td>\n",
       "      <td>1.000000</td>\n",
       "      <td>1.000000</td>\n",
       "    </tr>\n",
       "    <tr>\n",
       "      <th>4</th>\n",
       "      <td>Base Decision Tree</td>\n",
       "      <td>1.000000</td>\n",
       "      <td>1.000000</td>\n",
       "      <td>1.000000</td>\n",
       "      <td>1.000000</td>\n",
       "    </tr>\n",
       "    <tr>\n",
       "      <th>5</th>\n",
       "      <td>Tuned Decision Tree 1</td>\n",
       "      <td>0.944861</td>\n",
       "      <td>0.772727</td>\n",
       "      <td>0.878553</td>\n",
       "      <td>0.822249</td>\n",
       "    </tr>\n",
       "    <tr>\n",
       "      <th>6</th>\n",
       "      <td>Base Bagged Tree</td>\n",
       "      <td>0.994374</td>\n",
       "      <td>1.000000</td>\n",
       "      <td>0.961240</td>\n",
       "      <td>0.980237</td>\n",
       "    </tr>\n",
       "  </tbody>\n",
       "</table>\n",
       "</div>"
      ],
      "text/plain": [
       "              model_name  accuracy  precision    recall        f1\n",
       "0       LogisticBaseline  0.863186   0.579882  0.202899  0.300613\n",
       "1          LogisticTuned  0.767442   0.360479  0.777778  0.492635\n",
       "2               KNN Base  0.921230   0.968254  0.472868  0.635417\n",
       "3              KNN_Tuned  1.000000   1.000000  1.000000  1.000000\n",
       "4     Base Decision Tree  1.000000   1.000000  1.000000  1.000000\n",
       "5  Tuned Decision Tree 1  0.944861   0.772727  0.878553  0.822249\n",
       "6       Base Bagged Tree  0.994374   1.000000  0.961240  0.980237"
      ]
     },
     "metadata": {},
     "output_type": "display_data"
    },
    {
     "data": {
      "text/html": [
       "<div>\n",
       "<style scoped>\n",
       "    .dataframe tbody tr th:only-of-type {\n",
       "        vertical-align: middle;\n",
       "    }\n",
       "\n",
       "    .dataframe tbody tr th {\n",
       "        vertical-align: top;\n",
       "    }\n",
       "\n",
       "    .dataframe thead th {\n",
       "        text-align: right;\n",
       "    }\n",
       "</style>\n",
       "<table border=\"1\" class=\"dataframe\">\n",
       "  <thead>\n",
       "    <tr style=\"text-align: right;\">\n",
       "      <th></th>\n",
       "      <th>model_name</th>\n",
       "      <th>mean_accuracy</th>\n",
       "      <th>std_accuracy</th>\n",
       "      <th>mean_precision</th>\n",
       "      <th>std_precision</th>\n",
       "      <th>mean_recall</th>\n",
       "      <th>std_recall</th>\n",
       "      <th>mean_f1</th>\n",
       "      <th>std_f1</th>\n",
       "    </tr>\n",
       "  </thead>\n",
       "  <tbody>\n",
       "    <tr>\n",
       "      <th>0</th>\n",
       "      <td>Logistic_Regression_Grid</td>\n",
       "      <td>0.761813</td>\n",
       "      <td>0.010476</td>\n",
       "      <td>0.351270</td>\n",
       "      <td>0.012696</td>\n",
       "      <td>0.754579</td>\n",
       "      <td>0.027855</td>\n",
       "      <td>0.479190</td>\n",
       "      <td>0.014369</td>\n",
       "    </tr>\n",
       "    <tr>\n",
       "      <th>1</th>\n",
       "      <td>KNN_Tuned</td>\n",
       "      <td>0.894090</td>\n",
       "      <td>0.008459</td>\n",
       "      <td>0.788693</td>\n",
       "      <td>0.035826</td>\n",
       "      <td>0.368428</td>\n",
       "      <td>0.070499</td>\n",
       "      <td>0.498233</td>\n",
       "      <td>0.066698</td>\n",
       "    </tr>\n",
       "    <tr>\n",
       "      <th>2</th>\n",
       "      <td>DTC_Tuned_1</td>\n",
       "      <td>0.932102</td>\n",
       "      <td>0.009919</td>\n",
       "      <td>0.744311</td>\n",
       "      <td>0.039434</td>\n",
       "      <td>0.824442</td>\n",
       "      <td>0.047813</td>\n",
       "      <td>0.776484</td>\n",
       "      <td>0.033504</td>\n",
       "    </tr>\n",
       "    <tr>\n",
       "      <th>3</th>\n",
       "      <td>DTC_Tuned_2</td>\n",
       "      <td>0.932111</td>\n",
       "      <td>0.010271</td>\n",
       "      <td>0.742428</td>\n",
       "      <td>0.012168</td>\n",
       "      <td>0.798568</td>\n",
       "      <td>0.040830</td>\n",
       "      <td>0.758572</td>\n",
       "      <td>0.028682</td>\n",
       "    </tr>\n",
       "    <tr>\n",
       "      <th>4</th>\n",
       "      <td>Base Decision Tree</td>\n",
       "      <td>0.923854</td>\n",
       "      <td>0.003033</td>\n",
       "      <td>0.736806</td>\n",
       "      <td>0.012163</td>\n",
       "      <td>0.759907</td>\n",
       "      <td>0.043945</td>\n",
       "      <td>0.745771</td>\n",
       "      <td>0.006835</td>\n",
       "    </tr>\n",
       "  </tbody>\n",
       "</table>\n",
       "</div>"
      ],
      "text/plain": [
       "                 model_name  mean_accuracy  std_accuracy  mean_precision  \\\n",
       "0  Logistic_Regression_Grid       0.761813      0.010476        0.351270   \n",
       "1                 KNN_Tuned       0.894090      0.008459        0.788693   \n",
       "2               DTC_Tuned_1       0.932102      0.009919        0.744311   \n",
       "3               DTC_Tuned_2       0.932111      0.010271        0.742428   \n",
       "4        Base Decision Tree       0.923854      0.003033        0.736806   \n",
       "\n",
       "   std_precision  mean_recall  std_recall   mean_f1    std_f1  \n",
       "0       0.012696     0.754579    0.027855  0.479190  0.014369  \n",
       "1       0.035826     0.368428    0.070499  0.498233  0.066698  \n",
       "2       0.039434     0.824442    0.047813  0.776484  0.033504  \n",
       "3       0.012168     0.798568    0.040830  0.758572  0.028682  \n",
       "4       0.012163     0.759907    0.043945  0.745771  0.006835  "
      ]
     },
     "metadata": {},
     "output_type": "display_data"
    }
   ],
   "source": [
    "display(models_df,cross_val_df)"
   ]
  },
  {
   "cell_type": "markdown",
   "metadata": {},
   "source": [
    "The tuned Decision Tree is overfitting on the train data, but by .05 percentage points on the recall, hopefully Bagged Trees and Random Forrest will improve further."
   ]
  },
  {
   "cell_type": "markdown",
   "metadata": {},
   "source": [
    "## Bagged Tree"
   ]
  },
  {
   "cell_type": "markdown",
   "metadata": {},
   "source": [
    "###  Baseline Bagged Tree"
   ]
  },
  {
   "cell_type": "code",
   "execution_count": 293,
   "metadata": {},
   "outputs": [],
   "source": [
    "#Baseline Bagged Tree\n",
    "Base_Bagged_Pipeline = (\n",
    "    Skippa()\n",
    "    .scale(columns(dtype_include='number'), type='standard')\n",
    "    .onehot(columns(dtype_exclude='number'))\n",
    "    .model(BaggingClassifier(DecisionTreeClassifier(class_weight='balanced'))))"
   ]
  },
  {
   "cell_type": "code",
   "execution_count": 294,
   "metadata": {},
   "outputs": [
    {
     "data": {
      "text/plain": [
       "SkippaPipeline(steps=[('scale_standard_0',\n",
       "                       SkippaStandardScaler(cols=<skippa.transformers.base.ColumnSelector object at 0x7fd5a5a1aa30>,\n",
       "                                            copy=True, with_mean=True,\n",
       "                                            with_std=True)),\n",
       "                      ('onehot_1',\n",
       "                       SkippaOneHotEncoder(categories='auto',\n",
       "                                           cols=<skippa.transformers.base.ColumnSelector object at 0x7fd5a5a1a610>,\n",
       "                                           drop=None,\n",
       "                                           dtype=<class 'numpy.float64'>,\n",
       "                                           handle_unknown='error',\n",
       "                                           sparse=False)),\n",
       "                      ('model_2',\n",
       "                       BaggingClassifier(base_estimator=DecisionTreeClassifier(class_weight='balanced')))])"
      ]
     },
     "execution_count": 294,
     "metadata": {},
     "output_type": "execute_result"
    }
   ],
   "source": [
    "Base_Bagged_Pipeline.fit(X_train,y_train)"
   ]
  },
  {
   "cell_type": "code",
   "execution_count": 296,
   "metadata": {},
   "outputs": [],
   "source": [
    "models_df = append_df(score_report('Base Bagged Tree',Base_Bagged_Pipeline,X_train,y_train),models_df)"
   ]
  },
  {
   "cell_type": "code",
   "execution_count": 314,
   "metadata": {},
   "outputs": [
    {
     "data": {
      "text/html": [
       "<div>\n",
       "<style scoped>\n",
       "    .dataframe tbody tr th:only-of-type {\n",
       "        vertical-align: middle;\n",
       "    }\n",
       "\n",
       "    .dataframe tbody tr th {\n",
       "        vertical-align: top;\n",
       "    }\n",
       "\n",
       "    .dataframe thead th {\n",
       "        text-align: right;\n",
       "    }\n",
       "</style>\n",
       "<table border=\"1\" class=\"dataframe\">\n",
       "  <thead>\n",
       "    <tr style=\"text-align: right;\">\n",
       "      <th></th>\n",
       "      <th>model_name</th>\n",
       "      <th>accuracy</th>\n",
       "      <th>precision</th>\n",
       "      <th>recall</th>\n",
       "      <th>f1</th>\n",
       "    </tr>\n",
       "  </thead>\n",
       "  <tbody>\n",
       "    <tr>\n",
       "      <th>0</th>\n",
       "      <td>LogisticBaseline</td>\n",
       "      <td>0.863186</td>\n",
       "      <td>0.579882</td>\n",
       "      <td>0.202899</td>\n",
       "      <td>0.300613</td>\n",
       "    </tr>\n",
       "    <tr>\n",
       "      <th>1</th>\n",
       "      <td>LogisticTuned</td>\n",
       "      <td>0.767442</td>\n",
       "      <td>0.360479</td>\n",
       "      <td>0.777778</td>\n",
       "      <td>0.492635</td>\n",
       "    </tr>\n",
       "    <tr>\n",
       "      <th>2</th>\n",
       "      <td>KNN Base</td>\n",
       "      <td>0.921230</td>\n",
       "      <td>0.968254</td>\n",
       "      <td>0.472868</td>\n",
       "      <td>0.635417</td>\n",
       "    </tr>\n",
       "    <tr>\n",
       "      <th>3</th>\n",
       "      <td>KNN_Tuned</td>\n",
       "      <td>1.000000</td>\n",
       "      <td>1.000000</td>\n",
       "      <td>1.000000</td>\n",
       "      <td>1.000000</td>\n",
       "    </tr>\n",
       "    <tr>\n",
       "      <th>4</th>\n",
       "      <td>Base Decision Tree</td>\n",
       "      <td>1.000000</td>\n",
       "      <td>1.000000</td>\n",
       "      <td>1.000000</td>\n",
       "      <td>1.000000</td>\n",
       "    </tr>\n",
       "    <tr>\n",
       "      <th>5</th>\n",
       "      <td>Tuned Decision Tree 1</td>\n",
       "      <td>0.944861</td>\n",
       "      <td>0.772727</td>\n",
       "      <td>0.878553</td>\n",
       "      <td>0.822249</td>\n",
       "    </tr>\n",
       "    <tr>\n",
       "      <th>6</th>\n",
       "      <td>Base Bagged Tree</td>\n",
       "      <td>0.994374</td>\n",
       "      <td>1.000000</td>\n",
       "      <td>0.961240</td>\n",
       "      <td>0.980237</td>\n",
       "    </tr>\n",
       "  </tbody>\n",
       "</table>\n",
       "</div>"
      ],
      "text/plain": [
       "              model_name  accuracy  precision    recall        f1\n",
       "0       LogisticBaseline  0.863186   0.579882  0.202899  0.300613\n",
       "1          LogisticTuned  0.767442   0.360479  0.777778  0.492635\n",
       "2               KNN Base  0.921230   0.968254  0.472868  0.635417\n",
       "3              KNN_Tuned  1.000000   1.000000  1.000000  1.000000\n",
       "4     Base Decision Tree  1.000000   1.000000  1.000000  1.000000\n",
       "5  Tuned Decision Tree 1  0.944861   0.772727  0.878553  0.822249\n",
       "6       Base Bagged Tree  0.994374   1.000000  0.961240  0.980237"
      ]
     },
     "execution_count": 314,
     "metadata": {},
     "output_type": "execute_result"
    }
   ],
   "source": [
    "models_df"
   ]
  },
  {
   "cell_type": "markdown",
   "metadata": {},
   "source": [
    "Once again the bagged tree shows very high scores a sure sign of overfitting! I hope to correct this during Tuning with GridSearch."
   ]
  },
  {
   "cell_type": "markdown",
   "metadata": {},
   "source": [
    "### Bagged Tree Grid Search"
   ]
  },
  {
   "cell_type": "code",
   "execution_count": 297,
   "metadata": {},
   "outputs": [],
   "source": [
    "Base_Bagged_Pipeline = (\n",
    "    Skippa()\n",
    "    .scale(columns(dtype_include='number'), type='standard')\n",
    "    .onehot(columns(dtype_exclude='number'))\n",
    "    .model(BaggingClassifier(base_estimator=DecisionTreeClassifier(class_weight='balanced'))\n",
    "          ))"
   ]
  },
  {
   "cell_type": "code",
   "execution_count": 298,
   "metadata": {},
   "outputs": [],
   "source": [
    "Bagged_Params_1={\n",
    "    'model_2__n_estimators':[40,60,80],\n",
    "    'model_2__max_samples':[.5,1.0,2],\n",
    "    'model_2__bootstrap':[True,False],\n",
    "    'model_2__bootstrap_features':[True,False]}"
   ]
  },
  {
   "cell_type": "code",
   "execution_count": 299,
   "metadata": {},
   "outputs": [
    {
     "data": {
      "text/plain": [
       "GridSearchCV(cv=5,\n",
       "             estimator=SkippaPipeline(steps=[('scale_standard_0',\n",
       "                                              SkippaStandardScaler(cols=<skippa.transformers.base.ColumnSelector object at 0x7fd5a5a98d60>,\n",
       "                                                                   copy=True,\n",
       "                                                                   with_mean=True,\n",
       "                                                                   with_std=True)),\n",
       "                                             ('onehot_1',\n",
       "                                              SkippaOneHotEncoder(categories='auto',\n",
       "                                                                  cols=<skippa.transformers.base.ColumnSelector object at 0x7fd5a5a98580>,\n",
       "                                                                  drop=None,\n",
       "                                                                  dtype=<class 'numpy.float64'>,\n",
       "                                                                  handle_unknown='error',\n",
       "                                                                  sparse=False)),\n",
       "                                             ('model_2',\n",
       "                                              BaggingClassifier(base_estimator=DecisionTreeClassifier(class_weight='balanced')))]),\n",
       "             param_grid={'model_2__bootstrap': [True, False],\n",
       "                         'model_2__bootstrap_features': [True, False],\n",
       "                         'model_2__max_samples': [0.5, 1.0, 2],\n",
       "                         'model_2__n_estimators': [40, 60, 80]},\n",
       "             scoring=make_scorer(fbeta_score, beta=2))"
      ]
     },
     "execution_count": 299,
     "metadata": {},
     "output_type": "execute_result"
    }
   ],
   "source": [
    "BT_GS_1 = GridSearchCV(estimator=Base_Bagged_Pipeline,cv=5,param_grid=Bagged_Params_1,scoring=two_scorer,refit=True)\n",
    "BT_GS_1.fit(X_train,y_train)"
   ]
  },
  {
   "cell_type": "code",
   "execution_count": 311,
   "metadata": {},
   "outputs": [],
   "source": [
    "cross_val_df=append_df(cross_val_report('Bagged Trees Search 1',BT_GS_1.best_estimator_,X_train,y_train),cross_val_df)"
   ]
  },
  {
   "cell_type": "code",
   "execution_count": 313,
   "metadata": {},
   "outputs": [
    {
     "data": {
      "text/html": [
       "<div>\n",
       "<style scoped>\n",
       "    .dataframe tbody tr th:only-of-type {\n",
       "        vertical-align: middle;\n",
       "    }\n",
       "\n",
       "    .dataframe tbody tr th {\n",
       "        vertical-align: top;\n",
       "    }\n",
       "\n",
       "    .dataframe thead th {\n",
       "        text-align: right;\n",
       "    }\n",
       "</style>\n",
       "<table border=\"1\" class=\"dataframe\">\n",
       "  <thead>\n",
       "    <tr style=\"text-align: right;\">\n",
       "      <th></th>\n",
       "      <th>model_name</th>\n",
       "      <th>mean_accuracy</th>\n",
       "      <th>std_accuracy</th>\n",
       "      <th>mean_precision</th>\n",
       "      <th>std_precision</th>\n",
       "      <th>mean_recall</th>\n",
       "      <th>std_recall</th>\n",
       "      <th>mean_f1</th>\n",
       "      <th>std_f1</th>\n",
       "    </tr>\n",
       "  </thead>\n",
       "  <tbody>\n",
       "    <tr>\n",
       "      <th>0</th>\n",
       "      <td>Logistic_Regression_Grid</td>\n",
       "      <td>0.761813</td>\n",
       "      <td>0.010476</td>\n",
       "      <td>0.351270</td>\n",
       "      <td>0.012696</td>\n",
       "      <td>0.754579</td>\n",
       "      <td>0.027855</td>\n",
       "      <td>0.479190</td>\n",
       "      <td>0.014369</td>\n",
       "    </tr>\n",
       "    <tr>\n",
       "      <th>1</th>\n",
       "      <td>KNN_Tuned</td>\n",
       "      <td>0.894090</td>\n",
       "      <td>0.008459</td>\n",
       "      <td>0.788693</td>\n",
       "      <td>0.035826</td>\n",
       "      <td>0.368428</td>\n",
       "      <td>0.070499</td>\n",
       "      <td>0.498233</td>\n",
       "      <td>0.066698</td>\n",
       "    </tr>\n",
       "    <tr>\n",
       "      <th>2</th>\n",
       "      <td>DTC_Tuned_1</td>\n",
       "      <td>0.932102</td>\n",
       "      <td>0.009919</td>\n",
       "      <td>0.744311</td>\n",
       "      <td>0.039434</td>\n",
       "      <td>0.824442</td>\n",
       "      <td>0.047813</td>\n",
       "      <td>0.776484</td>\n",
       "      <td>0.033504</td>\n",
       "    </tr>\n",
       "    <tr>\n",
       "      <th>3</th>\n",
       "      <td>DTC_Tuned_2</td>\n",
       "      <td>0.932111</td>\n",
       "      <td>0.010271</td>\n",
       "      <td>0.742428</td>\n",
       "      <td>0.012168</td>\n",
       "      <td>0.798568</td>\n",
       "      <td>0.040830</td>\n",
       "      <td>0.758572</td>\n",
       "      <td>0.028682</td>\n",
       "    </tr>\n",
       "    <tr>\n",
       "      <th>4</th>\n",
       "      <td>Base Decision Tree</td>\n",
       "      <td>0.923854</td>\n",
       "      <td>0.003033</td>\n",
       "      <td>0.736806</td>\n",
       "      <td>0.012163</td>\n",
       "      <td>0.759907</td>\n",
       "      <td>0.043945</td>\n",
       "      <td>0.745771</td>\n",
       "      <td>0.006835</td>\n",
       "    </tr>\n",
       "    <tr>\n",
       "      <th>5</th>\n",
       "      <td>Bagged Trees Search 1</td>\n",
       "      <td>0.958360</td>\n",
       "      <td>0.007383</td>\n",
       "      <td>0.949387</td>\n",
       "      <td>0.038444</td>\n",
       "      <td>0.757276</td>\n",
       "      <td>0.041563</td>\n",
       "      <td>0.847578</td>\n",
       "      <td>0.029793</td>\n",
       "    </tr>\n",
       "  </tbody>\n",
       "</table>\n",
       "</div>"
      ],
      "text/plain": [
       "                 model_name  mean_accuracy  std_accuracy  mean_precision  \\\n",
       "0  Logistic_Regression_Grid       0.761813      0.010476        0.351270   \n",
       "1                 KNN_Tuned       0.894090      0.008459        0.788693   \n",
       "2               DTC_Tuned_1       0.932102      0.009919        0.744311   \n",
       "3               DTC_Tuned_2       0.932111      0.010271        0.742428   \n",
       "4        Base Decision Tree       0.923854      0.003033        0.736806   \n",
       "5     Bagged Trees Search 1       0.958360      0.007383        0.949387   \n",
       "\n",
       "   std_precision  mean_recall  std_recall   mean_f1    std_f1  \n",
       "0       0.012696     0.754579    0.027855  0.479190  0.014369  \n",
       "1       0.035826     0.368428    0.070499  0.498233  0.066698  \n",
       "2       0.039434     0.824442    0.047813  0.776484  0.033504  \n",
       "3       0.012168     0.798568    0.040830  0.758572  0.028682  \n",
       "4       0.012163     0.759907    0.043945  0.745771  0.006835  \n",
       "5       0.038444     0.757276    0.041563  0.847578  0.029793  "
      ]
     },
     "execution_count": 313,
     "metadata": {},
     "output_type": "execute_result"
    }
   ],
   "source": [
    "cross_val_df"
   ]
  },
  {
   "cell_type": "code",
   "execution_count": 614,
   "metadata": {},
   "outputs": [],
   "source": [
    "models_df = append_df(score_report('Bagged Trees Search 1',BT_GS_1.best_estimator_,X_train,y_train),models_df)"
   ]
  },
  {
   "cell_type": "code",
   "execution_count": 615,
   "metadata": {
    "scrolled": true
   },
   "outputs": [
    {
     "data": {
      "text/html": [
       "<div>\n",
       "<style scoped>\n",
       "    .dataframe tbody tr th:only-of-type {\n",
       "        vertical-align: middle;\n",
       "    }\n",
       "\n",
       "    .dataframe tbody tr th {\n",
       "        vertical-align: top;\n",
       "    }\n",
       "\n",
       "    .dataframe thead th {\n",
       "        text-align: right;\n",
       "    }\n",
       "</style>\n",
       "<table border=\"1\" class=\"dataframe\">\n",
       "  <thead>\n",
       "    <tr style=\"text-align: right;\">\n",
       "      <th></th>\n",
       "      <th>model_name</th>\n",
       "      <th>accuracy</th>\n",
       "      <th>precision</th>\n",
       "      <th>recall</th>\n",
       "      <th>f1</th>\n",
       "    </tr>\n",
       "  </thead>\n",
       "  <tbody>\n",
       "    <tr>\n",
       "      <th>0</th>\n",
       "      <td>LogisticBaseline</td>\n",
       "      <td>0.863186</td>\n",
       "      <td>0.578947</td>\n",
       "      <td>0.204969</td>\n",
       "      <td>0.302752</td>\n",
       "    </tr>\n",
       "    <tr>\n",
       "      <th>1</th>\n",
       "      <td>LogisticTuned</td>\n",
       "      <td>0.770068</td>\n",
       "      <td>0.364508</td>\n",
       "      <td>0.785530</td>\n",
       "      <td>0.497952</td>\n",
       "    </tr>\n",
       "    <tr>\n",
       "      <th>2</th>\n",
       "      <td>KNN Base</td>\n",
       "      <td>0.912603</td>\n",
       "      <td>0.958333</td>\n",
       "      <td>0.416021</td>\n",
       "      <td>0.580180</td>\n",
       "    </tr>\n",
       "    <tr>\n",
       "      <th>3</th>\n",
       "      <td>Base Decision Tree</td>\n",
       "      <td>1.000000</td>\n",
       "      <td>1.000000</td>\n",
       "      <td>1.000000</td>\n",
       "      <td>1.000000</td>\n",
       "    </tr>\n",
       "    <tr>\n",
       "      <th>4</th>\n",
       "      <td>Bagged Trees Search 1</td>\n",
       "      <td>0.992498</td>\n",
       "      <td>1.000000</td>\n",
       "      <td>0.948320</td>\n",
       "      <td>0.973475</td>\n",
       "    </tr>\n",
       "  </tbody>\n",
       "</table>\n",
       "</div>"
      ],
      "text/plain": [
       "              model_name  accuracy  precision    recall        f1\n",
       "0       LogisticBaseline  0.863186   0.578947  0.204969  0.302752\n",
       "1          LogisticTuned  0.770068   0.364508  0.785530  0.497952\n",
       "2               KNN Base  0.912603   0.958333  0.416021  0.580180\n",
       "3     Base Decision Tree  1.000000   1.000000  1.000000  1.000000\n",
       "4  Bagged Trees Search 1  0.992498   1.000000  0.948320  0.973475"
      ]
     },
     "metadata": {},
     "output_type": "display_data"
    },
    {
     "data": {
      "text/html": [
       "<div>\n",
       "<style scoped>\n",
       "    .dataframe tbody tr th:only-of-type {\n",
       "        vertical-align: middle;\n",
       "    }\n",
       "\n",
       "    .dataframe tbody tr th {\n",
       "        vertical-align: top;\n",
       "    }\n",
       "\n",
       "    .dataframe thead th {\n",
       "        text-align: right;\n",
       "    }\n",
       "</style>\n",
       "<table border=\"1\" class=\"dataframe\">\n",
       "  <thead>\n",
       "    <tr style=\"text-align: right;\">\n",
       "      <th></th>\n",
       "      <th>model_name</th>\n",
       "      <th>mean_accuracy</th>\n",
       "      <th>std_accuracy</th>\n",
       "      <th>mean_precision</th>\n",
       "      <th>std_precision</th>\n",
       "      <th>mean_recall</th>\n",
       "      <th>std_recall</th>\n",
       "      <th>mean_f1</th>\n",
       "      <th>std_f1</th>\n",
       "    </tr>\n",
       "  </thead>\n",
       "  <tbody>\n",
       "    <tr>\n",
       "      <th>0</th>\n",
       "      <td>Logistic_Regression_Grid</td>\n",
       "      <td>0.765188</td>\n",
       "      <td>0.011769</td>\n",
       "      <td>0.355624</td>\n",
       "      <td>0.013837</td>\n",
       "      <td>0.757110</td>\n",
       "      <td>0.004776</td>\n",
       "      <td>0.483813</td>\n",
       "      <td>0.013571</td>\n",
       "    </tr>\n",
       "    <tr>\n",
       "      <th>1</th>\n",
       "      <td>KNN_Tuned</td>\n",
       "      <td>0.854487</td>\n",
       "      <td>0.006036</td>\n",
       "      <td>0.493851</td>\n",
       "      <td>0.030106</td>\n",
       "      <td>0.345704</td>\n",
       "      <td>0.066735</td>\n",
       "      <td>0.404528</td>\n",
       "      <td>0.056309</td>\n",
       "    </tr>\n",
       "    <tr>\n",
       "      <th>2</th>\n",
       "      <td>DTC_Tuned_1</td>\n",
       "      <td>0.922350</td>\n",
       "      <td>0.017485</td>\n",
       "      <td>0.712304</td>\n",
       "      <td>0.062350</td>\n",
       "      <td>0.790743</td>\n",
       "      <td>0.035662</td>\n",
       "      <td>0.748555</td>\n",
       "      <td>0.047632</td>\n",
       "    </tr>\n",
       "    <tr>\n",
       "      <th>3</th>\n",
       "      <td>DTC_Tuned_2</td>\n",
       "      <td>0.914468</td>\n",
       "      <td>0.021602</td>\n",
       "      <td>0.682005</td>\n",
       "      <td>0.080712</td>\n",
       "      <td>0.806294</td>\n",
       "      <td>0.033278</td>\n",
       "      <td>0.736116</td>\n",
       "      <td>0.050493</td>\n",
       "    </tr>\n",
       "    <tr>\n",
       "      <th>4</th>\n",
       "      <td>Bagged Trees Search 1</td>\n",
       "      <td>0.944108</td>\n",
       "      <td>0.010603</td>\n",
       "      <td>0.874363</td>\n",
       "      <td>0.039309</td>\n",
       "      <td>0.720813</td>\n",
       "      <td>0.034027</td>\n",
       "      <td>0.794476</td>\n",
       "      <td>0.034275</td>\n",
       "    </tr>\n",
       "  </tbody>\n",
       "</table>\n",
       "</div>"
      ],
      "text/plain": [
       "                 model_name  mean_accuracy  std_accuracy  mean_precision  \\\n",
       "0  Logistic_Regression_Grid       0.765188      0.011769        0.355624   \n",
       "1                 KNN_Tuned       0.854487      0.006036        0.493851   \n",
       "2               DTC_Tuned_1       0.922350      0.017485        0.712304   \n",
       "3               DTC_Tuned_2       0.914468      0.021602        0.682005   \n",
       "4     Bagged Trees Search 1       0.944108      0.010603        0.874363   \n",
       "\n",
       "   std_precision  mean_recall  std_recall   mean_f1    std_f1  \n",
       "0       0.013837     0.757110    0.004776  0.483813  0.013571  \n",
       "1       0.030106     0.345704    0.066735  0.404528  0.056309  \n",
       "2       0.062350     0.790743    0.035662  0.748555  0.047632  \n",
       "3       0.080712     0.806294    0.033278  0.736116  0.050493  \n",
       "4       0.039309     0.720813    0.034027  0.794476  0.034275  "
      ]
     },
     "metadata": {},
     "output_type": "display_data"
    }
   ],
   "source": [
    "display(models_df,cross_val_df)"
   ]
  },
  {
   "cell_type": "code",
   "execution_count": 331,
   "metadata": {},
   "outputs": [],
   "source": [
    "models_df=append_df(score_report('Bagged Grid Search',BT_GS_1.best_estimator_,X_train,y_train),models_df)"
   ]
  },
  {
   "cell_type": "markdown",
   "metadata": {},
   "source": [
    "## Random Forrest"
   ]
  },
  {
   "cell_type": "markdown",
   "metadata": {},
   "source": [
    "### Baseline Forrest"
   ]
  },
  {
   "cell_type": "code",
   "execution_count": 333,
   "metadata": {},
   "outputs": [],
   "source": [
    "Base_Random_Forrest = (\n",
    "    Skippa()\n",
    "    .scale(columns(dtype_include='number'), type='standard')\n",
    "    .onehot(columns(dtype_exclude='number'))\n",
    "    .model(RandomForestClassifier(class_weight='balanced'))\n",
    ")"
   ]
  },
  {
   "cell_type": "code",
   "execution_count": 334,
   "metadata": {},
   "outputs": [
    {
     "data": {
      "text/plain": [
       "SkippaPipeline(steps=[('scale_standard_0',\n",
       "                       SkippaStandardScaler(cols=<skippa.transformers.base.ColumnSelector object at 0x7fd58bfff0d0>,\n",
       "                                            copy=True, with_mean=True,\n",
       "                                            with_std=True)),\n",
       "                      ('onehot_1',\n",
       "                       SkippaOneHotEncoder(categories='auto',\n",
       "                                           cols=<skippa.transformers.base.ColumnSelector object at 0x7fd58bfff220>,\n",
       "                                           drop=None,\n",
       "                                           dtype=<class 'numpy.float64'>,\n",
       "                                           handle_unknown='error',\n",
       "                                           sparse=False)),\n",
       "                      ('model_2',\n",
       "                       RandomForestClassifier(class_weight='balanced'))])"
      ]
     },
     "execution_count": 334,
     "metadata": {},
     "output_type": "execute_result"
    }
   ],
   "source": [
    "Base_Random_Forrest.fit(X_train,y_train)"
   ]
  },
  {
   "cell_type": "code",
   "execution_count": 335,
   "metadata": {},
   "outputs": [],
   "source": [
    "models_df = append_df(score_report('Base_R_Forrest',Base_Random_Forrest,X_train,y_train),models_df)"
   ]
  },
  {
   "cell_type": "code",
   "execution_count": 336,
   "metadata": {},
   "outputs": [
    {
     "data": {
      "text/html": [
       "<div>\n",
       "<style scoped>\n",
       "    .dataframe tbody tr th:only-of-type {\n",
       "        vertical-align: middle;\n",
       "    }\n",
       "\n",
       "    .dataframe tbody tr th {\n",
       "        vertical-align: top;\n",
       "    }\n",
       "\n",
       "    .dataframe thead th {\n",
       "        text-align: right;\n",
       "    }\n",
       "</style>\n",
       "<table border=\"1\" class=\"dataframe\">\n",
       "  <thead>\n",
       "    <tr style=\"text-align: right;\">\n",
       "      <th></th>\n",
       "      <th>model_name</th>\n",
       "      <th>accuracy</th>\n",
       "      <th>precision</th>\n",
       "      <th>recall</th>\n",
       "      <th>f1</th>\n",
       "    </tr>\n",
       "  </thead>\n",
       "  <tbody>\n",
       "    <tr>\n",
       "      <th>0</th>\n",
       "      <td>LogisticBaseline</td>\n",
       "      <td>0.863186</td>\n",
       "      <td>0.579882</td>\n",
       "      <td>0.202899</td>\n",
       "      <td>0.300613</td>\n",
       "    </tr>\n",
       "    <tr>\n",
       "      <th>1</th>\n",
       "      <td>LogisticTuned</td>\n",
       "      <td>0.767442</td>\n",
       "      <td>0.360479</td>\n",
       "      <td>0.777778</td>\n",
       "      <td>0.492635</td>\n",
       "    </tr>\n",
       "    <tr>\n",
       "      <th>2</th>\n",
       "      <td>KNN Base</td>\n",
       "      <td>0.921230</td>\n",
       "      <td>0.968254</td>\n",
       "      <td>0.472868</td>\n",
       "      <td>0.635417</td>\n",
       "    </tr>\n",
       "    <tr>\n",
       "      <th>3</th>\n",
       "      <td>KNN_Tuned</td>\n",
       "      <td>1.000000</td>\n",
       "      <td>1.000000</td>\n",
       "      <td>1.000000</td>\n",
       "      <td>1.000000</td>\n",
       "    </tr>\n",
       "    <tr>\n",
       "      <th>4</th>\n",
       "      <td>Base Decision Tree</td>\n",
       "      <td>1.000000</td>\n",
       "      <td>1.000000</td>\n",
       "      <td>1.000000</td>\n",
       "      <td>1.000000</td>\n",
       "    </tr>\n",
       "    <tr>\n",
       "      <th>5</th>\n",
       "      <td>Tuned Decision Tree 1</td>\n",
       "      <td>0.944861</td>\n",
       "      <td>0.772727</td>\n",
       "      <td>0.878553</td>\n",
       "      <td>0.822249</td>\n",
       "    </tr>\n",
       "    <tr>\n",
       "      <th>6</th>\n",
       "      <td>Base Bagged Tree</td>\n",
       "      <td>0.994374</td>\n",
       "      <td>1.000000</td>\n",
       "      <td>0.961240</td>\n",
       "      <td>0.980237</td>\n",
       "    </tr>\n",
       "    <tr>\n",
       "      <th>7</th>\n",
       "      <td>Bagged Grid Search</td>\n",
       "      <td>0.999250</td>\n",
       "      <td>1.000000</td>\n",
       "      <td>0.994832</td>\n",
       "      <td>0.997409</td>\n",
       "    </tr>\n",
       "    <tr>\n",
       "      <th>8</th>\n",
       "      <td>Base_R_Forrest</td>\n",
       "      <td>1.000000</td>\n",
       "      <td>1.000000</td>\n",
       "      <td>1.000000</td>\n",
       "      <td>1.000000</td>\n",
       "    </tr>\n",
       "  </tbody>\n",
       "</table>\n",
       "</div>"
      ],
      "text/plain": [
       "              model_name  accuracy  precision    recall        f1\n",
       "0       LogisticBaseline  0.863186   0.579882  0.202899  0.300613\n",
       "1          LogisticTuned  0.767442   0.360479  0.777778  0.492635\n",
       "2               KNN Base  0.921230   0.968254  0.472868  0.635417\n",
       "3              KNN_Tuned  1.000000   1.000000  1.000000  1.000000\n",
       "4     Base Decision Tree  1.000000   1.000000  1.000000  1.000000\n",
       "5  Tuned Decision Tree 1  0.944861   0.772727  0.878553  0.822249\n",
       "6       Base Bagged Tree  0.994374   1.000000  0.961240  0.980237\n",
       "7     Bagged Grid Search  0.999250   1.000000  0.994832  0.997409\n",
       "8         Base_R_Forrest  1.000000   1.000000  1.000000  1.000000"
      ]
     },
     "execution_count": 336,
     "metadata": {},
     "output_type": "execute_result"
    }
   ],
   "source": [
    "models_df"
   ]
  },
  {
   "cell_type": "markdown",
   "metadata": {},
   "source": [
    "Once again the Random Forrest is overfitting and needs to be tuned and pruned! Let's see what we can do!"
   ]
  },
  {
   "cell_type": "markdown",
   "metadata": {},
   "source": [
    "### Tuned Random Forrest"
   ]
  },
  {
   "cell_type": "code",
   "execution_count": 342,
   "metadata": {},
   "outputs": [],
   "source": [
    "rf_param_grid_1 = {\n",
    "    'model_2__n_estimators': [50,100],\n",
    "    'model_2__criterion': ['gini', 'entropy'],\n",
    "    'model_2__max_depth': [None, 2, 6, 10],\n",
    "    'model_2__min_samples_split': [5, 10],\n",
    "    'model_2__min_samples_leaf': [5,10,30,50]\n",
    "}"
   ]
  },
  {
   "cell_type": "code",
   "execution_count": 345,
   "metadata": {},
   "outputs": [
    {
     "data": {
      "text/plain": [
       "GridSearchCV(cv=5,\n",
       "             estimator=SkippaPipeline(steps=[('scale_standard_0',\n",
       "                                              SkippaStandardScaler(cols=<skippa.transformers.base.ColumnSelector object at 0x7fd58bfff0d0>,\n",
       "                                                                   copy=True,\n",
       "                                                                   with_mean=True,\n",
       "                                                                   with_std=True)),\n",
       "                                             ('onehot_1',\n",
       "                                              SkippaOneHotEncoder(categories='auto',\n",
       "                                                                  cols=<skippa.transformers.base.ColumnSelector object at 0x7fd58bfff220>,\n",
       "                                                                  drop=None,\n",
       "                                                                  dtype=<class 'numpy.float64'>,\n",
       "                                                                  handle_unknown='error',\n",
       "                                                                  sparse=False)),\n",
       "                                             ('model_2',\n",
       "                                              RandomForestClassifier(class_weight='balanced'))]),\n",
       "             param_grid={'model_2__criterion': ['gini', 'entropy'],\n",
       "                         'model_2__max_depth': [None, 2, 6, 10],\n",
       "                         'model_2__min_samples_leaf': [5, 10, 30, 50],\n",
       "                         'model_2__min_samples_split': [5, 10],\n",
       "                         'model_2__n_estimators': [50, 100]},\n",
       "             scoring=make_scorer(fbeta_score, beta=2))"
      ]
     },
     "execution_count": 345,
     "metadata": {},
     "output_type": "execute_result"
    }
   ],
   "source": [
    "RF_GS_1= GridSearchCV(estimator=Base_Random_Forrest,cv=5,param_grid=rf_param_grid_1,scoring=two_scorer,refit=True)\n",
    "RF_GS_1.fit(X_train, y_train)"
   ]
  },
  {
   "cell_type": "code",
   "execution_count": 347,
   "metadata": {},
   "outputs": [],
   "source": [
    "cross_val_df = append_df(cross_val_report('Random_Forrest_GS_1',RF_GS_1.best_estimator_,X_train,y_train),cross_val_df)"
   ]
  },
  {
   "cell_type": "code",
   "execution_count": 356,
   "metadata": {},
   "outputs": [
    {
     "data": {
      "text/html": [
       "<div>\n",
       "<style scoped>\n",
       "    .dataframe tbody tr th:only-of-type {\n",
       "        vertical-align: middle;\n",
       "    }\n",
       "\n",
       "    .dataframe tbody tr th {\n",
       "        vertical-align: top;\n",
       "    }\n",
       "\n",
       "    .dataframe thead th {\n",
       "        text-align: right;\n",
       "    }\n",
       "</style>\n",
       "<table border=\"1\" class=\"dataframe\">\n",
       "  <thead>\n",
       "    <tr style=\"text-align: right;\">\n",
       "      <th></th>\n",
       "      <th>model_name</th>\n",
       "      <th>mean_accuracy</th>\n",
       "      <th>std_accuracy</th>\n",
       "      <th>mean_precision</th>\n",
       "      <th>std_precision</th>\n",
       "      <th>mean_recall</th>\n",
       "      <th>std_recall</th>\n",
       "      <th>mean_f1</th>\n",
       "      <th>std_f1</th>\n",
       "    </tr>\n",
       "  </thead>\n",
       "  <tbody>\n",
       "    <tr>\n",
       "      <th>6</th>\n",
       "      <td>Random_Forrest_GS_1</td>\n",
       "      <td>0.956861</td>\n",
       "      <td>0.005754</td>\n",
       "      <td>0.910951</td>\n",
       "      <td>0.043082</td>\n",
       "      <td>0.808858</td>\n",
       "      <td>0.047762</td>\n",
       "      <td>0.846273</td>\n",
       "      <td>0.032727</td>\n",
       "    </tr>\n",
       "  </tbody>\n",
       "</table>\n",
       "</div>"
      ],
      "text/plain": [
       "            model_name  mean_accuracy  std_accuracy  mean_precision  \\\n",
       "6  Random_Forrest_GS_1       0.956861      0.005754        0.910951   \n",
       "\n",
       "   std_precision  mean_recall  std_recall   mean_f1    std_f1  \n",
       "6       0.043082     0.808858    0.047762  0.846273  0.032727  "
      ]
     },
     "execution_count": 356,
     "metadata": {},
     "output_type": "execute_result"
    }
   ],
   "source": [
    "cross_val_df[cross_val_df['model_name']=='Random_Forrest_GS_1']"
   ]
  },
  {
   "cell_type": "code",
   "execution_count": 361,
   "metadata": {},
   "outputs": [
    {
     "data": {
      "text/plain": [
       "<bound method Pipeline.get_params of SkippaPipeline(steps=[('scale_standard_0',\n",
       "                       SkippaStandardScaler(cols=<skippa.transformers.base.ColumnSelector object at 0x7fd58bfa9820>,\n",
       "                                            copy=True, with_mean=True,\n",
       "                                            with_std=True)),\n",
       "                      ('onehot_1',\n",
       "                       SkippaOneHotEncoder(categories='auto',\n",
       "                                           cols=<skippa.transformers.base.ColumnSelector object at 0x7fd58bfa9670>,\n",
       "                                           drop=None,\n",
       "                                           dtype=<class 'numpy.float64'>,\n",
       "                                           handle_unknown='error',\n",
       "                                           sparse=False)),\n",
       "                      ('model_2',\n",
       "                       RandomForestClassifier(class_weight='balanced',\n",
       "                                              criterion='entropy',\n",
       "                                              min_samples_leaf=5,\n",
       "                                              min_samples_split=10,\n",
       "                                              n_estimators=50))])>"
      ]
     },
     "execution_count": 361,
     "metadata": {},
     "output_type": "execute_result"
    }
   ],
   "source": [
    "RF_GS_1.best_estimator_.get_params"
   ]
  },
  {
   "cell_type": "code",
   "execution_count": 372,
   "metadata": {},
   "outputs": [],
   "source": [
    "rf_param_grid_2 = {\n",
    "    'model_2__n_estimators': [50,70,80],\n",
    "    'model_2__criterion': ['gini', 'entropy'],\n",
    "    'model_2__max_depth': [None,10,15,20],\n",
    "    'model_2__min_samples_split': [10,20,30],\n",
    "    'model_2__min_samples_leaf': [4,5,60,70],\n",
    "}"
   ]
  },
  {
   "cell_type": "code",
   "execution_count": 373,
   "metadata": {},
   "outputs": [
    {
     "data": {
      "text/plain": [
       "GridSearchCV(cv=5,\n",
       "             estimator=SkippaPipeline(steps=[('scale_standard_0',\n",
       "                                              SkippaStandardScaler(cols=<skippa.transformers.base.ColumnSelector object at 0x7fd58bfff0d0>,\n",
       "                                                                   copy=True,\n",
       "                                                                   with_mean=True,\n",
       "                                                                   with_std=True)),\n",
       "                                             ('onehot_1',\n",
       "                                              SkippaOneHotEncoder(categories='auto',\n",
       "                                                                  cols=<skippa.transformers.base.ColumnSelector object at 0x7fd58bfff220>,\n",
       "                                                                  drop=None,\n",
       "                                                                  dtype=<class 'numpy.f...64'>,\n",
       "                                                                  handle_unknown='error',\n",
       "                                                                  sparse=False)),\n",
       "                                             ('model_2',\n",
       "                                              RandomForestClassifier(class_weight='balanced'))]),\n",
       "             param_grid={'model_2__criterion': ['gini', 'entropy'],\n",
       "                         'model_2__max_depth': [None, 10, 15, 20],\n",
       "                         'model_2__min_samples_leaf': [4, 5, 60, 70],\n",
       "                         'model_2__min_samples_split': [10, 20, 30],\n",
       "                         'model_2__n_estimators': [50, 70, 80]},\n",
       "             scoring=make_scorer(fbeta_score, beta=2))"
      ]
     },
     "execution_count": 373,
     "metadata": {},
     "output_type": "execute_result"
    }
   ],
   "source": [
    "RF_GS_2= GridSearchCV(estimator=Base_Random_Forrest,cv=5,param_grid=rf_param_grid_2,scoring=two_scorer,refit=True)\n",
    "RF_GS_2.fit(X_train, y_train)"
   ]
  },
  {
   "cell_type": "code",
   "execution_count": 375,
   "metadata": {},
   "outputs": [
    {
     "data": {
      "text/html": [
       "<div>\n",
       "<style scoped>\n",
       "    .dataframe tbody tr th:only-of-type {\n",
       "        vertical-align: middle;\n",
       "    }\n",
       "\n",
       "    .dataframe tbody tr th {\n",
       "        vertical-align: top;\n",
       "    }\n",
       "\n",
       "    .dataframe thead th {\n",
       "        text-align: right;\n",
       "    }\n",
       "</style>\n",
       "<table border=\"1\" class=\"dataframe\">\n",
       "  <thead>\n",
       "    <tr style=\"text-align: right;\">\n",
       "      <th></th>\n",
       "      <th>model_name</th>\n",
       "      <th>mean_accuracy</th>\n",
       "      <th>std_accuracy</th>\n",
       "      <th>mean_precision</th>\n",
       "      <th>std_precision</th>\n",
       "      <th>mean_recall</th>\n",
       "      <th>std_recall</th>\n",
       "      <th>mean_f1</th>\n",
       "      <th>std_f1</th>\n",
       "    </tr>\n",
       "  </thead>\n",
       "  <tbody>\n",
       "    <tr>\n",
       "      <th>0</th>\n",
       "      <td>Logistic_Regression_Grid</td>\n",
       "      <td>0.761813</td>\n",
       "      <td>0.010476</td>\n",
       "      <td>0.351270</td>\n",
       "      <td>0.012696</td>\n",
       "      <td>0.754579</td>\n",
       "      <td>0.027855</td>\n",
       "      <td>0.479190</td>\n",
       "      <td>0.014369</td>\n",
       "    </tr>\n",
       "    <tr>\n",
       "      <th>1</th>\n",
       "      <td>KNN_Tuned</td>\n",
       "      <td>0.894090</td>\n",
       "      <td>0.008459</td>\n",
       "      <td>0.788693</td>\n",
       "      <td>0.035826</td>\n",
       "      <td>0.368428</td>\n",
       "      <td>0.070499</td>\n",
       "      <td>0.498233</td>\n",
       "      <td>0.066698</td>\n",
       "    </tr>\n",
       "    <tr>\n",
       "      <th>2</th>\n",
       "      <td>DTC_Tuned_1</td>\n",
       "      <td>0.932102</td>\n",
       "      <td>0.009919</td>\n",
       "      <td>0.744311</td>\n",
       "      <td>0.039434</td>\n",
       "      <td>0.824442</td>\n",
       "      <td>0.047813</td>\n",
       "      <td>0.776484</td>\n",
       "      <td>0.033504</td>\n",
       "    </tr>\n",
       "    <tr>\n",
       "      <th>3</th>\n",
       "      <td>DTC_Tuned_2</td>\n",
       "      <td>0.932111</td>\n",
       "      <td>0.010271</td>\n",
       "      <td>0.742428</td>\n",
       "      <td>0.012168</td>\n",
       "      <td>0.798568</td>\n",
       "      <td>0.040830</td>\n",
       "      <td>0.758572</td>\n",
       "      <td>0.028682</td>\n",
       "    </tr>\n",
       "    <tr>\n",
       "      <th>4</th>\n",
       "      <td>Base Decision Tree</td>\n",
       "      <td>0.923854</td>\n",
       "      <td>0.003033</td>\n",
       "      <td>0.736806</td>\n",
       "      <td>0.012163</td>\n",
       "      <td>0.759907</td>\n",
       "      <td>0.043945</td>\n",
       "      <td>0.745771</td>\n",
       "      <td>0.006835</td>\n",
       "    </tr>\n",
       "    <tr>\n",
       "      <th>5</th>\n",
       "      <td>Bagged Trees Search 1</td>\n",
       "      <td>0.958360</td>\n",
       "      <td>0.007383</td>\n",
       "      <td>0.949387</td>\n",
       "      <td>0.038444</td>\n",
       "      <td>0.757276</td>\n",
       "      <td>0.041563</td>\n",
       "      <td>0.847578</td>\n",
       "      <td>0.029793</td>\n",
       "    </tr>\n",
       "    <tr>\n",
       "      <th>6</th>\n",
       "      <td>Random_Forrest_GS_1</td>\n",
       "      <td>0.956861</td>\n",
       "      <td>0.005754</td>\n",
       "      <td>0.910951</td>\n",
       "      <td>0.043082</td>\n",
       "      <td>0.808858</td>\n",
       "      <td>0.047762</td>\n",
       "      <td>0.846273</td>\n",
       "      <td>0.032727</td>\n",
       "    </tr>\n",
       "  </tbody>\n",
       "</table>\n",
       "</div>"
      ],
      "text/plain": [
       "                 model_name  mean_accuracy  std_accuracy  mean_precision  \\\n",
       "0  Logistic_Regression_Grid       0.761813      0.010476        0.351270   \n",
       "1                 KNN_Tuned       0.894090      0.008459        0.788693   \n",
       "2               DTC_Tuned_1       0.932102      0.009919        0.744311   \n",
       "3               DTC_Tuned_2       0.932111      0.010271        0.742428   \n",
       "4        Base Decision Tree       0.923854      0.003033        0.736806   \n",
       "5     Bagged Trees Search 1       0.958360      0.007383        0.949387   \n",
       "6       Random_Forrest_GS_1       0.956861      0.005754        0.910951   \n",
       "\n",
       "   std_precision  mean_recall  std_recall   mean_f1    std_f1  \n",
       "0       0.012696     0.754579    0.027855  0.479190  0.014369  \n",
       "1       0.035826     0.368428    0.070499  0.498233  0.066698  \n",
       "2       0.039434     0.824442    0.047813  0.776484  0.033504  \n",
       "3       0.012168     0.798568    0.040830  0.758572  0.028682  \n",
       "4       0.012163     0.759907    0.043945  0.745771  0.006835  \n",
       "5       0.038444     0.757276    0.041563  0.847578  0.029793  \n",
       "6       0.043082     0.808858    0.047762  0.846273  0.032727  "
      ]
     },
     "execution_count": 375,
     "metadata": {},
     "output_type": "execute_result"
    }
   ],
   "source": []
  },
  {
   "cell_type": "code",
   "execution_count": 376,
   "metadata": {},
   "outputs": [],
   "source": [
    "cross_val_df = append_df(cross_val_report('Random_Forrest_GS_2',RF_GS_2.best_estimator_,X_train,y_train),cross_val_df)"
   ]
  },
  {
   "cell_type": "code",
   "execution_count": 377,
   "metadata": {},
   "outputs": [
    {
     "data": {
      "text/html": [
       "<div>\n",
       "<style scoped>\n",
       "    .dataframe tbody tr th:only-of-type {\n",
       "        vertical-align: middle;\n",
       "    }\n",
       "\n",
       "    .dataframe tbody tr th {\n",
       "        vertical-align: top;\n",
       "    }\n",
       "\n",
       "    .dataframe thead th {\n",
       "        text-align: right;\n",
       "    }\n",
       "</style>\n",
       "<table border=\"1\" class=\"dataframe\">\n",
       "  <thead>\n",
       "    <tr style=\"text-align: right;\">\n",
       "      <th></th>\n",
       "      <th>model_name</th>\n",
       "      <th>mean_accuracy</th>\n",
       "      <th>std_accuracy</th>\n",
       "      <th>mean_precision</th>\n",
       "      <th>std_precision</th>\n",
       "      <th>mean_recall</th>\n",
       "      <th>std_recall</th>\n",
       "      <th>mean_f1</th>\n",
       "      <th>std_f1</th>\n",
       "    </tr>\n",
       "  </thead>\n",
       "  <tbody>\n",
       "    <tr>\n",
       "      <th>0</th>\n",
       "      <td>Logistic_Regression_Grid</td>\n",
       "      <td>0.761813</td>\n",
       "      <td>0.010476</td>\n",
       "      <td>0.351270</td>\n",
       "      <td>0.012696</td>\n",
       "      <td>0.754579</td>\n",
       "      <td>0.027855</td>\n",
       "      <td>0.479190</td>\n",
       "      <td>0.014369</td>\n",
       "    </tr>\n",
       "    <tr>\n",
       "      <th>1</th>\n",
       "      <td>KNN_Tuned</td>\n",
       "      <td>0.894090</td>\n",
       "      <td>0.008459</td>\n",
       "      <td>0.788693</td>\n",
       "      <td>0.035826</td>\n",
       "      <td>0.368428</td>\n",
       "      <td>0.070499</td>\n",
       "      <td>0.498233</td>\n",
       "      <td>0.066698</td>\n",
       "    </tr>\n",
       "    <tr>\n",
       "      <th>2</th>\n",
       "      <td>DTC_Tuned_1</td>\n",
       "      <td>0.932102</td>\n",
       "      <td>0.009919</td>\n",
       "      <td>0.744311</td>\n",
       "      <td>0.039434</td>\n",
       "      <td>0.824442</td>\n",
       "      <td>0.047813</td>\n",
       "      <td>0.776484</td>\n",
       "      <td>0.033504</td>\n",
       "    </tr>\n",
       "    <tr>\n",
       "      <th>3</th>\n",
       "      <td>DTC_Tuned_2</td>\n",
       "      <td>0.932111</td>\n",
       "      <td>0.010271</td>\n",
       "      <td>0.742428</td>\n",
       "      <td>0.012168</td>\n",
       "      <td>0.798568</td>\n",
       "      <td>0.040830</td>\n",
       "      <td>0.758572</td>\n",
       "      <td>0.028682</td>\n",
       "    </tr>\n",
       "    <tr>\n",
       "      <th>4</th>\n",
       "      <td>Base Decision Tree</td>\n",
       "      <td>0.923854</td>\n",
       "      <td>0.003033</td>\n",
       "      <td>0.736806</td>\n",
       "      <td>0.012163</td>\n",
       "      <td>0.759907</td>\n",
       "      <td>0.043945</td>\n",
       "      <td>0.745771</td>\n",
       "      <td>0.006835</td>\n",
       "    </tr>\n",
       "    <tr>\n",
       "      <th>5</th>\n",
       "      <td>Bagged Trees Search 1</td>\n",
       "      <td>0.958360</td>\n",
       "      <td>0.007383</td>\n",
       "      <td>0.949387</td>\n",
       "      <td>0.038444</td>\n",
       "      <td>0.757276</td>\n",
       "      <td>0.041563</td>\n",
       "      <td>0.847578</td>\n",
       "      <td>0.029793</td>\n",
       "    </tr>\n",
       "    <tr>\n",
       "      <th>6</th>\n",
       "      <td>Random_Forrest_GS_1</td>\n",
       "      <td>0.956861</td>\n",
       "      <td>0.005754</td>\n",
       "      <td>0.910951</td>\n",
       "      <td>0.043082</td>\n",
       "      <td>0.808858</td>\n",
       "      <td>0.047762</td>\n",
       "      <td>0.846273</td>\n",
       "      <td>0.032727</td>\n",
       "    </tr>\n",
       "    <tr>\n",
       "      <th>7</th>\n",
       "      <td>Random_Forrest_GS_2</td>\n",
       "      <td>0.955734</td>\n",
       "      <td>0.010335</td>\n",
       "      <td>0.845523</td>\n",
       "      <td>0.039898</td>\n",
       "      <td>0.829637</td>\n",
       "      <td>0.041788</td>\n",
       "      <td>0.844857</td>\n",
       "      <td>0.028920</td>\n",
       "    </tr>\n",
       "  </tbody>\n",
       "</table>\n",
       "</div>"
      ],
      "text/plain": [
       "                 model_name  mean_accuracy  std_accuracy  mean_precision  \\\n",
       "0  Logistic_Regression_Grid       0.761813      0.010476        0.351270   \n",
       "1                 KNN_Tuned       0.894090      0.008459        0.788693   \n",
       "2               DTC_Tuned_1       0.932102      0.009919        0.744311   \n",
       "3               DTC_Tuned_2       0.932111      0.010271        0.742428   \n",
       "4        Base Decision Tree       0.923854      0.003033        0.736806   \n",
       "5     Bagged Trees Search 1       0.958360      0.007383        0.949387   \n",
       "6       Random_Forrest_GS_1       0.956861      0.005754        0.910951   \n",
       "7       Random_Forrest_GS_2       0.955734      0.010335        0.845523   \n",
       "\n",
       "   std_precision  mean_recall  std_recall   mean_f1    std_f1  \n",
       "0       0.012696     0.754579    0.027855  0.479190  0.014369  \n",
       "1       0.035826     0.368428    0.070499  0.498233  0.066698  \n",
       "2       0.039434     0.824442    0.047813  0.776484  0.033504  \n",
       "3       0.012168     0.798568    0.040830  0.758572  0.028682  \n",
       "4       0.012163     0.759907    0.043945  0.745771  0.006835  \n",
       "5       0.038444     0.757276    0.041563  0.847578  0.029793  \n",
       "6       0.043082     0.808858    0.047762  0.846273  0.032727  \n",
       "7       0.039898     0.829637    0.041788  0.844857  0.028920  "
      ]
     },
     "execution_count": 377,
     "metadata": {},
     "output_type": "execute_result"
    }
   ],
   "source": [
    "cross_val_df"
   ]
  },
  {
   "cell_type": "code",
   "execution_count": 380,
   "metadata": {},
   "outputs": [
    {
     "data": {
      "text/plain": [
       "{'model_2__criterion': 'entropy',\n",
       " 'model_2__max_depth': 10,\n",
       " 'model_2__min_samples_leaf': 4,\n",
       " 'model_2__min_samples_split': 20,\n",
       " 'model_2__n_estimators': 80}"
      ]
     },
     "execution_count": 380,
     "metadata": {},
     "output_type": "execute_result"
    }
   ],
   "source": [
    "RF_GS_2.best_params_"
   ]
  },
  {
   "cell_type": "code",
   "execution_count": 381,
   "metadata": {},
   "outputs": [
    {
     "data": {
      "text/html": [
       "<div>\n",
       "<style scoped>\n",
       "    .dataframe tbody tr th:only-of-type {\n",
       "        vertical-align: middle;\n",
       "    }\n",
       "\n",
       "    .dataframe tbody tr th {\n",
       "        vertical-align: top;\n",
       "    }\n",
       "\n",
       "    .dataframe thead th {\n",
       "        text-align: right;\n",
       "    }\n",
       "</style>\n",
       "<table border=\"1\" class=\"dataframe\">\n",
       "  <thead>\n",
       "    <tr style=\"text-align: right;\">\n",
       "      <th></th>\n",
       "      <th>model_name</th>\n",
       "      <th>accuracy</th>\n",
       "      <th>precision</th>\n",
       "      <th>recall</th>\n",
       "      <th>f1</th>\n",
       "    </tr>\n",
       "  </thead>\n",
       "  <tbody>\n",
       "    <tr>\n",
       "      <th>0</th>\n",
       "      <td>LogisticBaseline</td>\n",
       "      <td>0.863186</td>\n",
       "      <td>0.579882</td>\n",
       "      <td>0.202899</td>\n",
       "      <td>0.300613</td>\n",
       "    </tr>\n",
       "    <tr>\n",
       "      <th>1</th>\n",
       "      <td>LogisticTuned</td>\n",
       "      <td>0.767442</td>\n",
       "      <td>0.360479</td>\n",
       "      <td>0.777778</td>\n",
       "      <td>0.492635</td>\n",
       "    </tr>\n",
       "    <tr>\n",
       "      <th>2</th>\n",
       "      <td>KNN Base</td>\n",
       "      <td>0.921230</td>\n",
       "      <td>0.968254</td>\n",
       "      <td>0.472868</td>\n",
       "      <td>0.635417</td>\n",
       "    </tr>\n",
       "    <tr>\n",
       "      <th>3</th>\n",
       "      <td>KNN_Tuned</td>\n",
       "      <td>1.000000</td>\n",
       "      <td>1.000000</td>\n",
       "      <td>1.000000</td>\n",
       "      <td>1.000000</td>\n",
       "    </tr>\n",
       "    <tr>\n",
       "      <th>4</th>\n",
       "      <td>Base Decision Tree</td>\n",
       "      <td>1.000000</td>\n",
       "      <td>1.000000</td>\n",
       "      <td>1.000000</td>\n",
       "      <td>1.000000</td>\n",
       "    </tr>\n",
       "    <tr>\n",
       "      <th>5</th>\n",
       "      <td>Tuned Decision Tree 1</td>\n",
       "      <td>0.944861</td>\n",
       "      <td>0.772727</td>\n",
       "      <td>0.878553</td>\n",
       "      <td>0.822249</td>\n",
       "    </tr>\n",
       "    <tr>\n",
       "      <th>6</th>\n",
       "      <td>Base Bagged Tree</td>\n",
       "      <td>0.994374</td>\n",
       "      <td>1.000000</td>\n",
       "      <td>0.961240</td>\n",
       "      <td>0.980237</td>\n",
       "    </tr>\n",
       "    <tr>\n",
       "      <th>7</th>\n",
       "      <td>Bagged Grid Search</td>\n",
       "      <td>0.999250</td>\n",
       "      <td>1.000000</td>\n",
       "      <td>0.994832</td>\n",
       "      <td>0.997409</td>\n",
       "    </tr>\n",
       "    <tr>\n",
       "      <th>8</th>\n",
       "      <td>Base_R_Forrest</td>\n",
       "      <td>1.000000</td>\n",
       "      <td>1.000000</td>\n",
       "      <td>1.000000</td>\n",
       "      <td>1.000000</td>\n",
       "    </tr>\n",
       "    <tr>\n",
       "      <th>9</th>\n",
       "      <td>Random_Forrest_GS_2</td>\n",
       "      <td>0.971868</td>\n",
       "      <td>0.923913</td>\n",
       "      <td>0.878553</td>\n",
       "      <td>0.900662</td>\n",
       "    </tr>\n",
       "  </tbody>\n",
       "</table>\n",
       "</div>"
      ],
      "text/plain": [
       "              model_name  accuracy  precision    recall        f1\n",
       "0       LogisticBaseline  0.863186   0.579882  0.202899  0.300613\n",
       "1          LogisticTuned  0.767442   0.360479  0.777778  0.492635\n",
       "2               KNN Base  0.921230   0.968254  0.472868  0.635417\n",
       "3              KNN_Tuned  1.000000   1.000000  1.000000  1.000000\n",
       "4     Base Decision Tree  1.000000   1.000000  1.000000  1.000000\n",
       "5  Tuned Decision Tree 1  0.944861   0.772727  0.878553  0.822249\n",
       "6       Base Bagged Tree  0.994374   1.000000  0.961240  0.980237\n",
       "7     Bagged Grid Search  0.999250   1.000000  0.994832  0.997409\n",
       "8         Base_R_Forrest  1.000000   1.000000  1.000000  1.000000\n",
       "9    Random_Forrest_GS_2  0.971868   0.923913  0.878553  0.900662"
      ]
     },
     "execution_count": 381,
     "metadata": {},
     "output_type": "execute_result"
    }
   ],
   "source": [
    "models_df"
   ]
  },
  {
   "cell_type": "markdown",
   "metadata": {},
   "source": [
    "### Random Forrest Summary"
   ]
  },
  {
   "cell_type": "code",
   "execution_count": 382,
   "metadata": {},
   "outputs": [
    {
     "data": {
      "image/png": "[encoded data removed]",
      "text/plain": [
       "<Figure size 432x288 with 2 Axes>"
      ]
     },
     "metadata": {
      "needs_background": "light"
     },
     "output_type": "display_data"
    }
   ],
   "source": [
    "ConfusionMatrixDisplay.from_estimator(RF_GS_2.best_estimator_,X_train,y_train);"
   ]
  },
  {
   "cell_type": "markdown",
   "metadata": {},
   "source": [
    "The best tuned Random Forrest model shows improvement with overfitting, but is still overfitting somewhat given the scores on the train vs cross-val scoring. The confusion matrix does indeed look promising though."
   ]
  },
  {
   "cell_type": "markdown",
   "metadata": {},
   "source": [
    "## AdaBoost"
   ]
  },
  {
   "cell_type": "code",
   "execution_count": 409,
   "metadata": {},
   "outputs": [],
   "source": [
    "Base_Adaboost = (\n",
    "    Skippa()\n",
    "    .scale(columns(dtype_include='number'), type='standard')\n",
    "    .onehot(columns(dtype_exclude='number'))\n",
    "    .model(AdaBoostClassifier(base_estimator=DecisionTreeClassifier(class_weight='balanced')))\n",
    ")"
   ]
  },
  {
   "cell_type": "code",
   "execution_count": 384,
   "metadata": {},
   "outputs": [
    {
     "data": {
      "text/plain": [
       "SkippaPipeline(steps=[('scale_standard_0',\n",
       "                       SkippaStandardScaler(cols=<skippa.transformers.base.ColumnSelector object at 0x7fd58d304610>,\n",
       "                                            copy=True, with_mean=True,\n",
       "                                            with_std=True)),\n",
       "                      ('onehot_1',\n",
       "                       SkippaOneHotEncoder(categories='auto',\n",
       "                                           cols=<skippa.transformers.base.ColumnSelector object at 0x7fd58c72c490>,\n",
       "                                           drop=None,\n",
       "                                           dtype=<class 'numpy.float64'>,\n",
       "                                           handle_unknown='error',\n",
       "                                           sparse=False)),\n",
       "                      ('model_2',\n",
       "                       AdaBoostClassifier(base_estimator=DecisionTreeClassifier(class_weight='balanced')))])"
      ]
     },
     "execution_count": 384,
     "metadata": {},
     "output_type": "execute_result"
    }
   ],
   "source": [
    "Base_Adaboost.fit(X_train,y_train)"
   ]
  },
  {
   "cell_type": "code",
   "execution_count": 385,
   "metadata": {},
   "outputs": [
    {
     "data": {
      "text/plain": [
       "{'model_name': 'Base Adaboost',\n",
       " 'accuracy': 1.0,\n",
       " 'precision': 1.0,\n",
       " 'recall': 1.0,\n",
       " 'f1': 1.0}"
      ]
     },
     "execution_count": 385,
     "metadata": {},
     "output_type": "execute_result"
    }
   ],
   "source": [
    "score_report('Base Adaboost',Base_Adaboost,X_train,y_train)"
   ]
  },
  {
   "cell_type": "markdown",
   "metadata": {},
   "source": [
    "Unsurprisingly Adaboost, a powerful boosting algarithm is overfitting the training data."
   ]
  },
  {
   "cell_type": "code",
   "execution_count": 387,
   "metadata": {},
   "outputs": [],
   "source": [
    "Adaboost_Params={'model_2__n_estimators':[10, 50, 100, 500],\n",
    "'model_2__learning_rate':[0.1,.3,.5,1.0]} "
   ]
  },
  {
   "cell_type": "code",
   "execution_count": 388,
   "metadata": {},
   "outputs": [
    {
     "data": {
      "text/plain": [
       "GridSearchCV(cv=5,\n",
       "             estimator=SkippaPipeline(steps=[('scale_standard_0',\n",
       "                                              SkippaStandardScaler(cols=<skippa.transformers.base.ColumnSelector object at 0x7fd58d304610>,\n",
       "                                                                   copy=True,\n",
       "                                                                   with_mean=True,\n",
       "                                                                   with_std=True)),\n",
       "                                             ('onehot_1',\n",
       "                                              SkippaOneHotEncoder(categories='auto',\n",
       "                                                                  cols=<skippa.transformers.base.ColumnSelector object at 0x7fd58c72c490>,\n",
       "                                                                  drop=None,\n",
       "                                                                  dtype=<class 'numpy.float64'>,\n",
       "                                                                  handle_unknown='error',\n",
       "                                                                  sparse=False)),\n",
       "                                             ('model_2',\n",
       "                                              AdaBoostClassifier(base_estimator=DecisionTreeClassifier(class_weight='balanced')))]),\n",
       "             param_grid={'model_2__learning_rate': [0.1, 0.3, 0.5, 1.0],\n",
       "                         'model_2__n_estimators': [10, 50, 100, 500]},\n",
       "             scoring=make_scorer(fbeta_score, beta=2))"
      ]
     },
     "execution_count": 388,
     "metadata": {},
     "output_type": "execute_result"
    }
   ],
   "source": [
    "Ada_GS_1= GridSearchCV(estimator=Base_Adaboost,cv=5,param_grid=Adaboost_Params,scoring=two_scorer,refit=True)\n",
    "Ada_GS_1.fit(X_train, y_train)"
   ]
  },
  {
   "cell_type": "code",
   "execution_count": 405,
   "metadata": {},
   "outputs": [
    {
     "data": {
      "text/plain": [
       "{'model_name': 'Ada Grid Search 1',\n",
       " 'mean_accuracy': 0.9234809677396688,\n",
       " 'std_accuracy': 0.003371930000997317,\n",
       " 'mean_precision': 0.7407495944266345,\n",
       " 'std_precision': 0.029416213855541194,\n",
       " 'mean_recall': 0.7599067599067599,\n",
       " 'std_recall': 0.04663331717313673,\n",
       " 'mean_f1': 0.7493854255011515,\n",
       " 'std_f1': 0.012878726964477633}"
      ]
     },
     "execution_count": 405,
     "metadata": {},
     "output_type": "execute_result"
    }
   ],
   "source": [
    "cross_val_report('Ada Grid Search 1',Ada_GS_1.best_estimator_,X_train,y_train)"
   ]
  },
  {
   "cell_type": "code",
   "execution_count": 399,
   "metadata": {},
   "outputs": [],
   "source": [
    "Adaboost_Params_2={'model_2__n_estimators':[50,500,1000],\n",
    "'model_2__learning_rate':[.1,.3,1,1.5]} "
   ]
  },
  {
   "cell_type": "code",
   "execution_count": 410,
   "metadata": {},
   "outputs": [
    {
     "data": {
      "text/plain": [
       "GridSearchCV(cv=5,\n",
       "             estimator=SkippaPipeline(steps=[('scale_standard_0',\n",
       "                                              SkippaStandardScaler(cols=<skippa.transformers.base.ColumnSelector object at 0x7fd58d1d6250>,\n",
       "                                                                   copy=True,\n",
       "                                                                   with_mean=True,\n",
       "                                                                   with_std=True)),\n",
       "                                             ('onehot_1',\n",
       "                                              SkippaOneHotEncoder(categories='auto',\n",
       "                                                                  cols=<skippa.transformers.base.ColumnSelector object at 0x7fd58d1d6ac0>,\n",
       "                                                                  drop=None,\n",
       "                                                                  dtype=<class 'numpy.float64'>,\n",
       "                                                                  handle_unknown='error',\n",
       "                                                                  sparse=False)),\n",
       "                                             ('model_2',\n",
       "                                              AdaBoostClassifier(base_estimator=DecisionTreeClassifier(class_weight='balanced')))]),\n",
       "             param_grid={'model_2__learning_rate': [0.1, 0.3, 1, 1.5],\n",
       "                         'model_2__n_estimators': [50, 500, 1000]},\n",
       "             scoring=make_scorer(fbeta_score, beta=2))"
      ]
     },
     "execution_count": 410,
     "metadata": {},
     "output_type": "execute_result"
    }
   ],
   "source": [
    "Ada_GS_2= GridSearchCV(estimator=Base_Adaboost,cv=5,param_grid=Adaboost_Params_2,scoring=two_scorer,refit=True)\n",
    "Ada_GS_2.fit(X_train, y_train)"
   ]
  },
  {
   "cell_type": "code",
   "execution_count": 411,
   "metadata": {},
   "outputs": [
    {
     "data": {
      "text/plain": [
       "{'model_name': 'Ada Grid Search 2',\n",
       " 'mean_accuracy': 0.9227297960101468,\n",
       " 'std_accuracy': 0.0013740629051040964,\n",
       " 'mean_precision': 0.7319681103610887,\n",
       " 'std_precision': 0.018899660675651127,\n",
       " 'mean_recall': 0.7599067599067599,\n",
       " 'std_recall': 0.04714682642346422,\n",
       " 'mean_f1': 0.7372963043246061,\n",
       " 'std_f1': 0.004512484925580063}"
      ]
     },
     "execution_count": 411,
     "metadata": {},
     "output_type": "execute_result"
    }
   ],
   "source": [
    "cross_val_report('Ada Grid Search 2',Ada_GS_2.best_estimator_,X_train,y_train)"
   ]
  },
  {
   "cell_type": "markdown",
   "metadata": {},
   "source": [
    "These are disapointingly low scores on this model. I may need to change the parameters of the grid search."
   ]
  },
  {
   "cell_type": "markdown",
   "metadata": {},
   "source": [
    "## XGBOOST"
   ]
  },
  {
   "cell_type": "markdown",
   "metadata": {},
   "source": [
    "### Baseline XGBoost"
   ]
  },
  {
   "cell_type": "code",
   "execution_count": 446,
   "metadata": {},
   "outputs": [],
   "source": [
    " Base_XGBOOST = (\n",
    "    Skippa()\n",
    "    .scale(columns(dtype_include='number'), type='standard')\n",
    "    .onehot(columns(dtype_exclude='number'))\n",
    "    .model(XGBClassifier(scale_pos_weight=80, tree_method='gpu_hist'))\n",
    ")"
   ]
  },
  {
   "cell_type": "code",
   "execution_count": 447,
   "metadata": {},
   "outputs": [
    {
     "data": {
      "text/plain": [
       "SkippaPipeline(steps=[('scale_standard_0',\n",
       "                       SkippaStandardScaler(cols=<skippa.transformers.base.ColumnSelector object at 0x7fd58c978b50>,\n",
       "                                            copy=True, with_mean=True,\n",
       "                                            with_std=True)),\n",
       "                      ('onehot_1',\n",
       "                       SkippaOneHotEncoder(categories='auto',\n",
       "                                           cols=<skippa.transformers.base.ColumnSelector object at 0x7fd58c978880>,\n",
       "                                           drop=None,\n",
       "                                           dtype=<class 'numpy.float64'>,\n",
       "                                           handle_unknown='err...\n",
       "                                     colsample_bytree=1, gamma=0, gpu_id=-1,\n",
       "                                     importance_type='gain',\n",
       "                                     interaction_constraints='',\n",
       "                                     learning_rate=0.300000012,\n",
       "                                     max_delta_step=0, max_depth=6,\n",
       "                                     min_child_weight=1, missing=nan,\n",
       "                                     monotone_constraints='()',\n",
       "                                     n_estimators=100, n_jobs=0,\n",
       "                                     num_parallel_tree=1, random_state=0,\n",
       "                                     reg_alpha=0, reg_lambda=0.7,\n",
       "                                     scale_pos_weight=80, subsample=1,\n",
       "                                     tree_method='exact', validate_parameters=1,\n",
       "                                     verbosity=None))])"
      ]
     },
     "execution_count": 447,
     "metadata": {},
     "output_type": "execute_result"
    }
   ],
   "source": [
    "Base_XGBOOST.fit(X_train,y_train)"
   ]
  },
  {
   "cell_type": "code",
   "execution_count": null,
   "metadata": {},
   "outputs": [],
   "source": []
  },
  {
   "cell_type": "code",
   "execution_count": 449,
   "metadata": {},
   "outputs": [
    {
     "data": {
      "text/plain": [
       "{'model_name': 'XGB_Base',\n",
       " 'accuracy': 1.0,\n",
       " 'precision': 1.0,\n",
       " 'recall': 1.0,\n",
       " 'f1': 1.0}"
      ]
     },
     "execution_count": 449,
     "metadata": {},
     "output_type": "execute_result"
    }
   ],
   "source": [
    "score_report('XGB_Base',Base_XGBOOST,X_train,y_train)"
   ]
  },
  {
   "cell_type": "code",
   "execution_count": 424,
   "metadata": {},
   "outputs": [
    {
     "data": {
      "text/plain": [
       "{'model_name': 'test',\n",
       " 'accuracy': 0.9718679669917479,\n",
       " 'precision': 0.9239130434782609,\n",
       " 'recall': 0.8785529715762274,\n",
       " 'f1': 0.9006622516556291}"
      ]
     },
     "execution_count": 424,
     "metadata": {},
     "output_type": "execute_result"
    }
   ],
   "source": [
    "score_report('test',RF_GS_2.best_estimator_,X_train,y_train)"
   ]
  },
  {
   "cell_type": "markdown",
   "metadata": {},
   "source": [
    "### Tune XGBoost"
   ]
  },
  {
   "cell_type": "code",
   "execution_count": 478,
   "metadata": {},
   "outputs": [],
   "source": [
    "XGB_Params_1={'model_2__max_depth':[1,2,3,4,5,6,7,8,9,10,11,12,13,14,15,16,17,18,19,20],\n",
    "             'model_2__learning_rate':[.1,.3,.5,.7,.8,.9,1],\n",
    "             'model_2__n_estimators':[50,100,150,200,300,400,500,600,700],\n",
    "             'model_2__colsample_bytree':[.1,.4,.7,1],\n",
    "             'model_2__subsample':[.1,.4,.6,1],\n",
    "             'model_2__reg_lambda':[.4,.5,.7,.8,1,2,2.5,3,5]\n",
    "            }"
   ]
  },
  {
   "cell_type": "code",
   "execution_count": 474,
   "metadata": {},
   "outputs": [
    {
     "ename": "KeyboardInterrupt",
     "evalue": "",
     "output_type": "error",
     "traceback": [
      "\u001b[0;31m---------------------------------------------------------------------------\u001b[0m",
      "\u001b[0;31mKeyboardInterrupt\u001b[0m                         Traceback (most recent call last)",
      "\u001b[0;32m<ipython-input-474-73fbe7a9e356>\u001b[0m in \u001b[0;36m<module>\u001b[0;34m\u001b[0m\n\u001b[1;32m      1\u001b[0m \u001b[0mXGB_GS_1\u001b[0m\u001b[0;34m=\u001b[0m \u001b[0mGridSearchCV\u001b[0m\u001b[0;34m(\u001b[0m\u001b[0mestimator\u001b[0m\u001b[0;34m=\u001b[0m \u001b[0mBase_XGBOOST\u001b[0m\u001b[0;34m,\u001b[0m\u001b[0mcv\u001b[0m\u001b[0;34m=\u001b[0m\u001b[0;36m5\u001b[0m\u001b[0;34m,\u001b[0m\u001b[0mparam_grid\u001b[0m\u001b[0;34m=\u001b[0m\u001b[0mXGB_Params_1\u001b[0m\u001b[0;34m,\u001b[0m\u001b[0mscoring\u001b[0m\u001b[0;34m=\u001b[0m\u001b[0mtwo_scorer\u001b[0m\u001b[0;34m,\u001b[0m\u001b[0mrefit\u001b[0m\u001b[0;34m=\u001b[0m\u001b[0;32mTrue\u001b[0m\u001b[0;34m,\u001b[0m\u001b[0;34m)\u001b[0m\u001b[0;34m\u001b[0m\u001b[0;34m\u001b[0m\u001b[0m\n\u001b[0;32m----> 2\u001b[0;31m \u001b[0mXGB_GS_1\u001b[0m\u001b[0;34m.\u001b[0m\u001b[0mfit\u001b[0m\u001b[0;34m(\u001b[0m\u001b[0mX_train\u001b[0m\u001b[0;34m,\u001b[0m \u001b[0my_train\u001b[0m\u001b[0;34m)\u001b[0m\u001b[0;34m\u001b[0m\u001b[0;34m\u001b[0m\u001b[0m\n\u001b[0m",
      "\u001b[0;32m/opt/anaconda3/envs/learn-env/lib/python3.8/site-packages/sklearn/model_selection/_search.py\u001b[0m in \u001b[0;36mfit\u001b[0;34m(self, X, y, groups, **fit_params)\u001b[0m\n\u001b[1;32m    889\u001b[0m                 \u001b[0;32mreturn\u001b[0m \u001b[0mresults\u001b[0m\u001b[0;34m\u001b[0m\u001b[0;34m\u001b[0m\u001b[0m\n\u001b[1;32m    890\u001b[0m \u001b[0;34m\u001b[0m\u001b[0m\n\u001b[0;32m--> 891\u001b[0;31m             \u001b[0mself\u001b[0m\u001b[0;34m.\u001b[0m\u001b[0m_run_search\u001b[0m\u001b[0;34m(\u001b[0m\u001b[0mevaluate_candidates\u001b[0m\u001b[0;34m)\u001b[0m\u001b[0;34m\u001b[0m\u001b[0;34m\u001b[0m\u001b[0m\n\u001b[0m\u001b[1;32m    892\u001b[0m \u001b[0;34m\u001b[0m\u001b[0m\n\u001b[1;32m    893\u001b[0m             \u001b[0;31m# multimetric is determined here because in the case of a callable\u001b[0m\u001b[0;34m\u001b[0m\u001b[0;34m\u001b[0m\u001b[0;34m\u001b[0m\u001b[0m\n",
      "\u001b[0;32m/opt/anaconda3/envs/learn-env/lib/python3.8/site-packages/sklearn/model_selection/_search.py\u001b[0m in \u001b[0;36m_run_search\u001b[0;34m(self, evaluate_candidates)\u001b[0m\n\u001b[1;32m   1390\u001b[0m     \u001b[0;32mdef\u001b[0m \u001b[0m_run_search\u001b[0m\u001b[0;34m(\u001b[0m\u001b[0mself\u001b[0m\u001b[0;34m,\u001b[0m \u001b[0mevaluate_candidates\u001b[0m\u001b[0;34m)\u001b[0m\u001b[0;34m:\u001b[0m\u001b[0;34m\u001b[0m\u001b[0;34m\u001b[0m\u001b[0m\n\u001b[1;32m   1391\u001b[0m         \u001b[0;34m\"\"\"Search all candidates in param_grid\"\"\"\u001b[0m\u001b[0;34m\u001b[0m\u001b[0;34m\u001b[0m\u001b[0m\n\u001b[0;32m-> 1392\u001b[0;31m         \u001b[0mevaluate_candidates\u001b[0m\u001b[0;34m(\u001b[0m\u001b[0mParameterGrid\u001b[0m\u001b[0;34m(\u001b[0m\u001b[0mself\u001b[0m\u001b[0;34m.\u001b[0m\u001b[0mparam_grid\u001b[0m\u001b[0;34m)\u001b[0m\u001b[0;34m)\u001b[0m\u001b[0;34m\u001b[0m\u001b[0;34m\u001b[0m\u001b[0m\n\u001b[0m\u001b[1;32m   1393\u001b[0m \u001b[0;34m\u001b[0m\u001b[0m\n\u001b[1;32m   1394\u001b[0m \u001b[0;34m\u001b[0m\u001b[0m\n",
      "\u001b[0;32m/opt/anaconda3/envs/learn-env/lib/python3.8/site-packages/sklearn/model_selection/_search.py\u001b[0m in \u001b[0;36mevaluate_candidates\u001b[0;34m(candidate_params, cv, more_results)\u001b[0m\n\u001b[1;32m    836\u001b[0m                     )\n\u001b[1;32m    837\u001b[0m \u001b[0;34m\u001b[0m\u001b[0m\n\u001b[0;32m--> 838\u001b[0;31m                 out = parallel(\n\u001b[0m\u001b[1;32m    839\u001b[0m                     delayed(_fit_and_score)(\n\u001b[1;32m    840\u001b[0m                         \u001b[0mclone\u001b[0m\u001b[0;34m(\u001b[0m\u001b[0mbase_estimator\u001b[0m\u001b[0;34m)\u001b[0m\u001b[0;34m,\u001b[0m\u001b[0;34m\u001b[0m\u001b[0;34m\u001b[0m\u001b[0m\n",
      "\u001b[0;32m/opt/anaconda3/envs/learn-env/lib/python3.8/site-packages/joblib/parallel.py\u001b[0m in \u001b[0;36m__call__\u001b[0;34m(self, iterable)\u001b[0m\n\u001b[1;32m   1049\u001b[0m                 \u001b[0mself\u001b[0m\u001b[0;34m.\u001b[0m\u001b[0m_iterating\u001b[0m \u001b[0;34m=\u001b[0m \u001b[0mself\u001b[0m\u001b[0;34m.\u001b[0m\u001b[0m_original_iterator\u001b[0m \u001b[0;32mis\u001b[0m \u001b[0;32mnot\u001b[0m \u001b[0;32mNone\u001b[0m\u001b[0;34m\u001b[0m\u001b[0;34m\u001b[0m\u001b[0m\n\u001b[1;32m   1050\u001b[0m \u001b[0;34m\u001b[0m\u001b[0m\n\u001b[0;32m-> 1051\u001b[0;31m             \u001b[0;32mwhile\u001b[0m \u001b[0mself\u001b[0m\u001b[0;34m.\u001b[0m\u001b[0mdispatch_one_batch\u001b[0m\u001b[0;34m(\u001b[0m\u001b[0miterator\u001b[0m\u001b[0;34m)\u001b[0m\u001b[0;34m:\u001b[0m\u001b[0;34m\u001b[0m\u001b[0;34m\u001b[0m\u001b[0m\n\u001b[0m\u001b[1;32m   1052\u001b[0m                 \u001b[0;32mpass\u001b[0m\u001b[0;34m\u001b[0m\u001b[0;34m\u001b[0m\u001b[0m\n\u001b[1;32m   1053\u001b[0m \u001b[0;34m\u001b[0m\u001b[0m\n",
      "\u001b[0;32m/opt/anaconda3/envs/learn-env/lib/python3.8/site-packages/joblib/parallel.py\u001b[0m in \u001b[0;36mdispatch_one_batch\u001b[0;34m(self, iterator)\u001b[0m\n\u001b[1;32m    864\u001b[0m                 \u001b[0;32mreturn\u001b[0m \u001b[0;32mFalse\u001b[0m\u001b[0;34m\u001b[0m\u001b[0;34m\u001b[0m\u001b[0m\n\u001b[1;32m    865\u001b[0m             \u001b[0;32melse\u001b[0m\u001b[0;34m:\u001b[0m\u001b[0;34m\u001b[0m\u001b[0;34m\u001b[0m\u001b[0m\n\u001b[0;32m--> 866\u001b[0;31m                 \u001b[0mself\u001b[0m\u001b[0;34m.\u001b[0m\u001b[0m_dispatch\u001b[0m\u001b[0;34m(\u001b[0m\u001b[0mtasks\u001b[0m\u001b[0;34m)\u001b[0m\u001b[0;34m\u001b[0m\u001b[0;34m\u001b[0m\u001b[0m\n\u001b[0m\u001b[1;32m    867\u001b[0m                 \u001b[0;32mreturn\u001b[0m \u001b[0;32mTrue\u001b[0m\u001b[0;34m\u001b[0m\u001b[0;34m\u001b[0m\u001b[0m\n\u001b[1;32m    868\u001b[0m \u001b[0;34m\u001b[0m\u001b[0m\n",
      "\u001b[0;32m/opt/anaconda3/envs/learn-env/lib/python3.8/site-packages/joblib/parallel.py\u001b[0m in \u001b[0;36m_dispatch\u001b[0;34m(self, batch)\u001b[0m\n\u001b[1;32m    782\u001b[0m         \u001b[0;32mwith\u001b[0m \u001b[0mself\u001b[0m\u001b[0;34m.\u001b[0m\u001b[0m_lock\u001b[0m\u001b[0;34m:\u001b[0m\u001b[0;34m\u001b[0m\u001b[0;34m\u001b[0m\u001b[0m\n\u001b[1;32m    783\u001b[0m             \u001b[0mjob_idx\u001b[0m \u001b[0;34m=\u001b[0m \u001b[0mlen\u001b[0m\u001b[0;34m(\u001b[0m\u001b[0mself\u001b[0m\u001b[0;34m.\u001b[0m\u001b[0m_jobs\u001b[0m\u001b[0;34m)\u001b[0m\u001b[0;34m\u001b[0m\u001b[0;34m\u001b[0m\u001b[0m\n\u001b[0;32m--> 784\u001b[0;31m             \u001b[0mjob\u001b[0m \u001b[0;34m=\u001b[0m \u001b[0mself\u001b[0m\u001b[0;34m.\u001b[0m\u001b[0m_backend\u001b[0m\u001b[0;34m.\u001b[0m\u001b[0mapply_async\u001b[0m\u001b[0;34m(\u001b[0m\u001b[0mbatch\u001b[0m\u001b[0;34m,\u001b[0m \u001b[0mcallback\u001b[0m\u001b[0;34m=\u001b[0m\u001b[0mcb\u001b[0m\u001b[0;34m)\u001b[0m\u001b[0;34m\u001b[0m\u001b[0;34m\u001b[0m\u001b[0m\n\u001b[0m\u001b[1;32m    785\u001b[0m             \u001b[0;31m# A job can complete so quickly than its callback is\u001b[0m\u001b[0;34m\u001b[0m\u001b[0;34m\u001b[0m\u001b[0;34m\u001b[0m\u001b[0m\n\u001b[1;32m    786\u001b[0m             \u001b[0;31m# called before we get here, causing self._jobs to\u001b[0m\u001b[0;34m\u001b[0m\u001b[0;34m\u001b[0m\u001b[0;34m\u001b[0m\u001b[0m\n",
      "\u001b[0;32m/opt/anaconda3/envs/learn-env/lib/python3.8/site-packages/joblib/_parallel_backends.py\u001b[0m in \u001b[0;36mapply_async\u001b[0;34m(self, func, callback)\u001b[0m\n\u001b[1;32m    206\u001b[0m     \u001b[0;32mdef\u001b[0m \u001b[0mapply_async\u001b[0m\u001b[0;34m(\u001b[0m\u001b[0mself\u001b[0m\u001b[0;34m,\u001b[0m \u001b[0mfunc\u001b[0m\u001b[0;34m,\u001b[0m \u001b[0mcallback\u001b[0m\u001b[0;34m=\u001b[0m\u001b[0;32mNone\u001b[0m\u001b[0;34m)\u001b[0m\u001b[0;34m:\u001b[0m\u001b[0;34m\u001b[0m\u001b[0;34m\u001b[0m\u001b[0m\n\u001b[1;32m    207\u001b[0m         \u001b[0;34m\"\"\"Schedule a func to be run\"\"\"\u001b[0m\u001b[0;34m\u001b[0m\u001b[0;34m\u001b[0m\u001b[0m\n\u001b[0;32m--> 208\u001b[0;31m         \u001b[0mresult\u001b[0m \u001b[0;34m=\u001b[0m \u001b[0mImmediateResult\u001b[0m\u001b[0;34m(\u001b[0m\u001b[0mfunc\u001b[0m\u001b[0;34m)\u001b[0m\u001b[0;34m\u001b[0m\u001b[0;34m\u001b[0m\u001b[0m\n\u001b[0m\u001b[1;32m    209\u001b[0m         \u001b[0;32mif\u001b[0m \u001b[0mcallback\u001b[0m\u001b[0;34m:\u001b[0m\u001b[0;34m\u001b[0m\u001b[0;34m\u001b[0m\u001b[0m\n\u001b[1;32m    210\u001b[0m             \u001b[0mcallback\u001b[0m\u001b[0;34m(\u001b[0m\u001b[0mresult\u001b[0m\u001b[0;34m)\u001b[0m\u001b[0;34m\u001b[0m\u001b[0;34m\u001b[0m\u001b[0m\n",
      "\u001b[0;32m/opt/anaconda3/envs/learn-env/lib/python3.8/site-packages/joblib/_parallel_backends.py\u001b[0m in \u001b[0;36m__init__\u001b[0;34m(self, batch)\u001b[0m\n\u001b[1;32m    570\u001b[0m         \u001b[0;31m# Don't delay the application, to avoid keeping the input\u001b[0m\u001b[0;34m\u001b[0m\u001b[0;34m\u001b[0m\u001b[0;34m\u001b[0m\u001b[0m\n\u001b[1;32m    571\u001b[0m         \u001b[0;31m# arguments in memory\u001b[0m\u001b[0;34m\u001b[0m\u001b[0;34m\u001b[0m\u001b[0;34m\u001b[0m\u001b[0m\n\u001b[0;32m--> 572\u001b[0;31m         \u001b[0mself\u001b[0m\u001b[0;34m.\u001b[0m\u001b[0mresults\u001b[0m \u001b[0;34m=\u001b[0m \u001b[0mbatch\u001b[0m\u001b[0;34m(\u001b[0m\u001b[0;34m)\u001b[0m\u001b[0;34m\u001b[0m\u001b[0;34m\u001b[0m\u001b[0m\n\u001b[0m\u001b[1;32m    573\u001b[0m \u001b[0;34m\u001b[0m\u001b[0m\n\u001b[1;32m    574\u001b[0m     \u001b[0;32mdef\u001b[0m \u001b[0mget\u001b[0m\u001b[0;34m(\u001b[0m\u001b[0mself\u001b[0m\u001b[0;34m)\u001b[0m\u001b[0;34m:\u001b[0m\u001b[0;34m\u001b[0m\u001b[0;34m\u001b[0m\u001b[0m\n",
      "\u001b[0;32m/opt/anaconda3/envs/learn-env/lib/python3.8/site-packages/joblib/parallel.py\u001b[0m in \u001b[0;36m__call__\u001b[0;34m(self)\u001b[0m\n\u001b[1;32m    260\u001b[0m         \u001b[0;31m# change the default number of processes to -1\u001b[0m\u001b[0;34m\u001b[0m\u001b[0;34m\u001b[0m\u001b[0;34m\u001b[0m\u001b[0m\n\u001b[1;32m    261\u001b[0m         \u001b[0;32mwith\u001b[0m \u001b[0mparallel_backend\u001b[0m\u001b[0;34m(\u001b[0m\u001b[0mself\u001b[0m\u001b[0;34m.\u001b[0m\u001b[0m_backend\u001b[0m\u001b[0;34m,\u001b[0m \u001b[0mn_jobs\u001b[0m\u001b[0;34m=\u001b[0m\u001b[0mself\u001b[0m\u001b[0;34m.\u001b[0m\u001b[0m_n_jobs\u001b[0m\u001b[0;34m)\u001b[0m\u001b[0;34m:\u001b[0m\u001b[0;34m\u001b[0m\u001b[0;34m\u001b[0m\u001b[0m\n\u001b[0;32m--> 262\u001b[0;31m             return [func(*args, **kwargs)\n\u001b[0m\u001b[1;32m    263\u001b[0m                     for func, args, kwargs in self.items]\n\u001b[1;32m    264\u001b[0m \u001b[0;34m\u001b[0m\u001b[0m\n",
      "\u001b[0;32m/opt/anaconda3/envs/learn-env/lib/python3.8/site-packages/joblib/parallel.py\u001b[0m in \u001b[0;36m<listcomp>\u001b[0;34m(.0)\u001b[0m\n\u001b[1;32m    260\u001b[0m         \u001b[0;31m# change the default number of processes to -1\u001b[0m\u001b[0;34m\u001b[0m\u001b[0;34m\u001b[0m\u001b[0;34m\u001b[0m\u001b[0m\n\u001b[1;32m    261\u001b[0m         \u001b[0;32mwith\u001b[0m \u001b[0mparallel_backend\u001b[0m\u001b[0;34m(\u001b[0m\u001b[0mself\u001b[0m\u001b[0;34m.\u001b[0m\u001b[0m_backend\u001b[0m\u001b[0;34m,\u001b[0m \u001b[0mn_jobs\u001b[0m\u001b[0;34m=\u001b[0m\u001b[0mself\u001b[0m\u001b[0;34m.\u001b[0m\u001b[0m_n_jobs\u001b[0m\u001b[0;34m)\u001b[0m\u001b[0;34m:\u001b[0m\u001b[0;34m\u001b[0m\u001b[0;34m\u001b[0m\u001b[0m\n\u001b[0;32m--> 262\u001b[0;31m             return [func(*args, **kwargs)\n\u001b[0m\u001b[1;32m    263\u001b[0m                     for func, args, kwargs in self.items]\n\u001b[1;32m    264\u001b[0m \u001b[0;34m\u001b[0m\u001b[0m\n",
      "\u001b[0;32m/opt/anaconda3/envs/learn-env/lib/python3.8/site-packages/sklearn/utils/fixes.py\u001b[0m in \u001b[0;36m__call__\u001b[0;34m(self, *args, **kwargs)\u001b[0m\n\u001b[1;32m    214\u001b[0m     \u001b[0;32mdef\u001b[0m \u001b[0m__call__\u001b[0m\u001b[0;34m(\u001b[0m\u001b[0mself\u001b[0m\u001b[0;34m,\u001b[0m \u001b[0;34m*\u001b[0m\u001b[0margs\u001b[0m\u001b[0;34m,\u001b[0m \u001b[0;34m**\u001b[0m\u001b[0mkwargs\u001b[0m\u001b[0;34m)\u001b[0m\u001b[0;34m:\u001b[0m\u001b[0;34m\u001b[0m\u001b[0;34m\u001b[0m\u001b[0m\n\u001b[1;32m    215\u001b[0m         \u001b[0;32mwith\u001b[0m \u001b[0mconfig_context\u001b[0m\u001b[0;34m(\u001b[0m\u001b[0;34m**\u001b[0m\u001b[0mself\u001b[0m\u001b[0;34m.\u001b[0m\u001b[0mconfig\u001b[0m\u001b[0;34m)\u001b[0m\u001b[0;34m:\u001b[0m\u001b[0;34m\u001b[0m\u001b[0;34m\u001b[0m\u001b[0m\n\u001b[0;32m--> 216\u001b[0;31m             \u001b[0;32mreturn\u001b[0m \u001b[0mself\u001b[0m\u001b[0;34m.\u001b[0m\u001b[0mfunction\u001b[0m\u001b[0;34m(\u001b[0m\u001b[0;34m*\u001b[0m\u001b[0margs\u001b[0m\u001b[0;34m,\u001b[0m \u001b[0;34m**\u001b[0m\u001b[0mkwargs\u001b[0m\u001b[0;34m)\u001b[0m\u001b[0;34m\u001b[0m\u001b[0;34m\u001b[0m\u001b[0m\n\u001b[0m\u001b[1;32m    217\u001b[0m \u001b[0;34m\u001b[0m\u001b[0m\n\u001b[1;32m    218\u001b[0m \u001b[0;34m\u001b[0m\u001b[0m\n",
      "\u001b[0;32m/opt/anaconda3/envs/learn-env/lib/python3.8/site-packages/sklearn/model_selection/_validation.py\u001b[0m in \u001b[0;36m_fit_and_score\u001b[0;34m(estimator, X, y, scorer, train, test, verbose, parameters, fit_params, return_train_score, return_parameters, return_n_test_samples, return_times, return_estimator, split_progress, candidate_progress, error_score)\u001b[0m\n\u001b[1;32m    678\u001b[0m             \u001b[0mestimator\u001b[0m\u001b[0;34m.\u001b[0m\u001b[0mfit\u001b[0m\u001b[0;34m(\u001b[0m\u001b[0mX_train\u001b[0m\u001b[0;34m,\u001b[0m \u001b[0;34m**\u001b[0m\u001b[0mfit_params\u001b[0m\u001b[0;34m)\u001b[0m\u001b[0;34m\u001b[0m\u001b[0;34m\u001b[0m\u001b[0m\n\u001b[1;32m    679\u001b[0m         \u001b[0;32melse\u001b[0m\u001b[0;34m:\u001b[0m\u001b[0;34m\u001b[0m\u001b[0;34m\u001b[0m\u001b[0m\n\u001b[0;32m--> 680\u001b[0;31m             \u001b[0mestimator\u001b[0m\u001b[0;34m.\u001b[0m\u001b[0mfit\u001b[0m\u001b[0;34m(\u001b[0m\u001b[0mX_train\u001b[0m\u001b[0;34m,\u001b[0m \u001b[0my_train\u001b[0m\u001b[0;34m,\u001b[0m \u001b[0;34m**\u001b[0m\u001b[0mfit_params\u001b[0m\u001b[0;34m)\u001b[0m\u001b[0;34m\u001b[0m\u001b[0;34m\u001b[0m\u001b[0m\n\u001b[0m\u001b[1;32m    681\u001b[0m \u001b[0;34m\u001b[0m\u001b[0m\n\u001b[1;32m    682\u001b[0m     \u001b[0;32mexcept\u001b[0m \u001b[0mException\u001b[0m\u001b[0;34m:\u001b[0m\u001b[0;34m\u001b[0m\u001b[0;34m\u001b[0m\u001b[0m\n",
      "\u001b[0;32m/opt/anaconda3/envs/learn-env/lib/python3.8/site-packages/skippa/pipeline.py\u001b[0m in \u001b[0;36mfit\u001b[0;34m(self, X, y, **kwargs)\u001b[0m\n\u001b[1;32m    127\u001b[0m         \u001b[0;34m\"\"\"Inspect input data before fitting the pipeline.\"\"\"\u001b[0m\u001b[0;34m\u001b[0m\u001b[0;34m\u001b[0m\u001b[0m\n\u001b[1;32m    128\u001b[0m         \u001b[0mself\u001b[0m\u001b[0;34m.\u001b[0m\u001b[0m_create_data_profile\u001b[0m\u001b[0;34m(\u001b[0m\u001b[0mX\u001b[0m\u001b[0;34m,\u001b[0m \u001b[0my\u001b[0m\u001b[0;34m)\u001b[0m\u001b[0;34m\u001b[0m\u001b[0;34m\u001b[0m\u001b[0m\n\u001b[0;32m--> 129\u001b[0;31m         \u001b[0msuper\u001b[0m\u001b[0;34m(\u001b[0m\u001b[0;34m)\u001b[0m\u001b[0;34m.\u001b[0m\u001b[0mfit\u001b[0m\u001b[0;34m(\u001b[0m\u001b[0mX\u001b[0m\u001b[0;34m,\u001b[0m \u001b[0my\u001b[0m\u001b[0;34m,\u001b[0m \u001b[0;34m**\u001b[0m\u001b[0mkwargs\u001b[0m\u001b[0;34m)\u001b[0m\u001b[0;34m\u001b[0m\u001b[0;34m\u001b[0m\u001b[0m\n\u001b[0m\u001b[1;32m    130\u001b[0m         \u001b[0mself\u001b[0m\u001b[0;34m.\u001b[0m\u001b[0m_is_fitted\u001b[0m \u001b[0;34m=\u001b[0m \u001b[0;32mTrue\u001b[0m\u001b[0;34m\u001b[0m\u001b[0;34m\u001b[0m\u001b[0m\n\u001b[1;32m    131\u001b[0m         \u001b[0;32mreturn\u001b[0m \u001b[0mself\u001b[0m\u001b[0;34m\u001b[0m\u001b[0;34m\u001b[0m\u001b[0m\n",
      "\u001b[0;32m/opt/anaconda3/envs/learn-env/lib/python3.8/site-packages/sklearn/pipeline.py\u001b[0m in \u001b[0;36mfit\u001b[0;34m(self, X, y, **fit_params)\u001b[0m\n\u001b[1;32m    392\u001b[0m             \u001b[0;32mif\u001b[0m \u001b[0mself\u001b[0m\u001b[0;34m.\u001b[0m\u001b[0m_final_estimator\u001b[0m \u001b[0;34m!=\u001b[0m \u001b[0;34m\"passthrough\"\u001b[0m\u001b[0;34m:\u001b[0m\u001b[0;34m\u001b[0m\u001b[0;34m\u001b[0m\u001b[0m\n\u001b[1;32m    393\u001b[0m                 \u001b[0mfit_params_last_step\u001b[0m \u001b[0;34m=\u001b[0m \u001b[0mfit_params_steps\u001b[0m\u001b[0;34m[\u001b[0m\u001b[0mself\u001b[0m\u001b[0;34m.\u001b[0m\u001b[0msteps\u001b[0m\u001b[0;34m[\u001b[0m\u001b[0;34m-\u001b[0m\u001b[0;36m1\u001b[0m\u001b[0;34m]\u001b[0m\u001b[0;34m[\u001b[0m\u001b[0;36m0\u001b[0m\u001b[0;34m]\u001b[0m\u001b[0;34m]\u001b[0m\u001b[0;34m\u001b[0m\u001b[0;34m\u001b[0m\u001b[0m\n\u001b[0;32m--> 394\u001b[0;31m                 \u001b[0mself\u001b[0m\u001b[0;34m.\u001b[0m\u001b[0m_final_estimator\u001b[0m\u001b[0;34m.\u001b[0m\u001b[0mfit\u001b[0m\u001b[0;34m(\u001b[0m\u001b[0mXt\u001b[0m\u001b[0;34m,\u001b[0m \u001b[0my\u001b[0m\u001b[0;34m,\u001b[0m \u001b[0;34m**\u001b[0m\u001b[0mfit_params_last_step\u001b[0m\u001b[0;34m)\u001b[0m\u001b[0;34m\u001b[0m\u001b[0;34m\u001b[0m\u001b[0m\n\u001b[0m\u001b[1;32m    395\u001b[0m \u001b[0;34m\u001b[0m\u001b[0m\n\u001b[1;32m    396\u001b[0m         \u001b[0;32mreturn\u001b[0m \u001b[0mself\u001b[0m\u001b[0;34m\u001b[0m\u001b[0;34m\u001b[0m\u001b[0m\n",
      "\u001b[0;32m/opt/anaconda3/envs/learn-env/lib/python3.8/site-packages/xgboost/sklearn.py\u001b[0m in \u001b[0;36mfit\u001b[0;34m(self, X, y, sample_weight, base_margin, eval_set, eval_metric, early_stopping_rounds, verbose, xgb_model, sample_weight_eval_set, callbacks)\u001b[0m\n\u001b[1;32m    826\u001b[0m                                 missing=self.missing, nthread=self.n_jobs)\n\u001b[1;32m    827\u001b[0m \u001b[0;34m\u001b[0m\u001b[0m\n\u001b[0;32m--> 828\u001b[0;31m         self._Booster = train(xgb_options, train_dmatrix,\n\u001b[0m\u001b[1;32m    829\u001b[0m                               \u001b[0mself\u001b[0m\u001b[0;34m.\u001b[0m\u001b[0mget_num_boosting_rounds\u001b[0m\u001b[0;34m(\u001b[0m\u001b[0;34m)\u001b[0m\u001b[0;34m,\u001b[0m\u001b[0;34m\u001b[0m\u001b[0;34m\u001b[0m\u001b[0m\n\u001b[1;32m    830\u001b[0m                               \u001b[0mevals\u001b[0m\u001b[0;34m=\u001b[0m\u001b[0mevals\u001b[0m\u001b[0;34m,\u001b[0m\u001b[0;34m\u001b[0m\u001b[0;34m\u001b[0m\u001b[0m\n",
      "\u001b[0;32m/opt/anaconda3/envs/learn-env/lib/python3.8/site-packages/xgboost/training.py\u001b[0m in \u001b[0;36mtrain\u001b[0;34m(params, dtrain, num_boost_round, evals, obj, feval, maximize, early_stopping_rounds, evals_result, verbose_eval, xgb_model, callbacks)\u001b[0m\n\u001b[1;32m    206\u001b[0m         \u001b[0mcallbacks\u001b[0m\u001b[0;34m.\u001b[0m\u001b[0mappend\u001b[0m\u001b[0;34m(\u001b[0m\u001b[0mcallback\u001b[0m\u001b[0;34m.\u001b[0m\u001b[0mrecord_evaluation\u001b[0m\u001b[0;34m(\u001b[0m\u001b[0mevals_result\u001b[0m\u001b[0;34m)\u001b[0m\u001b[0;34m)\u001b[0m\u001b[0;34m\u001b[0m\u001b[0;34m\u001b[0m\u001b[0m\n\u001b[1;32m    207\u001b[0m \u001b[0;34m\u001b[0m\u001b[0m\n\u001b[0;32m--> 208\u001b[0;31m     return _train_internal(params, dtrain,\n\u001b[0m\u001b[1;32m    209\u001b[0m                            \u001b[0mnum_boost_round\u001b[0m\u001b[0;34m=\u001b[0m\u001b[0mnum_boost_round\u001b[0m\u001b[0;34m,\u001b[0m\u001b[0;34m\u001b[0m\u001b[0;34m\u001b[0m\u001b[0m\n\u001b[1;32m    210\u001b[0m                            \u001b[0mevals\u001b[0m\u001b[0;34m=\u001b[0m\u001b[0mevals\u001b[0m\u001b[0;34m,\u001b[0m\u001b[0;34m\u001b[0m\u001b[0;34m\u001b[0m\u001b[0m\n",
      "\u001b[0;32m/opt/anaconda3/envs/learn-env/lib/python3.8/site-packages/xgboost/training.py\u001b[0m in \u001b[0;36m_train_internal\u001b[0;34m(params, dtrain, num_boost_round, evals, obj, feval, xgb_model, callbacks)\u001b[0m\n\u001b[1;32m     73\u001b[0m         \u001b[0;31m# Skip the first update if it is a recovery step.\u001b[0m\u001b[0;34m\u001b[0m\u001b[0;34m\u001b[0m\u001b[0;34m\u001b[0m\u001b[0m\n\u001b[1;32m     74\u001b[0m         \u001b[0;32mif\u001b[0m \u001b[0mversion\u001b[0m \u001b[0;34m%\u001b[0m \u001b[0;36m2\u001b[0m \u001b[0;34m==\u001b[0m \u001b[0;36m0\u001b[0m\u001b[0;34m:\u001b[0m\u001b[0;34m\u001b[0m\u001b[0;34m\u001b[0m\u001b[0m\n\u001b[0;32m---> 75\u001b[0;31m             \u001b[0mbst\u001b[0m\u001b[0;34m.\u001b[0m\u001b[0mupdate\u001b[0m\u001b[0;34m(\u001b[0m\u001b[0mdtrain\u001b[0m\u001b[0;34m,\u001b[0m \u001b[0mi\u001b[0m\u001b[0;34m,\u001b[0m \u001b[0mobj\u001b[0m\u001b[0;34m)\u001b[0m\u001b[0;34m\u001b[0m\u001b[0;34m\u001b[0m\u001b[0m\n\u001b[0m\u001b[1;32m     76\u001b[0m             \u001b[0mbst\u001b[0m\u001b[0;34m.\u001b[0m\u001b[0msave_rabit_checkpoint\u001b[0m\u001b[0;34m(\u001b[0m\u001b[0;34m)\u001b[0m\u001b[0;34m\u001b[0m\u001b[0;34m\u001b[0m\u001b[0m\n\u001b[1;32m     77\u001b[0m             \u001b[0mversion\u001b[0m \u001b[0;34m+=\u001b[0m \u001b[0;36m1\u001b[0m\u001b[0;34m\u001b[0m\u001b[0;34m\u001b[0m\u001b[0m\n",
      "\u001b[0;32m/opt/anaconda3/envs/learn-env/lib/python3.8/site-packages/xgboost/core.py\u001b[0m in \u001b[0;36mupdate\u001b[0;34m(self, dtrain, iteration, fobj)\u001b[0m\n\u001b[1;32m   1157\u001b[0m \u001b[0;34m\u001b[0m\u001b[0m\n\u001b[1;32m   1158\u001b[0m         \u001b[0;32mif\u001b[0m \u001b[0mfobj\u001b[0m \u001b[0;32mis\u001b[0m \u001b[0;32mNone\u001b[0m\u001b[0;34m:\u001b[0m\u001b[0;34m\u001b[0m\u001b[0;34m\u001b[0m\u001b[0m\n\u001b[0;32m-> 1159\u001b[0;31m             _check_call(_LIB.XGBoosterUpdateOneIter(self.handle,\n\u001b[0m\u001b[1;32m   1160\u001b[0m                                                     \u001b[0mctypes\u001b[0m\u001b[0;34m.\u001b[0m\u001b[0mc_int\u001b[0m\u001b[0;34m(\u001b[0m\u001b[0miteration\u001b[0m\u001b[0;34m)\u001b[0m\u001b[0;34m,\u001b[0m\u001b[0;34m\u001b[0m\u001b[0;34m\u001b[0m\u001b[0m\n\u001b[1;32m   1161\u001b[0m                                                     dtrain.handle))\n",
      "\u001b[0;31mKeyboardInterrupt\u001b[0m: "
     ]
    }
   ],
   "source": [
    "XGB_GS_1= GridSearchCV(estimator= Base_XGBOOST,cv=5,param_grid=XGB_Params_1,scoring=two_scorer,refit=True,)\n",
    "XGB_GS_1.fit(X_train, y_train)"
   ]
  },
  {
   "cell_type": "code",
   "execution_count": 459,
   "metadata": {},
   "outputs": [],
   "source": [
    "from sklearn.model_selection import RandomizedSearchCV"
   ]
  },
  {
   "cell_type": "code",
   "execution_count": 481,
   "metadata": {},
   "outputs": [
    {
     "data": {
      "text/plain": [
       "RandomizedSearchCV(cv=5,\n",
       "                   estimator=SkippaPipeline(steps=[('scale_standard_0',\n",
       "                                                    SkippaStandardScaler(cols=<skippa.transformers.base.ColumnSelector object at 0x7fd58c978b50>,\n",
       "                                                                         copy=True,\n",
       "                                                                         with_mean=True,\n",
       "                                                                         with_std=True)),\n",
       "                                                   ('onehot_1',\n",
       "                                                    SkippaOneHotEncoder(categories='auto',\n",
       "                                                                        cols=<skippa.transformers.base.ColumnSelector object at 0x7fd58c978880>,\n",
       "                                                                        drop=None,\n",
       "                                                                        dtype=<class 'n...\n",
       "                   param_distributions={'model_2__colsample_bytree': [0.1, 0.4,\n",
       "                                                                      0.7, 1],\n",
       "                                        'model_2__learning_rate': [0.1, 0.3,\n",
       "                                                                   0.5, 0.7,\n",
       "                                                                   0.8, 0.9,\n",
       "                                                                   1],\n",
       "                                        'model_2__max_depth': [1, 2, 3, 4, 5, 6,\n",
       "                                                               7, 8, 9, 10, 11,\n",
       "                                                               12, 13, 14, 15,\n",
       "                                                               16, 17, 18, 19,\n",
       "                                                               20],\n",
       "                                        'model_2__n_estimators': [50, 100, 150,\n",
       "                                                                  200, 300, 400,\n",
       "                                                                  500, 600,\n",
       "                                                                  700],\n",
       "                                        'model_2__reg_lambda': [0.4, 0.5, 0.7,\n",
       "                                                                0.8, 1, 2, 2.5,\n",
       "                                                                3, 5],\n",
       "                                        'model_2__subsample': [0.1, 0.4, 0.6,\n",
       "                                                               1]},\n",
       "                   scoring=make_scorer(fbeta_score, beta=2))"
      ]
     },
     "execution_count": 481,
     "metadata": {},
     "output_type": "execute_result"
    }
   ],
   "source": [
    "Ran_XGB_1 = RandomizedSearchCV(estimator=Base_XGBOOST,cv=5,param_distributions=XGB_Params_1,scoring=two_scorer,refit=True)\n",
    "Ran_XGB_1.fit(X_train,y_train)"
   ]
  },
  {
   "cell_type": "code",
   "execution_count": 484,
   "metadata": {},
   "outputs": [
    {
     "data": {
      "text/plain": [
       "{'model_2__subsample': 1,\n",
       " 'model_2__reg_lambda': 0.7,\n",
       " 'model_2__n_estimators': 200,\n",
       " 'model_2__max_depth': 7,\n",
       " 'model_2__learning_rate': 0.8,\n",
       " 'model_2__colsample_bytree': 0.7}"
      ]
     },
     "execution_count": 484,
     "metadata": {},
     "output_type": "execute_result"
    }
   ],
   "source": [
    "Ran_XGB_1.best_params_"
   ]
  },
  {
   "cell_type": "code",
   "execution_count": 483,
   "metadata": {},
   "outputs": [
    {
     "data": {
      "text/plain": [
       "{'model_name': 'test',\n",
       " 'mean_accuracy': 0.9414802791070261,\n",
       " 'std_accuracy': 0.009015348372867748,\n",
       " 'mean_precision': 0.827998556998557,\n",
       " 'std_precision': 0.040190148027024565,\n",
       " 'mean_recall': 0.7544455544455545,\n",
       " 'std_recall': 0.03325444765253921,\n",
       " 'mean_f1': 0.7891450034685641,\n",
       " 'std_f1': 0.03226935185750168}"
      ]
     },
     "execution_count": 483,
     "metadata": {},
     "output_type": "execute_result"
    }
   ],
   "source": [
    "cross_val_report('test',Ran_XGB_1.best_estimator_,X_train,y_train)\n"
   ]
  },
  {
   "cell_type": "code",
   "execution_count": 679,
   "metadata": {},
   "outputs": [],
   "source": [
    "cross_val_df = append_df(cross_val_report('XGB_Grid_Search_1',XGB_GS_1.best_estimator_,X_train,y_train),cross_val_df)"
   ]
  },
  {
   "cell_type": "code",
   "execution_count": 683,
   "metadata": {},
   "outputs": [
    {
     "data": {
      "text/plain": [
       "{'model_2__colsample_bytree': 0.7,\n",
       " 'model_2__learning_rate': 0.3,\n",
       " 'model_2__max_depth': 6,\n",
       " 'model_2__n_estimators': 100,\n",
       " 'model_2__subsample': 1}"
      ]
     },
     "execution_count": 683,
     "metadata": {},
     "output_type": "execute_result"
    }
   ],
   "source": [
    "XGB_GS_1.best_params_"
   ]
  },
  {
   "cell_type": "markdown",
   "metadata": {},
   "source": [
    "Wonderful! The XGB Tuned model was able to achieve 82% recall with only .038 standard deviation and maintained a 84% precision. I will attempt a couple of more tunes with this model in order to maybe boost the recall score and fine tune this model!"
   ]
  },
  {
   "cell_type": "code",
   "execution_count": 684,
   "metadata": {},
   "outputs": [],
   "source": [
    "XGB_Params_2={'model_2__max_depth':[6,7,8],\n",
    "             'model_2__learning_rate':[.2,.3],\n",
    "             'model_2__n_estimators':[100,125],\n",
    "             'model_2__colsample_bytree':[.6,.7,.8],\n",
    "             'model_2__subsample':[.8,.9,1]}"
   ]
  },
  {
   "cell_type": "code",
   "execution_count": 685,
   "metadata": {},
   "outputs": [
    {
     "data": {
      "text/plain": [
       "GridSearchCV(cv=5,\n",
       "             estimator=SkippaPipeline(steps=[('scale_standard_0',\n",
       "                                              SkippaStandardScaler(cols=<skippa.transformers.base.ColumnSelector object at 0x7fde4a62d820>,\n",
       "                                                                   copy=True,\n",
       "                                                                   with_mean=True,\n",
       "                                                                   with_std=True)),\n",
       "                                             ('onehot_1',\n",
       "                                              SkippaOneHotEncoder(categories='auto',\n",
       "                                                                  cols=<skippa.transformers.base.ColumnSelector object at 0x7fde4a62d580>,\n",
       "                                                                  drop=None,\n",
       "                                                                  dtype=<class 'numpy.f...\n",
       "                                                            random_state=0,\n",
       "                                                            reg_alpha=0,\n",
       "                                                            reg_lambda=1,\n",
       "                                                            scale_pos_weight=80,\n",
       "                                                            subsample=1,\n",
       "                                                            tree_method='exact',\n",
       "                                                            validate_parameters=1,\n",
       "                                                            verbosity=None))]),\n",
       "             param_grid={'model_2__colsample_bytree': [0.6, 0.7, 0.8],\n",
       "                         'model_2__learning_rate': [0.2, 0.3],\n",
       "                         'model_2__max_depth': [6, 7, 8],\n",
       "                         'model_2__n_estimators': [100, 125],\n",
       "                         'model_2__subsample': [0.8, 0.9, 1]},\n",
       "             scoring=make_scorer(fbeta_score, beta=2))"
      ]
     },
     "execution_count": 685,
     "metadata": {},
     "output_type": "execute_result"
    }
   ],
   "source": [
    "XGB_GS_2= GridSearchCV(estimator= Base_XGBOOST,cv=5,param_grid=XGB_Params_2,scoring=two_scorer,refit=True)\n",
    "XGB_GS_2.fit(X_train, y_train)"
   ]
  },
  {
   "cell_type": "code",
   "execution_count": 695,
   "metadata": {},
   "outputs": [],
   "source": [
    "cross_val_df = append_df(cross_val_report('XB_GS_2',XGB_GS_2.best_estimator_,X_train,y_train),cross_val_df)"
   ]
  },
  {
   "cell_type": "code",
   "execution_count": 425,
   "metadata": {},
   "outputs": [
    {
     "data": {
      "text/html": [
       "<div>\n",
       "<style scoped>\n",
       "    .dataframe tbody tr th:only-of-type {\n",
       "        vertical-align: middle;\n",
       "    }\n",
       "\n",
       "    .dataframe tbody tr th {\n",
       "        vertical-align: top;\n",
       "    }\n",
       "\n",
       "    .dataframe thead th {\n",
       "        text-align: right;\n",
       "    }\n",
       "</style>\n",
       "<table border=\"1\" class=\"dataframe\">\n",
       "  <thead>\n",
       "    <tr style=\"text-align: right;\">\n",
       "      <th></th>\n",
       "      <th>model_name</th>\n",
       "      <th>mean_accuracy</th>\n",
       "      <th>std_accuracy</th>\n",
       "      <th>mean_precision</th>\n",
       "      <th>std_precision</th>\n",
       "      <th>mean_recall</th>\n",
       "      <th>std_recall</th>\n",
       "      <th>mean_f1</th>\n",
       "      <th>std_f1</th>\n",
       "    </tr>\n",
       "  </thead>\n",
       "  <tbody>\n",
       "    <tr>\n",
       "      <th>0</th>\n",
       "      <td>Logistic_Regression_Grid</td>\n",
       "      <td>0.761813</td>\n",
       "      <td>0.010476</td>\n",
       "      <td>0.351270</td>\n",
       "      <td>0.012696</td>\n",
       "      <td>0.754579</td>\n",
       "      <td>0.027855</td>\n",
       "      <td>0.479190</td>\n",
       "      <td>0.014369</td>\n",
       "    </tr>\n",
       "    <tr>\n",
       "      <th>1</th>\n",
       "      <td>KNN_Tuned</td>\n",
       "      <td>0.894090</td>\n",
       "      <td>0.008459</td>\n",
       "      <td>0.788693</td>\n",
       "      <td>0.035826</td>\n",
       "      <td>0.368428</td>\n",
       "      <td>0.070499</td>\n",
       "      <td>0.498233</td>\n",
       "      <td>0.066698</td>\n",
       "    </tr>\n",
       "    <tr>\n",
       "      <th>2</th>\n",
       "      <td>DTC_Tuned_1</td>\n",
       "      <td>0.932102</td>\n",
       "      <td>0.009919</td>\n",
       "      <td>0.744311</td>\n",
       "      <td>0.039434</td>\n",
       "      <td>0.824442</td>\n",
       "      <td>0.047813</td>\n",
       "      <td>0.776484</td>\n",
       "      <td>0.033504</td>\n",
       "    </tr>\n",
       "    <tr>\n",
       "      <th>3</th>\n",
       "      <td>DTC_Tuned_2</td>\n",
       "      <td>0.932111</td>\n",
       "      <td>0.010271</td>\n",
       "      <td>0.742428</td>\n",
       "      <td>0.012168</td>\n",
       "      <td>0.798568</td>\n",
       "      <td>0.040830</td>\n",
       "      <td>0.758572</td>\n",
       "      <td>0.028682</td>\n",
       "    </tr>\n",
       "    <tr>\n",
       "      <th>4</th>\n",
       "      <td>Base Decision Tree</td>\n",
       "      <td>0.923854</td>\n",
       "      <td>0.003033</td>\n",
       "      <td>0.736806</td>\n",
       "      <td>0.012163</td>\n",
       "      <td>0.759907</td>\n",
       "      <td>0.043945</td>\n",
       "      <td>0.745771</td>\n",
       "      <td>0.006835</td>\n",
       "    </tr>\n",
       "    <tr>\n",
       "      <th>5</th>\n",
       "      <td>Bagged Trees Search 1</td>\n",
       "      <td>0.958360</td>\n",
       "      <td>0.007383</td>\n",
       "      <td>0.949387</td>\n",
       "      <td>0.038444</td>\n",
       "      <td>0.757276</td>\n",
       "      <td>0.041563</td>\n",
       "      <td>0.847578</td>\n",
       "      <td>0.029793</td>\n",
       "    </tr>\n",
       "    <tr>\n",
       "      <th>6</th>\n",
       "      <td>Random_Forrest_GS_1</td>\n",
       "      <td>0.956861</td>\n",
       "      <td>0.005754</td>\n",
       "      <td>0.910951</td>\n",
       "      <td>0.043082</td>\n",
       "      <td>0.808858</td>\n",
       "      <td>0.047762</td>\n",
       "      <td>0.846273</td>\n",
       "      <td>0.032727</td>\n",
       "    </tr>\n",
       "    <tr>\n",
       "      <th>7</th>\n",
       "      <td>Random_Forrest_GS_2</td>\n",
       "      <td>0.955734</td>\n",
       "      <td>0.010335</td>\n",
       "      <td>0.845523</td>\n",
       "      <td>0.039898</td>\n",
       "      <td>0.829637</td>\n",
       "      <td>0.041788</td>\n",
       "      <td>0.844857</td>\n",
       "      <td>0.028920</td>\n",
       "    </tr>\n",
       "    <tr>\n",
       "      <th>8</th>\n",
       "      <td>Ada Grid Search 1</td>\n",
       "      <td>0.923856</td>\n",
       "      <td>0.002266</td>\n",
       "      <td>0.730401</td>\n",
       "      <td>0.028582</td>\n",
       "      <td>0.759907</td>\n",
       "      <td>0.046633</td>\n",
       "      <td>0.741722</td>\n",
       "      <td>0.010657</td>\n",
       "    </tr>\n",
       "  </tbody>\n",
       "</table>\n",
       "</div>"
      ],
      "text/plain": [
       "                 model_name  mean_accuracy  std_accuracy  mean_precision  \\\n",
       "0  Logistic_Regression_Grid       0.761813      0.010476        0.351270   \n",
       "1                 KNN_Tuned       0.894090      0.008459        0.788693   \n",
       "2               DTC_Tuned_1       0.932102      0.009919        0.744311   \n",
       "3               DTC_Tuned_2       0.932111      0.010271        0.742428   \n",
       "4        Base Decision Tree       0.923854      0.003033        0.736806   \n",
       "5     Bagged Trees Search 1       0.958360      0.007383        0.949387   \n",
       "6       Random_Forrest_GS_1       0.956861      0.005754        0.910951   \n",
       "7       Random_Forrest_GS_2       0.955734      0.010335        0.845523   \n",
       "8         Ada Grid Search 1       0.923856      0.002266        0.730401   \n",
       "\n",
       "   std_precision  mean_recall  std_recall   mean_f1    std_f1  \n",
       "0       0.012696     0.754579    0.027855  0.479190  0.014369  \n",
       "1       0.035826     0.368428    0.070499  0.498233  0.066698  \n",
       "2       0.039434     0.824442    0.047813  0.776484  0.033504  \n",
       "3       0.012168     0.798568    0.040830  0.758572  0.028682  \n",
       "4       0.012163     0.759907    0.043945  0.745771  0.006835  \n",
       "5       0.038444     0.757276    0.041563  0.847578  0.029793  \n",
       "6       0.043082     0.808858    0.047762  0.846273  0.032727  \n",
       "7       0.039898     0.829637    0.041788  0.844857  0.028920  \n",
       "8       0.028582     0.759907    0.046633  0.741722  0.010657  "
      ]
     },
     "execution_count": 425,
     "metadata": {},
     "output_type": "execute_result"
    }
   ],
   "source": [
    "cross_val_df"
   ]
  },
  {
   "cell_type": "code",
   "execution_count": 719,
   "metadata": {},
   "outputs": [],
   "source": [
    "XGB_Params_3={'model_2__colsample_bytree': [.6,.7],\n",
    " 'model_2__learning_rate': [0.2,.3],\n",
    " 'model_2__max_depth': [3,4,5],\n",
    " 'model_2__n_estimators': [125,135,145],\n",
    " 'model_2__subsample': [.6,.7,.8,.9]}\n",
    "\n"
   ]
  },
  {
   "cell_type": "code",
   "execution_count": 720,
   "metadata": {},
   "outputs": [
    {
     "data": {
      "text/plain": [
       "GridSearchCV(cv=5,\n",
       "             estimator=SkippaPipeline(steps=[('scale_standard_0',\n",
       "                                              SkippaStandardScaler(cols=<skippa.transformers.base.ColumnSelector object at 0x7fde4a62d820>,\n",
       "                                                                   copy=True,\n",
       "                                                                   with_mean=True,\n",
       "                                                                   with_std=True)),\n",
       "                                             ('onehot_1',\n",
       "                                              SkippaOneHotEncoder(categories='auto',\n",
       "                                                                  cols=<skippa.transformers.base.ColumnSelector object at 0x7fde4a62d580>,\n",
       "                                                                  drop=None,\n",
       "                                                                  dtype=<class 'numpy.f...\n",
       "                                                            reg_alpha=0,\n",
       "                                                            reg_lambda=1,\n",
       "                                                            scale_pos_weight=80,\n",
       "                                                            subsample=1,\n",
       "                                                            tree_method='exact',\n",
       "                                                            validate_parameters=1,\n",
       "                                                            verbosity=None))]),\n",
       "             param_grid={'model_2__colsample_bytree': [0.6, 0.7],\n",
       "                         'model_2__learning_rate': [0.2, 0.3],\n",
       "                         'model_2__max_depth': [3, 4, 5],\n",
       "                         'model_2__n_estimators': [125, 135, 145],\n",
       "                         'model_2__subsample': [0.6, 0.7, 0.8, 0.9]},\n",
       "             scoring=make_scorer(fbeta_score, beta=2))"
      ]
     },
     "execution_count": 720,
     "metadata": {},
     "output_type": "execute_result"
    }
   ],
   "source": [
    "XGB_GS_3= GridSearchCV(estimator= Base_XGBOOST,cv=5,param_grid=XGB_Params_3,scoring=two_scorer,refit=True)\n",
    "XGB_GS_3.fit(X_train, y_train)"
   ]
  },
  {
   "cell_type": "code",
   "execution_count": null,
   "metadata": {},
   "outputs": [],
   "source": []
  },
  {
   "cell_type": "code",
   "execution_count": 725,
   "metadata": {},
   "outputs": [
    {
     "data": {
      "text/plain": [
       "{'model_name': 'fitting?',\n",
       " 'accuracy': 0.9490254872563718,\n",
       " 'precision': 0.8369565217391305,\n",
       " 'recall': 0.8020833333333334,\n",
       " 'f1': 0.8191489361702128}"
      ]
     },
     "execution_count": 725,
     "metadata": {},
     "output_type": "execute_result"
    }
   ],
   "source": [
    "score_report('fitting?',XGB_GS_3.best_estimator_,X_test,y_test)"
   ]
  },
  {
   "cell_type": "code",
   "execution_count": 699,
   "metadata": {},
   "outputs": [
    {
     "data": {
      "text/plain": [
       "{'model_name': 'XGB_GS_3',\n",
       " 'mean_accuracy': 0.9534870811110876,\n",
       " 'std_accuracy': 0.004668356328470942,\n",
       " 'mean_precision': 0.8435710262369798,\n",
       " 'std_precision': 0.012426250158112268,\n",
       " 'mean_recall': 0.8346986346986348,\n",
       " 'std_recall': 0.03540568784933021,\n",
       " 'mean_f1': 0.8386601749367756,\n",
       " 'std_f1': 0.018839543735695467}"
      ]
     },
     "execution_count": 699,
     "metadata": {},
     "output_type": "execute_result"
    }
   ],
   "source": [
    "cross_val_report('XGB_GS_3',XGB_GS_3.best_estimator_,X_train,y_train)"
   ]
  },
  {
   "cell_type": "code",
   "execution_count": 700,
   "metadata": {},
   "outputs": [],
   "source": [
    "cross_val_df = append_df(cross_val_report('XGB_GS_3',XGB_GS_3.best_estimator_,X_train,y_train),cross_val_df)"
   ]
  },
  {
   "cell_type": "code",
   "execution_count": 709,
   "metadata": {},
   "outputs": [],
   "source": [
    "model_df = append_df(score_report('XGB_GS_2',XGB_GS_1.best_estimator_,X_train,y_train),models_df)"
   ]
  },
  {
   "cell_type": "code",
   "execution_count": 710,
   "metadata": {},
   "outputs": [
    {
     "data": {
      "text/html": [
       "<div>\n",
       "<style scoped>\n",
       "    .dataframe tbody tr th:only-of-type {\n",
       "        vertical-align: middle;\n",
       "    }\n",
       "\n",
       "    .dataframe tbody tr th {\n",
       "        vertical-align: top;\n",
       "    }\n",
       "\n",
       "    .dataframe thead th {\n",
       "        text-align: right;\n",
       "    }\n",
       "</style>\n",
       "<table border=\"1\" class=\"dataframe\">\n",
       "  <thead>\n",
       "    <tr style=\"text-align: right;\">\n",
       "      <th></th>\n",
       "      <th>model_name</th>\n",
       "      <th>accuracy</th>\n",
       "      <th>precision</th>\n",
       "      <th>recall</th>\n",
       "      <th>f1</th>\n",
       "    </tr>\n",
       "  </thead>\n",
       "  <tbody>\n",
       "    <tr>\n",
       "      <th>0</th>\n",
       "      <td>LogisticBaseline</td>\n",
       "      <td>0.863186</td>\n",
       "      <td>0.578947</td>\n",
       "      <td>0.204969</td>\n",
       "      <td>0.302752</td>\n",
       "    </tr>\n",
       "    <tr>\n",
       "      <th>1</th>\n",
       "      <td>LogisticTuned</td>\n",
       "      <td>0.770068</td>\n",
       "      <td>0.364508</td>\n",
       "      <td>0.785530</td>\n",
       "      <td>0.497952</td>\n",
       "    </tr>\n",
       "    <tr>\n",
       "      <th>2</th>\n",
       "      <td>KNN Base</td>\n",
       "      <td>0.912603</td>\n",
       "      <td>0.958333</td>\n",
       "      <td>0.416021</td>\n",
       "      <td>0.580180</td>\n",
       "    </tr>\n",
       "    <tr>\n",
       "      <th>3</th>\n",
       "      <td>Base Decision Tree</td>\n",
       "      <td>1.000000</td>\n",
       "      <td>1.000000</td>\n",
       "      <td>1.000000</td>\n",
       "      <td>1.000000</td>\n",
       "    </tr>\n",
       "    <tr>\n",
       "      <th>4</th>\n",
       "      <td>Bagged Trees Search 1</td>\n",
       "      <td>0.992498</td>\n",
       "      <td>1.000000</td>\n",
       "      <td>0.948320</td>\n",
       "      <td>0.973475</td>\n",
       "    </tr>\n",
       "    <tr>\n",
       "      <th>5</th>\n",
       "      <td>Random_Forrest_GS_2</td>\n",
       "      <td>0.965866</td>\n",
       "      <td>0.885417</td>\n",
       "      <td>0.878553</td>\n",
       "      <td>0.881971</td>\n",
       "    </tr>\n",
       "    <tr>\n",
       "      <th>6</th>\n",
       "      <td>XGB_Base</td>\n",
       "      <td>1.000000</td>\n",
       "      <td>1.000000</td>\n",
       "      <td>1.000000</td>\n",
       "      <td>1.000000</td>\n",
       "    </tr>\n",
       "    <tr>\n",
       "      <th>7</th>\n",
       "      <td>XGB_GS_2</td>\n",
       "      <td>1.000000</td>\n",
       "      <td>1.000000</td>\n",
       "      <td>1.000000</td>\n",
       "      <td>1.000000</td>\n",
       "    </tr>\n",
       "  </tbody>\n",
       "</table>\n",
       "</div>"
      ],
      "text/plain": [
       "              model_name  accuracy  precision    recall        f1\n",
       "0       LogisticBaseline  0.863186   0.578947  0.204969  0.302752\n",
       "1          LogisticTuned  0.770068   0.364508  0.785530  0.497952\n",
       "2               KNN Base  0.912603   0.958333  0.416021  0.580180\n",
       "3     Base Decision Tree  1.000000   1.000000  1.000000  1.000000\n",
       "4  Bagged Trees Search 1  0.992498   1.000000  0.948320  0.973475\n",
       "5    Random_Forrest_GS_2  0.965866   0.885417  0.878553  0.881971\n",
       "6               XGB_Base  1.000000   1.000000  1.000000  1.000000\n",
       "7               XGB_GS_2  1.000000   1.000000  1.000000  1.000000"
      ]
     },
     "execution_count": 710,
     "metadata": {},
     "output_type": "execute_result"
    }
   ],
   "source": [
    "model_df"
   ]
  },
  {
   "cell_type": "code",
   "execution_count": 745,
   "metadata": {},
   "outputs": [
    {
     "data": {
      "text/html": [
       "<div>\n",
       "<style scoped>\n",
       "    .dataframe tbody tr th:only-of-type {\n",
       "        vertical-align: middle;\n",
       "    }\n",
       "\n",
       "    .dataframe tbody tr th {\n",
       "        vertical-align: top;\n",
       "    }\n",
       "\n",
       "    .dataframe thead th {\n",
       "        text-align: right;\n",
       "    }\n",
       "</style>\n",
       "<table border=\"1\" class=\"dataframe\">\n",
       "  <thead>\n",
       "    <tr style=\"text-align: right;\">\n",
       "      <th></th>\n",
       "      <th>model_name</th>\n",
       "      <th>mean_accuracy</th>\n",
       "      <th>std_accuracy</th>\n",
       "      <th>mean_precision</th>\n",
       "      <th>std_precision</th>\n",
       "      <th>mean_recall</th>\n",
       "      <th>std_recall</th>\n",
       "      <th>mean_f1</th>\n",
       "      <th>std_f1</th>\n",
       "    </tr>\n",
       "  </thead>\n",
       "  <tbody>\n",
       "    <tr>\n",
       "      <th>0</th>\n",
       "      <td>Logistic_Regression_Grid</td>\n",
       "      <td>0.765188</td>\n",
       "      <td>0.011769</td>\n",
       "      <td>0.355624</td>\n",
       "      <td>0.013837</td>\n",
       "      <td>0.757110</td>\n",
       "      <td>0.004776</td>\n",
       "      <td>0.483813</td>\n",
       "      <td>0.013571</td>\n",
       "    </tr>\n",
       "    <tr>\n",
       "      <th>1</th>\n",
       "      <td>KNN_Tuned</td>\n",
       "      <td>0.854487</td>\n",
       "      <td>0.006036</td>\n",
       "      <td>0.493851</td>\n",
       "      <td>0.030106</td>\n",
       "      <td>0.345704</td>\n",
       "      <td>0.066735</td>\n",
       "      <td>0.404528</td>\n",
       "      <td>0.056309</td>\n",
       "    </tr>\n",
       "    <tr>\n",
       "      <th>2</th>\n",
       "      <td>DTC_Tuned_1</td>\n",
       "      <td>0.922350</td>\n",
       "      <td>0.017485</td>\n",
       "      <td>0.712304</td>\n",
       "      <td>0.062350</td>\n",
       "      <td>0.790743</td>\n",
       "      <td>0.035662</td>\n",
       "      <td>0.748555</td>\n",
       "      <td>0.047632</td>\n",
       "    </tr>\n",
       "    <tr>\n",
       "      <th>3</th>\n",
       "      <td>DTC_Tuned_2</td>\n",
       "      <td>0.914468</td>\n",
       "      <td>0.021602</td>\n",
       "      <td>0.682005</td>\n",
       "      <td>0.080712</td>\n",
       "      <td>0.806294</td>\n",
       "      <td>0.033278</td>\n",
       "      <td>0.736116</td>\n",
       "      <td>0.050493</td>\n",
       "    </tr>\n",
       "    <tr>\n",
       "      <th>4</th>\n",
       "      <td>Bagged Trees Search 1</td>\n",
       "      <td>0.944108</td>\n",
       "      <td>0.010603</td>\n",
       "      <td>0.874363</td>\n",
       "      <td>0.039309</td>\n",
       "      <td>0.720813</td>\n",
       "      <td>0.034027</td>\n",
       "      <td>0.794476</td>\n",
       "      <td>0.034275</td>\n",
       "    </tr>\n",
       "    <tr>\n",
       "      <th>5</th>\n",
       "      <td>Random_Forrest_GS_1</td>\n",
       "      <td>0.939608</td>\n",
       "      <td>0.006784</td>\n",
       "      <td>0.814456</td>\n",
       "      <td>0.034338</td>\n",
       "      <td>0.801099</td>\n",
       "      <td>0.042710</td>\n",
       "      <td>0.798197</td>\n",
       "      <td>0.028269</td>\n",
       "    </tr>\n",
       "    <tr>\n",
       "      <th>6</th>\n",
       "      <td>Random_Forrest_GS_2</td>\n",
       "      <td>0.937353</td>\n",
       "      <td>0.009981</td>\n",
       "      <td>0.783386</td>\n",
       "      <td>0.051563</td>\n",
       "      <td>0.803630</td>\n",
       "      <td>0.046081</td>\n",
       "      <td>0.792542</td>\n",
       "      <td>0.032295</td>\n",
       "    </tr>\n",
       "    <tr>\n",
       "      <th>7</th>\n",
       "      <td>Ada Grid Search 1</td>\n",
       "      <td>0.903214</td>\n",
       "      <td>0.016332</td>\n",
       "      <td>0.653511</td>\n",
       "      <td>0.052047</td>\n",
       "      <td>0.697636</td>\n",
       "      <td>0.061284</td>\n",
       "      <td>0.674369</td>\n",
       "      <td>0.052944</td>\n",
       "    </tr>\n",
       "    <tr>\n",
       "      <th>8</th>\n",
       "      <td>XGB_Grid_Search_1</td>\n",
       "      <td>0.952362</td>\n",
       "      <td>0.004386</td>\n",
       "      <td>0.842322</td>\n",
       "      <td>0.008557</td>\n",
       "      <td>0.827006</td>\n",
       "      <td>0.038065</td>\n",
       "      <td>0.834052</td>\n",
       "      <td>0.018794</td>\n",
       "    </tr>\n",
       "    <tr>\n",
       "      <th>9</th>\n",
       "      <td>XB_GS_2</td>\n",
       "      <td>0.954987</td>\n",
       "      <td>0.003950</td>\n",
       "      <td>0.852711</td>\n",
       "      <td>0.014094</td>\n",
       "      <td>0.834699</td>\n",
       "      <td>0.035406</td>\n",
       "      <td>0.843026</td>\n",
       "      <td>0.016682</td>\n",
       "    </tr>\n",
       "    <tr>\n",
       "      <th>10</th>\n",
       "      <td>XGB_GS_3</td>\n",
       "      <td>0.953487</td>\n",
       "      <td>0.004668</td>\n",
       "      <td>0.843571</td>\n",
       "      <td>0.012426</td>\n",
       "      <td>0.834699</td>\n",
       "      <td>0.035406</td>\n",
       "      <td>0.838660</td>\n",
       "      <td>0.018840</td>\n",
       "    </tr>\n",
       "  </tbody>\n",
       "</table>\n",
       "</div>"
      ],
      "text/plain": [
       "                  model_name  mean_accuracy  std_accuracy  mean_precision  \\\n",
       "0   Logistic_Regression_Grid       0.765188      0.011769        0.355624   \n",
       "1                  KNN_Tuned       0.854487      0.006036        0.493851   \n",
       "2                DTC_Tuned_1       0.922350      0.017485        0.712304   \n",
       "3                DTC_Tuned_2       0.914468      0.021602        0.682005   \n",
       "4      Bagged Trees Search 1       0.944108      0.010603        0.874363   \n",
       "5        Random_Forrest_GS_1       0.939608      0.006784        0.814456   \n",
       "6        Random_Forrest_GS_2       0.937353      0.009981        0.783386   \n",
       "7          Ada Grid Search 1       0.903214      0.016332        0.653511   \n",
       "8          XGB_Grid_Search_1       0.952362      0.004386        0.842322   \n",
       "9                    XB_GS_2       0.954987      0.003950        0.852711   \n",
       "10                  XGB_GS_3       0.953487      0.004668        0.843571   \n",
       "\n",
       "    std_precision  mean_recall  std_recall   mean_f1    std_f1  \n",
       "0        0.013837     0.757110    0.004776  0.483813  0.013571  \n",
       "1        0.030106     0.345704    0.066735  0.404528  0.056309  \n",
       "2        0.062350     0.790743    0.035662  0.748555  0.047632  \n",
       "3        0.080712     0.806294    0.033278  0.736116  0.050493  \n",
       "4        0.039309     0.720813    0.034027  0.794476  0.034275  \n",
       "5        0.034338     0.801099    0.042710  0.798197  0.028269  \n",
       "6        0.051563     0.803630    0.046081  0.792542  0.032295  \n",
       "7        0.052047     0.697636    0.061284  0.674369  0.052944  \n",
       "8        0.008557     0.827006    0.038065  0.834052  0.018794  \n",
       "9        0.014094     0.834699    0.035406  0.843026  0.016682  \n",
       "10       0.012426     0.834699    0.035406  0.838660  0.018840  "
      ]
     },
     "execution_count": 745,
     "metadata": {},
     "output_type": "execute_result"
    }
   ],
   "source": [
    "cross_val_df"
   ]
  },
  {
   "cell_type": "code",
   "execution_count": 756,
   "metadata": {},
   "outputs": [],
   "source": [
    "models_df = append_df(score_report('XGB_Grid_Search_3',XGB_GS_3.best_estimator_,X_train,y_train),models_df)"
   ]
  },
  {
   "cell_type": "markdown",
   "metadata": {},
   "source": [
    "### Removing Features"
   ]
  },
  {
   "cell_type": "code",
   "execution_count": 806,
   "metadata": {},
   "outputs": [
    {
     "data": {
      "text/plain": [
       "array([0.02845947, 0.05026546, 0.06433205, 0.03313576, 0.01888132,\n",
       "       0.02411417, 0.0273796 , 0.02804765, 0.02280798, 0.02572207,\n",
       "       0.04086073, 0.04242943, 0.06981562, 0.02313401, 0.10259807,\n",
       "       0.01546093, 0.00551428, 0.00836308, 0.17959079, 0.14662187,\n",
       "       0.02694395, 0.01552159], dtype=float32)"
      ]
     },
     "execution_count": 806,
     "metadata": {},
     "output_type": "execute_result"
    }
   ],
   "source": [
    "XGB_GS_1.best_estimator_.steps[2][1].feature_importances_"
   ]
  },
  {
   "cell_type": "code",
   "execution_count": 811,
   "metadata": {},
   "outputs": [],
   "source": [
    "feature_names = Preprocessed.fit_transform(X_train).columns"
   ]
  },
  {
   "cell_type": "code",
   "execution_count": 818,
   "metadata": {},
   "outputs": [],
   "source": [
    "feature_imps = list(zip(feature_names,importances))\n",
    "feature_imps = pd.DataFrame(feature_imps)"
   ]
  },
  {
   "cell_type": "code",
   "execution_count": 825,
   "metadata": {},
   "outputs": [],
   "source": [
    "feature_imps = feature_imps.sort_values(by=1,ascending=False)"
   ]
  },
  {
   "cell_type": "code",
   "execution_count": 817,
   "metadata": {},
   "outputs": [],
   "source": [
    "import seaborn as sns"
   ]
  },
  {
   "cell_type": "code",
   "execution_count": 831,
   "metadata": {},
   "outputs": [
    {
     "data": {
      "text/plain": [
       "<AxesSubplot:xlabel='1', ylabel='0'>"
      ]
     },
     "execution_count": 831,
     "metadata": {},
     "output_type": "execute_result"
    },
    {
     "data": {
      "image/png": "[encoded data removed]",
      "text/plain": [
       "<Figure size 432x1080 with 1 Axes>"
      ]
     },
     "metadata": {},
     "output_type": "display_data"
    }
   ],
   "source": [
    "f, ax = plt.subplots(figsize=(6, 15))\n",
    "import matplotlib.pyplot as plt\n",
    "sns.set_theme(style=\"whitegrid\")\n",
    "sns.barplot(data=feature_imps,x=1,y=0,color='b')"
   ]
  },
  {
   "cell_type": "markdown",
   "metadata": {},
   "source": [
    "I had been initially suspicious on the area code feature and I believe it will be okay to drop that from the training data for a more streamlined model. I will retrain the data after removing those unndeeded features."
   ]
  },
  {
   "cell_type": "code",
   "execution_count": 834,
   "metadata": {},
   "outputs": [],
   "source": [
    "Reduced_X_train = X_train.drop('area code',axis=1)"
   ]
  },
  {
   "cell_type": "code",
   "execution_count": 2,
   "metadata": {},
   "outputs": [
    {
     "ename": "NameError",
     "evalue": "name 'XGB_GS_1' is not defined",
     "output_type": "error",
     "traceback": [
      "\u001b[0;31m---------------------------------------------------------------------------\u001b[0m",
      "\u001b[0;31mNameError\u001b[0m                                 Traceback (most recent call last)",
      "\u001b[0;32m<ipython-input-2-025f65c11cec>\u001b[0m in \u001b[0;36m<module>\u001b[0;34m\u001b[0m\n\u001b[0;32m----> 1\u001b[0;31m \u001b[0mXGB_GS_1\u001b[0m\u001b[0;34m.\u001b[0m\u001b[0mbest_estimator_\u001b[0m\u001b[0;34m.\u001b[0m\u001b[0mfit\u001b[0m\u001b[0;34m(\u001b[0m\u001b[0mReduced_X_train\u001b[0m\u001b[0;34m,\u001b[0m\u001b[0my_train\u001b[0m\u001b[0;34m)\u001b[0m\u001b[0;34m\u001b[0m\u001b[0;34m\u001b[0m\u001b[0m\n\u001b[0m",
      "\u001b[0;31mNameError\u001b[0m: name 'XGB_GS_1' is not defined"
     ]
    }
   ],
   "source": [
    "XGB_GS_1.best_estimator_.fit(Reduced_X_train,y_train)"
   ]
  },
  {
   "cell_type": "code",
   "execution_count": 839,
   "metadata": {},
   "outputs": [],
   "source": [
    "Reduced_X_test = X_test.drop('area code',axis=1)"
   ]
  },
  {
   "cell_type": "code",
   "execution_count": 840,
   "metadata": {},
   "outputs": [
    {
     "data": {
      "text/plain": [
       "{'model_name': 'Reduced_XGB_GS',\n",
       " 'accuracy': 0.9475262368815592,\n",
       " 'precision': 0.8279569892473119,\n",
       " 'recall': 0.8020833333333334,\n",
       " 'f1': 0.8148148148148148}"
      ]
     },
     "execution_count": 840,
     "metadata": {},
     "output_type": "execute_result"
    }
   ],
   "source": [
    "score_report('Reduced_XGB_GS',XGB_GS_1.best_estimator_,Reduced_X_test,y_test)"
   ]
  },
  {
   "cell_type": "code",
   "execution_count": 843,
   "metadata": {},
   "outputs": [
    {
     "data": {
      "text/html": [
       "<div>\n",
       "<style scoped>\n",
       "    .dataframe tbody tr th:only-of-type {\n",
       "        vertical-align: middle;\n",
       "    }\n",
       "\n",
       "    .dataframe tbody tr th {\n",
       "        vertical-align: top;\n",
       "    }\n",
       "\n",
       "    .dataframe thead th {\n",
       "        text-align: right;\n",
       "    }\n",
       "</style>\n",
       "<table border=\"1\" class=\"dataframe\">\n",
       "  <thead>\n",
       "    <tr style=\"text-align: right;\">\n",
       "      <th></th>\n",
       "      <th>model_name</th>\n",
       "      <th>accuracy</th>\n",
       "      <th>precision</th>\n",
       "      <th>recall</th>\n",
       "      <th>f1</th>\n",
       "    </tr>\n",
       "  </thead>\n",
       "  <tbody>\n",
       "    <tr>\n",
       "      <th>0</th>\n",
       "      <td>LogisticBaseline</td>\n",
       "      <td>0.863186</td>\n",
       "      <td>0.578947</td>\n",
       "      <td>0.204969</td>\n",
       "      <td>0.302752</td>\n",
       "    </tr>\n",
       "    <tr>\n",
       "      <th>1</th>\n",
       "      <td>LogisticTuned</td>\n",
       "      <td>0.770068</td>\n",
       "      <td>0.364508</td>\n",
       "      <td>0.785530</td>\n",
       "      <td>0.497952</td>\n",
       "    </tr>\n",
       "    <tr>\n",
       "      <th>2</th>\n",
       "      <td>KNN Base</td>\n",
       "      <td>0.912603</td>\n",
       "      <td>0.958333</td>\n",
       "      <td>0.416021</td>\n",
       "      <td>0.580180</td>\n",
       "    </tr>\n",
       "    <tr>\n",
       "      <th>3</th>\n",
       "      <td>Base Decision Tree</td>\n",
       "      <td>1.000000</td>\n",
       "      <td>1.000000</td>\n",
       "      <td>1.000000</td>\n",
       "      <td>1.000000</td>\n",
       "    </tr>\n",
       "    <tr>\n",
       "      <th>4</th>\n",
       "      <td>Bagged Trees Search 1</td>\n",
       "      <td>0.992498</td>\n",
       "      <td>1.000000</td>\n",
       "      <td>0.948320</td>\n",
       "      <td>0.973475</td>\n",
       "    </tr>\n",
       "    <tr>\n",
       "      <th>5</th>\n",
       "      <td>Random_Forrest_GS_2</td>\n",
       "      <td>0.965866</td>\n",
       "      <td>0.885417</td>\n",
       "      <td>0.878553</td>\n",
       "      <td>0.881971</td>\n",
       "    </tr>\n",
       "    <tr>\n",
       "      <th>6</th>\n",
       "      <td>XGB_Base</td>\n",
       "      <td>1.000000</td>\n",
       "      <td>1.000000</td>\n",
       "      <td>1.000000</td>\n",
       "      <td>1.000000</td>\n",
       "    </tr>\n",
       "    <tr>\n",
       "      <th>7</th>\n",
       "      <td>XGB_Grid_Search_1</td>\n",
       "      <td>1.000000</td>\n",
       "      <td>1.000000</td>\n",
       "      <td>1.000000</td>\n",
       "      <td>1.000000</td>\n",
       "    </tr>\n",
       "    <tr>\n",
       "      <th>8</th>\n",
       "      <td>XGB_Grid_Search_2</td>\n",
       "      <td>1.000000</td>\n",
       "      <td>1.000000</td>\n",
       "      <td>1.000000</td>\n",
       "      <td>1.000000</td>\n",
       "    </tr>\n",
       "    <tr>\n",
       "      <th>9</th>\n",
       "      <td>XGB_Grid_Search_3</td>\n",
       "      <td>0.975619</td>\n",
       "      <td>0.856195</td>\n",
       "      <td>1.000000</td>\n",
       "      <td>0.922527</td>\n",
       "    </tr>\n",
       "  </tbody>\n",
       "</table>\n",
       "</div>"
      ],
      "text/plain": [
       "              model_name  accuracy  precision    recall        f1\n",
       "0       LogisticBaseline  0.863186   0.578947  0.204969  0.302752\n",
       "1          LogisticTuned  0.770068   0.364508  0.785530  0.497952\n",
       "2               KNN Base  0.912603   0.958333  0.416021  0.580180\n",
       "3     Base Decision Tree  1.000000   1.000000  1.000000  1.000000\n",
       "4  Bagged Trees Search 1  0.992498   1.000000  0.948320  0.973475\n",
       "5    Random_Forrest_GS_2  0.965866   0.885417  0.878553  0.881971\n",
       "6               XGB_Base  1.000000   1.000000  1.000000  1.000000\n",
       "7      XGB_Grid_Search_1  1.000000   1.000000  1.000000  1.000000\n",
       "8      XGB_Grid_Search_2  1.000000   1.000000  1.000000  1.000000\n",
       "9      XGB_Grid_Search_3  0.975619   0.856195  1.000000  0.922527"
      ]
     },
     "execution_count": 843,
     "metadata": {},
     "output_type": "execute_result"
    }
   ],
   "source": []
  },
  {
   "cell_type": "code",
   "execution_count": 846,
   "metadata": {},
   "outputs": [
    {
     "data": {
      "text/html": [
       "<div>\n",
       "<style scoped>\n",
       "    .dataframe tbody tr th:only-of-type {\n",
       "        vertical-align: middle;\n",
       "    }\n",
       "\n",
       "    .dataframe tbody tr th {\n",
       "        vertical-align: top;\n",
       "    }\n",
       "\n",
       "    .dataframe thead th {\n",
       "        text-align: right;\n",
       "    }\n",
       "</style>\n",
       "<table border=\"1\" class=\"dataframe\">\n",
       "  <thead>\n",
       "    <tr style=\"text-align: right;\">\n",
       "      <th></th>\n",
       "      <th>model_name</th>\n",
       "      <th>mean_accuracy</th>\n",
       "      <th>std_accuracy</th>\n",
       "      <th>mean_precision</th>\n",
       "      <th>std_precision</th>\n",
       "      <th>mean_recall</th>\n",
       "      <th>std_recall</th>\n",
       "      <th>mean_f1</th>\n",
       "      <th>std_f1</th>\n",
       "    </tr>\n",
       "  </thead>\n",
       "  <tbody>\n",
       "    <tr>\n",
       "      <th>0</th>\n",
       "      <td>Logistic_Regression_Grid</td>\n",
       "      <td>0.765188</td>\n",
       "      <td>0.011769</td>\n",
       "      <td>0.355624</td>\n",
       "      <td>0.013837</td>\n",
       "      <td>0.757110</td>\n",
       "      <td>0.004776</td>\n",
       "      <td>0.483813</td>\n",
       "      <td>0.013571</td>\n",
       "    </tr>\n",
       "    <tr>\n",
       "      <th>1</th>\n",
       "      <td>KNN_Tuned</td>\n",
       "      <td>0.854487</td>\n",
       "      <td>0.006036</td>\n",
       "      <td>0.493851</td>\n",
       "      <td>0.030106</td>\n",
       "      <td>0.345704</td>\n",
       "      <td>0.066735</td>\n",
       "      <td>0.404528</td>\n",
       "      <td>0.056309</td>\n",
       "    </tr>\n",
       "    <tr>\n",
       "      <th>2</th>\n",
       "      <td>DTC_Tuned_1</td>\n",
       "      <td>0.922350</td>\n",
       "      <td>0.017485</td>\n",
       "      <td>0.712304</td>\n",
       "      <td>0.062350</td>\n",
       "      <td>0.790743</td>\n",
       "      <td>0.035662</td>\n",
       "      <td>0.748555</td>\n",
       "      <td>0.047632</td>\n",
       "    </tr>\n",
       "    <tr>\n",
       "      <th>3</th>\n",
       "      <td>DTC_Tuned_2</td>\n",
       "      <td>0.914468</td>\n",
       "      <td>0.021602</td>\n",
       "      <td>0.682005</td>\n",
       "      <td>0.080712</td>\n",
       "      <td>0.806294</td>\n",
       "      <td>0.033278</td>\n",
       "      <td>0.736116</td>\n",
       "      <td>0.050493</td>\n",
       "    </tr>\n",
       "    <tr>\n",
       "      <th>4</th>\n",
       "      <td>Bagged Trees Search 1</td>\n",
       "      <td>0.944108</td>\n",
       "      <td>0.010603</td>\n",
       "      <td>0.874363</td>\n",
       "      <td>0.039309</td>\n",
       "      <td>0.720813</td>\n",
       "      <td>0.034027</td>\n",
       "      <td>0.794476</td>\n",
       "      <td>0.034275</td>\n",
       "    </tr>\n",
       "    <tr>\n",
       "      <th>5</th>\n",
       "      <td>Random_Forrest_GS_1</td>\n",
       "      <td>0.939608</td>\n",
       "      <td>0.006784</td>\n",
       "      <td>0.814456</td>\n",
       "      <td>0.034338</td>\n",
       "      <td>0.801099</td>\n",
       "      <td>0.042710</td>\n",
       "      <td>0.798197</td>\n",
       "      <td>0.028269</td>\n",
       "    </tr>\n",
       "    <tr>\n",
       "      <th>6</th>\n",
       "      <td>Random_Forrest_GS_2</td>\n",
       "      <td>0.937353</td>\n",
       "      <td>0.009981</td>\n",
       "      <td>0.783386</td>\n",
       "      <td>0.051563</td>\n",
       "      <td>0.803630</td>\n",
       "      <td>0.046081</td>\n",
       "      <td>0.792542</td>\n",
       "      <td>0.032295</td>\n",
       "    </tr>\n",
       "    <tr>\n",
       "      <th>7</th>\n",
       "      <td>Ada Grid Search 1</td>\n",
       "      <td>0.903214</td>\n",
       "      <td>0.016332</td>\n",
       "      <td>0.653511</td>\n",
       "      <td>0.052047</td>\n",
       "      <td>0.697636</td>\n",
       "      <td>0.061284</td>\n",
       "      <td>0.674369</td>\n",
       "      <td>0.052944</td>\n",
       "    </tr>\n",
       "    <tr>\n",
       "      <th>8</th>\n",
       "      <td>XGB_Grid_Search_1</td>\n",
       "      <td>0.952362</td>\n",
       "      <td>0.004386</td>\n",
       "      <td>0.842322</td>\n",
       "      <td>0.008557</td>\n",
       "      <td>0.827006</td>\n",
       "      <td>0.038065</td>\n",
       "      <td>0.834052</td>\n",
       "      <td>0.018794</td>\n",
       "    </tr>\n",
       "    <tr>\n",
       "      <th>9</th>\n",
       "      <td>XB_GS_2</td>\n",
       "      <td>0.954987</td>\n",
       "      <td>0.003950</td>\n",
       "      <td>0.852711</td>\n",
       "      <td>0.014094</td>\n",
       "      <td>0.834699</td>\n",
       "      <td>0.035406</td>\n",
       "      <td>0.843026</td>\n",
       "      <td>0.016682</td>\n",
       "    </tr>\n",
       "    <tr>\n",
       "      <th>10</th>\n",
       "      <td>XGB_GS_3</td>\n",
       "      <td>0.953487</td>\n",
       "      <td>0.004668</td>\n",
       "      <td>0.843571</td>\n",
       "      <td>0.012426</td>\n",
       "      <td>0.834699</td>\n",
       "      <td>0.035406</td>\n",
       "      <td>0.838660</td>\n",
       "      <td>0.018840</td>\n",
       "    </tr>\n",
       "  </tbody>\n",
       "</table>\n",
       "</div>"
      ],
      "text/plain": [
       "                  model_name  mean_accuracy  std_accuracy  mean_precision  \\\n",
       "0   Logistic_Regression_Grid       0.765188      0.011769        0.355624   \n",
       "1                  KNN_Tuned       0.854487      0.006036        0.493851   \n",
       "2                DTC_Tuned_1       0.922350      0.017485        0.712304   \n",
       "3                DTC_Tuned_2       0.914468      0.021602        0.682005   \n",
       "4      Bagged Trees Search 1       0.944108      0.010603        0.874363   \n",
       "5        Random_Forrest_GS_1       0.939608      0.006784        0.814456   \n",
       "6        Random_Forrest_GS_2       0.937353      0.009981        0.783386   \n",
       "7          Ada Grid Search 1       0.903214      0.016332        0.653511   \n",
       "8          XGB_Grid_Search_1       0.952362      0.004386        0.842322   \n",
       "9                    XB_GS_2       0.954987      0.003950        0.852711   \n",
       "10                  XGB_GS_3       0.953487      0.004668        0.843571   \n",
       "\n",
       "    std_precision  mean_recall  std_recall   mean_f1    std_f1  \n",
       "0        0.013837     0.757110    0.004776  0.483813  0.013571  \n",
       "1        0.030106     0.345704    0.066735  0.404528  0.056309  \n",
       "2        0.062350     0.790743    0.035662  0.748555  0.047632  \n",
       "3        0.080712     0.806294    0.033278  0.736116  0.050493  \n",
       "4        0.039309     0.720813    0.034027  0.794476  0.034275  \n",
       "5        0.034338     0.801099    0.042710  0.798197  0.028269  \n",
       "6        0.051563     0.803630    0.046081  0.792542  0.032295  \n",
       "7        0.052047     0.697636    0.061284  0.674369  0.052944  \n",
       "8        0.008557     0.827006    0.038065  0.834052  0.018794  \n",
       "9        0.014094     0.834699    0.035406  0.843026  0.016682  \n",
       "10       0.012426     0.834699    0.035406  0.838660  0.018840  "
      ]
     },
     "execution_count": 846,
     "metadata": {},
     "output_type": "execute_result"
    }
   ],
   "source": [
    "cross_val_df"
   ]
  },
  {
   "cell_type": "code",
   "execution_count": 852,
   "metadata": {},
   "outputs": [
    {
     "name": "stderr",
     "output_type": "stream",
     "text": [
      "/opt/anaconda3/envs/learn-env/lib/python3.8/site-packages/sklearn/utils/deprecation.py:87: FutureWarning: Function plot_confusion_matrix is deprecated; Function `plot_confusion_matrix` is deprecated in 1.0 and will be removed in 1.2. Use one of the class methods: ConfusionMatrixDisplay.from_predictions or ConfusionMatrixDisplay.from_estimator.\n",
      "  warnings.warn(msg, category=FutureWarning)\n"
     ]
    },
    {
     "data": {
      "text/plain": [
       "<sklearn.metrics._plot.confusion_matrix.ConfusionMatrixDisplay at 0x7fde4c39e790>"
      ]
     },
     "execution_count": 852,
     "metadata": {},
     "output_type": "execute_result"
    },
    {
     "data": {
      "image/png": "[encoded data removed]",
      "text/plain": [
       "<Figure size 432x288 with 2 Axes>"
      ]
     },
     "metadata": {},
     "output_type": "display_data"
    }
   ],
   "source": [
    "plot_confusion_matrix(XGB_GS_1.best_estimator_,Reduced_X_test,y_test)"
   ]
  },
  {
   "cell_type": "code",
   "execution_count": 1,
   "metadata": {},
   "outputs": [
    {
     "ename": "NameError",
     "evalue": "name 'XGB_GS_1' is not defined",
     "output_type": "error",
     "traceback": [
      "\u001b[0;31m---------------------------------------------------------------------------\u001b[0m",
      "\u001b[0;31mNameError\u001b[0m                                 Traceback (most recent call last)",
      "\u001b[0;32m<ipython-input-1-0f6897cabdb0>\u001b[0m in \u001b[0;36m<module>\u001b[0;34m\u001b[0m\n\u001b[0;32m----> 1\u001b[0;31m \u001b[0mXGB_GS_1\u001b[0m\u001b[0;34m\u001b[0m\u001b[0;34m\u001b[0m\u001b[0m\n\u001b[0m",
      "\u001b[0;31mNameError\u001b[0m: name 'XGB_GS_1' is not defined"
     ]
    }
   ],
   "source": [
    "XGB_GS_1"
   ]
  },
  {
   "cell_type": "code",
   "execution_count": 516,
   "metadata": {},
   "outputs": [
    {
     "data": {
      "text/plain": [
       "BayesSearchCV(cv=5,\n",
       "              estimator=SkippaPipeline(steps=[('scale_standard_0',\n",
       "                                               SkippaStandardScaler(cols=<skippa.transformers.base.ColumnSelector object at 0x7fd58c978b50>,\n",
       "                                                                    copy=True,\n",
       "                                                                    with_mean=True,\n",
       "                                                                    with_std=True)),\n",
       "                                              ('onehot_1',\n",
       "                                               SkippaOneHotEncoder(categories='auto',\n",
       "                                                                   cols=<skippa.transformers.base.ColumnSelector object at 0x7fd58c978880>,\n",
       "                                                                   drop=None,\n",
       "                                                                   dtype=<class 'numpy....\n",
       "                             'model_2__lambda': Real(low=0.1, high=1, prior='uniform', transform='normalize'),\n",
       "                             'model_2__learning_rate': Real(low=0.3, high=1, prior='uniform', transform='normalize'),\n",
       "                             'model_2__max_depth': Integer(low=6, high=20, prior='uniform', transform='normalize'),\n",
       "                             'model_2__n_estimators': Integer(low=50, high=300, prior='uniform', transform='normalize'),\n",
       "                             'model_2__subsample': Real(low=0.1, high=1, prior='uniform', transform='normalize')})"
      ]
     },
     "execution_count": 516,
     "metadata": {},
     "output_type": "execute_result"
    }
   ],
   "source": [
    "\n",
    "from skopt import BayesSearchCV\n",
    "from skopt.space import Real, Categorical, Integer\n",
    "\n",
    "search_space = { # values for boostrap can be either True or False\n",
    "        \"model_2__max_depth\": Integer(6, 20), # values of max_depth are integers from 6 to 20\n",
    "        \"model_2__lambda\":Real(.1,1),\n",
    "        \"model_2__learning_rate\":Real(.3,1),\n",
    "        'model_2__colsample_bytree':Real(.1,1),\n",
    "        \"model_2__subsample\":Real(.1,1),\n",
    "        \"model_2__n_estimators\": Integer(50, 300),\n",
    "        \"model_2__gamma\": Real(.1,1)\n",
    "    }\n",
    "def on_step(optim_result):\n",
    "    \"\"\"\n",
    "    Callback meant to view scores after\n",
    "    each iteration while performing Bayesian\n",
    "    Optimization in Skopt\"\"\"\n",
    "    score = forest_bayes_search.best_score_\n",
    "    print(\"best score: %s\" % score)\n",
    "    if score >= 0.83:\n",
    "        print('Interrupting!')\n",
    "        return True\n",
    "forest_bayes_search = BayesSearchCV(Base_XGBOOST, search_space, n_iter=32, # specify how many iterations\n",
    "                                    scoring=two_scorer, n_jobs=-1, cv=5)\n",
    "\n",
    "forest_bayes_search.fit(X_train, y_train) "
   ]
  },
  {
   "cell_type": "code",
   "execution_count": 543,
   "metadata": {},
   "outputs": [],
   "source": [
    "cross_val_df = append_df(cross_val_report('test',forest_bayes_search.best_estimator_,X_train,y_train),cross_val_df)"
   ]
  },
  {
   "cell_type": "code",
   "execution_count": 519,
   "metadata": {},
   "outputs": [
    {
     "data": {
      "text/plain": [
       "OrderedDict([('model_2__colsample_bytree', 0.7706356822238832),\n",
       "             ('model_2__gamma', 0.1),\n",
       "             ('model_2__lambda', 0.1),\n",
       "             ('model_2__learning_rate', 0.3),\n",
       "             ('model_2__max_depth', 6),\n",
       "             ('model_2__n_estimators', 300),\n",
       "             ('model_2__subsample', 1.0)])"
      ]
     },
     "execution_count": 519,
     "metadata": {},
     "output_type": "execute_result"
    }
   ],
   "source": [
    "forest_bayes_search.best_params_"
   ]
  },
  {
   "cell_type": "code",
   "execution_count": 522,
   "metadata": {},
   "outputs": [
    {
     "data": {
      "text/plain": [
       "<sklearn.metrics._plot.confusion_matrix.ConfusionMatrixDisplay at 0x7fd58bfffa60>"
      ]
     },
     "execution_count": 522,
     "metadata": {},
     "output_type": "execute_result"
    },
    {
     "data": {
      "image/png": "[encoded data removed]",
      "text/plain": [
       "<Figure size 432x288 with 2 Axes>"
      ]
     },
     "metadata": {
      "needs_background": "light"
     },
     "output_type": "display_data"
    }
   ],
   "source": [
    "ConfusionMatrixDisplay.from_estimator(forest_bayes_search.best_estimator_,X_test,y_test)"
   ]
  },
  {
   "cell_type": "code",
   "execution_count": 560,
   "metadata": {},
   "outputs": [
    {
     "data": {
      "text/html": [
       "<div>\n",
       "<style scoped>\n",
       "    .dataframe tbody tr th:only-of-type {\n",
       "        vertical-align: middle;\n",
       "    }\n",
       "\n",
       "    .dataframe tbody tr th {\n",
       "        vertical-align: top;\n",
       "    }\n",
       "\n",
       "    .dataframe thead th {\n",
       "        text-align: right;\n",
       "    }\n",
       "</style>\n",
       "<table border=\"1\" class=\"dataframe\">\n",
       "  <thead>\n",
       "    <tr style=\"text-align: right;\">\n",
       "      <th></th>\n",
       "      <th>model_name</th>\n",
       "      <th>mean_accuracy</th>\n",
       "      <th>std_accuracy</th>\n",
       "      <th>mean_precision</th>\n",
       "      <th>std_precision</th>\n",
       "      <th>mean_recall</th>\n",
       "      <th>std_recall</th>\n",
       "      <th>mean_f1</th>\n",
       "      <th>std_f1</th>\n",
       "    </tr>\n",
       "  </thead>\n",
       "  <tbody>\n",
       "    <tr>\n",
       "      <th>0</th>\n",
       "      <td>Logistic_Regression_Grid</td>\n",
       "      <td>0.761813</td>\n",
       "      <td>0.010476</td>\n",
       "      <td>0.351270</td>\n",
       "      <td>0.012696</td>\n",
       "      <td>0.754579</td>\n",
       "      <td>0.027855</td>\n",
       "      <td>0.479190</td>\n",
       "      <td>0.014369</td>\n",
       "    </tr>\n",
       "    <tr>\n",
       "      <th>1</th>\n",
       "      <td>KNN_Tuned</td>\n",
       "      <td>0.894090</td>\n",
       "      <td>0.008459</td>\n",
       "      <td>0.788693</td>\n",
       "      <td>0.035826</td>\n",
       "      <td>0.368428</td>\n",
       "      <td>0.070499</td>\n",
       "      <td>0.498233</td>\n",
       "      <td>0.066698</td>\n",
       "    </tr>\n",
       "    <tr>\n",
       "      <th>2</th>\n",
       "      <td>DTC_Tuned_1</td>\n",
       "      <td>0.932102</td>\n",
       "      <td>0.009919</td>\n",
       "      <td>0.744311</td>\n",
       "      <td>0.039434</td>\n",
       "      <td>0.824442</td>\n",
       "      <td>0.047813</td>\n",
       "      <td>0.776484</td>\n",
       "      <td>0.033504</td>\n",
       "    </tr>\n",
       "    <tr>\n",
       "      <th>3</th>\n",
       "      <td>DTC_Tuned_2</td>\n",
       "      <td>0.932111</td>\n",
       "      <td>0.010271</td>\n",
       "      <td>0.742428</td>\n",
       "      <td>0.012168</td>\n",
       "      <td>0.798568</td>\n",
       "      <td>0.040830</td>\n",
       "      <td>0.758572</td>\n",
       "      <td>0.028682</td>\n",
       "    </tr>\n",
       "    <tr>\n",
       "      <th>4</th>\n",
       "      <td>Base Decision Tree</td>\n",
       "      <td>0.923854</td>\n",
       "      <td>0.003033</td>\n",
       "      <td>0.736806</td>\n",
       "      <td>0.012163</td>\n",
       "      <td>0.759907</td>\n",
       "      <td>0.043945</td>\n",
       "      <td>0.745771</td>\n",
       "      <td>0.006835</td>\n",
       "    </tr>\n",
       "    <tr>\n",
       "      <th>5</th>\n",
       "      <td>Bagged Trees Search 1</td>\n",
       "      <td>0.958360</td>\n",
       "      <td>0.007383</td>\n",
       "      <td>0.949387</td>\n",
       "      <td>0.038444</td>\n",
       "      <td>0.757276</td>\n",
       "      <td>0.041563</td>\n",
       "      <td>0.847578</td>\n",
       "      <td>0.029793</td>\n",
       "    </tr>\n",
       "    <tr>\n",
       "      <th>6</th>\n",
       "      <td>Random_Forrest_GS_1</td>\n",
       "      <td>0.956861</td>\n",
       "      <td>0.005754</td>\n",
       "      <td>0.910951</td>\n",
       "      <td>0.043082</td>\n",
       "      <td>0.808858</td>\n",
       "      <td>0.047762</td>\n",
       "      <td>0.846273</td>\n",
       "      <td>0.032727</td>\n",
       "    </tr>\n",
       "    <tr>\n",
       "      <th>7</th>\n",
       "      <td>Random_Forrest_GS_2</td>\n",
       "      <td>0.955734</td>\n",
       "      <td>0.010335</td>\n",
       "      <td>0.845523</td>\n",
       "      <td>0.039898</td>\n",
       "      <td>0.829637</td>\n",
       "      <td>0.041788</td>\n",
       "      <td>0.844857</td>\n",
       "      <td>0.028920</td>\n",
       "    </tr>\n",
       "    <tr>\n",
       "      <th>8</th>\n",
       "      <td>Ada Grid Search 1</td>\n",
       "      <td>0.923856</td>\n",
       "      <td>0.002266</td>\n",
       "      <td>0.730401</td>\n",
       "      <td>0.028582</td>\n",
       "      <td>0.759907</td>\n",
       "      <td>0.046633</td>\n",
       "      <td>0.741722</td>\n",
       "      <td>0.010657</td>\n",
       "    </tr>\n",
       "    <tr>\n",
       "      <th>9</th>\n",
       "      <td>XGBOOST Tuned</td>\n",
       "      <td>0.958362</td>\n",
       "      <td>0.003660</td>\n",
       "      <td>0.873280</td>\n",
       "      <td>0.034045</td>\n",
       "      <td>0.837296</td>\n",
       "      <td>0.037378</td>\n",
       "      <td>0.853580</td>\n",
       "      <td>0.013602</td>\n",
       "    </tr>\n",
       "  </tbody>\n",
       "</table>\n",
       "</div>"
      ],
      "text/plain": [
       "                 model_name  mean_accuracy  std_accuracy  mean_precision  \\\n",
       "0  Logistic_Regression_Grid       0.761813      0.010476        0.351270   \n",
       "1                 KNN_Tuned       0.894090      0.008459        0.788693   \n",
       "2               DTC_Tuned_1       0.932102      0.009919        0.744311   \n",
       "3               DTC_Tuned_2       0.932111      0.010271        0.742428   \n",
       "4        Base Decision Tree       0.923854      0.003033        0.736806   \n",
       "5     Bagged Trees Search 1       0.958360      0.007383        0.949387   \n",
       "6       Random_Forrest_GS_1       0.956861      0.005754        0.910951   \n",
       "7       Random_Forrest_GS_2       0.955734      0.010335        0.845523   \n",
       "8         Ada Grid Search 1       0.923856      0.002266        0.730401   \n",
       "9             XGBOOST Tuned       0.958362      0.003660        0.873280   \n",
       "\n",
       "   std_precision  mean_recall  std_recall   mean_f1    std_f1  \n",
       "0       0.012696     0.754579    0.027855  0.479190  0.014369  \n",
       "1       0.035826     0.368428    0.070499  0.498233  0.066698  \n",
       "2       0.039434     0.824442    0.047813  0.776484  0.033504  \n",
       "3       0.012168     0.798568    0.040830  0.758572  0.028682  \n",
       "4       0.012163     0.759907    0.043945  0.745771  0.006835  \n",
       "5       0.038444     0.757276    0.041563  0.847578  0.029793  \n",
       "6       0.043082     0.808858    0.047762  0.846273  0.032727  \n",
       "7       0.039898     0.829637    0.041788  0.844857  0.028920  \n",
       "8       0.028582     0.759907    0.046633  0.741722  0.010657  \n",
       "9       0.034045     0.837296    0.037378  0.853580  0.013602  "
      ]
     },
     "execution_count": 560,
     "metadata": {},
     "output_type": "execute_result"
    }
   ],
   "source": [
    "cross_val_df"
   ]
  },
  {
   "cell_type": "code",
   "execution_count": 526,
   "metadata": {},
   "outputs": [
    {
     "data": {
      "text/plain": [
       "<sklearn.metrics._plot.confusion_matrix.ConfusionMatrixDisplay at 0x7fd58c287a00>"
      ]
     },
     "execution_count": 526,
     "metadata": {},
     "output_type": "execute_result"
    },
    {
     "data": {
      "image/png": "[encoded data removed]",
      "text/plain": [
       "<Figure size 432x288 with 2 Axes>"
      ]
     },
     "metadata": {
      "needs_background": "light"
     },
     "output_type": "display_data"
    }
   ],
   "source": [
    "ConfusionMatrixDisplay.from_estimator(RF_GS_2.best_estimator_,X_test,y_test)"
   ]
  },
  {
   "cell_type": "code",
   "execution_count": 542,
   "metadata": {},
   "outputs": [
    {
     "data": {
      "text/plain": [
       "<sklearn.metrics._plot.confusion_matrix.ConfusionMatrixDisplay at 0x7fd590839eb0>"
      ]
     },
     "execution_count": 542,
     "metadata": {},
     "output_type": "execute_result"
    },
    {
     "data": {
      "image/png": "[encoded data removed]",
      "text/plain": [
       "<Figure size 432x288 with 2 Axes>"
      ]
     },
     "metadata": {
      "needs_background": "light"
     },
     "output_type": "display_data"
    }
   ],
   "source": [
    "ConfusionMatrixDisplay.from_estimator(DTC_GS.best_estimator_,X_test,y_test)"
   ]
  },
  {
   "cell_type": "code",
   "execution_count": null,
   "metadata": {},
   "outputs": [],
   "source": []
  }
 ],
 "metadata": {
  "kernelspec": {
   "display_name": "Python (learn-env)",
   "language": "python",
   "name": "learn-env"
  },
  "language_info": {
   "codemirror_mode": {
    "name": "ipython",
    "version": 3
   },
   "file_extension": ".py",
   "mimetype": "text/x-python",
   "name": "python",
   "nbconvert_exporter": "python",
   "pygments_lexer": "ipython3",
   "version": "3.8.5"
  },
  "toc": {
   "base_numbering": 1,
   "nav_menu": {},
   "number_sections": true,
   "sideBar": true,
   "skip_h1_title": true,
   "title_cell": "Table of Contents",
   "title_sidebar": "Contents",
   "toc_cell": false,
   "toc_position": {
    "height": "calc(100% - 180px)",
    "left": "10px",
    "top": "150px",
    "width": "195px"
   },
   "toc_section_display": true,
   "toc_window_display": true
  },
  "varInspector": {
   "cols": {
    "lenName": 16,
    "lenType": 16,
    "lenVar": 40
   },
   "kernels_config": {
    "python": {
     "delete_cmd_postfix": "",
     "delete_cmd_prefix": "del ",
     "library": "var_list.py",
     "varRefreshCmd": "print(var_dic_list())"
    },
    "r": {
     "delete_cmd_postfix": ") ",
     "delete_cmd_prefix": "rm(",
     "library": "var_list.r",
     "varRefreshCmd": "cat(var_dic_list()) "
    }
   },
   "types_to_exclude": [
    "module",
    "function",
    "builtin_function_or_method",
    "instance",
    "_Feature"
   ],
   "window_display": false
  }
 },
 "nbformat": 4,
 "nbformat_minor": 4
}
