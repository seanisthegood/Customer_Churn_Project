{
 "cells": [
  {
   "cell_type": "markdown",
   "metadata": {},
   "source": [
    "# SyriaTel Customer Churn Issues"
   ]
  },
  {
   "cell_type": "markdown",
   "metadata": {},
   "source": [
    "This is project is an attempt to predict those customers that will be leaving the SyriaTel mobile network. I will be using predictive modeling techniques to perform this task. Customer churn is described on Hubspot as\n",
    "> Customer churn is the percentage of customers that stopped using your company's product or service during a certain time frame\n",
    "\n",
    "Also according to Hubspot:\n",
    ">In fact, an increase in customer retention of just 5% can create at least a 25% increase in profit. This is because returning customers will likely spend 67% more on your company's products and services. \n",
    "\n",
    "Being able to detect who will leave a given service before they actually do is an invalueable insight for any company. Being able to target those customers preemptively with incenstivs, discounts, and other attention may help to slow churn rate. Specific targetting can help with being judicious with such enticements. Rather than offering everyone on a given service a price break, being able to diagnos with speicifc metrics will make the best use of rescources for customer retention. "
   ]
  },
  {
   "cell_type": "markdown",
   "metadata": {},
   "source": [
    "## Exploratory Data Analysis"
   ]
  },
  {
   "cell_type": "markdown",
   "metadata": {},
   "source": [
    "Before specific and granular exploration of the dataset that I will be using for predictive modeling, I want to first take a look at the current churn rate of SyriaTel."
   ]
  },
  {
   "cell_type": "code",
   "execution_count": 1419,
   "metadata": {},
   "outputs": [],
   "source": [
    "#The Many imports I will be using for this project\n",
    "import pandas as pd\n",
    "import numpy as np\n",
    "from sklearn.model_selection import train_test_split\n",
    "from sklearn.preprocessing import StandardScaler\n",
    "from sklearn.preprocessing import OneHotEncoder\n",
    "from skippa import Skippa, columns\n",
    "\n",
    "\n",
    "from sklearn.model_selection import cross_val_score\n",
    "from sklearn.model_selection import GridSearchCV\n",
    "from skopt import BayesSearchCV\n",
    "from skopt.space import Real, Categorical, Integer\n",
    "\n",
    "from sklearn.linear_model import LogisticRegression\n",
    "from sklearn.neighbors import KNeighborsClassifier\n",
    "\n",
    "from sklearn import metrics\n",
    "from sklearn.metrics import accuracy_score\n",
    "from sklearn.metrics import f1_score\n",
    "from sklearn.metrics import recall_score\n",
    "from sklearn.metrics import precision_score\n",
    "from sklearn.metrics import fbeta_score, make_scorer\n",
    "\n",
    "from sklearn.neighbors import KNeighborsClassifier\n",
    "from sklearn.tree import DecisionTreeClassifier \n",
    "from sklearn.ensemble import BaggingClassifier, RandomForestClassifier\n",
    "from sklearn.ensemble import AdaBoostClassifier, GradientBoostingClassifier\n",
    "from xgboost import XGBClassifier\n",
    "import pickle\n",
    "\n",
    "import seaborn as sns\n",
    "import matplotlib.pyplot as plt\n",
    "from sklearn.metrics import confusion_matrix\n",
    "from sklearn.metrics import plot_confusion_matrix\n",
    "from sklearn.metrics import ConfusionMatrixDisplay\n"
   ]
  },
  {
   "cell_type": "code",
   "execution_count": 1293,
   "metadata": {},
   "outputs": [],
   "source": [
    "#Loading the initial dataframe\n",
    "df = pd.read_csv(\"bigml_59c28831336c6604c800002a.csv\")\n"
   ]
  },
  {
   "cell_type": "code",
   "execution_count": 770,
   "metadata": {
    "scrolled": true
   },
   "outputs": [
    {
     "name": "stdout",
     "output_type": "stream",
     "text": [
      "<class 'pandas.core.frame.DataFrame'>\n",
      "RangeIndex: 3333 entries, 0 to 3332\n",
      "Data columns (total 21 columns):\n",
      " #   Column                  Non-Null Count  Dtype  \n",
      "---  ------                  --------------  -----  \n",
      " 0   state                   3333 non-null   object \n",
      " 1   account length          3333 non-null   int64  \n",
      " 2   area code               3333 non-null   int64  \n",
      " 3   phone number            3333 non-null   object \n",
      " 4   international plan      3333 non-null   object \n",
      " 5   voice mail plan         3333 non-null   object \n",
      " 6   number vmail messages   3333 non-null   int64  \n",
      " 7   total day minutes       3333 non-null   float64\n",
      " 8   total day calls         3333 non-null   int64  \n",
      " 9   total day charge        3333 non-null   float64\n",
      " 10  total eve minutes       3333 non-null   float64\n",
      " 11  total eve calls         3333 non-null   int64  \n",
      " 12  total eve charge        3333 non-null   float64\n",
      " 13  total night minutes     3333 non-null   float64\n",
      " 14  total night calls       3333 non-null   int64  \n",
      " 15  total night charge      3333 non-null   float64\n",
      " 16  total intl minutes      3333 non-null   float64\n",
      " 17  total intl calls        3333 non-null   int64  \n",
      " 18  total intl charge       3333 non-null   float64\n",
      " 19  customer service calls  3333 non-null   int64  \n",
      " 20  churn                   3333 non-null   bool   \n",
      "dtypes: bool(1), float64(8), int64(8), object(4)\n",
      "memory usage: 524.2+ KB\n"
     ]
    }
   ],
   "source": [
    "#Taking a look at the entire dataset\n",
    "df.info()\n"
   ]
  },
  {
   "cell_type": "markdown",
   "metadata": {},
   "source": [
    "Initially this dataset looks nice and clean. There are no null observations, though there is a mixture of objects and numeric features. The target for modeling is the \"churn\" feature. Which is where initial attention will be paid."
   ]
  },
  {
   "cell_type": "code",
   "execution_count": 771,
   "metadata": {},
   "outputs": [
    {
     "data": {
      "text/html": [
       "<div>\n",
       "<style scoped>\n",
       "    .dataframe tbody tr th:only-of-type {\n",
       "        vertical-align: middle;\n",
       "    }\n",
       "\n",
       "    .dataframe tbody tr th {\n",
       "        vertical-align: top;\n",
       "    }\n",
       "\n",
       "    .dataframe thead th {\n",
       "        text-align: right;\n",
       "    }\n",
       "</style>\n",
       "<table border=\"1\" class=\"dataframe\">\n",
       "  <thead>\n",
       "    <tr style=\"text-align: right;\">\n",
       "      <th></th>\n",
       "      <th>state</th>\n",
       "      <th>account length</th>\n",
       "      <th>area code</th>\n",
       "      <th>phone number</th>\n",
       "      <th>international plan</th>\n",
       "      <th>voice mail plan</th>\n",
       "      <th>number vmail messages</th>\n",
       "      <th>total day minutes</th>\n",
       "      <th>total day calls</th>\n",
       "      <th>total day charge</th>\n",
       "      <th>...</th>\n",
       "      <th>total eve calls</th>\n",
       "      <th>total eve charge</th>\n",
       "      <th>total night minutes</th>\n",
       "      <th>total night calls</th>\n",
       "      <th>total night charge</th>\n",
       "      <th>total intl minutes</th>\n",
       "      <th>total intl calls</th>\n",
       "      <th>total intl charge</th>\n",
       "      <th>customer service calls</th>\n",
       "      <th>churn</th>\n",
       "    </tr>\n",
       "  </thead>\n",
       "  <tbody>\n",
       "    <tr>\n",
       "      <th>0</th>\n",
       "      <td>KS</td>\n",
       "      <td>128</td>\n",
       "      <td>415</td>\n",
       "      <td>382-4657</td>\n",
       "      <td>no</td>\n",
       "      <td>yes</td>\n",
       "      <td>25</td>\n",
       "      <td>265.1</td>\n",
       "      <td>110</td>\n",
       "      <td>45.07</td>\n",
       "      <td>...</td>\n",
       "      <td>99</td>\n",
       "      <td>16.78</td>\n",
       "      <td>244.7</td>\n",
       "      <td>91</td>\n",
       "      <td>11.01</td>\n",
       "      <td>10.0</td>\n",
       "      <td>3</td>\n",
       "      <td>2.70</td>\n",
       "      <td>1</td>\n",
       "      <td>False</td>\n",
       "    </tr>\n",
       "    <tr>\n",
       "      <th>1</th>\n",
       "      <td>OH</td>\n",
       "      <td>107</td>\n",
       "      <td>415</td>\n",
       "      <td>371-7191</td>\n",
       "      <td>no</td>\n",
       "      <td>yes</td>\n",
       "      <td>26</td>\n",
       "      <td>161.6</td>\n",
       "      <td>123</td>\n",
       "      <td>27.47</td>\n",
       "      <td>...</td>\n",
       "      <td>103</td>\n",
       "      <td>16.62</td>\n",
       "      <td>254.4</td>\n",
       "      <td>103</td>\n",
       "      <td>11.45</td>\n",
       "      <td>13.7</td>\n",
       "      <td>3</td>\n",
       "      <td>3.70</td>\n",
       "      <td>1</td>\n",
       "      <td>False</td>\n",
       "    </tr>\n",
       "    <tr>\n",
       "      <th>2</th>\n",
       "      <td>NJ</td>\n",
       "      <td>137</td>\n",
       "      <td>415</td>\n",
       "      <td>358-1921</td>\n",
       "      <td>no</td>\n",
       "      <td>no</td>\n",
       "      <td>0</td>\n",
       "      <td>243.4</td>\n",
       "      <td>114</td>\n",
       "      <td>41.38</td>\n",
       "      <td>...</td>\n",
       "      <td>110</td>\n",
       "      <td>10.30</td>\n",
       "      <td>162.6</td>\n",
       "      <td>104</td>\n",
       "      <td>7.32</td>\n",
       "      <td>12.2</td>\n",
       "      <td>5</td>\n",
       "      <td>3.29</td>\n",
       "      <td>0</td>\n",
       "      <td>False</td>\n",
       "    </tr>\n",
       "    <tr>\n",
       "      <th>3</th>\n",
       "      <td>OH</td>\n",
       "      <td>84</td>\n",
       "      <td>408</td>\n",
       "      <td>375-9999</td>\n",
       "      <td>yes</td>\n",
       "      <td>no</td>\n",
       "      <td>0</td>\n",
       "      <td>299.4</td>\n",
       "      <td>71</td>\n",
       "      <td>50.90</td>\n",
       "      <td>...</td>\n",
       "      <td>88</td>\n",
       "      <td>5.26</td>\n",
       "      <td>196.9</td>\n",
       "      <td>89</td>\n",
       "      <td>8.86</td>\n",
       "      <td>6.6</td>\n",
       "      <td>7</td>\n",
       "      <td>1.78</td>\n",
       "      <td>2</td>\n",
       "      <td>False</td>\n",
       "    </tr>\n",
       "    <tr>\n",
       "      <th>4</th>\n",
       "      <td>OK</td>\n",
       "      <td>75</td>\n",
       "      <td>415</td>\n",
       "      <td>330-6626</td>\n",
       "      <td>yes</td>\n",
       "      <td>no</td>\n",
       "      <td>0</td>\n",
       "      <td>166.7</td>\n",
       "      <td>113</td>\n",
       "      <td>28.34</td>\n",
       "      <td>...</td>\n",
       "      <td>122</td>\n",
       "      <td>12.61</td>\n",
       "      <td>186.9</td>\n",
       "      <td>121</td>\n",
       "      <td>8.41</td>\n",
       "      <td>10.1</td>\n",
       "      <td>3</td>\n",
       "      <td>2.73</td>\n",
       "      <td>3</td>\n",
       "      <td>False</td>\n",
       "    </tr>\n",
       "  </tbody>\n",
       "</table>\n",
       "<p>5 rows × 21 columns</p>\n",
       "</div>"
      ],
      "text/plain": [
       "  state  account length  area code phone number international plan  \\\n",
       "0    KS             128        415     382-4657                 no   \n",
       "1    OH             107        415     371-7191                 no   \n",
       "2    NJ             137        415     358-1921                 no   \n",
       "3    OH              84        408     375-9999                yes   \n",
       "4    OK              75        415     330-6626                yes   \n",
       "\n",
       "  voice mail plan  number vmail messages  total day minutes  total day calls  \\\n",
       "0             yes                     25              265.1              110   \n",
       "1             yes                     26              161.6              123   \n",
       "2              no                      0              243.4              114   \n",
       "3              no                      0              299.4               71   \n",
       "4              no                      0              166.7              113   \n",
       "\n",
       "   total day charge  ...  total eve calls  total eve charge  \\\n",
       "0             45.07  ...               99             16.78   \n",
       "1             27.47  ...              103             16.62   \n",
       "2             41.38  ...              110             10.30   \n",
       "3             50.90  ...               88              5.26   \n",
       "4             28.34  ...              122             12.61   \n",
       "\n",
       "   total night minutes  total night calls  total night charge  \\\n",
       "0                244.7                 91               11.01   \n",
       "1                254.4                103               11.45   \n",
       "2                162.6                104                7.32   \n",
       "3                196.9                 89                8.86   \n",
       "4                186.9                121                8.41   \n",
       "\n",
       "   total intl minutes  total intl calls  total intl charge  \\\n",
       "0                10.0                 3               2.70   \n",
       "1                13.7                 3               3.70   \n",
       "2                12.2                 5               3.29   \n",
       "3                 6.6                 7               1.78   \n",
       "4                10.1                 3               2.73   \n",
       "\n",
       "   customer service calls  churn  \n",
       "0                       1  False  \n",
       "1                       1  False  \n",
       "2                       0  False  \n",
       "3                       2  False  \n",
       "4                       3  False  \n",
       "\n",
       "[5 rows x 21 columns]"
      ]
     },
     "execution_count": 771,
     "metadata": {},
     "output_type": "execute_result"
    }
   ],
   "source": [
    "df.head(5)"
   ]
  },
  {
   "cell_type": "markdown",
   "metadata": {},
   "source": [
    "### Target Feature"
   ]
  },
  {
   "cell_type": "code",
   "execution_count": 772,
   "metadata": {},
   "outputs": [
    {
     "data": {
      "text/plain": [
       "False    2850\n",
       "True      483\n",
       "Name: churn, dtype: int64"
      ]
     },
     "execution_count": 772,
     "metadata": {},
     "output_type": "execute_result"
    }
   ],
   "source": [
    "df['churn'].value_counts()\n"
   ]
  },
  {
   "cell_type": "code",
   "execution_count": 1618,
   "metadata": {},
   "outputs": [
    {
     "data": {
      "text/plain": [
       "0       False\n",
       "1       False\n",
       "2       False\n",
       "3       False\n",
       "4       False\n",
       "        ...  \n",
       "3328    False\n",
       "3329    False\n",
       "3330    False\n",
       "3331    False\n",
       "3332    False\n",
       "Name: churn, Length: 3333, dtype: bool"
      ]
     },
     "execution_count": 1618,
     "metadata": {},
     "output_type": "execute_result"
    }
   ],
   "source": []
  },
  {
   "cell_type": "markdown",
   "metadata": {},
   "source": [
    "The churn feature is a boolean, and what be best converted to binary values for modeling."
   ]
  },
  {
   "cell_type": "code",
   "execution_count": 1619,
   "metadata": {},
   "outputs": [],
   "source": [
    "df['churn']=df['churn'].astype(int)\n"
   ]
  },
  {
   "cell_type": "code",
   "execution_count": 1642,
   "metadata": {},
   "outputs": [],
   "source": [
    "plot_churn =df['churn'].map({0:'Retained',1:'Churned'})"
   ]
  },
  {
   "cell_type": "code",
   "execution_count": 1643,
   "metadata": {},
   "outputs": [
    {
     "data": {
      "text/plain": [
       "0       Retained\n",
       "1       Retained\n",
       "2       Retained\n",
       "3       Retained\n",
       "4       Retained\n",
       "          ...   \n",
       "3328    Retained\n",
       "3329    Retained\n",
       "3330    Retained\n",
       "3331    Retained\n",
       "3332    Retained\n",
       "Name: churn, Length: 3333, dtype: object"
      ]
     },
     "execution_count": 1643,
     "metadata": {},
     "output_type": "execute_result"
    }
   ],
   "source": [
    "plot_churn"
   ]
  },
  {
   "cell_type": "code",
   "execution_count": 1656,
   "metadata": {},
   "outputs": [
    {
     "name": "stderr",
     "output_type": "stream",
     "text": [
      "Pass the following variable as a keyword arg: x. From version 0.12, the only valid positional argument will be `data`, and passing other arguments without an explicit keyword will result in an error or misinterpretation.\n"
     ]
    },
    {
     "data": {
      "image/png": "[encoded data removed]",
      "text/plain": [
       "<Figure size 432x288 with 1 Axes>"
      ]
     },
     "metadata": {},
     "output_type": "display_data"
    }
   ],
   "source": [
    "ax = sns.countplot(plot_churn)\n",
    "ax.set(\n",
    "       ylabel='Customer Count',\n",
    "       title='Syria Tel Customer Churn');"
   ]
  },
  {
   "cell_type": "code",
   "execution_count": 1657,
   "metadata": {},
   "outputs": [
    {
     "data": {
      "text/plain": [
       "international plan\n",
       "no     3010\n",
       "yes     323\n",
       "Name: churn, dtype: int64"
      ]
     },
     "execution_count": 1657,
     "metadata": {},
     "output_type": "execute_result"
    }
   ],
   "source": [
    "df.groupby('international plan')['churn'].count()"
   ]
  },
  {
   "cell_type": "code",
   "execution_count": 774,
   "metadata": {},
   "outputs": [
    {
     "data": {
      "text/plain": [
       "0    2850\n",
       "1     483\n",
       "Name: churn, dtype: int64"
      ]
     },
     "execution_count": 774,
     "metadata": {},
     "output_type": "execute_result"
    }
   ],
   "source": [
    "df['churn'].value_counts()\n"
   ]
  },
  {
   "cell_type": "code",
   "execution_count": 775,
   "metadata": {},
   "outputs": [
    {
     "data": {
      "text/plain": [
       "0.14491449144914492"
      ]
     },
     "execution_count": 775,
     "metadata": {},
     "output_type": "execute_result"
    }
   ],
   "source": [
    "#Calculating churn by dividing the number of customers lost by the total customers.\n",
    "np.sum(df['churn']==1)/len(df['churn'])"
   ]
  },
  {
   "cell_type": "markdown",
   "metadata": {},
   "source": [
    "The current churn rate for the period of this data set is 14.5%. Being able to reduce this figure using a targeted approach. It's also important to remember that we are dealing with an unbalanced dataset and the models used will need to be weighted to deal with this issue."
   ]
  },
  {
   "cell_type": "markdown",
   "metadata": {},
   "source": [
    "### Feature Exploration"
   ]
  },
  {
   "cell_type": "markdown",
   "metadata": {},
   "source": [
    "Several of the features in this dataset are objects. I will start by looking at the state feature."
   ]
  },
  {
   "cell_type": "code",
   "execution_count": 676,
   "metadata": {},
   "outputs": [
    {
     "data": {
      "text/plain": [
       "WV    106\n",
       "MN     84\n",
       "NY     83\n",
       "AL     80\n",
       "OR     78\n",
       "WI     78\n",
       "OH     78\n",
       "WY     77\n",
       "VA     77\n",
       "CT     74\n",
       "VT     73\n",
       "ID     73\n",
       "MI     73\n",
       "TX     72\n",
       "UT     72\n",
       "IN     71\n",
       "KS     70\n",
       "MD     70\n",
       "NC     68\n",
       "NJ     68\n",
       "MT     68\n",
       "CO     66\n",
       "NV     66\n",
       "WA     66\n",
       "RI     65\n",
       "MS     65\n",
       "MA     65\n",
       "AZ     64\n",
       "FL     63\n",
       "MO     63\n",
       "NM     62\n",
       "ND     62\n",
       "ME     62\n",
       "NE     61\n",
       "OK     61\n",
       "DE     61\n",
       "SD     60\n",
       "SC     60\n",
       "KY     59\n",
       "IL     58\n",
       "NH     56\n",
       "AR     55\n",
       "GA     54\n",
       "DC     54\n",
       "HI     53\n",
       "TN     53\n",
       "AK     52\n",
       "LA     51\n",
       "PA     45\n",
       "IA     44\n",
       "CA     34\n",
       "Name: state, dtype: int64"
      ]
     },
     "execution_count": 676,
     "metadata": {},
     "output_type": "execute_result"
    }
   ],
   "source": [
    "df['state'].value_counts()"
   ]
  },
  {
   "cell_type": "markdown",
   "metadata": {},
   "source": [
    "Though this is a dataset for a Syrian telecom, the user base is located in the United States, with a higher number of users in West Virgina and the lowest number being in California. State may or may not be an important feature in the dataset.  "
   ]
  },
  {
   "cell_type": "code",
   "execution_count": 1267,
   "metadata": {},
   "outputs": [
    {
     "data": {
      "text/plain": [
       "no     3010\n",
       "yes     323\n",
       "Name: international plan, dtype: int64"
      ]
     },
     "execution_count": 1267,
     "metadata": {},
     "output_type": "execute_result"
    }
   ],
   "source": [
    "df['international plan'].value_counts()\n"
   ]
  },
  {
   "cell_type": "code",
   "execution_count": 1269,
   "metadata": {},
   "outputs": [
    {
     "data": {
      "text/plain": [
       "no     2411\n",
       "yes     922\n",
       "Name: voice mail plan, dtype: int64"
      ]
     },
     "execution_count": 1269,
     "metadata": {},
     "output_type": "execute_result"
    }
   ],
   "source": [
    "df['voice mail plan'].value_counts()\n"
   ]
  },
  {
   "cell_type": "code",
   "execution_count": 679,
   "metadata": {},
   "outputs": [
    {
     "data": {
      "text/plain": [
       "0       382-4657\n",
       "1       371-7191\n",
       "2       358-1921\n",
       "3       375-9999\n",
       "4       330-6626\n",
       "          ...   \n",
       "3328    414-4276\n",
       "3329    370-3271\n",
       "3330    328-8230\n",
       "3331    364-6381\n",
       "3332    400-4344\n",
       "Name: phone number, Length: 3333, dtype: object"
      ]
     },
     "execution_count": 679,
     "metadata": {},
     "output_type": "execute_result"
    }
   ],
   "source": [
    "df['phone number']"
   ]
  },
  {
   "cell_type": "code",
   "execution_count": 680,
   "metadata": {},
   "outputs": [
    {
     "data": {
      "text/plain": [
       "3333"
      ]
     },
     "execution_count": 680,
     "metadata": {},
     "output_type": "execute_result"
    }
   ],
   "source": [
    "df['phone number'].nunique()\n"
   ]
  },
  {
   "cell_type": "markdown",
   "metadata": {},
   "source": [
    "The other object features are above should be converted to numeric with one-hot-encoding during preprocessing. I will probably drop the phone number column as a model should generalize, and a phone number is the most granular data in the set. I will always consider dropping the state column as any information in state would be learned in the area code feature and I want to reduce dimensionality in modeling."
   ]
  },
  {
   "cell_type": "code",
   "execution_count": 1270,
   "metadata": {},
   "outputs": [
    {
     "data": {
      "text/plain": [
       "415    1655\n",
       "510     840\n",
       "408     838\n",
       "Name: area code, dtype: int64"
      ]
     },
     "execution_count": 1270,
     "metadata": {},
     "output_type": "execute_result"
    }
   ],
   "source": [
    "df['area code'].value_counts()\n"
   ]
  },
  {
   "cell_type": "code",
   "execution_count": 1271,
   "metadata": {},
   "outputs": [
    {
     "data": {
      "text/plain": [
       "3"
      ]
     },
     "execution_count": 1271,
     "metadata": {},
     "output_type": "execute_result"
    }
   ],
   "source": [
    "df['area code'].nunique()\n"
   ]
  },
  {
   "cell_type": "markdown",
   "metadata": {},
   "source": [
    "Curiously there are 50 unique values in the state column, but only 3 area codes in the entire dataset. It seems like something is amiss, and my inclination will be to remove those features if they do not prove useful."
   ]
  },
  {
   "cell_type": "markdown",
   "metadata": {},
   "source": [
    "### Numeric Features"
   ]
  },
  {
   "cell_type": "code",
   "execution_count": 1272,
   "metadata": {},
   "outputs": [
    {
     "data": {
      "text/html": [
       "<div>\n",
       "<style scoped>\n",
       "    .dataframe tbody tr th:only-of-type {\n",
       "        vertical-align: middle;\n",
       "    }\n",
       "\n",
       "    .dataframe tbody tr th {\n",
       "        vertical-align: top;\n",
       "    }\n",
       "\n",
       "    .dataframe thead th {\n",
       "        text-align: right;\n",
       "    }\n",
       "</style>\n",
       "<table border=\"1\" class=\"dataframe\">\n",
       "  <thead>\n",
       "    <tr style=\"text-align: right;\">\n",
       "      <th></th>\n",
       "      <th>account length</th>\n",
       "      <th>area code</th>\n",
       "      <th>number vmail messages</th>\n",
       "      <th>total day calls</th>\n",
       "      <th>total day charge</th>\n",
       "      <th>total eve calls</th>\n",
       "      <th>total eve charge</th>\n",
       "      <th>total night calls</th>\n",
       "      <th>total night charge</th>\n",
       "      <th>total intl calls</th>\n",
       "      <th>total intl charge</th>\n",
       "      <th>customer service calls</th>\n",
       "      <th>churn</th>\n",
       "      <th>total minutes</th>\n",
       "    </tr>\n",
       "  </thead>\n",
       "  <tbody>\n",
       "    <tr>\n",
       "      <th>count</th>\n",
       "      <td>3333.000000</td>\n",
       "      <td>3333.000000</td>\n",
       "      <td>3333.000000</td>\n",
       "      <td>3333.000000</td>\n",
       "      <td>3333.000000</td>\n",
       "      <td>3333.000000</td>\n",
       "      <td>3333.000000</td>\n",
       "      <td>3333.000000</td>\n",
       "      <td>3333.000000</td>\n",
       "      <td>3333.000000</td>\n",
       "      <td>3333.000000</td>\n",
       "      <td>3333.000000</td>\n",
       "      <td>3333.000000</td>\n",
       "      <td>3333.000000</td>\n",
       "    </tr>\n",
       "    <tr>\n",
       "      <th>mean</th>\n",
       "      <td>101.064806</td>\n",
       "      <td>437.182418</td>\n",
       "      <td>8.099010</td>\n",
       "      <td>100.435644</td>\n",
       "      <td>30.562307</td>\n",
       "      <td>100.114311</td>\n",
       "      <td>17.083540</td>\n",
       "      <td>100.107711</td>\n",
       "      <td>9.039325</td>\n",
       "      <td>4.479448</td>\n",
       "      <td>2.764581</td>\n",
       "      <td>1.562856</td>\n",
       "      <td>0.144914</td>\n",
       "      <td>591.864776</td>\n",
       "    </tr>\n",
       "    <tr>\n",
       "      <th>std</th>\n",
       "      <td>39.822106</td>\n",
       "      <td>42.371290</td>\n",
       "      <td>13.688365</td>\n",
       "      <td>20.069084</td>\n",
       "      <td>9.259435</td>\n",
       "      <td>19.922625</td>\n",
       "      <td>4.310668</td>\n",
       "      <td>19.568609</td>\n",
       "      <td>2.275873</td>\n",
       "      <td>2.461214</td>\n",
       "      <td>0.753773</td>\n",
       "      <td>1.315491</td>\n",
       "      <td>0.352067</td>\n",
       "      <td>89.954251</td>\n",
       "    </tr>\n",
       "    <tr>\n",
       "      <th>min</th>\n",
       "      <td>1.000000</td>\n",
       "      <td>408.000000</td>\n",
       "      <td>0.000000</td>\n",
       "      <td>0.000000</td>\n",
       "      <td>0.000000</td>\n",
       "      <td>0.000000</td>\n",
       "      <td>0.000000</td>\n",
       "      <td>33.000000</td>\n",
       "      <td>1.040000</td>\n",
       "      <td>0.000000</td>\n",
       "      <td>0.000000</td>\n",
       "      <td>0.000000</td>\n",
       "      <td>0.000000</td>\n",
       "      <td>284.300000</td>\n",
       "    </tr>\n",
       "    <tr>\n",
       "      <th>25%</th>\n",
       "      <td>74.000000</td>\n",
       "      <td>408.000000</td>\n",
       "      <td>0.000000</td>\n",
       "      <td>87.000000</td>\n",
       "      <td>24.430000</td>\n",
       "      <td>87.000000</td>\n",
       "      <td>14.160000</td>\n",
       "      <td>87.000000</td>\n",
       "      <td>7.520000</td>\n",
       "      <td>3.000000</td>\n",
       "      <td>2.300000</td>\n",
       "      <td>1.000000</td>\n",
       "      <td>0.000000</td>\n",
       "      <td>531.500000</td>\n",
       "    </tr>\n",
       "    <tr>\n",
       "      <th>50%</th>\n",
       "      <td>101.000000</td>\n",
       "      <td>415.000000</td>\n",
       "      <td>0.000000</td>\n",
       "      <td>101.000000</td>\n",
       "      <td>30.500000</td>\n",
       "      <td>100.000000</td>\n",
       "      <td>17.120000</td>\n",
       "      <td>100.000000</td>\n",
       "      <td>9.050000</td>\n",
       "      <td>4.000000</td>\n",
       "      <td>2.780000</td>\n",
       "      <td>1.000000</td>\n",
       "      <td>0.000000</td>\n",
       "      <td>593.600000</td>\n",
       "    </tr>\n",
       "    <tr>\n",
       "      <th>75%</th>\n",
       "      <td>127.000000</td>\n",
       "      <td>510.000000</td>\n",
       "      <td>20.000000</td>\n",
       "      <td>114.000000</td>\n",
       "      <td>36.790000</td>\n",
       "      <td>114.000000</td>\n",
       "      <td>20.000000</td>\n",
       "      <td>113.000000</td>\n",
       "      <td>10.590000</td>\n",
       "      <td>6.000000</td>\n",
       "      <td>3.270000</td>\n",
       "      <td>2.000000</td>\n",
       "      <td>0.000000</td>\n",
       "      <td>652.400000</td>\n",
       "    </tr>\n",
       "    <tr>\n",
       "      <th>max</th>\n",
       "      <td>243.000000</td>\n",
       "      <td>510.000000</td>\n",
       "      <td>51.000000</td>\n",
       "      <td>165.000000</td>\n",
       "      <td>59.640000</td>\n",
       "      <td>170.000000</td>\n",
       "      <td>30.910000</td>\n",
       "      <td>175.000000</td>\n",
       "      <td>17.770000</td>\n",
       "      <td>20.000000</td>\n",
       "      <td>5.400000</td>\n",
       "      <td>9.000000</td>\n",
       "      <td>1.000000</td>\n",
       "      <td>885.000000</td>\n",
       "    </tr>\n",
       "  </tbody>\n",
       "</table>\n",
       "</div>"
      ],
      "text/plain": [
       "       account length    area code  number vmail messages  total day calls  \\\n",
       "count     3333.000000  3333.000000            3333.000000      3333.000000   \n",
       "mean       101.064806   437.182418               8.099010       100.435644   \n",
       "std         39.822106    42.371290              13.688365        20.069084   \n",
       "min          1.000000   408.000000               0.000000         0.000000   \n",
       "25%         74.000000   408.000000               0.000000        87.000000   \n",
       "50%        101.000000   415.000000               0.000000       101.000000   \n",
       "75%        127.000000   510.000000              20.000000       114.000000   \n",
       "max        243.000000   510.000000              51.000000       165.000000   \n",
       "\n",
       "       total day charge  total eve calls  total eve charge  total night calls  \\\n",
       "count       3333.000000      3333.000000       3333.000000        3333.000000   \n",
       "mean          30.562307       100.114311         17.083540         100.107711   \n",
       "std            9.259435        19.922625          4.310668          19.568609   \n",
       "min            0.000000         0.000000          0.000000          33.000000   \n",
       "25%           24.430000        87.000000         14.160000          87.000000   \n",
       "50%           30.500000       100.000000         17.120000         100.000000   \n",
       "75%           36.790000       114.000000         20.000000         113.000000   \n",
       "max           59.640000       170.000000         30.910000         175.000000   \n",
       "\n",
       "       total night charge  total intl calls  total intl charge  \\\n",
       "count         3333.000000       3333.000000        3333.000000   \n",
       "mean             9.039325          4.479448           2.764581   \n",
       "std              2.275873          2.461214           0.753773   \n",
       "min              1.040000          0.000000           0.000000   \n",
       "25%              7.520000          3.000000           2.300000   \n",
       "50%              9.050000          4.000000           2.780000   \n",
       "75%             10.590000          6.000000           3.270000   \n",
       "max             17.770000         20.000000           5.400000   \n",
       "\n",
       "       customer service calls        churn  total minutes  \n",
       "count             3333.000000  3333.000000    3333.000000  \n",
       "mean                 1.562856     0.144914     591.864776  \n",
       "std                  1.315491     0.352067      89.954251  \n",
       "min                  0.000000     0.000000     284.300000  \n",
       "25%                  1.000000     0.000000     531.500000  \n",
       "50%                  1.000000     0.000000     593.600000  \n",
       "75%                  2.000000     0.000000     652.400000  \n",
       "max                  9.000000     1.000000     885.000000  "
      ]
     },
     "execution_count": 1272,
     "metadata": {},
     "output_type": "execute_result"
    }
   ],
   "source": [
    "df.describe()"
   ]
  },
  {
   "cell_type": "markdown",
   "metadata": {},
   "source": [
    "Taking a look at some of the statistics for the numeric columns, the maximum length of an account is 243, which is likely days of an account. That does seem short, but this could be for a short period for the sample. I do expect to see significant multicollineartiy in this dataset, which will not be an issue for binary modeling, it could make interpretation of features more difficult and make an unnecessarily more complicate model."
   ]
  },
  {
   "cell_type": "code",
   "execution_count": 778,
   "metadata": {},
   "outputs": [
    {
     "data": {
      "image/png": "[encoded data removed]",
      "text/plain": [
       "<Figure size 432x288 with 1 Axes>"
      ]
     },
     "metadata": {},
     "output_type": "display_data"
    }
   ],
   "source": [
    "df['account length'].hist();\n"
   ]
  },
  {
   "cell_type": "markdown",
   "metadata": {},
   "source": [
    "Looking at the histogram for the account length, it appears there is normal distribution of account length."
   ]
  },
  {
   "cell_type": "code",
   "execution_count": 1273,
   "metadata": {},
   "outputs": [
    {
     "data": {
      "text/html": [
       "<div>\n",
       "<style scoped>\n",
       "    .dataframe tbody tr th:only-of-type {\n",
       "        vertical-align: middle;\n",
       "    }\n",
       "\n",
       "    .dataframe tbody tr th {\n",
       "        vertical-align: top;\n",
       "    }\n",
       "\n",
       "    .dataframe thead th {\n",
       "        text-align: right;\n",
       "    }\n",
       "</style>\n",
       "<table border=\"1\" class=\"dataframe\">\n",
       "  <thead>\n",
       "    <tr style=\"text-align: right;\">\n",
       "      <th></th>\n",
       "      <th>account length</th>\n",
       "      <th>area code</th>\n",
       "      <th>number vmail messages</th>\n",
       "      <th>total day calls</th>\n",
       "      <th>total day charge</th>\n",
       "      <th>total eve calls</th>\n",
       "      <th>total eve charge</th>\n",
       "      <th>total night calls</th>\n",
       "      <th>total night charge</th>\n",
       "      <th>total intl calls</th>\n",
       "      <th>total intl charge</th>\n",
       "      <th>customer service calls</th>\n",
       "      <th>churn</th>\n",
       "      <th>total minutes</th>\n",
       "    </tr>\n",
       "  </thead>\n",
       "  <tbody>\n",
       "    <tr>\n",
       "      <th>account length</th>\n",
       "      <td>1.000000</td>\n",
       "      <td>-0.012463</td>\n",
       "      <td>-0.004628</td>\n",
       "      <td>0.038470</td>\n",
       "      <td>0.006214</td>\n",
       "      <td>0.019260</td>\n",
       "      <td>-0.006745</td>\n",
       "      <td>-0.013176</td>\n",
       "      <td>-0.008960</td>\n",
       "      <td>0.020661</td>\n",
       "      <td>0.009546</td>\n",
       "      <td>-0.003796</td>\n",
       "      <td>0.016541</td>\n",
       "      <td>-0.004785</td>\n",
       "    </tr>\n",
       "    <tr>\n",
       "      <th>area code</th>\n",
       "      <td>-0.012463</td>\n",
       "      <td>1.000000</td>\n",
       "      <td>-0.001994</td>\n",
       "      <td>-0.009646</td>\n",
       "      <td>-0.008264</td>\n",
       "      <td>-0.011886</td>\n",
       "      <td>0.003607</td>\n",
       "      <td>0.016522</td>\n",
       "      <td>-0.005845</td>\n",
       "      <td>-0.024179</td>\n",
       "      <td>-0.018395</td>\n",
       "      <td>0.027572</td>\n",
       "      <td>0.006174</td>\n",
       "      <td>-0.006828</td>\n",
       "    </tr>\n",
       "    <tr>\n",
       "      <th>number vmail messages</th>\n",
       "      <td>-0.004628</td>\n",
       "      <td>-0.001994</td>\n",
       "      <td>1.000000</td>\n",
       "      <td>-0.009548</td>\n",
       "      <td>0.000776</td>\n",
       "      <td>-0.005864</td>\n",
       "      <td>0.017578</td>\n",
       "      <td>0.007123</td>\n",
       "      <td>0.007663</td>\n",
       "      <td>0.013957</td>\n",
       "      <td>0.002884</td>\n",
       "      <td>-0.013263</td>\n",
       "      <td>-0.089728</td>\n",
       "      <td>0.014779</td>\n",
       "    </tr>\n",
       "    <tr>\n",
       "      <th>total day calls</th>\n",
       "      <td>0.038470</td>\n",
       "      <td>-0.009646</td>\n",
       "      <td>-0.009548</td>\n",
       "      <td>1.000000</td>\n",
       "      <td>0.006753</td>\n",
       "      <td>0.006462</td>\n",
       "      <td>-0.021449</td>\n",
       "      <td>-0.019557</td>\n",
       "      <td>0.022927</td>\n",
       "      <td>0.004574</td>\n",
       "      <td>0.021666</td>\n",
       "      <td>-0.018942</td>\n",
       "      <td>0.018459</td>\n",
       "      <td>0.005559</td>\n",
       "    </tr>\n",
       "    <tr>\n",
       "      <th>total day charge</th>\n",
       "      <td>0.006214</td>\n",
       "      <td>-0.008264</td>\n",
       "      <td>0.000776</td>\n",
       "      <td>0.006753</td>\n",
       "      <td>1.000000</td>\n",
       "      <td>0.015769</td>\n",
       "      <td>0.007036</td>\n",
       "      <td>0.022972</td>\n",
       "      <td>0.004301</td>\n",
       "      <td>0.008032</td>\n",
       "      <td>-0.010094</td>\n",
       "      <td>-0.013427</td>\n",
       "      <td>0.205151</td>\n",
       "      <td>0.611591</td>\n",
       "    </tr>\n",
       "    <tr>\n",
       "      <th>total eve calls</th>\n",
       "      <td>0.019260</td>\n",
       "      <td>-0.011886</td>\n",
       "      <td>-0.005864</td>\n",
       "      <td>0.006462</td>\n",
       "      <td>0.015769</td>\n",
       "      <td>1.000000</td>\n",
       "      <td>-0.011423</td>\n",
       "      <td>0.007710</td>\n",
       "      <td>-0.002056</td>\n",
       "      <td>0.017434</td>\n",
       "      <td>0.008674</td>\n",
       "      <td>0.002423</td>\n",
       "      <td>0.009233</td>\n",
       "      <td>0.002198</td>\n",
       "    </tr>\n",
       "    <tr>\n",
       "      <th>total eve charge</th>\n",
       "      <td>-0.006745</td>\n",
       "      <td>0.003607</td>\n",
       "      <td>0.017578</td>\n",
       "      <td>-0.021449</td>\n",
       "      <td>0.007036</td>\n",
       "      <td>-0.011423</td>\n",
       "      <td>1.000000</td>\n",
       "      <td>0.007596</td>\n",
       "      <td>-0.012601</td>\n",
       "      <td>0.002541</td>\n",
       "      <td>-0.011074</td>\n",
       "      <td>-0.012987</td>\n",
       "      <td>0.092786</td>\n",
       "      <td>0.560608</td>\n",
       "    </tr>\n",
       "    <tr>\n",
       "      <th>total night calls</th>\n",
       "      <td>-0.013176</td>\n",
       "      <td>0.016522</td>\n",
       "      <td>0.007123</td>\n",
       "      <td>-0.019557</td>\n",
       "      <td>0.022972</td>\n",
       "      <td>0.007710</td>\n",
       "      <td>0.007596</td>\n",
       "      <td>1.000000</td>\n",
       "      <td>0.011188</td>\n",
       "      <td>0.000305</td>\n",
       "      <td>-0.013630</td>\n",
       "      <td>-0.012802</td>\n",
       "      <td>0.006141</td>\n",
       "      <td>0.024063</td>\n",
       "    </tr>\n",
       "    <tr>\n",
       "      <th>total night charge</th>\n",
       "      <td>-0.008960</td>\n",
       "      <td>-0.005845</td>\n",
       "      <td>0.007663</td>\n",
       "      <td>0.022927</td>\n",
       "      <td>0.004301</td>\n",
       "      <td>-0.002056</td>\n",
       "      <td>-0.012601</td>\n",
       "      <td>0.011188</td>\n",
       "      <td>1.000000</td>\n",
       "      <td>-0.012329</td>\n",
       "      <td>-0.015186</td>\n",
       "      <td>-0.009277</td>\n",
       "      <td>0.035496</td>\n",
       "      <td>0.557249</td>\n",
       "    </tr>\n",
       "    <tr>\n",
       "      <th>total intl calls</th>\n",
       "      <td>0.020661</td>\n",
       "      <td>-0.024179</td>\n",
       "      <td>0.013957</td>\n",
       "      <td>0.004574</td>\n",
       "      <td>0.008032</td>\n",
       "      <td>0.017434</td>\n",
       "      <td>0.002541</td>\n",
       "      <td>0.000305</td>\n",
       "      <td>-0.012329</td>\n",
       "      <td>1.000000</td>\n",
       "      <td>0.032372</td>\n",
       "      <td>-0.017561</td>\n",
       "      <td>-0.052844</td>\n",
       "      <td>0.000354</td>\n",
       "    </tr>\n",
       "    <tr>\n",
       "      <th>total intl charge</th>\n",
       "      <td>0.009546</td>\n",
       "      <td>-0.018395</td>\n",
       "      <td>0.002884</td>\n",
       "      <td>0.021666</td>\n",
       "      <td>-0.010094</td>\n",
       "      <td>0.008674</td>\n",
       "      <td>-0.011074</td>\n",
       "      <td>-0.013630</td>\n",
       "      <td>-0.015186</td>\n",
       "      <td>0.032372</td>\n",
       "      <td>1.000000</td>\n",
       "      <td>-0.009675</td>\n",
       "      <td>0.068259</td>\n",
       "      <td>0.010152</td>\n",
       "    </tr>\n",
       "    <tr>\n",
       "      <th>customer service calls</th>\n",
       "      <td>-0.003796</td>\n",
       "      <td>0.027572</td>\n",
       "      <td>-0.013263</td>\n",
       "      <td>-0.018942</td>\n",
       "      <td>-0.013427</td>\n",
       "      <td>0.002423</td>\n",
       "      <td>-0.012987</td>\n",
       "      <td>-0.012802</td>\n",
       "      <td>-0.009277</td>\n",
       "      <td>-0.017561</td>\n",
       "      <td>-0.009675</td>\n",
       "      <td>1.000000</td>\n",
       "      <td>0.208750</td>\n",
       "      <td>-0.020969</td>\n",
       "    </tr>\n",
       "    <tr>\n",
       "      <th>churn</th>\n",
       "      <td>0.016541</td>\n",
       "      <td>0.006174</td>\n",
       "      <td>-0.089728</td>\n",
       "      <td>0.018459</td>\n",
       "      <td>0.205151</td>\n",
       "      <td>0.009233</td>\n",
       "      <td>0.092786</td>\n",
       "      <td>0.006141</td>\n",
       "      <td>0.035496</td>\n",
       "      <td>-0.052844</td>\n",
       "      <td>0.068259</td>\n",
       "      <td>0.208750</td>\n",
       "      <td>1.000000</td>\n",
       "      <td>0.198607</td>\n",
       "    </tr>\n",
       "    <tr>\n",
       "      <th>total minutes</th>\n",
       "      <td>-0.004785</td>\n",
       "      <td>-0.006828</td>\n",
       "      <td>0.014779</td>\n",
       "      <td>0.005559</td>\n",
       "      <td>0.611591</td>\n",
       "      <td>0.002198</td>\n",
       "      <td>0.560608</td>\n",
       "      <td>0.024063</td>\n",
       "      <td>0.557249</td>\n",
       "      <td>0.000354</td>\n",
       "      <td>0.010152</td>\n",
       "      <td>-0.020969</td>\n",
       "      <td>0.198607</td>\n",
       "      <td>1.000000</td>\n",
       "    </tr>\n",
       "  </tbody>\n",
       "</table>\n",
       "</div>"
      ],
      "text/plain": [
       "                        account length  area code  number vmail messages  \\\n",
       "account length                1.000000  -0.012463              -0.004628   \n",
       "area code                    -0.012463   1.000000              -0.001994   \n",
       "number vmail messages        -0.004628  -0.001994               1.000000   \n",
       "total day calls               0.038470  -0.009646              -0.009548   \n",
       "total day charge              0.006214  -0.008264               0.000776   \n",
       "total eve calls               0.019260  -0.011886              -0.005864   \n",
       "total eve charge             -0.006745   0.003607               0.017578   \n",
       "total night calls            -0.013176   0.016522               0.007123   \n",
       "total night charge           -0.008960  -0.005845               0.007663   \n",
       "total intl calls              0.020661  -0.024179               0.013957   \n",
       "total intl charge             0.009546  -0.018395               0.002884   \n",
       "customer service calls       -0.003796   0.027572              -0.013263   \n",
       "churn                         0.016541   0.006174              -0.089728   \n",
       "total minutes                -0.004785  -0.006828               0.014779   \n",
       "\n",
       "                        total day calls  total day charge  total eve calls  \\\n",
       "account length                 0.038470          0.006214         0.019260   \n",
       "area code                     -0.009646         -0.008264        -0.011886   \n",
       "number vmail messages         -0.009548          0.000776        -0.005864   \n",
       "total day calls                1.000000          0.006753         0.006462   \n",
       "total day charge               0.006753          1.000000         0.015769   \n",
       "total eve calls                0.006462          0.015769         1.000000   \n",
       "total eve charge              -0.021449          0.007036        -0.011423   \n",
       "total night calls             -0.019557          0.022972         0.007710   \n",
       "total night charge             0.022927          0.004301        -0.002056   \n",
       "total intl calls               0.004574          0.008032         0.017434   \n",
       "total intl charge              0.021666         -0.010094         0.008674   \n",
       "customer service calls        -0.018942         -0.013427         0.002423   \n",
       "churn                          0.018459          0.205151         0.009233   \n",
       "total minutes                  0.005559          0.611591         0.002198   \n",
       "\n",
       "                        total eve charge  total night calls  \\\n",
       "account length                 -0.006745          -0.013176   \n",
       "area code                       0.003607           0.016522   \n",
       "number vmail messages           0.017578           0.007123   \n",
       "total day calls                -0.021449          -0.019557   \n",
       "total day charge                0.007036           0.022972   \n",
       "total eve calls                -0.011423           0.007710   \n",
       "total eve charge                1.000000           0.007596   \n",
       "total night calls               0.007596           1.000000   \n",
       "total night charge             -0.012601           0.011188   \n",
       "total intl calls                0.002541           0.000305   \n",
       "total intl charge              -0.011074          -0.013630   \n",
       "customer service calls         -0.012987          -0.012802   \n",
       "churn                           0.092786           0.006141   \n",
       "total minutes                   0.560608           0.024063   \n",
       "\n",
       "                        total night charge  total intl calls  \\\n",
       "account length                   -0.008960          0.020661   \n",
       "area code                        -0.005845         -0.024179   \n",
       "number vmail messages             0.007663          0.013957   \n",
       "total day calls                   0.022927          0.004574   \n",
       "total day charge                  0.004301          0.008032   \n",
       "total eve calls                  -0.002056          0.017434   \n",
       "total eve charge                 -0.012601          0.002541   \n",
       "total night calls                 0.011188          0.000305   \n",
       "total night charge                1.000000         -0.012329   \n",
       "total intl calls                 -0.012329          1.000000   \n",
       "total intl charge                -0.015186          0.032372   \n",
       "customer service calls           -0.009277         -0.017561   \n",
       "churn                             0.035496         -0.052844   \n",
       "total minutes                     0.557249          0.000354   \n",
       "\n",
       "                        total intl charge  customer service calls     churn  \\\n",
       "account length                   0.009546               -0.003796  0.016541   \n",
       "area code                       -0.018395                0.027572  0.006174   \n",
       "number vmail messages            0.002884               -0.013263 -0.089728   \n",
       "total day calls                  0.021666               -0.018942  0.018459   \n",
       "total day charge                -0.010094               -0.013427  0.205151   \n",
       "total eve calls                  0.008674                0.002423  0.009233   \n",
       "total eve charge                -0.011074               -0.012987  0.092786   \n",
       "total night calls               -0.013630               -0.012802  0.006141   \n",
       "total night charge              -0.015186               -0.009277  0.035496   \n",
       "total intl calls                 0.032372               -0.017561 -0.052844   \n",
       "total intl charge                1.000000               -0.009675  0.068259   \n",
       "customer service calls          -0.009675                1.000000  0.208750   \n",
       "churn                            0.068259                0.208750  1.000000   \n",
       "total minutes                    0.010152               -0.020969  0.198607   \n",
       "\n",
       "                        total minutes  \n",
       "account length              -0.004785  \n",
       "area code                   -0.006828  \n",
       "number vmail messages        0.014779  \n",
       "total day calls              0.005559  \n",
       "total day charge             0.611591  \n",
       "total eve calls              0.002198  \n",
       "total eve charge             0.560608  \n",
       "total night calls            0.024063  \n",
       "total night charge           0.557249  \n",
       "total intl calls             0.000354  \n",
       "total intl charge            0.010152  \n",
       "customer service calls      -0.020969  \n",
       "churn                        0.198607  \n",
       "total minutes                1.000000  "
      ]
     },
     "execution_count": 1273,
     "metadata": {},
     "output_type": "execute_result"
    }
   ],
   "source": [
    "df.corr()"
   ]
  },
  {
   "cell_type": "code",
   "execution_count": 1294,
   "metadata": {},
   "outputs": [],
   "source": [
    "mask = np.triu(np.ones_like(df.corr()))"
   ]
  },
  {
   "cell_type": "code",
   "execution_count": 1295,
   "metadata": {},
   "outputs": [
    {
     "data": {
      "image/png": "[encoded data removed]",
      "text/plain": [
       "<Figure size 792x648 with 2 Axes>"
      ]
     },
     "metadata": {},
     "output_type": "display_data"
    }
   ],
   "source": [
    "f, ax = plt.subplots(figsize=(11, 9))\n",
    "matrix = df.corr().round(2)\n",
    "sns.heatmap(matrix, annot=True,cmap='Blues',mask=mask)\n",
    "plt.show()"
   ]
  },
  {
   "cell_type": "markdown",
   "metadata": {},
   "source": [
    "The Correlation matrix reveals that churn slightly correlates with customer service calls and total minutes. There are also some 1 to 1 correlations with international minutes, total night minutes, total eve minutes, and total day calls. I will. dropping some of these columns in an effort to reduce dimensionality as well."
   ]
  },
  {
   "cell_type": "code",
   "execution_count": 688,
   "metadata": {},
   "outputs": [
    {
     "data": {
      "text/plain": [
       "['total day minutes',\n",
       " 'total day calls',\n",
       " 'total day charge',\n",
       " 'total eve minutes',\n",
       " 'total eve calls',\n",
       " 'total eve charge',\n",
       " 'total night minutes',\n",
       " 'total night calls',\n",
       " 'total night charge',\n",
       " 'total intl minutes',\n",
       " 'total intl calls',\n",
       " 'total intl charge']"
      ]
     },
     "execution_count": 688,
     "metadata": {},
     "output_type": "execute_result"
    }
   ],
   "source": [
    "#Looking at the totals columns\n",
    "total_cols"
   ]
  },
  {
   "cell_type": "markdown",
   "metadata": {},
   "source": [
    "### International Plan"
   ]
  },
  {
   "cell_type": "code",
   "execution_count": 808,
   "metadata": {},
   "outputs": [
    {
     "data": {
      "text/html": [
       "<div>\n",
       "<style scoped>\n",
       "    .dataframe tbody tr th:only-of-type {\n",
       "        vertical-align: middle;\n",
       "    }\n",
       "\n",
       "    .dataframe tbody tr th {\n",
       "        vertical-align: top;\n",
       "    }\n",
       "\n",
       "    .dataframe thead th {\n",
       "        text-align: right;\n",
       "    }\n",
       "</style>\n",
       "<table border=\"1\" class=\"dataframe\">\n",
       "  <thead>\n",
       "    <tr style=\"text-align: right;\">\n",
       "      <th>churn</th>\n",
       "      <th>0</th>\n",
       "      <th>1</th>\n",
       "    </tr>\n",
       "    <tr>\n",
       "      <th>international plan</th>\n",
       "      <th></th>\n",
       "      <th></th>\n",
       "    </tr>\n",
       "  </thead>\n",
       "  <tbody>\n",
       "    <tr>\n",
       "      <th>no</th>\n",
       "      <td>0.885050</td>\n",
       "      <td>0.114950</td>\n",
       "    </tr>\n",
       "    <tr>\n",
       "      <th>yes</th>\n",
       "      <td>0.575851</td>\n",
       "      <td>0.424149</td>\n",
       "    </tr>\n",
       "  </tbody>\n",
       "</table>\n",
       "</div>"
      ],
      "text/plain": [
       "churn                      0         1\n",
       "international plan                    \n",
       "no                  0.885050  0.114950\n",
       "yes                 0.575851  0.424149"
      ]
     },
     "execution_count": 808,
     "metadata": {},
     "output_type": "execute_result"
    }
   ],
   "source": [
    "#Comparing International Plan Customers to\n",
    "pd.crosstab(df['international plan'],df['churn'],normalize='index')\n"
   ]
  },
  {
   "cell_type": "code",
   "execution_count": 1297,
   "metadata": {},
   "outputs": [
    {
     "data": {
      "text/html": [
       "<div>\n",
       "<style scoped>\n",
       "    .dataframe tbody tr th:only-of-type {\n",
       "        vertical-align: middle;\n",
       "    }\n",
       "\n",
       "    .dataframe tbody tr th {\n",
       "        vertical-align: top;\n",
       "    }\n",
       "\n",
       "    .dataframe thead th {\n",
       "        text-align: right;\n",
       "    }\n",
       "</style>\n",
       "<table border=\"1\" class=\"dataframe\">\n",
       "  <thead>\n",
       "    <tr style=\"text-align: right;\">\n",
       "      <th></th>\n",
       "      <th>total intl calls</th>\n",
       "      <th>total intl charge</th>\n",
       "      <th>total intl minutes</th>\n",
       "    </tr>\n",
       "    <tr>\n",
       "      <th>international plan</th>\n",
       "      <th></th>\n",
       "      <th></th>\n",
       "      <th></th>\n",
       "    </tr>\n",
       "  </thead>\n",
       "  <tbody>\n",
       "    <tr>\n",
       "      <th>no</th>\n",
       "      <td>4.465449</td>\n",
       "      <td>2.753279</td>\n",
       "      <td>10.195349</td>\n",
       "    </tr>\n",
       "    <tr>\n",
       "      <th>yes</th>\n",
       "      <td>4.609907</td>\n",
       "      <td>2.869907</td>\n",
       "      <td>10.628173</td>\n",
       "    </tr>\n",
       "  </tbody>\n",
       "</table>\n",
       "</div>"
      ],
      "text/plain": [
       "                    total intl calls  total intl charge  total intl minutes\n",
       "international plan                                                         \n",
       "no                          4.465449           2.753279           10.195349\n",
       "yes                         4.609907           2.869907           10.628173"
      ]
     },
     "execution_count": 1297,
     "metadata": {},
     "output_type": "execute_result"
    }
   ],
   "source": [
    "df.groupby('international plan')[['total intl calls','total intl charge','total intl minutes']].mean()"
   ]
  },
  {
   "cell_type": "markdown",
   "metadata": {},
   "source": [
    "The internatinoal plan customers and non-international plan customers show a similar ammount of minutes and charges. "
   ]
  },
  {
   "cell_type": "code",
   "execution_count": 1298,
   "metadata": {},
   "outputs": [
    {
     "data": {
      "text/html": [
       "<div>\n",
       "<style scoped>\n",
       "    .dataframe tbody tr th:only-of-type {\n",
       "        vertical-align: middle;\n",
       "    }\n",
       "\n",
       "    .dataframe tbody tr th {\n",
       "        vertical-align: top;\n",
       "    }\n",
       "\n",
       "    .dataframe thead th {\n",
       "        text-align: right;\n",
       "    }\n",
       "</style>\n",
       "<table border=\"1\" class=\"dataframe\">\n",
       "  <thead>\n",
       "    <tr style=\"text-align: right;\">\n",
       "      <th>churn</th>\n",
       "      <th>False</th>\n",
       "      <th>True</th>\n",
       "    </tr>\n",
       "    <tr>\n",
       "      <th>area code</th>\n",
       "      <th></th>\n",
       "      <th></th>\n",
       "    </tr>\n",
       "  </thead>\n",
       "  <tbody>\n",
       "    <tr>\n",
       "      <th>408</th>\n",
       "      <td>0.854415</td>\n",
       "      <td>0.145585</td>\n",
       "    </tr>\n",
       "    <tr>\n",
       "      <th>415</th>\n",
       "      <td>0.857402</td>\n",
       "      <td>0.142598</td>\n",
       "    </tr>\n",
       "    <tr>\n",
       "      <th>510</th>\n",
       "      <td>0.851190</td>\n",
       "      <td>0.148810</td>\n",
       "    </tr>\n",
       "  </tbody>\n",
       "</table>\n",
       "</div>"
      ],
      "text/plain": [
       "churn         False     True \n",
       "area code                    \n",
       "408        0.854415  0.145585\n",
       "415        0.857402  0.142598\n",
       "510        0.851190  0.148810"
      ]
     },
     "execution_count": 1298,
     "metadata": {},
     "output_type": "execute_result"
    }
   ],
   "source": [
    "pd.crosstab(df['area code'],df['churn'],normalize='index')"
   ]
  },
  {
   "cell_type": "markdown",
   "metadata": {},
   "source": [
    "The area code churn is similar across the three area codes in the dataset."
   ]
  },
  {
   "cell_type": "code",
   "execution_count": 1299,
   "metadata": {},
   "outputs": [
    {
     "data": {
      "text/plain": [
       "no     2411\n",
       "yes     922\n",
       "Name: voice mail plan, dtype: int64"
      ]
     },
     "execution_count": 1299,
     "metadata": {},
     "output_type": "execute_result"
    }
   ],
   "source": [
    "df['voice mail plan'].value_counts()\n"
   ]
  },
  {
   "cell_type": "code",
   "execution_count": 1300,
   "metadata": {},
   "outputs": [
    {
     "data": {
      "text/html": [
       "<div>\n",
       "<style scoped>\n",
       "    .dataframe tbody tr th:only-of-type {\n",
       "        vertical-align: middle;\n",
       "    }\n",
       "\n",
       "    .dataframe tbody tr th {\n",
       "        vertical-align: top;\n",
       "    }\n",
       "\n",
       "    .dataframe thead th {\n",
       "        text-align: right;\n",
       "    }\n",
       "</style>\n",
       "<table border=\"1\" class=\"dataframe\">\n",
       "  <thead>\n",
       "    <tr style=\"text-align: right;\">\n",
       "      <th>churn</th>\n",
       "      <th>False</th>\n",
       "      <th>True</th>\n",
       "    </tr>\n",
       "    <tr>\n",
       "      <th>voice mail plan</th>\n",
       "      <th></th>\n",
       "      <th></th>\n",
       "    </tr>\n",
       "  </thead>\n",
       "  <tbody>\n",
       "    <tr>\n",
       "      <th>no</th>\n",
       "      <td>0.832849</td>\n",
       "      <td>0.167151</td>\n",
       "    </tr>\n",
       "    <tr>\n",
       "      <th>yes</th>\n",
       "      <td>0.913232</td>\n",
       "      <td>0.086768</td>\n",
       "    </tr>\n",
       "  </tbody>\n",
       "</table>\n",
       "</div>"
      ],
      "text/plain": [
       "churn               False     True \n",
       "voice mail plan                    \n",
       "no               0.832849  0.167151\n",
       "yes              0.913232  0.086768"
      ]
     },
     "execution_count": 1300,
     "metadata": {},
     "output_type": "execute_result"
    }
   ],
   "source": [
    "pd.crosstab(df['voice mail plan'],df['churn'],normalize='index')\n"
   ]
  },
  {
   "cell_type": "code",
   "execution_count": 813,
   "metadata": {},
   "outputs": [
    {
     "data": {
      "image/png": "[encoded data removed]",
      "text/plain": [
       "<Figure size 1440x1440 with 20 Axes>"
      ]
     },
     "metadata": {},
     "output_type": "display_data"
    }
   ],
   "source": [
    "df.hist(figsize=(20,20), xrot=0)\n",
    "plt.show()`"
   ]
  },
  {
   "cell_type": "markdown",
   "metadata": {},
   "source": [
    "### Customer Service Calls"
   ]
  },
  {
   "cell_type": "code",
   "execution_count": 1666,
   "metadata": {},
   "outputs": [
    {
     "data": {
      "text/plain": [
       "1    1181\n",
       "2     759\n",
       "0     697\n",
       "3     429\n",
       "4     166\n",
       "5      66\n",
       "6      22\n",
       "7       9\n",
       "9       2\n",
       "8       2\n",
       "Name: customer service calls, dtype: int64"
      ]
     },
     "execution_count": 1666,
     "metadata": {},
     "output_type": "execute_result"
    }
   ],
   "source": [
    "#Value Counts for Customer Service Calls\n",
    "df['customer service calls'].value_counts()"
   ]
  },
  {
   "cell_type": "code",
   "execution_count": 1743,
   "metadata": {},
   "outputs": [
    {
     "data": {
      "text/plain": [
       "customer service calls\n",
       "0    0.131994\n",
       "1    0.103302\n",
       "2    0.114625\n",
       "3    0.102564\n",
       "4    0.457831\n",
       "5    0.606061\n",
       "6    0.636364\n",
       "7    0.555556\n",
       "8    0.500000\n",
       "9    1.000000\n",
       "Name: churn, dtype: float64"
      ]
     },
     "execution_count": 1743,
     "metadata": {},
     "output_type": "execute_result"
    }
   ],
   "source": [
    "df.groupby('customer service calls')['churn'].mean()"
   ]
  },
  {
   "cell_type": "markdown",
   "metadata": {},
   "source": [
    "Looking at the number of customer service calls and the percentage of churn customers, it looks like it's a good indicator of churn, but it is certainly a skewed distribution. Four or more calls looks like the point at which we see a high churn rate.  "
   ]
  },
  {
   "cell_type": "code",
   "execution_count": 1726,
   "metadata": {},
   "outputs": [],
   "source": [
    "df['Frequent Customer Service'] = np.where(df['customer service calls']>3, True, False)"
   ]
  },
  {
   "cell_type": "code",
   "execution_count": 1750,
   "metadata": {},
   "outputs": [],
   "source": [
    "df['Frequent Customer Service']=df['Frequent Customer Service'].astype(int)"
   ]
  },
  {
   "cell_type": "code",
   "execution_count": 1752,
   "metadata": {},
   "outputs": [
    {
     "data": {
      "text/html": [
       "<div>\n",
       "<style scoped>\n",
       "    .dataframe tbody tr th:only-of-type {\n",
       "        vertical-align: middle;\n",
       "    }\n",
       "\n",
       "    .dataframe tbody tr th {\n",
       "        vertical-align: top;\n",
       "    }\n",
       "\n",
       "    .dataframe thead th {\n",
       "        text-align: right;\n",
       "    }\n",
       "</style>\n",
       "<table border=\"1\" class=\"dataframe\">\n",
       "  <thead>\n",
       "    <tr style=\"text-align: right;\">\n",
       "      <th></th>\n",
       "      <th>count</th>\n",
       "      <th>mean</th>\n",
       "      <th>std</th>\n",
       "      <th>min</th>\n",
       "      <th>25%</th>\n",
       "      <th>50%</th>\n",
       "      <th>75%</th>\n",
       "      <th>max</th>\n",
       "    </tr>\n",
       "    <tr>\n",
       "      <th>Frequent Customer Service</th>\n",
       "      <th></th>\n",
       "      <th></th>\n",
       "      <th></th>\n",
       "      <th></th>\n",
       "      <th></th>\n",
       "      <th></th>\n",
       "      <th></th>\n",
       "      <th></th>\n",
       "    </tr>\n",
       "  </thead>\n",
       "  <tbody>\n",
       "    <tr>\n",
       "      <th>0</th>\n",
       "      <td>3066.0</td>\n",
       "      <td>0.112524</td>\n",
       "      <td>0.316062</td>\n",
       "      <td>0.0</td>\n",
       "      <td>0.0</td>\n",
       "      <td>0.0</td>\n",
       "      <td>0.0</td>\n",
       "      <td>1.0</td>\n",
       "    </tr>\n",
       "    <tr>\n",
       "      <th>1</th>\n",
       "      <td>267.0</td>\n",
       "      <td>0.516854</td>\n",
       "      <td>0.500654</td>\n",
       "      <td>0.0</td>\n",
       "      <td>0.0</td>\n",
       "      <td>1.0</td>\n",
       "      <td>1.0</td>\n",
       "      <td>1.0</td>\n",
       "    </tr>\n",
       "  </tbody>\n",
       "</table>\n",
       "</div>"
      ],
      "text/plain": [
       "                            count      mean       std  min  25%  50%  75%  max\n",
       "Frequent Customer Service                                                     \n",
       "0                          3066.0  0.112524  0.316062  0.0  0.0  0.0  0.0  1.0\n",
       "1                           267.0  0.516854  0.500654  0.0  0.0  1.0  1.0  1.0"
      ]
     },
     "execution_count": 1752,
     "metadata": {},
     "output_type": "execute_result"
    }
   ],
   "source": [
    "df.groupby(['Frequent Customer Service'])['churn'].describe()"
   ]
  },
  {
   "cell_type": "code",
   "execution_count": 1755,
   "metadata": {},
   "outputs": [
    {
     "data": {
      "text/plain": [
       "count    3333.000000\n",
       "mean        0.144914\n",
       "std         0.352067\n",
       "min         0.000000\n",
       "25%         0.000000\n",
       "50%         0.000000\n",
       "75%         0.000000\n",
       "max         1.000000\n",
       "Name: churn, dtype: float64"
      ]
     },
     "execution_count": 1755,
     "metadata": {},
     "output_type": "execute_result"
    }
   ],
   "source": []
  },
  {
   "cell_type": "code",
   "execution_count": 1747,
   "metadata": {},
   "outputs": [],
   "source": [
    "res = stats.ttest_ind(df['Frequent Customer Service']==True, df['Frequent Customer Service']==False, \n",
    "                      equal_var=False)"
   ]
  },
  {
   "cell_type": "code",
   "execution_count": 1749,
   "metadata": {},
   "outputs": [
    {
     "data": {
      "text/plain": [
       "Ttest_indResult(statistic=-126.26956695932489, pvalue=0.0)"
      ]
     },
     "execution_count": 1749,
     "metadata": {},
     "output_type": "execute_result"
    }
   ],
   "source": [
    "res"
   ]
  },
  {
   "cell_type": "code",
   "execution_count": 694,
   "metadata": {},
   "outputs": [
    {
     "data": {
      "text/plain": [
       "415    1655\n",
       "510     840\n",
       "408     838\n",
       "Name: area code, dtype: int64"
      ]
     },
     "execution_count": 694,
     "metadata": {},
     "output_type": "execute_result"
    }
   ],
   "source": [
    "df['area code'].value_counts()\n"
   ]
  },
  {
   "cell_type": "markdown",
   "metadata": {},
   "source": [
    "There are several collinearities, they do not make a difference for classifcation per se, but may be hidnerance with explanation of features. "
   ]
  },
  {
   "cell_type": "markdown",
   "metadata": {},
   "source": [
    "## Feature Engineering"
   ]
  },
  {
   "cell_type": "code",
   "execution_count": 695,
   "metadata": {},
   "outputs": [
    {
     "name": "stdout",
     "output_type": "stream",
     "text": [
      "<class 'pandas.core.frame.DataFrame'>\n",
      "RangeIndex: 3333 entries, 0 to 3332\n",
      "Data columns (total 21 columns):\n",
      " #   Column                  Non-Null Count  Dtype  \n",
      "---  ------                  --------------  -----  \n",
      " 0   state                   3333 non-null   object \n",
      " 1   account length          3333 non-null   int64  \n",
      " 2   area code               3333 non-null   int64  \n",
      " 3   phone number            3333 non-null   object \n",
      " 4   international plan      3333 non-null   object \n",
      " 5   voice mail plan         3333 non-null   object \n",
      " 6   number vmail messages   3333 non-null   int64  \n",
      " 7   total day minutes       3333 non-null   float64\n",
      " 8   total day calls         3333 non-null   int64  \n",
      " 9   total day charge        3333 non-null   float64\n",
      " 10  total eve minutes       3333 non-null   float64\n",
      " 11  total eve calls         3333 non-null   int64  \n",
      " 12  total eve charge        3333 non-null   float64\n",
      " 13  total night minutes     3333 non-null   float64\n",
      " 14  total night calls       3333 non-null   int64  \n",
      " 15  total night charge      3333 non-null   float64\n",
      " 16  total intl minutes      3333 non-null   float64\n",
      " 17  total intl calls        3333 non-null   int64  \n",
      " 18  total intl charge       3333 non-null   float64\n",
      " 19  customer service calls  3333 non-null   int64  \n",
      " 20  churn                   3333 non-null   int64  \n",
      "dtypes: float64(8), int64(9), object(4)\n",
      "memory usage: 546.9+ KB\n"
     ]
    }
   ],
   "source": [
    "df.info()"
   ]
  },
  {
   "cell_type": "markdown",
   "metadata": {},
   "source": [
    "All of the minutes correlate with the charges, I'm going to put them all together, see if that changes the correlation. "
   ]
  },
  {
   "cell_type": "code",
   "execution_count": 1302,
   "metadata": {},
   "outputs": [],
   "source": [
    "df['total minutes']=df['total eve minutes']+df['total night minutes']+df['total intl minutes']+df['total day minutes']"
   ]
  },
  {
   "cell_type": "code",
   "execution_count": 1303,
   "metadata": {},
   "outputs": [],
   "source": [
    "df = df.drop(['total eve minutes','total night minutes','total intl minutes','total day minutes'],axis=1)"
   ]
  },
  {
   "cell_type": "code",
   "execution_count": 1307,
   "metadata": {},
   "outputs": [
    {
     "data": {
      "image/png": "[encoded data removed]",
      "text/plain": [
       "<Figure size 792x648 with 2 Axes>"
      ]
     },
     "metadata": {},
     "output_type": "display_data"
    }
   ],
   "source": [
    "mask = np.triu(np.ones_like(df.corr()))\n",
    "f, ax = plt.subplots(figsize=(11, 9))\n",
    "matrix = df.corr().round(2)\n",
    "sns.heatmap(matrix, annot=True,mask=mask,cmap='Blues')\n",
    "plt.show()"
   ]
  },
  {
   "cell_type": "markdown",
   "metadata": {},
   "source": [
    "The correlation in the model is reduced and hopefully this will help with later interpretation. The only other oppurtunities I see for feature engineering are perhaps binning customer service calls."
   ]
  },
  {
   "cell_type": "markdown",
   "metadata": {},
   "source": [
    "## Preprocessing Steps"
   ]
  },
  {
   "cell_type": "code",
   "execution_count": 1308,
   "metadata": {},
   "outputs": [],
   "source": [
    "#Dropping the target Churn from the trainging set\n",
    "X = df.drop('churn',axis=1)\n",
    "#Cresting the target variable for modelling\n",
    "y = df['churn'].astype(int)"
   ]
  },
  {
   "cell_type": "code",
   "execution_count": 1309,
   "metadata": {},
   "outputs": [],
   "source": [
    "#Dropping 'phoe number from the training set'\n",
    "X = X.drop(['phone number','state'],axis=1)"
   ]
  },
  {
   "cell_type": "code",
   "execution_count": 1310,
   "metadata": {},
   "outputs": [],
   "source": [
    "X['area code']=X['area code'].apply(str)"
   ]
  },
  {
   "cell_type": "code",
   "execution_count": 1311,
   "metadata": {},
   "outputs": [],
   "source": [
    "#Seperating Categorical and Numeric Columns\n",
    "categories = X.select_dtypes(include='object')\n",
    "numerics = X.select_dtypes(exclude='object')"
   ]
  },
  {
   "cell_type": "markdown",
   "metadata": {},
   "source": [
    "### Train Test Split"
   ]
  },
  {
   "cell_type": "code",
   "execution_count": 1312,
   "metadata": {},
   "outputs": [],
   "source": [
    "#Splitting Data into Train Test Data\n",
    "X_train, X_test, y_train, y_test = train_test_split(X,y,test_size=.2,random_state=6)"
   ]
  },
  {
   "cell_type": "code",
   "execution_count": 1313,
   "metadata": {},
   "outputs": [
    {
     "data": {
      "text/html": [
       "<div>\n",
       "<style scoped>\n",
       "    .dataframe tbody tr th:only-of-type {\n",
       "        vertical-align: middle;\n",
       "    }\n",
       "\n",
       "    .dataframe tbody tr th {\n",
       "        vertical-align: top;\n",
       "    }\n",
       "\n",
       "    .dataframe thead th {\n",
       "        text-align: right;\n",
       "    }\n",
       "</style>\n",
       "<table border=\"1\" class=\"dataframe\">\n",
       "  <thead>\n",
       "    <tr style=\"text-align: right;\">\n",
       "      <th></th>\n",
       "      <th>account length</th>\n",
       "      <th>area code</th>\n",
       "      <th>international plan</th>\n",
       "      <th>voice mail plan</th>\n",
       "      <th>number vmail messages</th>\n",
       "      <th>total day calls</th>\n",
       "      <th>total day charge</th>\n",
       "      <th>total eve calls</th>\n",
       "      <th>total eve charge</th>\n",
       "      <th>total night calls</th>\n",
       "      <th>total night charge</th>\n",
       "      <th>total intl calls</th>\n",
       "      <th>total intl charge</th>\n",
       "      <th>customer service calls</th>\n",
       "      <th>total minutes</th>\n",
       "    </tr>\n",
       "  </thead>\n",
       "  <tbody>\n",
       "    <tr>\n",
       "      <th>2024</th>\n",
       "      <td>159</td>\n",
       "      <td>415</td>\n",
       "      <td>no</td>\n",
       "      <td>yes</td>\n",
       "      <td>23</td>\n",
       "      <td>93</td>\n",
       "      <td>26.11</td>\n",
       "      <td>88</td>\n",
       "      <td>18.44</td>\n",
       "      <td>91</td>\n",
       "      <td>7.26</td>\n",
       "      <td>3</td>\n",
       "      <td>3.40</td>\n",
       "      <td>2</td>\n",
       "      <td>544.4</td>\n",
       "    </tr>\n",
       "    <tr>\n",
       "      <th>953</th>\n",
       "      <td>132</td>\n",
       "      <td>415</td>\n",
       "      <td>no</td>\n",
       "      <td>yes</td>\n",
       "      <td>39</td>\n",
       "      <td>93</td>\n",
       "      <td>29.87</td>\n",
       "      <td>94</td>\n",
       "      <td>15.91</td>\n",
       "      <td>118</td>\n",
       "      <td>10.15</td>\n",
       "      <td>3</td>\n",
       "      <td>2.32</td>\n",
       "      <td>2</td>\n",
       "      <td>597.0</td>\n",
       "    </tr>\n",
       "    <tr>\n",
       "      <th>2396</th>\n",
       "      <td>127</td>\n",
       "      <td>510</td>\n",
       "      <td>yes</td>\n",
       "      <td>no</td>\n",
       "      <td>0</td>\n",
       "      <td>99</td>\n",
       "      <td>42.08</td>\n",
       "      <td>118</td>\n",
       "      <td>9.22</td>\n",
       "      <td>72</td>\n",
       "      <td>10.44</td>\n",
       "      <td>3</td>\n",
       "      <td>2.86</td>\n",
       "      <td>2</td>\n",
       "      <td>598.6</td>\n",
       "    </tr>\n",
       "    <tr>\n",
       "      <th>3195</th>\n",
       "      <td>77</td>\n",
       "      <td>510</td>\n",
       "      <td>no</td>\n",
       "      <td>yes</td>\n",
       "      <td>29</td>\n",
       "      <td>89</td>\n",
       "      <td>35.89</td>\n",
       "      <td>97</td>\n",
       "      <td>19.00</td>\n",
       "      <td>106</td>\n",
       "      <td>6.68</td>\n",
       "      <td>9</td>\n",
       "      <td>2.62</td>\n",
       "      <td>2</td>\n",
       "      <td>592.7</td>\n",
       "    </tr>\n",
       "    <tr>\n",
       "      <th>1116</th>\n",
       "      <td>130</td>\n",
       "      <td>415</td>\n",
       "      <td>no</td>\n",
       "      <td>no</td>\n",
       "      <td>0</td>\n",
       "      <td>95</td>\n",
       "      <td>26.50</td>\n",
       "      <td>97</td>\n",
       "      <td>21.77</td>\n",
       "      <td>103</td>\n",
       "      <td>11.83</td>\n",
       "      <td>3</td>\n",
       "      <td>3.16</td>\n",
       "      <td>3</td>\n",
       "      <td>686.6</td>\n",
       "    </tr>\n",
       "  </tbody>\n",
       "</table>\n",
       "</div>"
      ],
      "text/plain": [
       "      account length area code international plan voice mail plan  \\\n",
       "2024             159       415                 no             yes   \n",
       "953              132       415                 no             yes   \n",
       "2396             127       510                yes              no   \n",
       "3195              77       510                 no             yes   \n",
       "1116             130       415                 no              no   \n",
       "\n",
       "      number vmail messages  total day calls  total day charge  \\\n",
       "2024                     23               93             26.11   \n",
       "953                      39               93             29.87   \n",
       "2396                      0               99             42.08   \n",
       "3195                     29               89             35.89   \n",
       "1116                      0               95             26.50   \n",
       "\n",
       "      total eve calls  total eve charge  total night calls  \\\n",
       "2024               88             18.44                 91   \n",
       "953                94             15.91                118   \n",
       "2396              118              9.22                 72   \n",
       "3195               97             19.00                106   \n",
       "1116               97             21.77                103   \n",
       "\n",
       "      total night charge  total intl calls  total intl charge  \\\n",
       "2024                7.26                 3               3.40   \n",
       "953                10.15                 3               2.32   \n",
       "2396               10.44                 3               2.86   \n",
       "3195                6.68                 9               2.62   \n",
       "1116               11.83                 3               3.16   \n",
       "\n",
       "      customer service calls  total minutes  \n",
       "2024                       2          544.4  \n",
       "953                        2          597.0  \n",
       "2396                       2          598.6  \n",
       "3195                       2          592.7  \n",
       "1116                       3          686.6  "
      ]
     },
     "execution_count": 1313,
     "metadata": {},
     "output_type": "execute_result"
    }
   ],
   "source": [
    "X_train.head(5)"
   ]
  },
  {
   "cell_type": "code",
   "execution_count": 1314,
   "metadata": {},
   "outputs": [
    {
     "data": {
      "text/plain": [
       "2024    0\n",
       "953     0\n",
       "2396    0\n",
       "3195    0\n",
       "1116    0\n",
       "Name: churn, dtype: int64"
      ]
     },
     "execution_count": 1314,
     "metadata": {},
     "output_type": "execute_result"
    }
   ],
   "source": [
    "y_train.head(5)\n"
   ]
  },
  {
   "cell_type": "markdown",
   "metadata": {},
   "source": [
    "### Preprocessing Pipeline with Skippa"
   ]
  },
  {
   "cell_type": "markdown",
   "metadata": {},
   "source": [
    "I've imported a new Pipeline I found that has the that preserves the dataframe format. "
   ]
  },
  {
   "cell_type": "code",
   "execution_count": 1315,
   "metadata": {},
   "outputs": [],
   "source": [
    "Preprocessed = (\n",
    "    Skippa()\n",
    "    #Standard Scalar for Continuous Variables\n",
    "    .scale(columns(dtype_include='number'), type='standard')\n",
    "    #One Hot Encoding Objects\n",
    "    .onehot(columns(dtype_exclude='number'))\n",
    "    .build())"
   ]
  },
  {
   "cell_type": "code",
   "execution_count": 1316,
   "metadata": {},
   "outputs": [],
   "source": [
    "# Processed_X_train = Preprocessed.fit_transform(X_train)\n",
    "Processed_X_train = Preprocessed.fit_transform(X_train)\n"
   ]
  },
  {
   "cell_type": "code",
   "execution_count": 1317,
   "metadata": {},
   "outputs": [
    {
     "data": {
      "text/html": [
       "<div>\n",
       "<style scoped>\n",
       "    .dataframe tbody tr th:only-of-type {\n",
       "        vertical-align: middle;\n",
       "    }\n",
       "\n",
       "    .dataframe tbody tr th {\n",
       "        vertical-align: top;\n",
       "    }\n",
       "\n",
       "    .dataframe thead th {\n",
       "        text-align: right;\n",
       "    }\n",
       "</style>\n",
       "<table border=\"1\" class=\"dataframe\">\n",
       "  <thead>\n",
       "    <tr style=\"text-align: right;\">\n",
       "      <th></th>\n",
       "      <th>account length</th>\n",
       "      <th>number vmail messages</th>\n",
       "      <th>total day calls</th>\n",
       "      <th>total day charge</th>\n",
       "      <th>total eve calls</th>\n",
       "      <th>total eve charge</th>\n",
       "      <th>total night calls</th>\n",
       "      <th>total night charge</th>\n",
       "      <th>total intl calls</th>\n",
       "      <th>total intl charge</th>\n",
       "      <th>customer service calls</th>\n",
       "      <th>total minutes</th>\n",
       "      <th>area code_408</th>\n",
       "      <th>area code_415</th>\n",
       "      <th>area code_510</th>\n",
       "      <th>international plan_no</th>\n",
       "      <th>international plan_yes</th>\n",
       "      <th>voice mail plan_no</th>\n",
       "      <th>voice mail plan_yes</th>\n",
       "    </tr>\n",
       "  </thead>\n",
       "  <tbody>\n",
       "    <tr>\n",
       "      <th>2024</th>\n",
       "      <td>1.442200</td>\n",
       "      <td>1.092144</td>\n",
       "      <td>-0.365022</td>\n",
       "      <td>-0.480130</td>\n",
       "      <td>-0.602542</td>\n",
       "      <td>0.310540</td>\n",
       "      <td>-0.454737</td>\n",
       "      <td>-0.791998</td>\n",
       "      <td>-0.612794</td>\n",
       "      <td>0.846293</td>\n",
       "      <td>0.318929</td>\n",
       "      <td>-0.541532</td>\n",
       "      <td>0.0</td>\n",
       "      <td>1.0</td>\n",
       "      <td>0.0</td>\n",
       "      <td>1.0</td>\n",
       "      <td>0.0</td>\n",
       "      <td>0.0</td>\n",
       "      <td>1.0</td>\n",
       "    </tr>\n",
       "    <tr>\n",
       "      <th>953</th>\n",
       "      <td>0.774780</td>\n",
       "      <td>2.262658</td>\n",
       "      <td>-0.365022</td>\n",
       "      <td>-0.077339</td>\n",
       "      <td>-0.304982</td>\n",
       "      <td>-0.279869</td>\n",
       "      <td>0.922098</td>\n",
       "      <td>0.467929</td>\n",
       "      <td>-0.612794</td>\n",
       "      <td>-0.597497</td>\n",
       "      <td>0.318929</td>\n",
       "      <td>0.042402</td>\n",
       "      <td>0.0</td>\n",
       "      <td>1.0</td>\n",
       "      <td>0.0</td>\n",
       "      <td>1.0</td>\n",
       "      <td>0.0</td>\n",
       "      <td>0.0</td>\n",
       "      <td>1.0</td>\n",
       "    </tr>\n",
       "    <tr>\n",
       "      <th>2396</th>\n",
       "      <td>0.651184</td>\n",
       "      <td>-0.590471</td>\n",
       "      <td>-0.069726</td>\n",
       "      <td>1.230661</td>\n",
       "      <td>0.885258</td>\n",
       "      <td>-1.841069</td>\n",
       "      <td>-1.423621</td>\n",
       "      <td>0.594357</td>\n",
       "      <td>-0.612794</td>\n",
       "      <td>0.124398</td>\n",
       "      <td>0.318929</td>\n",
       "      <td>0.060164</td>\n",
       "      <td>0.0</td>\n",
       "      <td>0.0</td>\n",
       "      <td>1.0</td>\n",
       "      <td>0.0</td>\n",
       "      <td>1.0</td>\n",
       "      <td>1.0</td>\n",
       "      <td>0.0</td>\n",
       "    </tr>\n",
       "    <tr>\n",
       "      <th>3195</th>\n",
       "      <td>-0.584778</td>\n",
       "      <td>1.531086</td>\n",
       "      <td>-0.561886</td>\n",
       "      <td>0.567555</td>\n",
       "      <td>-0.156202</td>\n",
       "      <td>0.441224</td>\n",
       "      <td>0.310171</td>\n",
       "      <td>-1.044855</td>\n",
       "      <td>1.809909</td>\n",
       "      <td>-0.196445</td>\n",
       "      <td>0.318929</td>\n",
       "      <td>-0.005334</td>\n",
       "      <td>0.0</td>\n",
       "      <td>0.0</td>\n",
       "      <td>1.0</td>\n",
       "      <td>1.0</td>\n",
       "      <td>0.0</td>\n",
       "      <td>0.0</td>\n",
       "      <td>1.0</td>\n",
       "    </tr>\n",
       "    <tr>\n",
       "      <th>1116</th>\n",
       "      <td>0.725342</td>\n",
       "      <td>-0.590471</td>\n",
       "      <td>-0.266590</td>\n",
       "      <td>-0.438351</td>\n",
       "      <td>-0.156202</td>\n",
       "      <td>1.087640</td>\n",
       "      <td>0.157190</td>\n",
       "      <td>1.200343</td>\n",
       "      <td>-0.612794</td>\n",
       "      <td>0.525450</td>\n",
       "      <td>1.080814</td>\n",
       "      <td>1.037087</td>\n",
       "      <td>0.0</td>\n",
       "      <td>1.0</td>\n",
       "      <td>0.0</td>\n",
       "      <td>1.0</td>\n",
       "      <td>0.0</td>\n",
       "      <td>1.0</td>\n",
       "      <td>0.0</td>\n",
       "    </tr>\n",
       "    <tr>\n",
       "      <th>...</th>\n",
       "      <td>...</td>\n",
       "      <td>...</td>\n",
       "      <td>...</td>\n",
       "      <td>...</td>\n",
       "      <td>...</td>\n",
       "      <td>...</td>\n",
       "      <td>...</td>\n",
       "      <td>...</td>\n",
       "      <td>...</td>\n",
       "      <td>...</td>\n",
       "      <td>...</td>\n",
       "      <td>...</td>\n",
       "      <td>...</td>\n",
       "      <td>...</td>\n",
       "      <td>...</td>\n",
       "      <td>...</td>\n",
       "      <td>...</td>\n",
       "      <td>...</td>\n",
       "      <td>...</td>\n",
       "    </tr>\n",
       "    <tr>\n",
       "      <th>618</th>\n",
       "      <td>1.293884</td>\n",
       "      <td>-0.590471</td>\n",
       "      <td>0.324002</td>\n",
       "      <td>0.281531</td>\n",
       "      <td>-0.205796</td>\n",
       "      <td>-0.926285</td>\n",
       "      <td>-0.148774</td>\n",
       "      <td>-1.153846</td>\n",
       "      <td>0.598557</td>\n",
       "      <td>0.485345</td>\n",
       "      <td>-0.442957</td>\n",
       "      <td>-0.985588</td>\n",
       "      <td>0.0</td>\n",
       "      <td>0.0</td>\n",
       "      <td>1.0</td>\n",
       "      <td>1.0</td>\n",
       "      <td>0.0</td>\n",
       "      <td>1.0</td>\n",
       "      <td>0.0</td>\n",
       "    </tr>\n",
       "    <tr>\n",
       "      <th>2004</th>\n",
       "      <td>-0.584778</td>\n",
       "      <td>-0.590471</td>\n",
       "      <td>-0.709534</td>\n",
       "      <td>-0.080553</td>\n",
       "      <td>-1.098475</td>\n",
       "      <td>0.074843</td>\n",
       "      <td>0.004208</td>\n",
       "      <td>0.851574</td>\n",
       "      <td>-0.612794</td>\n",
       "      <td>2.731240</td>\n",
       "      <td>1.842699</td>\n",
       "      <td>0.559727</td>\n",
       "      <td>0.0</td>\n",
       "      <td>0.0</td>\n",
       "      <td>1.0</td>\n",
       "      <td>1.0</td>\n",
       "      <td>0.0</td>\n",
       "      <td>1.0</td>\n",
       "      <td>0.0</td>\n",
       "    </tr>\n",
       "    <tr>\n",
       "      <th>227</th>\n",
       "      <td>0.626465</td>\n",
       "      <td>1.384772</td>\n",
       "      <td>-1.103262</td>\n",
       "      <td>0.113344</td>\n",
       "      <td>-0.850509</td>\n",
       "      <td>-0.230863</td>\n",
       "      <td>1.992970</td>\n",
       "      <td>-2.457369</td>\n",
       "      <td>-0.612794</td>\n",
       "      <td>-0.236550</td>\n",
       "      <td>0.318929</td>\n",
       "      <td>-1.457397</td>\n",
       "      <td>1.0</td>\n",
       "      <td>0.0</td>\n",
       "      <td>0.0</td>\n",
       "      <td>1.0</td>\n",
       "      <td>0.0</td>\n",
       "      <td>0.0</td>\n",
       "      <td>1.0</td>\n",
       "    </tr>\n",
       "    <tr>\n",
       "      <th>2761</th>\n",
       "      <td>-0.312866</td>\n",
       "      <td>-0.590471</td>\n",
       "      <td>0.766946</td>\n",
       "      <td>0.028715</td>\n",
       "      <td>0.934851</td>\n",
       "      <td>-0.282202</td>\n",
       "      <td>-0.199768</td>\n",
       "      <td>0.363298</td>\n",
       "      <td>1.002341</td>\n",
       "      <td>0.097661</td>\n",
       "      <td>-0.442957</td>\n",
       "      <td>0.067935</td>\n",
       "      <td>0.0</td>\n",
       "      <td>1.0</td>\n",
       "      <td>0.0</td>\n",
       "      <td>1.0</td>\n",
       "      <td>0.0</td>\n",
       "      <td>1.0</td>\n",
       "      <td>0.0</td>\n",
       "    </tr>\n",
       "    <tr>\n",
       "      <th>2954</th>\n",
       "      <td>-1.079163</td>\n",
       "      <td>-0.590471</td>\n",
       "      <td>0.619298</td>\n",
       "      <td>-0.345152</td>\n",
       "      <td>1.678751</td>\n",
       "      <td>0.133184</td>\n",
       "      <td>-0.964676</td>\n",
       "      <td>0.123520</td>\n",
       "      <td>-0.209010</td>\n",
       "      <td>-0.664340</td>\n",
       "      <td>1.080814</td>\n",
       "      <td>-0.085264</td>\n",
       "      <td>0.0</td>\n",
       "      <td>1.0</td>\n",
       "      <td>0.0</td>\n",
       "      <td>1.0</td>\n",
       "      <td>0.0</td>\n",
       "      <td>1.0</td>\n",
       "      <td>0.0</td>\n",
       "    </tr>\n",
       "  </tbody>\n",
       "</table>\n",
       "<p>2666 rows × 19 columns</p>\n",
       "</div>"
      ],
      "text/plain": [
       "      account length  number vmail messages  total day calls  \\\n",
       "2024        1.442200               1.092144        -0.365022   \n",
       "953         0.774780               2.262658        -0.365022   \n",
       "2396        0.651184              -0.590471        -0.069726   \n",
       "3195       -0.584778               1.531086        -0.561886   \n",
       "1116        0.725342              -0.590471        -0.266590   \n",
       "...              ...                    ...              ...   \n",
       "618         1.293884              -0.590471         0.324002   \n",
       "2004       -0.584778              -0.590471        -0.709534   \n",
       "227         0.626465               1.384772        -1.103262   \n",
       "2761       -0.312866              -0.590471         0.766946   \n",
       "2954       -1.079163              -0.590471         0.619298   \n",
       "\n",
       "      total day charge  total eve calls  total eve charge  total night calls  \\\n",
       "2024         -0.480130        -0.602542          0.310540          -0.454737   \n",
       "953          -0.077339        -0.304982         -0.279869           0.922098   \n",
       "2396          1.230661         0.885258         -1.841069          -1.423621   \n",
       "3195          0.567555        -0.156202          0.441224           0.310171   \n",
       "1116         -0.438351        -0.156202          1.087640           0.157190   \n",
       "...                ...              ...               ...                ...   \n",
       "618           0.281531        -0.205796         -0.926285          -0.148774   \n",
       "2004         -0.080553        -1.098475          0.074843           0.004208   \n",
       "227           0.113344        -0.850509         -0.230863           1.992970   \n",
       "2761          0.028715         0.934851         -0.282202          -0.199768   \n",
       "2954         -0.345152         1.678751          0.133184          -0.964676   \n",
       "\n",
       "      total night charge  total intl calls  total intl charge  \\\n",
       "2024           -0.791998         -0.612794           0.846293   \n",
       "953             0.467929         -0.612794          -0.597497   \n",
       "2396            0.594357         -0.612794           0.124398   \n",
       "3195           -1.044855          1.809909          -0.196445   \n",
       "1116            1.200343         -0.612794           0.525450   \n",
       "...                  ...               ...                ...   \n",
       "618            -1.153846          0.598557           0.485345   \n",
       "2004            0.851574         -0.612794           2.731240   \n",
       "227            -2.457369         -0.612794          -0.236550   \n",
       "2761            0.363298          1.002341           0.097661   \n",
       "2954            0.123520         -0.209010          -0.664340   \n",
       "\n",
       "      customer service calls  total minutes  area code_408  area code_415  \\\n",
       "2024                0.318929      -0.541532            0.0            1.0   \n",
       "953                 0.318929       0.042402            0.0            1.0   \n",
       "2396                0.318929       0.060164            0.0            0.0   \n",
       "3195                0.318929      -0.005334            0.0            0.0   \n",
       "1116                1.080814       1.037087            0.0            1.0   \n",
       "...                      ...            ...            ...            ...   \n",
       "618                -0.442957      -0.985588            0.0            0.0   \n",
       "2004                1.842699       0.559727            0.0            0.0   \n",
       "227                 0.318929      -1.457397            1.0            0.0   \n",
       "2761               -0.442957       0.067935            0.0            1.0   \n",
       "2954                1.080814      -0.085264            0.0            1.0   \n",
       "\n",
       "      area code_510  international plan_no  international plan_yes  \\\n",
       "2024            0.0                    1.0                     0.0   \n",
       "953             0.0                    1.0                     0.0   \n",
       "2396            1.0                    0.0                     1.0   \n",
       "3195            1.0                    1.0                     0.0   \n",
       "1116            0.0                    1.0                     0.0   \n",
       "...             ...                    ...                     ...   \n",
       "618             1.0                    1.0                     0.0   \n",
       "2004            1.0                    1.0                     0.0   \n",
       "227             0.0                    1.0                     0.0   \n",
       "2761            0.0                    1.0                     0.0   \n",
       "2954            0.0                    1.0                     0.0   \n",
       "\n",
       "      voice mail plan_no  voice mail plan_yes  \n",
       "2024                 0.0                  1.0  \n",
       "953                  0.0                  1.0  \n",
       "2396                 1.0                  0.0  \n",
       "3195                 0.0                  1.0  \n",
       "1116                 1.0                  0.0  \n",
       "...                  ...                  ...  \n",
       "618                  1.0                  0.0  \n",
       "2004                 1.0                  0.0  \n",
       "227                  0.0                  1.0  \n",
       "2761                 1.0                  0.0  \n",
       "2954                 1.0                  0.0  \n",
       "\n",
       "[2666 rows x 19 columns]"
      ]
     },
     "execution_count": 1317,
     "metadata": {},
     "output_type": "execute_result"
    }
   ],
   "source": [
    "Processed_X_train\n"
   ]
  },
  {
   "cell_type": "code",
   "execution_count": 832,
   "metadata": {},
   "outputs": [
    {
     "data": {
      "text/plain": [
       "(2666, 15)"
      ]
     },
     "metadata": {},
     "output_type": "display_data"
    },
    {
     "data": {
      "text/plain": [
       "(2666,)"
      ]
     },
     "metadata": {},
     "output_type": "display_data"
    }
   ],
   "source": [
    "display(X_train.shape,\n",
    "y_train.shape)"
   ]
  },
  {
   "cell_type": "markdown",
   "metadata": {},
   "source": [
    "## Model Scoring"
   ]
  },
  {
   "cell_type": "markdown",
   "metadata": {},
   "source": [
    "It will be important to keep track of my models as I got forward as there will be multiple models with different tuned parameters. I will make a couple of helper functions in order to put scores into a dataframe to make my final selections. I will be optimizing my models for recall score, but I do not want to overaly correct. I will keep track of other relevent metrics."
   ]
  },
  {
   "cell_type": "markdown",
   "metadata": {},
   "source": [
    "### Helper Functions"
   ]
  },
  {
   "cell_type": "code",
   "execution_count": 849,
   "metadata": {},
   "outputs": [],
   "source": [
    "def score_report(model_name,model,X,Y):\n",
    "    #return a dictionary of of model scores\n",
    "    #creating a dictionary\n",
    "    model_dict={}\n",
    "    \n",
    "    #Getting Predictions for training data\n",
    "    preds = model.predict(X)\n",
    "    \n",
    "    #creating key/values of different metrics\n",
    "    model_dict['model_name']=model_name\n",
    "    model_dict['accuracy']=accuracy_score(Y,preds)\n",
    "    model_dict['precision']=precision_score(Y,preds)\n",
    "    model_dict['recall']=recall_score(Y,preds)\n",
    "    model_dict['f1']=f1_score(Y,preds)\n",
    "        \n",
    "    return model_dict\n",
    "\n",
    "    "
   ]
  },
  {
   "cell_type": "code",
   "execution_count": 850,
   "metadata": {},
   "outputs": [],
   "source": [
    "def cross_val_report(model_name,model,X,Y):\n",
    "    #creating a function to return the cross-val scores of the different mretrics\n",
    "    model_dict={}\n",
    "    \n",
    "    model_dict['model_name']=model_name\n",
    "    \n",
    "    model_dict['mean_accuracy']=np.mean(cross_val_score(model,X,Y,scoring='accuracy'))\n",
    "    model_dict['std_accuracy']=np.std(cross_val_score(model,X,Y,scoring='accuracy'))\n",
    "    model_dict['mean_precision']=np.mean(cross_val_score(model,X,Y,scoring='precision'))\n",
    "    model_dict['std_precision']=np.std(cross_val_score(model,X,Y,scoring='precision'))\n",
    "    model_dict['mean_recall']=np.mean(cross_val_score(model,X,Y,scoring='recall'))\n",
    "    model_dict['std_recall']=np.std(cross_val_score(model,X,Y,scoring='recall'))\n",
    "    model_dict['mean_f1']=np.mean(cross_val_score(model,X,Y,scoring='f1'))\n",
    "    model_dict['std_f1']=np.std(cross_val_score(model,X,Y,scoring='f1'))\n",
    "    \n",
    "    return model_dict"
   ]
  },
  {
   "cell_type": "code",
   "execution_count": 126,
   "metadata": {},
   "outputs": [],
   "source": [
    "def append_df(dictionary,df):\n",
    "    new_df = df.append(dictionary,ignore_index=True)\n",
    "    return new_df"
   ]
  },
  {
   "cell_type": "markdown",
   "metadata": {},
   "source": [
    "### Beta 2 Scoring"
   ]
  },
  {
   "cell_type": "markdown",
   "metadata": {},
   "source": [
    "The focus of this project is to help attain the best Recall score without sacrificing Precision - being able to identify as many Churn customers as possible without letting in too many false postive Churn customers, I have decided the downside of false postives isn't terribly problematic. A beta 2 scorer will prioritize recall above precision. "
   ]
  },
  {
   "cell_type": "code",
   "execution_count": 1318,
   "metadata": {},
   "outputs": [],
   "source": [
    "#Initialize Beta 2 Scorer\n",
    "two_scorer = make_scorer(fbeta_score, beta=2)\n"
   ]
  },
  {
   "cell_type": "markdown",
   "metadata": {},
   "source": [
    "## Logistic Regression"
   ]
  },
  {
   "cell_type": "markdown",
   "metadata": {},
   "source": [
    "### Baseline Model"
   ]
  },
  {
   "cell_type": "markdown",
   "metadata": {},
   "source": [
    "I will first make a baseline Logistic Regression Model to get a handle on this classification issue."
   ]
  },
  {
   "cell_type": "code",
   "execution_count": 1319,
   "metadata": {},
   "outputs": [],
   "source": [
    "Logistic_Pipeline = (\n",
    "    Skippa()\n",
    "    .scale(columns(dtype_include='number'), type='standard')\n",
    "    .onehot(columns(dtype_exclude='number'))\n",
    "    .model(LogisticRegression()))"
   ]
  },
  {
   "cell_type": "code",
   "execution_count": 1320,
   "metadata": {},
   "outputs": [
    {
     "data": {
      "text/plain": [
       "SkippaPipeline(steps=[('scale_standard_0',\n",
       "                       SkippaStandardScaler(cols=<skippa.transformers.base.ColumnSelector object at 0x7fd57c47f790>,\n",
       "                                            copy=True, with_mean=True,\n",
       "                                            with_std=True)),\n",
       "                      ('onehot_1',\n",
       "                       SkippaOneHotEncoder(categories='auto',\n",
       "                                           cols=<skippa.transformers.base.ColumnSelector object at 0x7fd5937341c0>,\n",
       "                                           drop=None,\n",
       "                                           dtype=<class 'numpy.float64'>,\n",
       "                                           handle_unknown='error',\n",
       "                                           sparse=False)),\n",
       "                      ('model_2', LogisticRegression())])"
      ]
     },
     "execution_count": 1320,
     "metadata": {},
     "output_type": "execute_result"
    }
   ],
   "source": [
    "Logistic_Pipeline.fit(X_train,y_train)"
   ]
  },
  {
   "cell_type": "code",
   "execution_count": 1321,
   "metadata": {},
   "outputs": [],
   "source": [
    "Logistic_Baseline = score_report('LogisticBaseline',Logistic_Pipeline,X_train,y_train)\n"
   ]
  },
  {
   "cell_type": "code",
   "execution_count": 1322,
   "metadata": {},
   "outputs": [],
   "source": [
    "#Initializing a DataFrame for Model Sore Storage\n",
    "models_df = pd.DataFrame(Logistic_Baseline,index=[0])\n"
   ]
  },
  {
   "cell_type": "code",
   "execution_count": 1323,
   "metadata": {},
   "outputs": [
    {
     "data": {
      "text/html": [
       "<div>\n",
       "<style scoped>\n",
       "    .dataframe tbody tr th:only-of-type {\n",
       "        vertical-align: middle;\n",
       "    }\n",
       "\n",
       "    .dataframe tbody tr th {\n",
       "        vertical-align: top;\n",
       "    }\n",
       "\n",
       "    .dataframe thead th {\n",
       "        text-align: right;\n",
       "    }\n",
       "</style>\n",
       "<table border=\"1\" class=\"dataframe\">\n",
       "  <thead>\n",
       "    <tr style=\"text-align: right;\">\n",
       "      <th></th>\n",
       "      <th>model_name</th>\n",
       "      <th>accuracy</th>\n",
       "      <th>precision</th>\n",
       "      <th>recall</th>\n",
       "      <th>f1</th>\n",
       "    </tr>\n",
       "  </thead>\n",
       "  <tbody>\n",
       "    <tr>\n",
       "      <th>0</th>\n",
       "      <td>LogisticBaseline</td>\n",
       "      <td>0.85934</td>\n",
       "      <td>0.542857</td>\n",
       "      <td>0.196382</td>\n",
       "      <td>0.288425</td>\n",
       "    </tr>\n",
       "  </tbody>\n",
       "</table>\n",
       "</div>"
      ],
      "text/plain": [
       "         model_name  accuracy  precision    recall        f1\n",
       "0  LogisticBaseline   0.85934   0.542857  0.196382  0.288425"
      ]
     },
     "execution_count": 1323,
     "metadata": {},
     "output_type": "execute_result"
    }
   ],
   "source": [
    "models_df"
   ]
  },
  {
   "cell_type": "markdown",
   "metadata": {},
   "source": [
    "### Logistic Regression Grid Search"
   ]
  },
  {
   "cell_type": "code",
   "execution_count": 1324,
   "metadata": {},
   "outputs": [],
   "source": [
    "param_grid = {'model_2__class_weight': ['none','balanced'],'model_2__C':[.01,.1,1,5,10,100]}\n"
   ]
  },
  {
   "cell_type": "code",
   "execution_count": 1325,
   "metadata": {},
   "outputs": [
    {
     "data": {
      "text/plain": [
       "GridSearchCV(cv=4,\n",
       "             estimator=SkippaPipeline(steps=[('scale_standard_0',\n",
       "                                              SkippaStandardScaler(cols=<skippa.transformers.base.ColumnSelector object at 0x7fd57c47f790>,\n",
       "                                                                   copy=True,\n",
       "                                                                   with_mean=True,\n",
       "                                                                   with_std=True)),\n",
       "                                             ('onehot_1',\n",
       "                                              SkippaOneHotEncoder(categories='auto',\n",
       "                                                                  cols=<skippa.transformers.base.ColumnSelector object at 0x7fd5937341c0>,\n",
       "                                                                  drop=None,\n",
       "                                                                  dtype=<class 'numpy.float64'>,\n",
       "                                                                  handle_unknown='error',\n",
       "                                                                  sparse=False)),\n",
       "                                             ('model_2',\n",
       "                                              LogisticRegression())]),\n",
       "             param_grid={'model_2__C': [0.01, 0.1, 1, 5, 10, 100],\n",
       "                         'model_2__class_weight': ['none', 'balanced']},\n",
       "             scoring=make_scorer(fbeta_score, beta=2))"
      ]
     },
     "execution_count": 1325,
     "metadata": {},
     "output_type": "execute_result"
    }
   ],
   "source": [
    "LG_GS = GridSearchCV(estimator=Logistic_Pipeline,cv=4,param_grid=param_grid,scoring=two_scorer,refit=True)\n",
    "LG_GS.fit(X_train,y_train)"
   ]
  },
  {
   "cell_type": "code",
   "execution_count": 1326,
   "metadata": {},
   "outputs": [
    {
     "data": {
      "text/plain": [
       "SkippaPipeline(steps=[('scale_standard_0',\n",
       "                       SkippaStandardScaler(cols=<skippa.transformers.base.ColumnSelector object at 0x7fd593c36850>,\n",
       "                                            copy=True, with_mean=True,\n",
       "                                            with_std=True)),\n",
       "                      ('onehot_1',\n",
       "                       SkippaOneHotEncoder(categories='auto',\n",
       "                                           cols=<skippa.transformers.base.ColumnSelector object at 0x7fd57bc0aa30>,\n",
       "                                           drop=None,\n",
       "                                           dtype=<class 'numpy.float64'>,\n",
       "                                           handle_unknown='error',\n",
       "                                           sparse=False)),\n",
       "                      ('model_2',\n",
       "                       LogisticRegression(C=5, class_weight='balanced'))])"
      ]
     },
     "execution_count": 1326,
     "metadata": {},
     "output_type": "execute_result"
    }
   ],
   "source": [
    "#Extract the best model from the Grid SearchCV\n",
    "LG_GS.best_estimator_\n"
   ]
  },
  {
   "cell_type": "code",
   "execution_count": 1327,
   "metadata": {},
   "outputs": [],
   "source": [
    "#Inititalze DataFrame for Cross-Val Scores\n",
    "cross_val_df = pd.DataFrame((cross_val_report('Logistic_Regression_Grid',LG_GS.best_estimator_,X_train,y_train)),index=[0])"
   ]
  },
  {
   "cell_type": "code",
   "execution_count": 1328,
   "metadata": {},
   "outputs": [
    {
     "data": {
      "text/html": [
       "<div>\n",
       "<style scoped>\n",
       "    .dataframe tbody tr th:only-of-type {\n",
       "        vertical-align: middle;\n",
       "    }\n",
       "\n",
       "    .dataframe tbody tr th {\n",
       "        vertical-align: top;\n",
       "    }\n",
       "\n",
       "    .dataframe thead th {\n",
       "        text-align: right;\n",
       "    }\n",
       "</style>\n",
       "<table border=\"1\" class=\"dataframe\">\n",
       "  <thead>\n",
       "    <tr style=\"text-align: right;\">\n",
       "      <th></th>\n",
       "      <th>model_name</th>\n",
       "      <th>accuracy</th>\n",
       "      <th>precision</th>\n",
       "      <th>recall</th>\n",
       "      <th>f1</th>\n",
       "    </tr>\n",
       "  </thead>\n",
       "  <tbody>\n",
       "    <tr>\n",
       "      <th>0</th>\n",
       "      <td>LogisticBaseline</td>\n",
       "      <td>0.85934</td>\n",
       "      <td>0.542857</td>\n",
       "      <td>0.196382</td>\n",
       "      <td>0.288425</td>\n",
       "    </tr>\n",
       "  </tbody>\n",
       "</table>\n",
       "</div>"
      ],
      "text/plain": [
       "         model_name  accuracy  precision    recall        f1\n",
       "0  LogisticBaseline   0.85934   0.542857  0.196382  0.288425"
      ]
     },
     "metadata": {},
     "output_type": "display_data"
    },
    {
     "data": {
      "text/html": [
       "<div>\n",
       "<style scoped>\n",
       "    .dataframe tbody tr th:only-of-type {\n",
       "        vertical-align: middle;\n",
       "    }\n",
       "\n",
       "    .dataframe tbody tr th {\n",
       "        vertical-align: top;\n",
       "    }\n",
       "\n",
       "    .dataframe thead th {\n",
       "        text-align: right;\n",
       "    }\n",
       "</style>\n",
       "<table border=\"1\" class=\"dataframe\">\n",
       "  <thead>\n",
       "    <tr style=\"text-align: right;\">\n",
       "      <th></th>\n",
       "      <th>model_name</th>\n",
       "      <th>mean_accuracy</th>\n",
       "      <th>std_accuracy</th>\n",
       "      <th>mean_precision</th>\n",
       "      <th>std_precision</th>\n",
       "      <th>mean_recall</th>\n",
       "      <th>std_recall</th>\n",
       "      <th>mean_f1</th>\n",
       "      <th>std_f1</th>\n",
       "    </tr>\n",
       "  </thead>\n",
       "  <tbody>\n",
       "    <tr>\n",
       "      <th>0</th>\n",
       "      <td>Logistic_Regression_Grid</td>\n",
       "      <td>0.763689</td>\n",
       "      <td>0.010579</td>\n",
       "      <td>0.353438</td>\n",
       "      <td>0.012592</td>\n",
       "      <td>0.754545</td>\n",
       "      <td>0.007259</td>\n",
       "      <td>0.481309</td>\n",
       "      <td>0.01297</td>\n",
       "    </tr>\n",
       "  </tbody>\n",
       "</table>\n",
       "</div>"
      ],
      "text/plain": [
       "                 model_name  mean_accuracy  std_accuracy  mean_precision  \\\n",
       "0  Logistic_Regression_Grid       0.763689      0.010579        0.353438   \n",
       "\n",
       "   std_precision  mean_recall  std_recall   mean_f1   std_f1  \n",
       "0       0.012592     0.754545    0.007259  0.481309  0.01297  "
      ]
     },
     "metadata": {},
     "output_type": "display_data"
    }
   ],
   "source": [
    "display(models_df,cross_val_df)"
   ]
  },
  {
   "cell_type": "code",
   "execution_count": 1329,
   "metadata": {},
   "outputs": [],
   "source": [
    "models_df = models_df.append(score_report('LogisticTuned',LG_GS.best_estimator_,X_train,y_train),ignore_index=True)\n"
   ]
  },
  {
   "cell_type": "code",
   "execution_count": 863,
   "metadata": {},
   "outputs": [
    {
     "data": {
      "text/html": [
       "<div>\n",
       "<style scoped>\n",
       "    .dataframe tbody tr th:only-of-type {\n",
       "        vertical-align: middle;\n",
       "    }\n",
       "\n",
       "    .dataframe tbody tr th {\n",
       "        vertical-align: top;\n",
       "    }\n",
       "\n",
       "    .dataframe thead th {\n",
       "        text-align: right;\n",
       "    }\n",
       "</style>\n",
       "<table border=\"1\" class=\"dataframe\">\n",
       "  <thead>\n",
       "    <tr style=\"text-align: right;\">\n",
       "      <th></th>\n",
       "      <th>model_name</th>\n",
       "      <th>accuracy</th>\n",
       "      <th>precision</th>\n",
       "      <th>recall</th>\n",
       "      <th>f1</th>\n",
       "    </tr>\n",
       "  </thead>\n",
       "  <tbody>\n",
       "    <tr>\n",
       "      <th>0</th>\n",
       "      <td>LogisticBaseline</td>\n",
       "      <td>0.859340</td>\n",
       "      <td>0.542857</td>\n",
       "      <td>0.196382</td>\n",
       "      <td>0.288425</td>\n",
       "    </tr>\n",
       "    <tr>\n",
       "      <th>1</th>\n",
       "      <td>LogisticTuned</td>\n",
       "      <td>0.767442</td>\n",
       "      <td>0.361474</td>\n",
       "      <td>0.785530</td>\n",
       "      <td>0.495114</td>\n",
       "    </tr>\n",
       "  </tbody>\n",
       "</table>\n",
       "</div>"
      ],
      "text/plain": [
       "         model_name  accuracy  precision    recall        f1\n",
       "0  LogisticBaseline  0.859340   0.542857  0.196382  0.288425\n",
       "1     LogisticTuned  0.767442   0.361474  0.785530  0.495114"
      ]
     },
     "metadata": {},
     "output_type": "display_data"
    },
    {
     "data": {
      "text/html": [
       "<div>\n",
       "<style scoped>\n",
       "    .dataframe tbody tr th:only-of-type {\n",
       "        vertical-align: middle;\n",
       "    }\n",
       "\n",
       "    .dataframe tbody tr th {\n",
       "        vertical-align: top;\n",
       "    }\n",
       "\n",
       "    .dataframe thead th {\n",
       "        text-align: right;\n",
       "    }\n",
       "</style>\n",
       "<table border=\"1\" class=\"dataframe\">\n",
       "  <thead>\n",
       "    <tr style=\"text-align: right;\">\n",
       "      <th></th>\n",
       "      <th>model_name</th>\n",
       "      <th>mean_accuracy</th>\n",
       "      <th>std_accuracy</th>\n",
       "      <th>mean_precision</th>\n",
       "      <th>std_precision</th>\n",
       "      <th>mean_recall</th>\n",
       "      <th>std_recall</th>\n",
       "      <th>mean_f1</th>\n",
       "      <th>std_f1</th>\n",
       "    </tr>\n",
       "  </thead>\n",
       "  <tbody>\n",
       "    <tr>\n",
       "      <th>0</th>\n",
       "      <td>Logistic_Regression_Grid</td>\n",
       "      <td>0.763689</td>\n",
       "      <td>0.010579</td>\n",
       "      <td>0.353438</td>\n",
       "      <td>0.012592</td>\n",
       "      <td>0.754545</td>\n",
       "      <td>0.007259</td>\n",
       "      <td>0.481309</td>\n",
       "      <td>0.01297</td>\n",
       "    </tr>\n",
       "  </tbody>\n",
       "</table>\n",
       "</div>"
      ],
      "text/plain": [
       "                 model_name  mean_accuracy  std_accuracy  mean_precision  \\\n",
       "0  Logistic_Regression_Grid       0.763689      0.010579        0.353438   \n",
       "\n",
       "   std_precision  mean_recall  std_recall   mean_f1   std_f1  \n",
       "0       0.012592     0.754545    0.007259  0.481309  0.01297  "
      ]
     },
     "metadata": {},
     "output_type": "display_data"
    }
   ],
   "source": [
    "display(models_df,cross_val_df)"
   ]
  },
  {
   "cell_type": "code",
   "execution_count": 1330,
   "metadata": {},
   "outputs": [
    {
     "data": {
      "image/png": "[encoded data removed]",
      "text/plain": [
       "<Figure size 432x288 with 2 Axes>"
      ]
     },
     "metadata": {},
     "output_type": "display_data"
    }
   ],
   "source": [
    "ConfusionMatrixDisplay.from_estimator(LG_GS.best_estimator_,X_train,y_train);\n"
   ]
  },
  {
   "cell_type": "markdown",
   "metadata": {},
   "source": [
    "The Confusion Matrix for the Logistic Regression shows that there is improvement in the Recall score, but Precision is unacceptably poor. This model would create far too many false positives."
   ]
  },
  {
   "cell_type": "markdown",
   "metadata": {},
   "source": [
    "## K Nearest Neighbors"
   ]
  },
  {
   "cell_type": "markdown",
   "metadata": {},
   "source": [
    "### Baseline Model"
   ]
  },
  {
   "cell_type": "code",
   "execution_count": 1331,
   "metadata": {},
   "outputs": [],
   "source": [
    "KNN_Base_Pipeline = (\n",
    "    Skippa()\n",
    "    .scale(columns(dtype_include='number'), type='standard')\n",
    "    .onehot(columns(dtype_exclude='number'))\n",
    "    .model(KNeighborsClassifier()))"
   ]
  },
  {
   "cell_type": "code",
   "execution_count": 1332,
   "metadata": {},
   "outputs": [
    {
     "data": {
      "text/plain": [
       "SkippaPipeline(steps=[('scale_standard_0',\n",
       "                       SkippaStandardScaler(cols=<skippa.transformers.base.ColumnSelector object at 0x7fd592c61b80>,\n",
       "                                            copy=True, with_mean=True,\n",
       "                                            with_std=True)),\n",
       "                      ('onehot_1',\n",
       "                       SkippaOneHotEncoder(categories='auto',\n",
       "                                           cols=<skippa.transformers.base.ColumnSelector object at 0x7fd592c61160>,\n",
       "                                           drop=None,\n",
       "                                           dtype=<class 'numpy.float64'>,\n",
       "                                           handle_unknown='error',\n",
       "                                           sparse=False)),\n",
       "                      ('model_2', KNeighborsClassifier())])"
      ]
     },
     "execution_count": 1332,
     "metadata": {},
     "output_type": "execute_result"
    }
   ],
   "source": [
    "KNN_Base_Pipeline.fit(X_train,y_train)\n"
   ]
  },
  {
   "cell_type": "code",
   "execution_count": 1333,
   "metadata": {},
   "outputs": [],
   "source": [
    "#Appending Models Dataframe with Baseline Score\n",
    "models_df=models_df.append(score_report('KNN Base',KNN_Base_Pipeline,X_train,y_train),ignore_index=True)\n"
   ]
  },
  {
   "cell_type": "code",
   "execution_count": 1334,
   "metadata": {},
   "outputs": [
    {
     "data": {
      "text/html": [
       "<div>\n",
       "<style scoped>\n",
       "    .dataframe tbody tr th:only-of-type {\n",
       "        vertical-align: middle;\n",
       "    }\n",
       "\n",
       "    .dataframe tbody tr th {\n",
       "        vertical-align: top;\n",
       "    }\n",
       "\n",
       "    .dataframe thead th {\n",
       "        text-align: right;\n",
       "    }\n",
       "</style>\n",
       "<table border=\"1\" class=\"dataframe\">\n",
       "  <thead>\n",
       "    <tr style=\"text-align: right;\">\n",
       "      <th></th>\n",
       "      <th>model_name</th>\n",
       "      <th>accuracy</th>\n",
       "      <th>precision</th>\n",
       "      <th>recall</th>\n",
       "      <th>f1</th>\n",
       "    </tr>\n",
       "  </thead>\n",
       "  <tbody>\n",
       "    <tr>\n",
       "      <th>0</th>\n",
       "      <td>LogisticBaseline</td>\n",
       "      <td>0.859340</td>\n",
       "      <td>0.542857</td>\n",
       "      <td>0.196382</td>\n",
       "      <td>0.288425</td>\n",
       "    </tr>\n",
       "    <tr>\n",
       "      <th>1</th>\n",
       "      <td>LogisticTuned</td>\n",
       "      <td>0.767442</td>\n",
       "      <td>0.361474</td>\n",
       "      <td>0.785530</td>\n",
       "      <td>0.495114</td>\n",
       "    </tr>\n",
       "    <tr>\n",
       "      <th>2</th>\n",
       "      <td>KNN Base</td>\n",
       "      <td>0.918980</td>\n",
       "      <td>0.994220</td>\n",
       "      <td>0.444444</td>\n",
       "      <td>0.614286</td>\n",
       "    </tr>\n",
       "  </tbody>\n",
       "</table>\n",
       "</div>"
      ],
      "text/plain": [
       "         model_name  accuracy  precision    recall        f1\n",
       "0  LogisticBaseline  0.859340   0.542857  0.196382  0.288425\n",
       "1     LogisticTuned  0.767442   0.361474  0.785530  0.495114\n",
       "2          KNN Base  0.918980   0.994220  0.444444  0.614286"
      ]
     },
     "execution_count": 1334,
     "metadata": {},
     "output_type": "execute_result"
    }
   ],
   "source": [
    "models_df\n"
   ]
  },
  {
   "cell_type": "code",
   "execution_count": 1335,
   "metadata": {},
   "outputs": [
    {
     "data": {
      "text/plain": [
       "{'model_name': 'KNN Base',\n",
       " 'mean_accuracy': 0.888972040109338,\n",
       " 'std_accuracy': 0.0038316167538216543,\n",
       " 'mean_precision': 0.858770847676395,\n",
       " 'std_precision': 0.036419101307791225,\n",
       " 'mean_recall': 0.2815184815184815,\n",
       " 'std_recall': 0.027368981140727704,\n",
       " 'mean_f1': 0.423312363527952,\n",
       " 'std_f1': 0.032775180303853284}"
      ]
     },
     "execution_count": 1335,
     "metadata": {},
     "output_type": "execute_result"
    }
   ],
   "source": [
    "cross_val_report('KNN Base',KNN_Base_Pipeline,X_train,y_train)\n"
   ]
  },
  {
   "cell_type": "markdown",
   "metadata": {},
   "source": [
    "The baseline KNN shows a poor score with the recall. It's precision is better, but is overfitting."
   ]
  },
  {
   "cell_type": "markdown",
   "metadata": {},
   "source": [
    "### Tuned K Nearest Neighbors"
   ]
  },
  {
   "cell_type": "code",
   "execution_count": 1336,
   "metadata": {},
   "outputs": [],
   "source": [
    "#Setting Parameters for GridSearch\n",
    "KNN_Params = {'model_2__weights':['uniform','distance'],'model_2__n_neighbors':list(range(3,20)),\n",
    "              'model_2__metric': ['euclidean', 'manhattan','minkowski']}"
   ]
  },
  {
   "cell_type": "code",
   "execution_count": 1337,
   "metadata": {},
   "outputs": [
    {
     "data": {
      "text/plain": [
       "GridSearchCV(cv=5,\n",
       "             estimator=SkippaPipeline(steps=[('scale_standard_0',\n",
       "                                              SkippaStandardScaler(cols=<skippa.transformers.base.ColumnSelector object at 0x7fd592c61b80>,\n",
       "                                                                   copy=True,\n",
       "                                                                   with_mean=True,\n",
       "                                                                   with_std=True)),\n",
       "                                             ('onehot_1',\n",
       "                                              SkippaOneHotEncoder(categories='auto',\n",
       "                                                                  cols=<skippa.transformers.base.ColumnSelector object at 0x7fd592c61160>,\n",
       "                                                                  drop=None,\n",
       "                                                                  dtype=<class 'numpy.float64'>,\n",
       "                                                                  handle_unknown='error',\n",
       "                                                                  sparse=False)),\n",
       "                                             ('model_2',\n",
       "                                              KNeighborsClassifier())]),\n",
       "             param_grid={'model_2__metric': ['euclidean', 'manhattan',\n",
       "                                             'minkowski'],\n",
       "                         'model_2__n_neighbors': [3, 4, 5, 6, 7, 8, 9, 10, 11,\n",
       "                                                  12, 13, 14, 15, 16, 17, 18,\n",
       "                                                  19],\n",
       "                         'model_2__weights': ['uniform', 'distance']},\n",
       "             scoring=make_scorer(fbeta_score, beta=2))"
      ]
     },
     "execution_count": 1337,
     "metadata": {},
     "output_type": "execute_result"
    }
   ],
   "source": [
    "KNN_GS = GridSearchCV(estimator=KNN_Base_Pipeline,cv=5,param_grid=KNN_Params,scoring=two_scorer,refit=True)\n",
    "KNN_GS.fit(X_train,y_train)"
   ]
  },
  {
   "cell_type": "code",
   "execution_count": 1338,
   "metadata": {},
   "outputs": [],
   "source": [
    "KNN_Tuned = cross_val_report('KNN_Tuned',KNN_GS.best_estimator_,X,y)\n",
    "cross_val_df = append_df(KNN_Tuned,cross_val_df)"
   ]
  },
  {
   "cell_type": "code",
   "execution_count": 1339,
   "metadata": {},
   "outputs": [
    {
     "data": {
      "text/html": [
       "<div>\n",
       "<style scoped>\n",
       "    .dataframe tbody tr th:only-of-type {\n",
       "        vertical-align: middle;\n",
       "    }\n",
       "\n",
       "    .dataframe tbody tr th {\n",
       "        vertical-align: top;\n",
       "    }\n",
       "\n",
       "    .dataframe thead th {\n",
       "        text-align: right;\n",
       "    }\n",
       "</style>\n",
       "<table border=\"1\" class=\"dataframe\">\n",
       "  <thead>\n",
       "    <tr style=\"text-align: right;\">\n",
       "      <th></th>\n",
       "      <th>model_name</th>\n",
       "      <th>accuracy</th>\n",
       "      <th>precision</th>\n",
       "      <th>recall</th>\n",
       "      <th>f1</th>\n",
       "    </tr>\n",
       "  </thead>\n",
       "  <tbody>\n",
       "    <tr>\n",
       "      <th>0</th>\n",
       "      <td>LogisticBaseline</td>\n",
       "      <td>0.859340</td>\n",
       "      <td>0.542857</td>\n",
       "      <td>0.196382</td>\n",
       "      <td>0.288425</td>\n",
       "    </tr>\n",
       "    <tr>\n",
       "      <th>1</th>\n",
       "      <td>LogisticTuned</td>\n",
       "      <td>0.767442</td>\n",
       "      <td>0.361474</td>\n",
       "      <td>0.785530</td>\n",
       "      <td>0.495114</td>\n",
       "    </tr>\n",
       "    <tr>\n",
       "      <th>2</th>\n",
       "      <td>KNN Base</td>\n",
       "      <td>0.918980</td>\n",
       "      <td>0.994220</td>\n",
       "      <td>0.444444</td>\n",
       "      <td>0.614286</td>\n",
       "    </tr>\n",
       "  </tbody>\n",
       "</table>\n",
       "</div>"
      ],
      "text/plain": [
       "         model_name  accuracy  precision    recall        f1\n",
       "0  LogisticBaseline  0.859340   0.542857  0.196382  0.288425\n",
       "1     LogisticTuned  0.767442   0.361474  0.785530  0.495114\n",
       "2          KNN Base  0.918980   0.994220  0.444444  0.614286"
      ]
     },
     "metadata": {},
     "output_type": "display_data"
    },
    {
     "data": {
      "text/html": [
       "<div>\n",
       "<style scoped>\n",
       "    .dataframe tbody tr th:only-of-type {\n",
       "        vertical-align: middle;\n",
       "    }\n",
       "\n",
       "    .dataframe tbody tr th {\n",
       "        vertical-align: top;\n",
       "    }\n",
       "\n",
       "    .dataframe thead th {\n",
       "        text-align: right;\n",
       "    }\n",
       "</style>\n",
       "<table border=\"1\" class=\"dataframe\">\n",
       "  <thead>\n",
       "    <tr style=\"text-align: right;\">\n",
       "      <th></th>\n",
       "      <th>model_name</th>\n",
       "      <th>mean_accuracy</th>\n",
       "      <th>std_accuracy</th>\n",
       "      <th>mean_precision</th>\n",
       "      <th>std_precision</th>\n",
       "      <th>mean_recall</th>\n",
       "      <th>std_recall</th>\n",
       "      <th>mean_f1</th>\n",
       "      <th>std_f1</th>\n",
       "    </tr>\n",
       "  </thead>\n",
       "  <tbody>\n",
       "    <tr>\n",
       "      <th>0</th>\n",
       "      <td>Logistic_Regression_Grid</td>\n",
       "      <td>0.763689</td>\n",
       "      <td>0.010579</td>\n",
       "      <td>0.353438</td>\n",
       "      <td>0.012592</td>\n",
       "      <td>0.754545</td>\n",
       "      <td>0.007259</td>\n",
       "      <td>0.481309</td>\n",
       "      <td>0.012970</td>\n",
       "    </tr>\n",
       "    <tr>\n",
       "      <th>1</th>\n",
       "      <td>KNN_Tuned</td>\n",
       "      <td>0.891993</td>\n",
       "      <td>0.009780</td>\n",
       "      <td>0.784700</td>\n",
       "      <td>0.061339</td>\n",
       "      <td>0.351954</td>\n",
       "      <td>0.058282</td>\n",
       "      <td>0.483446</td>\n",
       "      <td>0.062658</td>\n",
       "    </tr>\n",
       "  </tbody>\n",
       "</table>\n",
       "</div>"
      ],
      "text/plain": [
       "                 model_name  mean_accuracy  std_accuracy  mean_precision  \\\n",
       "0  Logistic_Regression_Grid       0.763689      0.010579        0.353438   \n",
       "1                 KNN_Tuned       0.891993      0.009780        0.784700   \n",
       "\n",
       "   std_precision  mean_recall  std_recall   mean_f1    std_f1  \n",
       "0       0.012592     0.754545    0.007259  0.481309  0.012970  \n",
       "1       0.061339     0.351954    0.058282  0.483446  0.062658  "
      ]
     },
     "metadata": {},
     "output_type": "display_data"
    }
   ],
   "source": [
    "display(models_df, cross_val_df)"
   ]
  },
  {
   "cell_type": "code",
   "execution_count": 1340,
   "metadata": {},
   "outputs": [
    {
     "data": {
      "text/plain": [
       "{'model_2__metric': 'manhattan',\n",
       " 'model_2__n_neighbors': 4,\n",
       " 'model_2__weights': 'distance'}"
      ]
     },
     "execution_count": 1340,
     "metadata": {},
     "output_type": "execute_result"
    }
   ],
   "source": [
    "KNN_GS.best_params_"
   ]
  },
  {
   "cell_type": "code",
   "execution_count": 1341,
   "metadata": {},
   "outputs": [],
   "source": [
    "models_df = append_df(score_report('KNN_Tuned',KNN_GS.best_estimator_,X_train,y_train),models_df)"
   ]
  },
  {
   "cell_type": "code",
   "execution_count": 1342,
   "metadata": {},
   "outputs": [
    {
     "data": {
      "image/png": "[encoded data removed]",
      "text/plain": [
       "<Figure size 432x288 with 2 Axes>"
      ]
     },
     "metadata": {},
     "output_type": "display_data"
    }
   ],
   "source": [
    "ConfusionMatrixDisplay.from_estimator(KNN_GS.best_estimator_,X_train,y_train);"
   ]
  },
  {
   "cell_type": "markdown",
   "metadata": {},
   "source": [
    "The KNN model continues to show overfitting on the Training data, perhaps due to the nature of the KNN model. The cross-val scores show it is a not a useable model given an extremely low recall score."
   ]
  },
  {
   "cell_type": "markdown",
   "metadata": {},
   "source": [
    "## Decision Trees"
   ]
  },
  {
   "cell_type": "markdown",
   "metadata": {},
   "source": [
    "### Baseline Decision Tree"
   ]
  },
  {
   "cell_type": "code",
   "execution_count": 1343,
   "metadata": {},
   "outputs": [],
   "source": [
    "DT_Base_Pipeline = (\n",
    "    Skippa()\n",
    "    .scale(columns(dtype_include='number'), type='standard')\n",
    "    .onehot(columns(dtype_exclude='number'))\n",
    "    #Passing the class weight balanced parameter\n",
    "    .model(DecisionTreeClassifier(class_weight='balanced')))"
   ]
  },
  {
   "cell_type": "code",
   "execution_count": 1344,
   "metadata": {},
   "outputs": [
    {
     "data": {
      "text/plain": [
       "SkippaPipeline(steps=[('scale_standard_0',\n",
       "                       SkippaStandardScaler(cols=<skippa.transformers.base.ColumnSelector object at 0x7fd5a0da5370>,\n",
       "                                            copy=True, with_mean=True,\n",
       "                                            with_std=True)),\n",
       "                      ('onehot_1',\n",
       "                       SkippaOneHotEncoder(categories='auto',\n",
       "                                           cols=<skippa.transformers.base.ColumnSelector object at 0x7fd59418a190>,\n",
       "                                           drop=None,\n",
       "                                           dtype=<class 'numpy.float64'>,\n",
       "                                           handle_unknown='error',\n",
       "                                           sparse=False)),\n",
       "                      ('model_2',\n",
       "                       DecisionTreeClassifier(class_weight='balanced'))])"
      ]
     },
     "execution_count": 1344,
     "metadata": {},
     "output_type": "execute_result"
    }
   ],
   "source": [
    "DT_Base_Pipeline.fit(X_train,y_train)"
   ]
  },
  {
   "cell_type": "code",
   "execution_count": 1345,
   "metadata": {},
   "outputs": [],
   "source": [
    "models_df = append_df(score_report('Base Decision Tree',DT_Base_Pipeline,X_train,y_train),models_df)"
   ]
  },
  {
   "cell_type": "code",
   "execution_count": 1346,
   "metadata": {},
   "outputs": [
    {
     "data": {
      "text/html": [
       "<div>\n",
       "<style scoped>\n",
       "    .dataframe tbody tr th:only-of-type {\n",
       "        vertical-align: middle;\n",
       "    }\n",
       "\n",
       "    .dataframe tbody tr th {\n",
       "        vertical-align: top;\n",
       "    }\n",
       "\n",
       "    .dataframe thead th {\n",
       "        text-align: right;\n",
       "    }\n",
       "</style>\n",
       "<table border=\"1\" class=\"dataframe\">\n",
       "  <thead>\n",
       "    <tr style=\"text-align: right;\">\n",
       "      <th></th>\n",
       "      <th>model_name</th>\n",
       "      <th>accuracy</th>\n",
       "      <th>precision</th>\n",
       "      <th>recall</th>\n",
       "      <th>f1</th>\n",
       "    </tr>\n",
       "  </thead>\n",
       "  <tbody>\n",
       "    <tr>\n",
       "      <th>0</th>\n",
       "      <td>LogisticBaseline</td>\n",
       "      <td>0.859340</td>\n",
       "      <td>0.542857</td>\n",
       "      <td>0.196382</td>\n",
       "      <td>0.288425</td>\n",
       "    </tr>\n",
       "    <tr>\n",
       "      <th>1</th>\n",
       "      <td>LogisticTuned</td>\n",
       "      <td>0.767442</td>\n",
       "      <td>0.361474</td>\n",
       "      <td>0.785530</td>\n",
       "      <td>0.495114</td>\n",
       "    </tr>\n",
       "    <tr>\n",
       "      <th>2</th>\n",
       "      <td>KNN Base</td>\n",
       "      <td>0.918980</td>\n",
       "      <td>0.994220</td>\n",
       "      <td>0.444444</td>\n",
       "      <td>0.614286</td>\n",
       "    </tr>\n",
       "    <tr>\n",
       "      <th>3</th>\n",
       "      <td>KNN_Tuned</td>\n",
       "      <td>1.000000</td>\n",
       "      <td>1.000000</td>\n",
       "      <td>1.000000</td>\n",
       "      <td>1.000000</td>\n",
       "    </tr>\n",
       "    <tr>\n",
       "      <th>4</th>\n",
       "      <td>Base Decision Tree</td>\n",
       "      <td>1.000000</td>\n",
       "      <td>1.000000</td>\n",
       "      <td>1.000000</td>\n",
       "      <td>1.000000</td>\n",
       "    </tr>\n",
       "  </tbody>\n",
       "</table>\n",
       "</div>"
      ],
      "text/plain": [
       "           model_name  accuracy  precision    recall        f1\n",
       "0    LogisticBaseline  0.859340   0.542857  0.196382  0.288425\n",
       "1       LogisticTuned  0.767442   0.361474  0.785530  0.495114\n",
       "2            KNN Base  0.918980   0.994220  0.444444  0.614286\n",
       "3           KNN_Tuned  1.000000   1.000000  1.000000  1.000000\n",
       "4  Base Decision Tree  1.000000   1.000000  1.000000  1.000000"
      ]
     },
     "execution_count": 1346,
     "metadata": {},
     "output_type": "execute_result"
    }
   ],
   "source": [
    "models_df"
   ]
  },
  {
   "cell_type": "code",
   "execution_count": 1347,
   "metadata": {},
   "outputs": [
    {
     "data": {
      "text/plain": [
       "{'model_name': 'DT_Base',\n",
       " 'mean_accuracy': 0.9193533880023329,\n",
       " 'std_accuracy': 0.004371283081873032,\n",
       " 'mean_precision': 0.7347680570936385,\n",
       " 'std_precision': 0.02722018576583687,\n",
       " 'mean_recall': 0.7599067599067599,\n",
       " 'std_recall': 0.040770910423886926,\n",
       " 'mean_f1': 0.7386730820590748,\n",
       " 'std_f1': 0.018110537173785076}"
      ]
     },
     "execution_count": 1347,
     "metadata": {},
     "output_type": "execute_result"
    }
   ],
   "source": [
    "cross_val_report('DT_Base',DT_Base_Pipeline,X_train,y_train)"
   ]
  },
  {
   "cell_type": "markdown",
   "metadata": {},
   "source": [
    "There's a huge gap in the cross-val scores and the perfect train score of the Decision Tree - an overfitting situation I hope to rectify with tuning."
   ]
  },
  {
   "cell_type": "markdown",
   "metadata": {},
   "source": [
    "### Tune Base Decision Tree"
   ]
  },
  {
   "cell_type": "code",
   "execution_count": 1348,
   "metadata": {},
   "outputs": [
    {
     "data": {
      "text/plain": [
       "{'scale_standard_0': SkippaStandardScaler(cols=<skippa.transformers.base.ColumnSelector object at 0x7fd5a0da5370>,\n",
       "                      copy=True, with_mean=True, with_std=True),\n",
       " 'onehot_1': SkippaOneHotEncoder(categories='auto',\n",
       "                     cols=<skippa.transformers.base.ColumnSelector object at 0x7fd59418a190>,\n",
       "                     drop=None, dtype=<class 'numpy.float64'>,\n",
       "                     handle_unknown='error', sparse=False),\n",
       " 'model_2': DecisionTreeClassifier(class_weight='balanced')}"
      ]
     },
     "execution_count": 1348,
     "metadata": {},
     "output_type": "execute_result"
    }
   ],
   "source": [
    "DT_Base_Pipeline.named_steps"
   ]
  },
  {
   "cell_type": "markdown",
   "metadata": {},
   "source": [
    "Currently I've only adjusted the class weights parameter. I will try several hyperparemeters in order reduce the current overfitting on the model. "
   ]
  },
  {
   "cell_type": "code",
   "execution_count": 1349,
   "metadata": {},
   "outputs": [],
   "source": [
    "DTC_Params_1 = {'model_2__class_weight':['balanced'],\n",
    "                'model_2__min_samples_split': [2, 3, 4], 'model_2__max_depth':[5,10,15,20],\n",
    "                'model_2__min_samples_leaf':[1,3,5,7,10],\n",
    "                'model_2__ccp_alpha':[0,.5,.10,.15,.20],\n",
    "                'model_2__criterion':['gini','entropy']}"
   ]
  },
  {
   "cell_type": "code",
   "execution_count": 1350,
   "metadata": {},
   "outputs": [
    {
     "data": {
      "text/plain": [
       "GridSearchCV(cv=5,\n",
       "             estimator=SkippaPipeline(steps=[('scale_standard_0',\n",
       "                                              SkippaStandardScaler(cols=<skippa.transformers.base.ColumnSelector object at 0x7fd5a0da5370>,\n",
       "                                                                   copy=True,\n",
       "                                                                   with_mean=True,\n",
       "                                                                   with_std=True)),\n",
       "                                             ('onehot_1',\n",
       "                                              SkippaOneHotEncoder(categories='auto',\n",
       "                                                                  cols=<skippa.transformers.base.ColumnSelector object at 0x7fd59418a190>,\n",
       "                                                                  drop=None,\n",
       "                                                                  dtype=<class 'numpy.f...\n",
       "                                                                  sparse=False)),\n",
       "                                             ('model_2',\n",
       "                                              DecisionTreeClassifier(class_weight='balanced'))]),\n",
       "             param_grid={'model_2__ccp_alpha': [0, 0.5, 0.1, 0.15, 0.2],\n",
       "                         'model_2__class_weight': ['balanced'],\n",
       "                         'model_2__criterion': ['gini', 'entropy'],\n",
       "                         'model_2__max_depth': [5, 10, 15, 20],\n",
       "                         'model_2__min_samples_leaf': [1, 3, 5, 7, 10],\n",
       "                         'model_2__min_samples_split': [2, 3, 4]},\n",
       "             scoring=make_scorer(fbeta_score, beta=2))"
      ]
     },
     "execution_count": 1350,
     "metadata": {},
     "output_type": "execute_result"
    }
   ],
   "source": [
    "DTC_GS = GridSearchCV(estimator=DT_Base_Pipeline,cv=5,param_grid=DTC_Params_1,scoring=two_scorer,refit=True)\n",
    "DTC_GS.fit(X_train,y_train)"
   ]
  },
  {
   "cell_type": "code",
   "execution_count": 1351,
   "metadata": {},
   "outputs": [],
   "source": [
    "DTC_Tuned_1 = cross_val_report('DTC_Tuned_1',DTC_GS.best_estimator_,X_train,y_train)\n"
   ]
  },
  {
   "cell_type": "code",
   "execution_count": 1352,
   "metadata": {},
   "outputs": [],
   "source": [
    "cross_val_df = append_df(DTC_Tuned,cross_val_df)"
   ]
  },
  {
   "cell_type": "code",
   "execution_count": 1353,
   "metadata": {},
   "outputs": [
    {
     "data": {
      "text/html": [
       "<div>\n",
       "<style scoped>\n",
       "    .dataframe tbody tr th:only-of-type {\n",
       "        vertical-align: middle;\n",
       "    }\n",
       "\n",
       "    .dataframe tbody tr th {\n",
       "        vertical-align: top;\n",
       "    }\n",
       "\n",
       "    .dataframe thead th {\n",
       "        text-align: right;\n",
       "    }\n",
       "</style>\n",
       "<table border=\"1\" class=\"dataframe\">\n",
       "  <thead>\n",
       "    <tr style=\"text-align: right;\">\n",
       "      <th></th>\n",
       "      <th>model_name</th>\n",
       "      <th>mean_accuracy</th>\n",
       "      <th>std_accuracy</th>\n",
       "      <th>mean_precision</th>\n",
       "      <th>std_precision</th>\n",
       "      <th>mean_recall</th>\n",
       "      <th>std_recall</th>\n",
       "      <th>mean_f1</th>\n",
       "      <th>std_f1</th>\n",
       "    </tr>\n",
       "  </thead>\n",
       "  <tbody>\n",
       "    <tr>\n",
       "      <th>0</th>\n",
       "      <td>Logistic_Regression_Grid</td>\n",
       "      <td>0.763689</td>\n",
       "      <td>0.010579</td>\n",
       "      <td>0.353438</td>\n",
       "      <td>0.012592</td>\n",
       "      <td>0.754545</td>\n",
       "      <td>0.007259</td>\n",
       "      <td>0.481309</td>\n",
       "      <td>0.012970</td>\n",
       "    </tr>\n",
       "    <tr>\n",
       "      <th>1</th>\n",
       "      <td>KNN_Tuned</td>\n",
       "      <td>0.891993</td>\n",
       "      <td>0.009780</td>\n",
       "      <td>0.784700</td>\n",
       "      <td>0.061339</td>\n",
       "      <td>0.351954</td>\n",
       "      <td>0.058282</td>\n",
       "      <td>0.483446</td>\n",
       "      <td>0.062658</td>\n",
       "    </tr>\n",
       "    <tr>\n",
       "      <th>2</th>\n",
       "      <td>DTC_Tuned_1</td>\n",
       "      <td>0.932853</td>\n",
       "      <td>0.009118</td>\n",
       "      <td>0.741105</td>\n",
       "      <td>0.036897</td>\n",
       "      <td>0.821878</td>\n",
       "      <td>0.052922</td>\n",
       "      <td>0.780402</td>\n",
       "      <td>0.033068</td>\n",
       "    </tr>\n",
       "  </tbody>\n",
       "</table>\n",
       "</div>"
      ],
      "text/plain": [
       "                 model_name  mean_accuracy  std_accuracy  mean_precision  \\\n",
       "0  Logistic_Regression_Grid       0.763689      0.010579        0.353438   \n",
       "1                 KNN_Tuned       0.891993      0.009780        0.784700   \n",
       "2               DTC_Tuned_1       0.932853      0.009118        0.741105   \n",
       "\n",
       "   std_precision  mean_recall  std_recall   mean_f1    std_f1  \n",
       "0       0.012592     0.754545    0.007259  0.481309  0.012970  \n",
       "1       0.061339     0.351954    0.058282  0.483446  0.062658  \n",
       "2       0.036897     0.821878    0.052922  0.780402  0.033068  "
      ]
     },
     "metadata": {},
     "output_type": "display_data"
    }
   ],
   "source": [
    "display(cross_val_df)"
   ]
  },
  {
   "cell_type": "markdown",
   "metadata": {},
   "source": [
    "Given the promising scores on this model, I think it's fair to try to fine tune the parameters on this model."
   ]
  },
  {
   "cell_type": "code",
   "execution_count": 1358,
   "metadata": {},
   "outputs": [
    {
     "data": {
      "text/plain": [
       "{'model_2__ccp_alpha': 0,\n",
       " 'model_2__class_weight': 'balanced',\n",
       " 'model_2__criterion': 'gini',\n",
       " 'model_2__max_depth': 5,\n",
       " 'model_2__min_samples_leaf': 3,\n",
       " 'model_2__min_samples_split': 3}"
      ]
     },
     "execution_count": 1358,
     "metadata": {},
     "output_type": "execute_result"
    }
   ],
   "source": [
    "DTC_GS.best_params_\n"
   ]
  },
  {
   "cell_type": "code",
   "execution_count": 1359,
   "metadata": {},
   "outputs": [],
   "source": [
    "DTC_Params_2={'model_2__class_weight': ['balanced'],\n",
    " 'model_2__criterion': ['entropy'],\n",
    " 'model_2__max_depth': [4,5,6],\n",
    " 'model_2__min_samples_leaf': [3,4,5],\n",
    " 'model_2__min_samples_split': [2,3,4],\n",
    "'model_2__max_features':[None,3,5,10,15]}"
   ]
  },
  {
   "cell_type": "code",
   "execution_count": 1360,
   "metadata": {},
   "outputs": [
    {
     "data": {
      "text/plain": [
       "GridSearchCV(cv=5,\n",
       "             estimator=SkippaPipeline(steps=[('scale_standard_0',\n",
       "                                              SkippaStandardScaler(cols=<skippa.transformers.base.ColumnSelector object at 0x7fd5a0da5370>,\n",
       "                                                                   copy=True,\n",
       "                                                                   with_mean=True,\n",
       "                                                                   with_std=True)),\n",
       "                                             ('onehot_1',\n",
       "                                              SkippaOneHotEncoder(categories='auto',\n",
       "                                                                  cols=<skippa.transformers.base.ColumnSelector object at 0x7fd59418a190>,\n",
       "                                                                  drop=None,\n",
       "                                                                  dtype=<class 'numpy.f...\n",
       "                                                                  handle_unknown='error',\n",
       "                                                                  sparse=False)),\n",
       "                                             ('model_2',\n",
       "                                              DecisionTreeClassifier(class_weight='balanced'))]),\n",
       "             param_grid={'model_2__class_weight': ['balanced'],\n",
       "                         'model_2__criterion': ['entropy'],\n",
       "                         'model_2__max_depth': [4, 5, 6],\n",
       "                         'model_2__max_features': [None, 3, 5, 10, 15],\n",
       "                         'model_2__min_samples_leaf': [3, 4, 5],\n",
       "                         'model_2__min_samples_split': [2, 3, 4]},\n",
       "             scoring=make_scorer(fbeta_score, beta=2))"
      ]
     },
     "execution_count": 1360,
     "metadata": {},
     "output_type": "execute_result"
    }
   ],
   "source": [
    "DTC_GS_2 = GridSearchCV(estimator=DT_Base_Pipeline,cv=5,param_grid=DTC_Params_2,scoring=two_scorer,refit=True)\n",
    "DTC_GS_2.fit(X_train,y_train)"
   ]
  },
  {
   "cell_type": "code",
   "execution_count": 1361,
   "metadata": {},
   "outputs": [
    {
     "data": {
      "text/plain": [
       "{'model_2__class_weight': 'balanced',\n",
       " 'model_2__criterion': 'entropy',\n",
       " 'model_2__max_depth': 6,\n",
       " 'model_2__max_features': 15,\n",
       " 'model_2__min_samples_leaf': 3,\n",
       " 'model_2__min_samples_split': 2}"
      ]
     },
     "execution_count": 1361,
     "metadata": {},
     "output_type": "execute_result"
    }
   ],
   "source": [
    "DTC_GS_2.best_params_"
   ]
  },
  {
   "cell_type": "code",
   "execution_count": 1372,
   "metadata": {},
   "outputs": [],
   "source": [
    "cross_val_df=append_df(cross_val_report('DTC_Tuned_2',DTC_GS_2.best_estimator_,X_train,y_train),cross_val_df)\n"
   ]
  },
  {
   "cell_type": "code",
   "execution_count": 1363,
   "metadata": {},
   "outputs": [
    {
     "data": {
      "text/html": [
       "<div>\n",
       "<style scoped>\n",
       "    .dataframe tbody tr th:only-of-type {\n",
       "        vertical-align: middle;\n",
       "    }\n",
       "\n",
       "    .dataframe tbody tr th {\n",
       "        vertical-align: top;\n",
       "    }\n",
       "\n",
       "    .dataframe thead th {\n",
       "        text-align: right;\n",
       "    }\n",
       "</style>\n",
       "<table border=\"1\" class=\"dataframe\">\n",
       "  <thead>\n",
       "    <tr style=\"text-align: right;\">\n",
       "      <th></th>\n",
       "      <th>model_name</th>\n",
       "      <th>mean_accuracy</th>\n",
       "      <th>std_accuracy</th>\n",
       "      <th>mean_precision</th>\n",
       "      <th>std_precision</th>\n",
       "      <th>mean_recall</th>\n",
       "      <th>std_recall</th>\n",
       "      <th>mean_f1</th>\n",
       "      <th>std_f1</th>\n",
       "    </tr>\n",
       "  </thead>\n",
       "  <tbody>\n",
       "    <tr>\n",
       "      <th>0</th>\n",
       "      <td>Logistic_Regression_Grid</td>\n",
       "      <td>0.763689</td>\n",
       "      <td>0.010579</td>\n",
       "      <td>0.353438</td>\n",
       "      <td>0.012592</td>\n",
       "      <td>0.754545</td>\n",
       "      <td>0.007259</td>\n",
       "      <td>0.481309</td>\n",
       "      <td>0.012970</td>\n",
       "    </tr>\n",
       "    <tr>\n",
       "      <th>1</th>\n",
       "      <td>KNN_Tuned</td>\n",
       "      <td>0.891993</td>\n",
       "      <td>0.009780</td>\n",
       "      <td>0.784700</td>\n",
       "      <td>0.061339</td>\n",
       "      <td>0.351954</td>\n",
       "      <td>0.058282</td>\n",
       "      <td>0.483446</td>\n",
       "      <td>0.062658</td>\n",
       "    </tr>\n",
       "    <tr>\n",
       "      <th>2</th>\n",
       "      <td>DTC_Tuned_1</td>\n",
       "      <td>0.932853</td>\n",
       "      <td>0.009118</td>\n",
       "      <td>0.741105</td>\n",
       "      <td>0.036897</td>\n",
       "      <td>0.821878</td>\n",
       "      <td>0.052922</td>\n",
       "      <td>0.780402</td>\n",
       "      <td>0.033068</td>\n",
       "    </tr>\n",
       "    <tr>\n",
       "      <th>3</th>\n",
       "      <td>DTC_Tuned_2</td>\n",
       "      <td>0.925743</td>\n",
       "      <td>0.010861</td>\n",
       "      <td>0.751249</td>\n",
       "      <td>0.041765</td>\n",
       "      <td>0.775291</td>\n",
       "      <td>0.034702</td>\n",
       "      <td>0.746443</td>\n",
       "      <td>0.043876</td>\n",
       "    </tr>\n",
       "  </tbody>\n",
       "</table>\n",
       "</div>"
      ],
      "text/plain": [
       "                 model_name  mean_accuracy  std_accuracy  mean_precision  \\\n",
       "0  Logistic_Regression_Grid       0.763689      0.010579        0.353438   \n",
       "1                 KNN_Tuned       0.891993      0.009780        0.784700   \n",
       "2               DTC_Tuned_1       0.932853      0.009118        0.741105   \n",
       "3               DTC_Tuned_2       0.925743      0.010861        0.751249   \n",
       "\n",
       "   std_precision  mean_recall  std_recall   mean_f1    std_f1  \n",
       "0       0.012592     0.754545    0.007259  0.481309  0.012970  \n",
       "1       0.061339     0.351954    0.058282  0.483446  0.062658  \n",
       "2       0.036897     0.821878    0.052922  0.780402  0.033068  \n",
       "3       0.041765     0.775291    0.034702  0.746443  0.043876  "
      ]
     },
     "execution_count": 1363,
     "metadata": {},
     "output_type": "execute_result"
    }
   ],
   "source": [
    "cross_val_df"
   ]
  },
  {
   "cell_type": "markdown",
   "metadata": {},
   "source": [
    "Attempting to fine tune this decision tree hasn't helped the scores, let's also compare the cross_val score to the base model."
   ]
  },
  {
   "cell_type": "code",
   "execution_count": 1364,
   "metadata": {},
   "outputs": [],
   "source": [
    "cross_val_df = append_df(cross_val_report('Base Decision Tree',DT_Base_Pipeline,X_train,y_train),cross_val_df)"
   ]
  },
  {
   "cell_type": "code",
   "execution_count": 1365,
   "metadata": {},
   "outputs": [
    {
     "data": {
      "image/png": "[encoded data removed]",
      "text/plain": [
       "<Figure size 432x288 with 2 Axes>"
      ]
     },
     "metadata": {},
     "output_type": "display_data"
    }
   ],
   "source": [
    "ConfusionMatrixDisplay.from_estimator(DTC_GS.best_estimator_,X_train,y_train);"
   ]
  },
  {
   "cell_type": "code",
   "execution_count": 1366,
   "metadata": {},
   "outputs": [],
   "source": [
    "models_df=append_df(score_report('Tuned Decision Tree 1',DTC_GS.best_estimator_,X_train,y_train),models_df)\n"
   ]
  },
  {
   "cell_type": "code",
   "execution_count": 1367,
   "metadata": {},
   "outputs": [
    {
     "data": {
      "text/html": [
       "<div>\n",
       "<style scoped>\n",
       "    .dataframe tbody tr th:only-of-type {\n",
       "        vertical-align: middle;\n",
       "    }\n",
       "\n",
       "    .dataframe tbody tr th {\n",
       "        vertical-align: top;\n",
       "    }\n",
       "\n",
       "    .dataframe thead th {\n",
       "        text-align: right;\n",
       "    }\n",
       "</style>\n",
       "<table border=\"1\" class=\"dataframe\">\n",
       "  <thead>\n",
       "    <tr style=\"text-align: right;\">\n",
       "      <th></th>\n",
       "      <th>model_name</th>\n",
       "      <th>accuracy</th>\n",
       "      <th>precision</th>\n",
       "      <th>recall</th>\n",
       "      <th>f1</th>\n",
       "    </tr>\n",
       "  </thead>\n",
       "  <tbody>\n",
       "    <tr>\n",
       "      <th>0</th>\n",
       "      <td>LogisticBaseline</td>\n",
       "      <td>0.859340</td>\n",
       "      <td>0.542857</td>\n",
       "      <td>0.196382</td>\n",
       "      <td>0.288425</td>\n",
       "    </tr>\n",
       "    <tr>\n",
       "      <th>1</th>\n",
       "      <td>LogisticTuned</td>\n",
       "      <td>0.767442</td>\n",
       "      <td>0.361474</td>\n",
       "      <td>0.785530</td>\n",
       "      <td>0.495114</td>\n",
       "    </tr>\n",
       "    <tr>\n",
       "      <th>2</th>\n",
       "      <td>KNN Base</td>\n",
       "      <td>0.918980</td>\n",
       "      <td>0.994220</td>\n",
       "      <td>0.444444</td>\n",
       "      <td>0.614286</td>\n",
       "    </tr>\n",
       "    <tr>\n",
       "      <th>3</th>\n",
       "      <td>KNN_Tuned</td>\n",
       "      <td>1.000000</td>\n",
       "      <td>1.000000</td>\n",
       "      <td>1.000000</td>\n",
       "      <td>1.000000</td>\n",
       "    </tr>\n",
       "    <tr>\n",
       "      <th>4</th>\n",
       "      <td>Base Decision Tree</td>\n",
       "      <td>1.000000</td>\n",
       "      <td>1.000000</td>\n",
       "      <td>1.000000</td>\n",
       "      <td>1.000000</td>\n",
       "    </tr>\n",
       "    <tr>\n",
       "      <th>5</th>\n",
       "      <td>Tuned Decision Tree 1</td>\n",
       "      <td>0.944861</td>\n",
       "      <td>0.772727</td>\n",
       "      <td>0.878553</td>\n",
       "      <td>0.822249</td>\n",
       "    </tr>\n",
       "  </tbody>\n",
       "</table>\n",
       "</div>"
      ],
      "text/plain": [
       "              model_name  accuracy  precision    recall        f1\n",
       "0       LogisticBaseline  0.859340   0.542857  0.196382  0.288425\n",
       "1          LogisticTuned  0.767442   0.361474  0.785530  0.495114\n",
       "2               KNN Base  0.918980   0.994220  0.444444  0.614286\n",
       "3              KNN_Tuned  1.000000   1.000000  1.000000  1.000000\n",
       "4     Base Decision Tree  1.000000   1.000000  1.000000  1.000000\n",
       "5  Tuned Decision Tree 1  0.944861   0.772727  0.878553  0.822249"
      ]
     },
     "metadata": {},
     "output_type": "display_data"
    },
    {
     "data": {
      "text/html": [
       "<div>\n",
       "<style scoped>\n",
       "    .dataframe tbody tr th:only-of-type {\n",
       "        vertical-align: middle;\n",
       "    }\n",
       "\n",
       "    .dataframe tbody tr th {\n",
       "        vertical-align: top;\n",
       "    }\n",
       "\n",
       "    .dataframe thead th {\n",
       "        text-align: right;\n",
       "    }\n",
       "</style>\n",
       "<table border=\"1\" class=\"dataframe\">\n",
       "  <thead>\n",
       "    <tr style=\"text-align: right;\">\n",
       "      <th></th>\n",
       "      <th>model_name</th>\n",
       "      <th>mean_accuracy</th>\n",
       "      <th>std_accuracy</th>\n",
       "      <th>mean_precision</th>\n",
       "      <th>std_precision</th>\n",
       "      <th>mean_recall</th>\n",
       "      <th>std_recall</th>\n",
       "      <th>mean_f1</th>\n",
       "      <th>std_f1</th>\n",
       "    </tr>\n",
       "  </thead>\n",
       "  <tbody>\n",
       "    <tr>\n",
       "      <th>0</th>\n",
       "      <td>Logistic_Regression_Grid</td>\n",
       "      <td>0.763689</td>\n",
       "      <td>0.010579</td>\n",
       "      <td>0.353438</td>\n",
       "      <td>0.012592</td>\n",
       "      <td>0.754545</td>\n",
       "      <td>0.007259</td>\n",
       "      <td>0.481309</td>\n",
       "      <td>0.012970</td>\n",
       "    </tr>\n",
       "    <tr>\n",
       "      <th>1</th>\n",
       "      <td>KNN_Tuned</td>\n",
       "      <td>0.891993</td>\n",
       "      <td>0.009780</td>\n",
       "      <td>0.784700</td>\n",
       "      <td>0.061339</td>\n",
       "      <td>0.351954</td>\n",
       "      <td>0.058282</td>\n",
       "      <td>0.483446</td>\n",
       "      <td>0.062658</td>\n",
       "    </tr>\n",
       "    <tr>\n",
       "      <th>2</th>\n",
       "      <td>DTC_Tuned_1</td>\n",
       "      <td>0.932853</td>\n",
       "      <td>0.009118</td>\n",
       "      <td>0.741105</td>\n",
       "      <td>0.036897</td>\n",
       "      <td>0.821878</td>\n",
       "      <td>0.052922</td>\n",
       "      <td>0.780402</td>\n",
       "      <td>0.033068</td>\n",
       "    </tr>\n",
       "    <tr>\n",
       "      <th>3</th>\n",
       "      <td>DTC_Tuned_2</td>\n",
       "      <td>0.925743</td>\n",
       "      <td>0.010861</td>\n",
       "      <td>0.751249</td>\n",
       "      <td>0.041765</td>\n",
       "      <td>0.775291</td>\n",
       "      <td>0.034702</td>\n",
       "      <td>0.746443</td>\n",
       "      <td>0.043876</td>\n",
       "    </tr>\n",
       "    <tr>\n",
       "      <th>4</th>\n",
       "      <td>Base Decision Tree</td>\n",
       "      <td>0.924605</td>\n",
       "      <td>0.004666</td>\n",
       "      <td>0.734681</td>\n",
       "      <td>0.017727</td>\n",
       "      <td>0.762471</td>\n",
       "      <td>0.050614</td>\n",
       "      <td>0.741033</td>\n",
       "      <td>0.008109</td>\n",
       "    </tr>\n",
       "  </tbody>\n",
       "</table>\n",
       "</div>"
      ],
      "text/plain": [
       "                 model_name  mean_accuracy  std_accuracy  mean_precision  \\\n",
       "0  Logistic_Regression_Grid       0.763689      0.010579        0.353438   \n",
       "1                 KNN_Tuned       0.891993      0.009780        0.784700   \n",
       "2               DTC_Tuned_1       0.932853      0.009118        0.741105   \n",
       "3               DTC_Tuned_2       0.925743      0.010861        0.751249   \n",
       "4        Base Decision Tree       0.924605      0.004666        0.734681   \n",
       "\n",
       "   std_precision  mean_recall  std_recall   mean_f1    std_f1  \n",
       "0       0.012592     0.754545    0.007259  0.481309  0.012970  \n",
       "1       0.061339     0.351954    0.058282  0.483446  0.062658  \n",
       "2       0.036897     0.821878    0.052922  0.780402  0.033068  \n",
       "3       0.041765     0.775291    0.034702  0.746443  0.043876  \n",
       "4       0.017727     0.762471    0.050614  0.741033  0.008109  "
      ]
     },
     "metadata": {},
     "output_type": "display_data"
    }
   ],
   "source": [
    "display(models_df,cross_val_df)\n"
   ]
  },
  {
   "cell_type": "markdown",
   "metadata": {},
   "source": [
    "The first tuned Decision Tree's cross-val scores are more in line with the training scores, the GridSearch has helped reduce the overfitting, but it looks like further pruning has resulted in a reduction of the recall and score, though the standard deviation of the recall score has gone down."
   ]
  },
  {
   "cell_type": "markdown",
   "metadata": {},
   "source": [
    "## Bagged Tree"
   ]
  },
  {
   "cell_type": "markdown",
   "metadata": {},
   "source": [
    "###  Baseline Bagged Tree"
   ]
  },
  {
   "cell_type": "code",
   "execution_count": 1368,
   "metadata": {},
   "outputs": [],
   "source": [
    "#Baseline Bagged Tree\n",
    "Base_Bagged_Pipeline = (\n",
    "    Skippa()\n",
    "    .scale(columns(dtype_include='number'), type='standard')\n",
    "    .onehot(columns(dtype_exclude='number'))\n",
    "    #Passing the class_weight balanced parameter\n",
    "    .model(BaggingClassifier(DecisionTreeClassifier(class_weight='balanced'))))\n"
   ]
  },
  {
   "cell_type": "code",
   "execution_count": 1369,
   "metadata": {},
   "outputs": [
    {
     "data": {
      "text/plain": [
       "SkippaPipeline(steps=[('scale_standard_0',\n",
       "                       SkippaStandardScaler(cols=<skippa.transformers.base.ColumnSelector object at 0x7fd57c1b5b20>,\n",
       "                                            copy=True, with_mean=True,\n",
       "                                            with_std=True)),\n",
       "                      ('onehot_1',\n",
       "                       SkippaOneHotEncoder(categories='auto',\n",
       "                                           cols=<skippa.transformers.base.ColumnSelector object at 0x7fd57bfd3520>,\n",
       "                                           drop=None,\n",
       "                                           dtype=<class 'numpy.float64'>,\n",
       "                                           handle_unknown='error',\n",
       "                                           sparse=False)),\n",
       "                      ('model_2',\n",
       "                       BaggingClassifier(base_estimator=DecisionTreeClassifier(class_weight='balanced')))])"
      ]
     },
     "execution_count": 1369,
     "metadata": {},
     "output_type": "execute_result"
    }
   ],
   "source": [
    "Base_Bagged_Pipeline.fit(X_train,y_train)"
   ]
  },
  {
   "cell_type": "code",
   "execution_count": 1370,
   "metadata": {},
   "outputs": [],
   "source": [
    "models_df = append_df(score_report('Base Bagged Tree',Base_Bagged_Pipeline,X_train,y_train),models_df)"
   ]
  },
  {
   "cell_type": "code",
   "execution_count": 1371,
   "metadata": {},
   "outputs": [
    {
     "data": {
      "text/html": [
       "<div>\n",
       "<style scoped>\n",
       "    .dataframe tbody tr th:only-of-type {\n",
       "        vertical-align: middle;\n",
       "    }\n",
       "\n",
       "    .dataframe tbody tr th {\n",
       "        vertical-align: top;\n",
       "    }\n",
       "\n",
       "    .dataframe thead th {\n",
       "        text-align: right;\n",
       "    }\n",
       "</style>\n",
       "<table border=\"1\" class=\"dataframe\">\n",
       "  <thead>\n",
       "    <tr style=\"text-align: right;\">\n",
       "      <th></th>\n",
       "      <th>model_name</th>\n",
       "      <th>accuracy</th>\n",
       "      <th>precision</th>\n",
       "      <th>recall</th>\n",
       "      <th>f1</th>\n",
       "    </tr>\n",
       "  </thead>\n",
       "  <tbody>\n",
       "    <tr>\n",
       "      <th>0</th>\n",
       "      <td>LogisticBaseline</td>\n",
       "      <td>0.859340</td>\n",
       "      <td>0.542857</td>\n",
       "      <td>0.196382</td>\n",
       "      <td>0.288425</td>\n",
       "    </tr>\n",
       "    <tr>\n",
       "      <th>1</th>\n",
       "      <td>LogisticTuned</td>\n",
       "      <td>0.767442</td>\n",
       "      <td>0.361474</td>\n",
       "      <td>0.785530</td>\n",
       "      <td>0.495114</td>\n",
       "    </tr>\n",
       "    <tr>\n",
       "      <th>2</th>\n",
       "      <td>KNN Base</td>\n",
       "      <td>0.918980</td>\n",
       "      <td>0.994220</td>\n",
       "      <td>0.444444</td>\n",
       "      <td>0.614286</td>\n",
       "    </tr>\n",
       "    <tr>\n",
       "      <th>3</th>\n",
       "      <td>KNN_Tuned</td>\n",
       "      <td>1.000000</td>\n",
       "      <td>1.000000</td>\n",
       "      <td>1.000000</td>\n",
       "      <td>1.000000</td>\n",
       "    </tr>\n",
       "    <tr>\n",
       "      <th>4</th>\n",
       "      <td>Base Decision Tree</td>\n",
       "      <td>1.000000</td>\n",
       "      <td>1.000000</td>\n",
       "      <td>1.000000</td>\n",
       "      <td>1.000000</td>\n",
       "    </tr>\n",
       "    <tr>\n",
       "      <th>5</th>\n",
       "      <td>Tuned Decision Tree 1</td>\n",
       "      <td>0.944861</td>\n",
       "      <td>0.772727</td>\n",
       "      <td>0.878553</td>\n",
       "      <td>0.822249</td>\n",
       "    </tr>\n",
       "    <tr>\n",
       "      <th>6</th>\n",
       "      <td>Base Bagged Tree</td>\n",
       "      <td>0.990998</td>\n",
       "      <td>1.000000</td>\n",
       "      <td>0.937984</td>\n",
       "      <td>0.968000</td>\n",
       "    </tr>\n",
       "  </tbody>\n",
       "</table>\n",
       "</div>"
      ],
      "text/plain": [
       "              model_name  accuracy  precision    recall        f1\n",
       "0       LogisticBaseline  0.859340   0.542857  0.196382  0.288425\n",
       "1          LogisticTuned  0.767442   0.361474  0.785530  0.495114\n",
       "2               KNN Base  0.918980   0.994220  0.444444  0.614286\n",
       "3              KNN_Tuned  1.000000   1.000000  1.000000  1.000000\n",
       "4     Base Decision Tree  1.000000   1.000000  1.000000  1.000000\n",
       "5  Tuned Decision Tree 1  0.944861   0.772727  0.878553  0.822249\n",
       "6       Base Bagged Tree  0.990998   1.000000  0.937984  0.968000"
      ]
     },
     "execution_count": 1371,
     "metadata": {},
     "output_type": "execute_result"
    }
   ],
   "source": [
    "models_df"
   ]
  },
  {
   "cell_type": "code",
   "execution_count": 1373,
   "metadata": {},
   "outputs": [
    {
     "data": {
      "text/plain": [
       "{'model_name': 'Base Bagged Tree',\n",
       " 'mean_accuracy': 0.9568606783734216,\n",
       " 'std_accuracy': 0.006831208977999434,\n",
       " 'mean_precision': 0.9287555276264954,\n",
       " 'std_precision': 0.052231679896357124,\n",
       " 'mean_recall': 0.7469197469197469,\n",
       " 'std_recall': 0.03287221013961974,\n",
       " 'mean_f1': 0.8324003462295977,\n",
       " 'std_f1': 0.033436864528864844}"
      ]
     },
     "execution_count": 1373,
     "metadata": {},
     "output_type": "execute_result"
    }
   ],
   "source": [
    "cross_val_report('Base Bagged Tree',Base_Bagged_Pipeline,X_train,y_train)"
   ]
  },
  {
   "cell_type": "markdown",
   "metadata": {},
   "source": [
    "Once again the bagged tree shows very high scores a sure sign of overfitting! I hope to correct this during Tuning with GridSearch."
   ]
  },
  {
   "cell_type": "markdown",
   "metadata": {},
   "source": [
    "### Bagged Tree Grid Search"
   ]
  },
  {
   "cell_type": "code",
   "execution_count": 1374,
   "metadata": {},
   "outputs": [],
   "source": [
    "Base_Bagged_Pipeline = (\n",
    "    Skippa()\n",
    "    .scale(columns(dtype_include='number'), type='standard')\n",
    "    .onehot(columns(dtype_exclude='number'))\n",
    "    .model(BaggingClassifier(base_estimator=DecisionTreeClassifier(class_weight='balanced'))\n",
    "          ))"
   ]
  },
  {
   "cell_type": "code",
   "execution_count": 1375,
   "metadata": {},
   "outputs": [],
   "source": [
    "Bagged_Params_1={\n",
    "    'model_2__n_estimators':[40,60,80],\n",
    "    'model_2__max_samples':[.5,1.0,2],\n",
    "    'model_2__bootstrap':[True,False],\n",
    "    'model_2__bootstrap_features':[True,False]}"
   ]
  },
  {
   "cell_type": "code",
   "execution_count": 1376,
   "metadata": {},
   "outputs": [
    {
     "data": {
      "text/plain": [
       "GridSearchCV(cv=5,\n",
       "             estimator=SkippaPipeline(steps=[('scale_standard_0',\n",
       "                                              SkippaStandardScaler(cols=<skippa.transformers.base.ColumnSelector object at 0x7fd592a69070>,\n",
       "                                                                   copy=True,\n",
       "                                                                   with_mean=True,\n",
       "                                                                   with_std=True)),\n",
       "                                             ('onehot_1',\n",
       "                                              SkippaOneHotEncoder(categories='auto',\n",
       "                                                                  cols=<skippa.transformers.base.ColumnSelector object at 0x7fd5928b0df0>,\n",
       "                                                                  drop=None,\n",
       "                                                                  dtype=<class 'numpy.float64'>,\n",
       "                                                                  handle_unknown='error',\n",
       "                                                                  sparse=False)),\n",
       "                                             ('model_2',\n",
       "                                              BaggingClassifier(base_estimator=DecisionTreeClassifier(class_weight='balanced')))]),\n",
       "             param_grid={'model_2__bootstrap': [True, False],\n",
       "                         'model_2__bootstrap_features': [True, False],\n",
       "                         'model_2__max_samples': [0.5, 1.0, 2],\n",
       "                         'model_2__n_estimators': [40, 60, 80]},\n",
       "             scoring=make_scorer(fbeta_score, beta=2))"
      ]
     },
     "execution_count": 1376,
     "metadata": {},
     "output_type": "execute_result"
    }
   ],
   "source": [
    "BT_GS_1 = GridSearchCV(estimator=Base_Bagged_Pipeline,cv=5,param_grid=Bagged_Params_1,scoring=two_scorer,refit=True)\n",
    "BT_GS_1.fit(X_train,y_train)"
   ]
  },
  {
   "cell_type": "code",
   "execution_count": 1377,
   "metadata": {},
   "outputs": [],
   "source": [
    "cross_val_df=append_df(cross_val_report('Bagged Trees Search 1',BT_GS_1.best_estimator_,X_train,y_train),cross_val_df)"
   ]
  },
  {
   "cell_type": "code",
   "execution_count": 1378,
   "metadata": {},
   "outputs": [
    {
     "data": {
      "text/html": [
       "<div>\n",
       "<style scoped>\n",
       "    .dataframe tbody tr th:only-of-type {\n",
       "        vertical-align: middle;\n",
       "    }\n",
       "\n",
       "    .dataframe tbody tr th {\n",
       "        vertical-align: top;\n",
       "    }\n",
       "\n",
       "    .dataframe thead th {\n",
       "        text-align: right;\n",
       "    }\n",
       "</style>\n",
       "<table border=\"1\" class=\"dataframe\">\n",
       "  <thead>\n",
       "    <tr style=\"text-align: right;\">\n",
       "      <th></th>\n",
       "      <th>model_name</th>\n",
       "      <th>mean_accuracy</th>\n",
       "      <th>std_accuracy</th>\n",
       "      <th>mean_precision</th>\n",
       "      <th>std_precision</th>\n",
       "      <th>mean_recall</th>\n",
       "      <th>std_recall</th>\n",
       "      <th>mean_f1</th>\n",
       "      <th>std_f1</th>\n",
       "    </tr>\n",
       "  </thead>\n",
       "  <tbody>\n",
       "    <tr>\n",
       "      <th>0</th>\n",
       "      <td>Logistic_Regression_Grid</td>\n",
       "      <td>0.763689</td>\n",
       "      <td>0.010579</td>\n",
       "      <td>0.353438</td>\n",
       "      <td>0.012592</td>\n",
       "      <td>0.754545</td>\n",
       "      <td>0.007259</td>\n",
       "      <td>0.481309</td>\n",
       "      <td>0.012970</td>\n",
       "    </tr>\n",
       "    <tr>\n",
       "      <th>1</th>\n",
       "      <td>KNN_Tuned</td>\n",
       "      <td>0.891993</td>\n",
       "      <td>0.009780</td>\n",
       "      <td>0.784700</td>\n",
       "      <td>0.061339</td>\n",
       "      <td>0.351954</td>\n",
       "      <td>0.058282</td>\n",
       "      <td>0.483446</td>\n",
       "      <td>0.062658</td>\n",
       "    </tr>\n",
       "    <tr>\n",
       "      <th>2</th>\n",
       "      <td>DTC_Tuned_1</td>\n",
       "      <td>0.932853</td>\n",
       "      <td>0.009118</td>\n",
       "      <td>0.741105</td>\n",
       "      <td>0.036897</td>\n",
       "      <td>0.821878</td>\n",
       "      <td>0.052922</td>\n",
       "      <td>0.780402</td>\n",
       "      <td>0.033068</td>\n",
       "    </tr>\n",
       "    <tr>\n",
       "      <th>3</th>\n",
       "      <td>DTC_Tuned_2</td>\n",
       "      <td>0.925743</td>\n",
       "      <td>0.010861</td>\n",
       "      <td>0.751249</td>\n",
       "      <td>0.041765</td>\n",
       "      <td>0.775291</td>\n",
       "      <td>0.034702</td>\n",
       "      <td>0.746443</td>\n",
       "      <td>0.043876</td>\n",
       "    </tr>\n",
       "    <tr>\n",
       "      <th>4</th>\n",
       "      <td>Base Decision Tree</td>\n",
       "      <td>0.924605</td>\n",
       "      <td>0.004666</td>\n",
       "      <td>0.734681</td>\n",
       "      <td>0.017727</td>\n",
       "      <td>0.762471</td>\n",
       "      <td>0.050614</td>\n",
       "      <td>0.741033</td>\n",
       "      <td>0.008109</td>\n",
       "    </tr>\n",
       "    <tr>\n",
       "      <th>5</th>\n",
       "      <td>DTC_Tuned_2</td>\n",
       "      <td>0.921981</td>\n",
       "      <td>0.015129</td>\n",
       "      <td>0.726613</td>\n",
       "      <td>0.067193</td>\n",
       "      <td>0.777889</td>\n",
       "      <td>0.018326</td>\n",
       "      <td>0.743838</td>\n",
       "      <td>0.040125</td>\n",
       "    </tr>\n",
       "    <tr>\n",
       "      <th>6</th>\n",
       "      <td>Bagged Trees Search 1</td>\n",
       "      <td>0.958735</td>\n",
       "      <td>0.008146</td>\n",
       "      <td>0.939648</td>\n",
       "      <td>0.044440</td>\n",
       "      <td>0.767566</td>\n",
       "      <td>0.046033</td>\n",
       "      <td>0.832945</td>\n",
       "      <td>0.042974</td>\n",
       "    </tr>\n",
       "  </tbody>\n",
       "</table>\n",
       "</div>"
      ],
      "text/plain": [
       "                 model_name  mean_accuracy  std_accuracy  mean_precision  \\\n",
       "0  Logistic_Regression_Grid       0.763689      0.010579        0.353438   \n",
       "1                 KNN_Tuned       0.891993      0.009780        0.784700   \n",
       "2               DTC_Tuned_1       0.932853      0.009118        0.741105   \n",
       "3               DTC_Tuned_2       0.925743      0.010861        0.751249   \n",
       "4        Base Decision Tree       0.924605      0.004666        0.734681   \n",
       "5               DTC_Tuned_2       0.921981      0.015129        0.726613   \n",
       "6     Bagged Trees Search 1       0.958735      0.008146        0.939648   \n",
       "\n",
       "   std_precision  mean_recall  std_recall   mean_f1    std_f1  \n",
       "0       0.012592     0.754545    0.007259  0.481309  0.012970  \n",
       "1       0.061339     0.351954    0.058282  0.483446  0.062658  \n",
       "2       0.036897     0.821878    0.052922  0.780402  0.033068  \n",
       "3       0.041765     0.775291    0.034702  0.746443  0.043876  \n",
       "4       0.017727     0.762471    0.050614  0.741033  0.008109  \n",
       "5       0.067193     0.777889    0.018326  0.743838  0.040125  \n",
       "6       0.044440     0.767566    0.046033  0.832945  0.042974  "
      ]
     },
     "execution_count": 1378,
     "metadata": {},
     "output_type": "execute_result"
    }
   ],
   "source": [
    "cross_val_df"
   ]
  },
  {
   "cell_type": "code",
   "execution_count": 1379,
   "metadata": {},
   "outputs": [],
   "source": [
    "models_df = append_df(score_report('Bagged Trees Search 1',BT_GS_1.best_estimator_,X_train,y_train),models_df)\n"
   ]
  },
  {
   "cell_type": "code",
   "execution_count": 1380,
   "metadata": {
    "scrolled": true
   },
   "outputs": [
    {
     "data": {
      "text/html": [
       "<div>\n",
       "<style scoped>\n",
       "    .dataframe tbody tr th:only-of-type {\n",
       "        vertical-align: middle;\n",
       "    }\n",
       "\n",
       "    .dataframe tbody tr th {\n",
       "        vertical-align: top;\n",
       "    }\n",
       "\n",
       "    .dataframe thead th {\n",
       "        text-align: right;\n",
       "    }\n",
       "</style>\n",
       "<table border=\"1\" class=\"dataframe\">\n",
       "  <thead>\n",
       "    <tr style=\"text-align: right;\">\n",
       "      <th></th>\n",
       "      <th>model_name</th>\n",
       "      <th>accuracy</th>\n",
       "      <th>precision</th>\n",
       "      <th>recall</th>\n",
       "      <th>f1</th>\n",
       "    </tr>\n",
       "  </thead>\n",
       "  <tbody>\n",
       "    <tr>\n",
       "      <th>0</th>\n",
       "      <td>LogisticBaseline</td>\n",
       "      <td>0.859340</td>\n",
       "      <td>0.542857</td>\n",
       "      <td>0.196382</td>\n",
       "      <td>0.288425</td>\n",
       "    </tr>\n",
       "    <tr>\n",
       "      <th>1</th>\n",
       "      <td>LogisticTuned</td>\n",
       "      <td>0.767442</td>\n",
       "      <td>0.361474</td>\n",
       "      <td>0.785530</td>\n",
       "      <td>0.495114</td>\n",
       "    </tr>\n",
       "    <tr>\n",
       "      <th>2</th>\n",
       "      <td>KNN Base</td>\n",
       "      <td>0.918980</td>\n",
       "      <td>0.994220</td>\n",
       "      <td>0.444444</td>\n",
       "      <td>0.614286</td>\n",
       "    </tr>\n",
       "    <tr>\n",
       "      <th>3</th>\n",
       "      <td>KNN_Tuned</td>\n",
       "      <td>1.000000</td>\n",
       "      <td>1.000000</td>\n",
       "      <td>1.000000</td>\n",
       "      <td>1.000000</td>\n",
       "    </tr>\n",
       "    <tr>\n",
       "      <th>4</th>\n",
       "      <td>Base Decision Tree</td>\n",
       "      <td>1.000000</td>\n",
       "      <td>1.000000</td>\n",
       "      <td>1.000000</td>\n",
       "      <td>1.000000</td>\n",
       "    </tr>\n",
       "    <tr>\n",
       "      <th>5</th>\n",
       "      <td>Tuned Decision Tree 1</td>\n",
       "      <td>0.944861</td>\n",
       "      <td>0.772727</td>\n",
       "      <td>0.878553</td>\n",
       "      <td>0.822249</td>\n",
       "    </tr>\n",
       "    <tr>\n",
       "      <th>6</th>\n",
       "      <td>Base Bagged Tree</td>\n",
       "      <td>0.990998</td>\n",
       "      <td>1.000000</td>\n",
       "      <td>0.937984</td>\n",
       "      <td>0.968000</td>\n",
       "    </tr>\n",
       "    <tr>\n",
       "      <th>7</th>\n",
       "      <td>Bagged Trees Search 1</td>\n",
       "      <td>0.977869</td>\n",
       "      <td>0.993976</td>\n",
       "      <td>0.852713</td>\n",
       "      <td>0.917942</td>\n",
       "    </tr>\n",
       "  </tbody>\n",
       "</table>\n",
       "</div>"
      ],
      "text/plain": [
       "              model_name  accuracy  precision    recall        f1\n",
       "0       LogisticBaseline  0.859340   0.542857  0.196382  0.288425\n",
       "1          LogisticTuned  0.767442   0.361474  0.785530  0.495114\n",
       "2               KNN Base  0.918980   0.994220  0.444444  0.614286\n",
       "3              KNN_Tuned  1.000000   1.000000  1.000000  1.000000\n",
       "4     Base Decision Tree  1.000000   1.000000  1.000000  1.000000\n",
       "5  Tuned Decision Tree 1  0.944861   0.772727  0.878553  0.822249\n",
       "6       Base Bagged Tree  0.990998   1.000000  0.937984  0.968000\n",
       "7  Bagged Trees Search 1  0.977869   0.993976  0.852713  0.917942"
      ]
     },
     "metadata": {},
     "output_type": "display_data"
    },
    {
     "data": {
      "text/html": [
       "<div>\n",
       "<style scoped>\n",
       "    .dataframe tbody tr th:only-of-type {\n",
       "        vertical-align: middle;\n",
       "    }\n",
       "\n",
       "    .dataframe tbody tr th {\n",
       "        vertical-align: top;\n",
       "    }\n",
       "\n",
       "    .dataframe thead th {\n",
       "        text-align: right;\n",
       "    }\n",
       "</style>\n",
       "<table border=\"1\" class=\"dataframe\">\n",
       "  <thead>\n",
       "    <tr style=\"text-align: right;\">\n",
       "      <th></th>\n",
       "      <th>model_name</th>\n",
       "      <th>mean_accuracy</th>\n",
       "      <th>std_accuracy</th>\n",
       "      <th>mean_precision</th>\n",
       "      <th>std_precision</th>\n",
       "      <th>mean_recall</th>\n",
       "      <th>std_recall</th>\n",
       "      <th>mean_f1</th>\n",
       "      <th>std_f1</th>\n",
       "    </tr>\n",
       "  </thead>\n",
       "  <tbody>\n",
       "    <tr>\n",
       "      <th>0</th>\n",
       "      <td>Logistic_Regression_Grid</td>\n",
       "      <td>0.763689</td>\n",
       "      <td>0.010579</td>\n",
       "      <td>0.353438</td>\n",
       "      <td>0.012592</td>\n",
       "      <td>0.754545</td>\n",
       "      <td>0.007259</td>\n",
       "      <td>0.481309</td>\n",
       "      <td>0.012970</td>\n",
       "    </tr>\n",
       "    <tr>\n",
       "      <th>1</th>\n",
       "      <td>KNN_Tuned</td>\n",
       "      <td>0.891993</td>\n",
       "      <td>0.009780</td>\n",
       "      <td>0.784700</td>\n",
       "      <td>0.061339</td>\n",
       "      <td>0.351954</td>\n",
       "      <td>0.058282</td>\n",
       "      <td>0.483446</td>\n",
       "      <td>0.062658</td>\n",
       "    </tr>\n",
       "    <tr>\n",
       "      <th>2</th>\n",
       "      <td>DTC_Tuned_1</td>\n",
       "      <td>0.932853</td>\n",
       "      <td>0.009118</td>\n",
       "      <td>0.741105</td>\n",
       "      <td>0.036897</td>\n",
       "      <td>0.821878</td>\n",
       "      <td>0.052922</td>\n",
       "      <td>0.780402</td>\n",
       "      <td>0.033068</td>\n",
       "    </tr>\n",
       "    <tr>\n",
       "      <th>3</th>\n",
       "      <td>DTC_Tuned_2</td>\n",
       "      <td>0.925743</td>\n",
       "      <td>0.010861</td>\n",
       "      <td>0.751249</td>\n",
       "      <td>0.041765</td>\n",
       "      <td>0.775291</td>\n",
       "      <td>0.034702</td>\n",
       "      <td>0.746443</td>\n",
       "      <td>0.043876</td>\n",
       "    </tr>\n",
       "    <tr>\n",
       "      <th>4</th>\n",
       "      <td>Base Decision Tree</td>\n",
       "      <td>0.924605</td>\n",
       "      <td>0.004666</td>\n",
       "      <td>0.734681</td>\n",
       "      <td>0.017727</td>\n",
       "      <td>0.762471</td>\n",
       "      <td>0.050614</td>\n",
       "      <td>0.741033</td>\n",
       "      <td>0.008109</td>\n",
       "    </tr>\n",
       "    <tr>\n",
       "      <th>5</th>\n",
       "      <td>DTC_Tuned_2</td>\n",
       "      <td>0.921981</td>\n",
       "      <td>0.015129</td>\n",
       "      <td>0.726613</td>\n",
       "      <td>0.067193</td>\n",
       "      <td>0.777889</td>\n",
       "      <td>0.018326</td>\n",
       "      <td>0.743838</td>\n",
       "      <td>0.040125</td>\n",
       "    </tr>\n",
       "    <tr>\n",
       "      <th>6</th>\n",
       "      <td>Bagged Trees Search 1</td>\n",
       "      <td>0.958735</td>\n",
       "      <td>0.008146</td>\n",
       "      <td>0.939648</td>\n",
       "      <td>0.044440</td>\n",
       "      <td>0.767566</td>\n",
       "      <td>0.046033</td>\n",
       "      <td>0.832945</td>\n",
       "      <td>0.042974</td>\n",
       "    </tr>\n",
       "  </tbody>\n",
       "</table>\n",
       "</div>"
      ],
      "text/plain": [
       "                 model_name  mean_accuracy  std_accuracy  mean_precision  \\\n",
       "0  Logistic_Regression_Grid       0.763689      0.010579        0.353438   \n",
       "1                 KNN_Tuned       0.891993      0.009780        0.784700   \n",
       "2               DTC_Tuned_1       0.932853      0.009118        0.741105   \n",
       "3               DTC_Tuned_2       0.925743      0.010861        0.751249   \n",
       "4        Base Decision Tree       0.924605      0.004666        0.734681   \n",
       "5               DTC_Tuned_2       0.921981      0.015129        0.726613   \n",
       "6     Bagged Trees Search 1       0.958735      0.008146        0.939648   \n",
       "\n",
       "   std_precision  mean_recall  std_recall   mean_f1    std_f1  \n",
       "0       0.012592     0.754545    0.007259  0.481309  0.012970  \n",
       "1       0.061339     0.351954    0.058282  0.483446  0.062658  \n",
       "2       0.036897     0.821878    0.052922  0.780402  0.033068  \n",
       "3       0.041765     0.775291    0.034702  0.746443  0.043876  \n",
       "4       0.017727     0.762471    0.050614  0.741033  0.008109  \n",
       "5       0.067193     0.777889    0.018326  0.743838  0.040125  \n",
       "6       0.044440     0.767566    0.046033  0.832945  0.042974  "
      ]
     },
     "metadata": {},
     "output_type": "display_data"
    }
   ],
   "source": [
    "display(models_df,cross_val_df)"
   ]
  },
  {
   "cell_type": "markdown",
   "metadata": {},
   "source": [
    "Tuning the Bagging classifier reduces the overfitting, but we do see a reduction in the recall score, the tuned Decision Tree appears to be better right now. "
   ]
  },
  {
   "cell_type": "markdown",
   "metadata": {},
   "source": [
    "## Random Forrest"
   ]
  },
  {
   "cell_type": "markdown",
   "metadata": {},
   "source": [
    "### Baseline Forrest"
   ]
  },
  {
   "cell_type": "code",
   "execution_count": 1381,
   "metadata": {},
   "outputs": [],
   "source": [
    "Base_Random_Forrest = (\n",
    "    Skippa()\n",
    "    .scale(columns(dtype_include='number'), type='standard')\n",
    "    .onehot(columns(dtype_exclude='number'))\n",
    "    #Passing the class weight parameter balanced\n",
    "    .model(RandomForestClassifier(class_weight='balanced'))\n",
    ")"
   ]
  },
  {
   "cell_type": "code",
   "execution_count": 1382,
   "metadata": {},
   "outputs": [
    {
     "data": {
      "text/plain": [
       "SkippaPipeline(steps=[('scale_standard_0',\n",
       "                       SkippaStandardScaler(cols=<skippa.transformers.base.ColumnSelector object at 0x7fd57e438f70>,\n",
       "                                            copy=True, with_mean=True,\n",
       "                                            with_std=True)),\n",
       "                      ('onehot_1',\n",
       "                       SkippaOneHotEncoder(categories='auto',\n",
       "                                           cols=<skippa.transformers.base.ColumnSelector object at 0x7fd57c3f9190>,\n",
       "                                           drop=None,\n",
       "                                           dtype=<class 'numpy.float64'>,\n",
       "                                           handle_unknown='error',\n",
       "                                           sparse=False)),\n",
       "                      ('model_2',\n",
       "                       RandomForestClassifier(class_weight='balanced'))])"
      ]
     },
     "execution_count": 1382,
     "metadata": {},
     "output_type": "execute_result"
    }
   ],
   "source": [
    "Base_Random_Forrest.fit(X_train,y_train)\n"
   ]
  },
  {
   "cell_type": "code",
   "execution_count": 1383,
   "metadata": {},
   "outputs": [],
   "source": [
    "models_df = append_df(score_report('Base_R_Forrest',Base_Random_Forrest,X_train,y_train),models_df)\n"
   ]
  },
  {
   "cell_type": "code",
   "execution_count": 1384,
   "metadata": {},
   "outputs": [
    {
     "data": {
      "text/html": [
       "<div>\n",
       "<style scoped>\n",
       "    .dataframe tbody tr th:only-of-type {\n",
       "        vertical-align: middle;\n",
       "    }\n",
       "\n",
       "    .dataframe tbody tr th {\n",
       "        vertical-align: top;\n",
       "    }\n",
       "\n",
       "    .dataframe thead th {\n",
       "        text-align: right;\n",
       "    }\n",
       "</style>\n",
       "<table border=\"1\" class=\"dataframe\">\n",
       "  <thead>\n",
       "    <tr style=\"text-align: right;\">\n",
       "      <th></th>\n",
       "      <th>model_name</th>\n",
       "      <th>accuracy</th>\n",
       "      <th>precision</th>\n",
       "      <th>recall</th>\n",
       "      <th>f1</th>\n",
       "    </tr>\n",
       "  </thead>\n",
       "  <tbody>\n",
       "    <tr>\n",
       "      <th>0</th>\n",
       "      <td>LogisticBaseline</td>\n",
       "      <td>0.859340</td>\n",
       "      <td>0.542857</td>\n",
       "      <td>0.196382</td>\n",
       "      <td>0.288425</td>\n",
       "    </tr>\n",
       "    <tr>\n",
       "      <th>1</th>\n",
       "      <td>LogisticTuned</td>\n",
       "      <td>0.767442</td>\n",
       "      <td>0.361474</td>\n",
       "      <td>0.785530</td>\n",
       "      <td>0.495114</td>\n",
       "    </tr>\n",
       "    <tr>\n",
       "      <th>2</th>\n",
       "      <td>KNN Base</td>\n",
       "      <td>0.918980</td>\n",
       "      <td>0.994220</td>\n",
       "      <td>0.444444</td>\n",
       "      <td>0.614286</td>\n",
       "    </tr>\n",
       "    <tr>\n",
       "      <th>3</th>\n",
       "      <td>KNN_Tuned</td>\n",
       "      <td>1.000000</td>\n",
       "      <td>1.000000</td>\n",
       "      <td>1.000000</td>\n",
       "      <td>1.000000</td>\n",
       "    </tr>\n",
       "    <tr>\n",
       "      <th>4</th>\n",
       "      <td>Base Decision Tree</td>\n",
       "      <td>1.000000</td>\n",
       "      <td>1.000000</td>\n",
       "      <td>1.000000</td>\n",
       "      <td>1.000000</td>\n",
       "    </tr>\n",
       "    <tr>\n",
       "      <th>5</th>\n",
       "      <td>Tuned Decision Tree 1</td>\n",
       "      <td>0.944861</td>\n",
       "      <td>0.772727</td>\n",
       "      <td>0.878553</td>\n",
       "      <td>0.822249</td>\n",
       "    </tr>\n",
       "    <tr>\n",
       "      <th>6</th>\n",
       "      <td>Base Bagged Tree</td>\n",
       "      <td>0.990998</td>\n",
       "      <td>1.000000</td>\n",
       "      <td>0.937984</td>\n",
       "      <td>0.968000</td>\n",
       "    </tr>\n",
       "    <tr>\n",
       "      <th>7</th>\n",
       "      <td>Bagged Trees Search 1</td>\n",
       "      <td>0.977869</td>\n",
       "      <td>0.993976</td>\n",
       "      <td>0.852713</td>\n",
       "      <td>0.917942</td>\n",
       "    </tr>\n",
       "    <tr>\n",
       "      <th>8</th>\n",
       "      <td>Base_R_Forrest</td>\n",
       "      <td>1.000000</td>\n",
       "      <td>1.000000</td>\n",
       "      <td>1.000000</td>\n",
       "      <td>1.000000</td>\n",
       "    </tr>\n",
       "  </tbody>\n",
       "</table>\n",
       "</div>"
      ],
      "text/plain": [
       "              model_name  accuracy  precision    recall        f1\n",
       "0       LogisticBaseline  0.859340   0.542857  0.196382  0.288425\n",
       "1          LogisticTuned  0.767442   0.361474  0.785530  0.495114\n",
       "2               KNN Base  0.918980   0.994220  0.444444  0.614286\n",
       "3              KNN_Tuned  1.000000   1.000000  1.000000  1.000000\n",
       "4     Base Decision Tree  1.000000   1.000000  1.000000  1.000000\n",
       "5  Tuned Decision Tree 1  0.944861   0.772727  0.878553  0.822249\n",
       "6       Base Bagged Tree  0.990998   1.000000  0.937984  0.968000\n",
       "7  Bagged Trees Search 1  0.977869   0.993976  0.852713  0.917942\n",
       "8         Base_R_Forrest  1.000000   1.000000  1.000000  1.000000"
      ]
     },
     "execution_count": 1384,
     "metadata": {},
     "output_type": "execute_result"
    }
   ],
   "source": [
    "models_df"
   ]
  },
  {
   "cell_type": "code",
   "execution_count": 1385,
   "metadata": {},
   "outputs": [
    {
     "data": {
      "text/plain": [
       "{'model_name': 'Based_R_Forrest',\n",
       " 'mean_accuracy': 0.9508576287145758,\n",
       " 'std_accuracy': 0.00484513620310683,\n",
       " 'mean_precision': 0.9764817150063052,\n",
       " 'std_precision': 0.044866168182639506,\n",
       " 'mean_recall': 0.702863802863803,\n",
       " 'std_recall': 0.03770278534669055,\n",
       " 'mean_f1': 0.8074514492883305,\n",
       " 'std_f1': 0.02555968576276722}"
      ]
     },
     "execution_count": 1385,
     "metadata": {},
     "output_type": "execute_result"
    }
   ],
   "source": [
    "cross_val_report('Based_R_Forrest',Base_Random_Forrest,X_train,y_train)"
   ]
  },
  {
   "cell_type": "markdown",
   "metadata": {},
   "source": [
    "Once again the Random Forrest is severely overfitting on the recall score and needs to be tuned and pruned! Let's see what we can do!"
   ]
  },
  {
   "cell_type": "markdown",
   "metadata": {},
   "source": [
    "### Tuned Random Forrest"
   ]
  },
  {
   "cell_type": "code",
   "execution_count": 1386,
   "metadata": {},
   "outputs": [],
   "source": [
    "rf_param_grid_1 = {\n",
    "    'model_2__n_estimators': [50,100],\n",
    "    'model_2__criterion': ['gini', 'entropy'],\n",
    "    'model_2__max_depth': [None, 2, 6, 10],\n",
    "    'model_2__min_samples_split': [5, 10],\n",
    "    'model_2__min_samples_leaf': [5,10,30,50]\n",
    "}"
   ]
  },
  {
   "cell_type": "code",
   "execution_count": 1387,
   "metadata": {},
   "outputs": [
    {
     "data": {
      "text/plain": [
       "GridSearchCV(cv=5,\n",
       "             estimator=SkippaPipeline(steps=[('scale_standard_0',\n",
       "                                              SkippaStandardScaler(cols=<skippa.transformers.base.ColumnSelector object at 0x7fd57e438f70>,\n",
       "                                                                   copy=True,\n",
       "                                                                   with_mean=True,\n",
       "                                                                   with_std=True)),\n",
       "                                             ('onehot_1',\n",
       "                                              SkippaOneHotEncoder(categories='auto',\n",
       "                                                                  cols=<skippa.transformers.base.ColumnSelector object at 0x7fd57c3f9190>,\n",
       "                                                                  drop=None,\n",
       "                                                                  dtype=<class 'numpy.float64'>,\n",
       "                                                                  handle_unknown='error',\n",
       "                                                                  sparse=False)),\n",
       "                                             ('model_2',\n",
       "                                              RandomForestClassifier(class_weight='balanced'))]),\n",
       "             param_grid={'model_2__criterion': ['gini', 'entropy'],\n",
       "                         'model_2__max_depth': [None, 2, 6, 10],\n",
       "                         'model_2__min_samples_leaf': [5, 10, 30, 50],\n",
       "                         'model_2__min_samples_split': [5, 10],\n",
       "                         'model_2__n_estimators': [50, 100]},\n",
       "             scoring=make_scorer(fbeta_score, beta=2))"
      ]
     },
     "execution_count": 1387,
     "metadata": {},
     "output_type": "execute_result"
    }
   ],
   "source": [
    "RF_GS_1= GridSearchCV(estimator=Base_Random_Forrest,cv=5,param_grid=rf_param_grid_1,scoring=two_scorer,refit=True)\n",
    "RF_GS_1.fit(X_train, y_train)"
   ]
  },
  {
   "cell_type": "code",
   "execution_count": 1388,
   "metadata": {},
   "outputs": [],
   "source": [
    "cross_val_df = append_df(cross_val_report('Random_Forrest_GS_1',RF_GS_1.best_estimator_,X_train,y_train),cross_val_df)"
   ]
  },
  {
   "cell_type": "code",
   "execution_count": 1389,
   "metadata": {},
   "outputs": [
    {
     "data": {
      "text/html": [
       "<div>\n",
       "<style scoped>\n",
       "    .dataframe tbody tr th:only-of-type {\n",
       "        vertical-align: middle;\n",
       "    }\n",
       "\n",
       "    .dataframe tbody tr th {\n",
       "        vertical-align: top;\n",
       "    }\n",
       "\n",
       "    .dataframe thead th {\n",
       "        text-align: right;\n",
       "    }\n",
       "</style>\n",
       "<table border=\"1\" class=\"dataframe\">\n",
       "  <thead>\n",
       "    <tr style=\"text-align: right;\">\n",
       "      <th></th>\n",
       "      <th>model_name</th>\n",
       "      <th>mean_accuracy</th>\n",
       "      <th>std_accuracy</th>\n",
       "      <th>mean_precision</th>\n",
       "      <th>std_precision</th>\n",
       "      <th>mean_recall</th>\n",
       "      <th>std_recall</th>\n",
       "      <th>mean_f1</th>\n",
       "      <th>std_f1</th>\n",
       "    </tr>\n",
       "  </thead>\n",
       "  <tbody>\n",
       "    <tr>\n",
       "      <th>7</th>\n",
       "      <td>Random_Forrest_GS_1</td>\n",
       "      <td>0.959485</td>\n",
       "      <td>0.009683</td>\n",
       "      <td>0.882323</td>\n",
       "      <td>0.049927</td>\n",
       "      <td>0.808891</td>\n",
       "      <td>0.037752</td>\n",
       "      <td>0.845978</td>\n",
       "      <td>0.025658</td>\n",
       "    </tr>\n",
       "  </tbody>\n",
       "</table>\n",
       "</div>"
      ],
      "text/plain": [
       "            model_name  mean_accuracy  std_accuracy  mean_precision  \\\n",
       "7  Random_Forrest_GS_1       0.959485      0.009683        0.882323   \n",
       "\n",
       "   std_precision  mean_recall  std_recall   mean_f1    std_f1  \n",
       "7       0.049927     0.808891    0.037752  0.845978  0.025658  "
      ]
     },
     "execution_count": 1389,
     "metadata": {},
     "output_type": "execute_result"
    }
   ],
   "source": [
    "cross_val_df[cross_val_df['model_name']=='Random_Forrest_GS_1']"
   ]
  },
  {
   "cell_type": "markdown",
   "metadata": {},
   "source": [
    "This appears to be the most promising score yet, the recall score is above 82%, with a lower std of .03. "
   ]
  },
  {
   "cell_type": "code",
   "execution_count": 1392,
   "metadata": {},
   "outputs": [
    {
     "data": {
      "text/plain": [
       "{'model_2__criterion': 'entropy',\n",
       " 'model_2__max_depth': 10,\n",
       " 'model_2__min_samples_leaf': 5,\n",
       " 'model_2__min_samples_split': 5,\n",
       " 'model_2__n_estimators': 100}"
      ]
     },
     "execution_count": 1392,
     "metadata": {},
     "output_type": "execute_result"
    }
   ],
   "source": [
    "RF_GS_1.best_params_\n"
   ]
  },
  {
   "cell_type": "code",
   "execution_count": 1391,
   "metadata": {},
   "outputs": [],
   "source": [
    "rf_param_grid_2 = {\n",
    "    'model_2__n_estimators': [50,70,80],\n",
    "    'model_2__criterion': ['gini', 'entropy'],\n",
    "    'model_2__max_depth': [None,10,15,20],\n",
    "    'model_2__min_samples_split': [10,20,30],\n",
    "    'model_2__min_samples_leaf': [4,5,60,70],\n",
    "}"
   ]
  },
  {
   "cell_type": "code",
   "execution_count": 1393,
   "metadata": {},
   "outputs": [
    {
     "data": {
      "text/plain": [
       "GridSearchCV(cv=5,\n",
       "             estimator=SkippaPipeline(steps=[('scale_standard_0',\n",
       "                                              SkippaStandardScaler(cols=<skippa.transformers.base.ColumnSelector object at 0x7fd57e438f70>,\n",
       "                                                                   copy=True,\n",
       "                                                                   with_mean=True,\n",
       "                                                                   with_std=True)),\n",
       "                                             ('onehot_1',\n",
       "                                              SkippaOneHotEncoder(categories='auto',\n",
       "                                                                  cols=<skippa.transformers.base.ColumnSelector object at 0x7fd57c3f9190>,\n",
       "                                                                  drop=None,\n",
       "                                                                  dtype=<class 'numpy.f...64'>,\n",
       "                                                                  handle_unknown='error',\n",
       "                                                                  sparse=False)),\n",
       "                                             ('model_2',\n",
       "                                              RandomForestClassifier(class_weight='balanced'))]),\n",
       "             param_grid={'model_2__criterion': ['gini', 'entropy'],\n",
       "                         'model_2__max_depth': [None, 10, 15, 20],\n",
       "                         'model_2__min_samples_leaf': [4, 5, 60, 70],\n",
       "                         'model_2__min_samples_split': [10, 20, 30],\n",
       "                         'model_2__n_estimators': [50, 70, 80]},\n",
       "             scoring=make_scorer(fbeta_score, beta=2))"
      ]
     },
     "execution_count": 1393,
     "metadata": {},
     "output_type": "execute_result"
    }
   ],
   "source": [
    "RF_GS_2= GridSearchCV(estimator=Base_Random_Forrest,cv=5,param_grid=rf_param_grid_2,scoring=two_scorer,refit=True)\n",
    "RF_GS_2.fit(X_train, y_train)"
   ]
  },
  {
   "cell_type": "code",
   "execution_count": 1394,
   "metadata": {},
   "outputs": [],
   "source": [
    "cross_val_df = append_df(cross_val_report('Random_Forrest_GS_2',RF_GS_2.best_estimator_,X_train,y_train),cross_val_df)"
   ]
  },
  {
   "cell_type": "code",
   "execution_count": 1395,
   "metadata": {},
   "outputs": [
    {
     "data": {
      "text/html": [
       "<div>\n",
       "<style scoped>\n",
       "    .dataframe tbody tr th:only-of-type {\n",
       "        vertical-align: middle;\n",
       "    }\n",
       "\n",
       "    .dataframe tbody tr th {\n",
       "        vertical-align: top;\n",
       "    }\n",
       "\n",
       "    .dataframe thead th {\n",
       "        text-align: right;\n",
       "    }\n",
       "</style>\n",
       "<table border=\"1\" class=\"dataframe\">\n",
       "  <thead>\n",
       "    <tr style=\"text-align: right;\">\n",
       "      <th></th>\n",
       "      <th>model_name</th>\n",
       "      <th>mean_accuracy</th>\n",
       "      <th>std_accuracy</th>\n",
       "      <th>mean_precision</th>\n",
       "      <th>std_precision</th>\n",
       "      <th>mean_recall</th>\n",
       "      <th>std_recall</th>\n",
       "      <th>mean_f1</th>\n",
       "      <th>std_f1</th>\n",
       "    </tr>\n",
       "  </thead>\n",
       "  <tbody>\n",
       "    <tr>\n",
       "      <th>0</th>\n",
       "      <td>Logistic_Regression_Grid</td>\n",
       "      <td>0.763689</td>\n",
       "      <td>0.010579</td>\n",
       "      <td>0.353438</td>\n",
       "      <td>0.012592</td>\n",
       "      <td>0.754545</td>\n",
       "      <td>0.007259</td>\n",
       "      <td>0.481309</td>\n",
       "      <td>0.012970</td>\n",
       "    </tr>\n",
       "    <tr>\n",
       "      <th>1</th>\n",
       "      <td>KNN_Tuned</td>\n",
       "      <td>0.891993</td>\n",
       "      <td>0.009780</td>\n",
       "      <td>0.784700</td>\n",
       "      <td>0.061339</td>\n",
       "      <td>0.351954</td>\n",
       "      <td>0.058282</td>\n",
       "      <td>0.483446</td>\n",
       "      <td>0.062658</td>\n",
       "    </tr>\n",
       "    <tr>\n",
       "      <th>2</th>\n",
       "      <td>DTC_Tuned_1</td>\n",
       "      <td>0.932853</td>\n",
       "      <td>0.009118</td>\n",
       "      <td>0.741105</td>\n",
       "      <td>0.036897</td>\n",
       "      <td>0.821878</td>\n",
       "      <td>0.052922</td>\n",
       "      <td>0.780402</td>\n",
       "      <td>0.033068</td>\n",
       "    </tr>\n",
       "    <tr>\n",
       "      <th>3</th>\n",
       "      <td>DTC_Tuned_2</td>\n",
       "      <td>0.925743</td>\n",
       "      <td>0.010861</td>\n",
       "      <td>0.751249</td>\n",
       "      <td>0.041765</td>\n",
       "      <td>0.775291</td>\n",
       "      <td>0.034702</td>\n",
       "      <td>0.746443</td>\n",
       "      <td>0.043876</td>\n",
       "    </tr>\n",
       "    <tr>\n",
       "      <th>4</th>\n",
       "      <td>Base Decision Tree</td>\n",
       "      <td>0.924605</td>\n",
       "      <td>0.004666</td>\n",
       "      <td>0.734681</td>\n",
       "      <td>0.017727</td>\n",
       "      <td>0.762471</td>\n",
       "      <td>0.050614</td>\n",
       "      <td>0.741033</td>\n",
       "      <td>0.008109</td>\n",
       "    </tr>\n",
       "    <tr>\n",
       "      <th>5</th>\n",
       "      <td>DTC_Tuned_2</td>\n",
       "      <td>0.921981</td>\n",
       "      <td>0.015129</td>\n",
       "      <td>0.726613</td>\n",
       "      <td>0.067193</td>\n",
       "      <td>0.777889</td>\n",
       "      <td>0.018326</td>\n",
       "      <td>0.743838</td>\n",
       "      <td>0.040125</td>\n",
       "    </tr>\n",
       "    <tr>\n",
       "      <th>6</th>\n",
       "      <td>Bagged Trees Search 1</td>\n",
       "      <td>0.958735</td>\n",
       "      <td>0.008146</td>\n",
       "      <td>0.939648</td>\n",
       "      <td>0.044440</td>\n",
       "      <td>0.767566</td>\n",
       "      <td>0.046033</td>\n",
       "      <td>0.832945</td>\n",
       "      <td>0.042974</td>\n",
       "    </tr>\n",
       "    <tr>\n",
       "      <th>7</th>\n",
       "      <td>Random_Forrest_GS_1</td>\n",
       "      <td>0.959485</td>\n",
       "      <td>0.009683</td>\n",
       "      <td>0.882323</td>\n",
       "      <td>0.049927</td>\n",
       "      <td>0.808891</td>\n",
       "      <td>0.037752</td>\n",
       "      <td>0.845978</td>\n",
       "      <td>0.025658</td>\n",
       "    </tr>\n",
       "    <tr>\n",
       "      <th>8</th>\n",
       "      <td>Random_Forrest_GS_2</td>\n",
       "      <td>0.953110</td>\n",
       "      <td>0.008609</td>\n",
       "      <td>0.818240</td>\n",
       "      <td>0.062398</td>\n",
       "      <td>0.839927</td>\n",
       "      <td>0.045733</td>\n",
       "      <td>0.828711</td>\n",
       "      <td>0.040566</td>\n",
       "    </tr>\n",
       "  </tbody>\n",
       "</table>\n",
       "</div>"
      ],
      "text/plain": [
       "                 model_name  mean_accuracy  std_accuracy  mean_precision  \\\n",
       "0  Logistic_Regression_Grid       0.763689      0.010579        0.353438   \n",
       "1                 KNN_Tuned       0.891993      0.009780        0.784700   \n",
       "2               DTC_Tuned_1       0.932853      0.009118        0.741105   \n",
       "3               DTC_Tuned_2       0.925743      0.010861        0.751249   \n",
       "4        Base Decision Tree       0.924605      0.004666        0.734681   \n",
       "5               DTC_Tuned_2       0.921981      0.015129        0.726613   \n",
       "6     Bagged Trees Search 1       0.958735      0.008146        0.939648   \n",
       "7       Random_Forrest_GS_1       0.959485      0.009683        0.882323   \n",
       "8       Random_Forrest_GS_2       0.953110      0.008609        0.818240   \n",
       "\n",
       "   std_precision  mean_recall  std_recall   mean_f1    std_f1  \n",
       "0       0.012592     0.754545    0.007259  0.481309  0.012970  \n",
       "1       0.061339     0.351954    0.058282  0.483446  0.062658  \n",
       "2       0.036897     0.821878    0.052922  0.780402  0.033068  \n",
       "3       0.041765     0.775291    0.034702  0.746443  0.043876  \n",
       "4       0.017727     0.762471    0.050614  0.741033  0.008109  \n",
       "5       0.067193     0.777889    0.018326  0.743838  0.040125  \n",
       "6       0.044440     0.767566    0.046033  0.832945  0.042974  \n",
       "7       0.049927     0.808891    0.037752  0.845978  0.025658  \n",
       "8       0.062398     0.839927    0.045733  0.828711  0.040566  "
      ]
     },
     "execution_count": 1395,
     "metadata": {},
     "output_type": "execute_result"
    }
   ],
   "source": [
    "cross_val_df"
   ]
  },
  {
   "cell_type": "code",
   "execution_count": 1396,
   "metadata": {},
   "outputs": [
    {
     "data": {
      "text/plain": [
       "{'model_2__criterion': 'entropy',\n",
       " 'model_2__max_depth': 15,\n",
       " 'model_2__min_samples_leaf': 5,\n",
       " 'model_2__min_samples_split': 20,\n",
       " 'model_2__n_estimators': 80}"
      ]
     },
     "execution_count": 1396,
     "metadata": {},
     "output_type": "execute_result"
    }
   ],
   "source": [
    "RF_GS_2.best_params_"
   ]
  },
  {
   "cell_type": "code",
   "execution_count": 1397,
   "metadata": {},
   "outputs": [],
   "source": [
    "models_df = append_df(score_report('Random Forrest_GS_2',RF_GS_2.best_estimator_,X_train,y_train),models_df)\n"
   ]
  },
  {
   "cell_type": "code",
   "execution_count": 1398,
   "metadata": {},
   "outputs": [
    {
     "data": {
      "text/html": [
       "<div>\n",
       "<style scoped>\n",
       "    .dataframe tbody tr th:only-of-type {\n",
       "        vertical-align: middle;\n",
       "    }\n",
       "\n",
       "    .dataframe tbody tr th {\n",
       "        vertical-align: top;\n",
       "    }\n",
       "\n",
       "    .dataframe thead th {\n",
       "        text-align: right;\n",
       "    }\n",
       "</style>\n",
       "<table border=\"1\" class=\"dataframe\">\n",
       "  <thead>\n",
       "    <tr style=\"text-align: right;\">\n",
       "      <th></th>\n",
       "      <th>model_name</th>\n",
       "      <th>accuracy</th>\n",
       "      <th>precision</th>\n",
       "      <th>recall</th>\n",
       "      <th>f1</th>\n",
       "    </tr>\n",
       "  </thead>\n",
       "  <tbody>\n",
       "    <tr>\n",
       "      <th>0</th>\n",
       "      <td>LogisticBaseline</td>\n",
       "      <td>0.859340</td>\n",
       "      <td>0.542857</td>\n",
       "      <td>0.196382</td>\n",
       "      <td>0.288425</td>\n",
       "    </tr>\n",
       "    <tr>\n",
       "      <th>1</th>\n",
       "      <td>LogisticTuned</td>\n",
       "      <td>0.767442</td>\n",
       "      <td>0.361474</td>\n",
       "      <td>0.785530</td>\n",
       "      <td>0.495114</td>\n",
       "    </tr>\n",
       "    <tr>\n",
       "      <th>2</th>\n",
       "      <td>KNN Base</td>\n",
       "      <td>0.918980</td>\n",
       "      <td>0.994220</td>\n",
       "      <td>0.444444</td>\n",
       "      <td>0.614286</td>\n",
       "    </tr>\n",
       "    <tr>\n",
       "      <th>3</th>\n",
       "      <td>KNN_Tuned</td>\n",
       "      <td>1.000000</td>\n",
       "      <td>1.000000</td>\n",
       "      <td>1.000000</td>\n",
       "      <td>1.000000</td>\n",
       "    </tr>\n",
       "    <tr>\n",
       "      <th>4</th>\n",
       "      <td>Base Decision Tree</td>\n",
       "      <td>1.000000</td>\n",
       "      <td>1.000000</td>\n",
       "      <td>1.000000</td>\n",
       "      <td>1.000000</td>\n",
       "    </tr>\n",
       "    <tr>\n",
       "      <th>5</th>\n",
       "      <td>Tuned Decision Tree 1</td>\n",
       "      <td>0.944861</td>\n",
       "      <td>0.772727</td>\n",
       "      <td>0.878553</td>\n",
       "      <td>0.822249</td>\n",
       "    </tr>\n",
       "    <tr>\n",
       "      <th>6</th>\n",
       "      <td>Base Bagged Tree</td>\n",
       "      <td>0.990998</td>\n",
       "      <td>1.000000</td>\n",
       "      <td>0.937984</td>\n",
       "      <td>0.968000</td>\n",
       "    </tr>\n",
       "    <tr>\n",
       "      <th>7</th>\n",
       "      <td>Bagged Trees Search 1</td>\n",
       "      <td>0.977869</td>\n",
       "      <td>0.993976</td>\n",
       "      <td>0.852713</td>\n",
       "      <td>0.917942</td>\n",
       "    </tr>\n",
       "    <tr>\n",
       "      <th>8</th>\n",
       "      <td>Base_R_Forrest</td>\n",
       "      <td>1.000000</td>\n",
       "      <td>1.000000</td>\n",
       "      <td>1.000000</td>\n",
       "      <td>1.000000</td>\n",
       "    </tr>\n",
       "    <tr>\n",
       "      <th>9</th>\n",
       "      <td>Random Forrest_GS_2</td>\n",
       "      <td>0.970368</td>\n",
       "      <td>0.903141</td>\n",
       "      <td>0.891473</td>\n",
       "      <td>0.897269</td>\n",
       "    </tr>\n",
       "  </tbody>\n",
       "</table>\n",
       "</div>"
      ],
      "text/plain": [
       "              model_name  accuracy  precision    recall        f1\n",
       "0       LogisticBaseline  0.859340   0.542857  0.196382  0.288425\n",
       "1          LogisticTuned  0.767442   0.361474  0.785530  0.495114\n",
       "2               KNN Base  0.918980   0.994220  0.444444  0.614286\n",
       "3              KNN_Tuned  1.000000   1.000000  1.000000  1.000000\n",
       "4     Base Decision Tree  1.000000   1.000000  1.000000  1.000000\n",
       "5  Tuned Decision Tree 1  0.944861   0.772727  0.878553  0.822249\n",
       "6       Base Bagged Tree  0.990998   1.000000  0.937984  0.968000\n",
       "7  Bagged Trees Search 1  0.977869   0.993976  0.852713  0.917942\n",
       "8         Base_R_Forrest  1.000000   1.000000  1.000000  1.000000\n",
       "9    Random Forrest_GS_2  0.970368   0.903141  0.891473  0.897269"
      ]
     },
     "execution_count": 1398,
     "metadata": {},
     "output_type": "execute_result"
    }
   ],
   "source": [
    "models_df"
   ]
  },
  {
   "cell_type": "markdown",
   "metadata": {},
   "source": [
    "### Random Forrest Summary"
   ]
  },
  {
   "cell_type": "code",
   "execution_count": 1399,
   "metadata": {},
   "outputs": [
    {
     "data": {
      "image/png": "[encoded data removed]",
      "text/plain": [
       "<Figure size 432x288 with 2 Axes>"
      ]
     },
     "metadata": {},
     "output_type": "display_data"
    }
   ],
   "source": [
    "ConfusionMatrixDisplay.from_estimator(RF_GS_2.best_estimator_,X_train,y_train);\n"
   ]
  },
  {
   "cell_type": "markdown",
   "metadata": {},
   "source": [
    "The best tuned Random Forrest model shows improvement with overfitting, but is still overfitting somewhat given the scores on the train vs cross-val scoring. The confusion matrix does indeed look promising though."
   ]
  },
  {
   "cell_type": "markdown",
   "metadata": {},
   "source": [
    "## AdaBoost"
   ]
  },
  {
   "cell_type": "code",
   "execution_count": 1400,
   "metadata": {},
   "outputs": [],
   "source": [
    "Base_Adaboost = (\n",
    "    Skippa()\n",
    "    .scale(columns(dtype_include='number'), type='standard')\n",
    "    .onehot(columns(dtype_exclude='number'))\n",
    "    .model(AdaBoostClassifier(base_estimator=DecisionTreeClassifier(class_weight='balanced')))\n",
    ")"
   ]
  },
  {
   "cell_type": "code",
   "execution_count": 1401,
   "metadata": {},
   "outputs": [
    {
     "data": {
      "text/plain": [
       "SkippaPipeline(steps=[('scale_standard_0',\n",
       "                       SkippaStandardScaler(cols=<skippa.transformers.base.ColumnSelector object at 0x7fd57fa6f880>,\n",
       "                                            copy=True, with_mean=True,\n",
       "                                            with_std=True)),\n",
       "                      ('onehot_1',\n",
       "                       SkippaOneHotEncoder(categories='auto',\n",
       "                                           cols=<skippa.transformers.base.ColumnSelector object at 0x7fd57cca8ca0>,\n",
       "                                           drop=None,\n",
       "                                           dtype=<class 'numpy.float64'>,\n",
       "                                           handle_unknown='error',\n",
       "                                           sparse=False)),\n",
       "                      ('model_2',\n",
       "                       AdaBoostClassifier(base_estimator=DecisionTreeClassifier(class_weight='balanced')))])"
      ]
     },
     "execution_count": 1401,
     "metadata": {},
     "output_type": "execute_result"
    }
   ],
   "source": [
    "Base_Adaboost.fit(X_train,y_train)"
   ]
  },
  {
   "cell_type": "code",
   "execution_count": 1402,
   "metadata": {},
   "outputs": [
    {
     "data": {
      "text/plain": [
       "{'model_name': 'Base Adaboost',\n",
       " 'accuracy': 1.0,\n",
       " 'precision': 1.0,\n",
       " 'recall': 1.0,\n",
       " 'f1': 1.0}"
      ]
     },
     "execution_count": 1402,
     "metadata": {},
     "output_type": "execute_result"
    }
   ],
   "source": [
    "score_report('Base Adaboost',Base_Adaboost,X_train,y_train)"
   ]
  },
  {
   "cell_type": "markdown",
   "metadata": {},
   "source": [
    "Unsurprisingly Adaboost, a powerful boosting algarithm is overfitting the training data."
   ]
  },
  {
   "cell_type": "markdown",
   "metadata": {},
   "source": [
    "### Tuned Adaboost"
   ]
  },
  {
   "cell_type": "code",
   "execution_count": 1403,
   "metadata": {},
   "outputs": [],
   "source": [
    "Adaboost_Params={'model_2__n_estimators':[10, 50, 100, 500],\n",
    "'model_2__learning_rate':[0.1,.3,.5,1.0]} "
   ]
  },
  {
   "cell_type": "code",
   "execution_count": 1404,
   "metadata": {},
   "outputs": [
    {
     "data": {
      "text/plain": [
       "GridSearchCV(cv=5,\n",
       "             estimator=SkippaPipeline(steps=[('scale_standard_0',\n",
       "                                              SkippaStandardScaler(cols=<skippa.transformers.base.ColumnSelector object at 0x7fd57fa6f880>,\n",
       "                                                                   copy=True,\n",
       "                                                                   with_mean=True,\n",
       "                                                                   with_std=True)),\n",
       "                                             ('onehot_1',\n",
       "                                              SkippaOneHotEncoder(categories='auto',\n",
       "                                                                  cols=<skippa.transformers.base.ColumnSelector object at 0x7fd57cca8ca0>,\n",
       "                                                                  drop=None,\n",
       "                                                                  dtype=<class 'numpy.float64'>,\n",
       "                                                                  handle_unknown='error',\n",
       "                                                                  sparse=False)),\n",
       "                                             ('model_2',\n",
       "                                              AdaBoostClassifier(base_estimator=DecisionTreeClassifier(class_weight='balanced')))]),\n",
       "             param_grid={'model_2__learning_rate': [0.1, 0.3, 0.5, 1.0],\n",
       "                         'model_2__n_estimators': [10, 50, 100, 500]},\n",
       "             scoring=make_scorer(fbeta_score, beta=2))"
      ]
     },
     "execution_count": 1404,
     "metadata": {},
     "output_type": "execute_result"
    }
   ],
   "source": [
    "Ada_GS_1= GridSearchCV(estimator=Base_Adaboost,cv=5,param_grid=Adaboost_Params,scoring=two_scorer,refit=True)\n",
    "Ada_GS_1.fit(X_train, y_train)"
   ]
  },
  {
   "cell_type": "code",
   "execution_count": 1405,
   "metadata": {},
   "outputs": [
    {
     "data": {
      "text/plain": [
       "{'model_name': 'Ada Grid Search 1',\n",
       " 'mean_accuracy': 0.9216019843863089,\n",
       " 'std_accuracy': 0.0038981108212949897,\n",
       " 'mean_precision': 0.726901892229202,\n",
       " 'std_precision': 0.03509881565266225,\n",
       " 'mean_recall': 0.7547119547119546,\n",
       " 'std_recall': 0.042398200810565854,\n",
       " 'mean_f1': 0.7388965362628245,\n",
       " 'std_f1': 0.020813960569482724}"
      ]
     },
     "execution_count": 1405,
     "metadata": {},
     "output_type": "execute_result"
    }
   ],
   "source": [
    "cross_val_report('Ada Grid Search 1',Ada_GS_1.best_estimator_,X_train,y_train)"
   ]
  },
  {
   "cell_type": "code",
   "execution_count": 1406,
   "metadata": {},
   "outputs": [],
   "source": [
    "Adaboost_Params_2={'model_2__n_estimators':[50,500,1000],\n",
    "'model_2__learning_rate':[.1,.3,1,1.5]} "
   ]
  },
  {
   "cell_type": "code",
   "execution_count": 1407,
   "metadata": {},
   "outputs": [
    {
     "data": {
      "text/plain": [
       "GridSearchCV(cv=5,\n",
       "             estimator=SkippaPipeline(steps=[('scale_standard_0',\n",
       "                                              SkippaStandardScaler(cols=<skippa.transformers.base.ColumnSelector object at 0x7fd57fa6f880>,\n",
       "                                                                   copy=True,\n",
       "                                                                   with_mean=True,\n",
       "                                                                   with_std=True)),\n",
       "                                             ('onehot_1',\n",
       "                                              SkippaOneHotEncoder(categories='auto',\n",
       "                                                                  cols=<skippa.transformers.base.ColumnSelector object at 0x7fd57cca8ca0>,\n",
       "                                                                  drop=None,\n",
       "                                                                  dtype=<class 'numpy.float64'>,\n",
       "                                                                  handle_unknown='error',\n",
       "                                                                  sparse=False)),\n",
       "                                             ('model_2',\n",
       "                                              AdaBoostClassifier(base_estimator=DecisionTreeClassifier(class_weight='balanced')))]),\n",
       "             param_grid={'model_2__learning_rate': [0.1, 0.3, 1, 1.5],\n",
       "                         'model_2__n_estimators': [50, 500, 1000]},\n",
       "             scoring=make_scorer(fbeta_score, beta=2))"
      ]
     },
     "execution_count": 1407,
     "metadata": {},
     "output_type": "execute_result"
    }
   ],
   "source": [
    "Ada_GS_2= GridSearchCV(estimator=Base_Adaboost,cv=5,param_grid=Adaboost_Params_2,scoring=two_scorer,refit=True)\n",
    "Ada_GS_2.fit(X_train, y_train)"
   ]
  },
  {
   "cell_type": "code",
   "execution_count": 1409,
   "metadata": {},
   "outputs": [],
   "source": [
    "cross_val_df = append_df(cross_val_report('Ada Grid Search 2',Ada_GS_2.best_estimator_,X_train,y_train), cross_val_df)\n"
   ]
  },
  {
   "cell_type": "code",
   "execution_count": 1411,
   "metadata": {},
   "outputs": [],
   "source": [
    "models_df = append_df(score_report('Ada Grid Search 2',Ada_GS_2.best_estimator_,X_train,y_train),models_df)"
   ]
  },
  {
   "cell_type": "code",
   "execution_count": 1412,
   "metadata": {},
   "outputs": [
    {
     "data": {
      "text/html": [
       "<div>\n",
       "<style scoped>\n",
       "    .dataframe tbody tr th:only-of-type {\n",
       "        vertical-align: middle;\n",
       "    }\n",
       "\n",
       "    .dataframe tbody tr th {\n",
       "        vertical-align: top;\n",
       "    }\n",
       "\n",
       "    .dataframe thead th {\n",
       "        text-align: right;\n",
       "    }\n",
       "</style>\n",
       "<table border=\"1\" class=\"dataframe\">\n",
       "  <thead>\n",
       "    <tr style=\"text-align: right;\">\n",
       "      <th></th>\n",
       "      <th>model_name</th>\n",
       "      <th>mean_accuracy</th>\n",
       "      <th>std_accuracy</th>\n",
       "      <th>mean_precision</th>\n",
       "      <th>std_precision</th>\n",
       "      <th>mean_recall</th>\n",
       "      <th>std_recall</th>\n",
       "      <th>mean_f1</th>\n",
       "      <th>std_f1</th>\n",
       "    </tr>\n",
       "  </thead>\n",
       "  <tbody>\n",
       "    <tr>\n",
       "      <th>0</th>\n",
       "      <td>Logistic_Regression_Grid</td>\n",
       "      <td>0.763689</td>\n",
       "      <td>0.010579</td>\n",
       "      <td>0.353438</td>\n",
       "      <td>0.012592</td>\n",
       "      <td>0.754545</td>\n",
       "      <td>0.007259</td>\n",
       "      <td>0.481309</td>\n",
       "      <td>0.012970</td>\n",
       "    </tr>\n",
       "    <tr>\n",
       "      <th>1</th>\n",
       "      <td>KNN_Tuned</td>\n",
       "      <td>0.891993</td>\n",
       "      <td>0.009780</td>\n",
       "      <td>0.784700</td>\n",
       "      <td>0.061339</td>\n",
       "      <td>0.351954</td>\n",
       "      <td>0.058282</td>\n",
       "      <td>0.483446</td>\n",
       "      <td>0.062658</td>\n",
       "    </tr>\n",
       "    <tr>\n",
       "      <th>2</th>\n",
       "      <td>DTC_Tuned_1</td>\n",
       "      <td>0.932853</td>\n",
       "      <td>0.009118</td>\n",
       "      <td>0.741105</td>\n",
       "      <td>0.036897</td>\n",
       "      <td>0.821878</td>\n",
       "      <td>0.052922</td>\n",
       "      <td>0.780402</td>\n",
       "      <td>0.033068</td>\n",
       "    </tr>\n",
       "    <tr>\n",
       "      <th>3</th>\n",
       "      <td>DTC_Tuned_2</td>\n",
       "      <td>0.925743</td>\n",
       "      <td>0.010861</td>\n",
       "      <td>0.751249</td>\n",
       "      <td>0.041765</td>\n",
       "      <td>0.775291</td>\n",
       "      <td>0.034702</td>\n",
       "      <td>0.746443</td>\n",
       "      <td>0.043876</td>\n",
       "    </tr>\n",
       "    <tr>\n",
       "      <th>4</th>\n",
       "      <td>Base Decision Tree</td>\n",
       "      <td>0.924605</td>\n",
       "      <td>0.004666</td>\n",
       "      <td>0.734681</td>\n",
       "      <td>0.017727</td>\n",
       "      <td>0.762471</td>\n",
       "      <td>0.050614</td>\n",
       "      <td>0.741033</td>\n",
       "      <td>0.008109</td>\n",
       "    </tr>\n",
       "    <tr>\n",
       "      <th>5</th>\n",
       "      <td>DTC_Tuned_2</td>\n",
       "      <td>0.921981</td>\n",
       "      <td>0.015129</td>\n",
       "      <td>0.726613</td>\n",
       "      <td>0.067193</td>\n",
       "      <td>0.777889</td>\n",
       "      <td>0.018326</td>\n",
       "      <td>0.743838</td>\n",
       "      <td>0.040125</td>\n",
       "    </tr>\n",
       "    <tr>\n",
       "      <th>6</th>\n",
       "      <td>Bagged Trees Search 1</td>\n",
       "      <td>0.958735</td>\n",
       "      <td>0.008146</td>\n",
       "      <td>0.939648</td>\n",
       "      <td>0.044440</td>\n",
       "      <td>0.767566</td>\n",
       "      <td>0.046033</td>\n",
       "      <td>0.832945</td>\n",
       "      <td>0.042974</td>\n",
       "    </tr>\n",
       "    <tr>\n",
       "      <th>7</th>\n",
       "      <td>Random_Forrest_GS_1</td>\n",
       "      <td>0.959485</td>\n",
       "      <td>0.009683</td>\n",
       "      <td>0.882323</td>\n",
       "      <td>0.049927</td>\n",
       "      <td>0.808891</td>\n",
       "      <td>0.037752</td>\n",
       "      <td>0.845978</td>\n",
       "      <td>0.025658</td>\n",
       "    </tr>\n",
       "    <tr>\n",
       "      <th>8</th>\n",
       "      <td>Random_Forrest_GS_2</td>\n",
       "      <td>0.953110</td>\n",
       "      <td>0.008609</td>\n",
       "      <td>0.818240</td>\n",
       "      <td>0.062398</td>\n",
       "      <td>0.839927</td>\n",
       "      <td>0.045733</td>\n",
       "      <td>0.828711</td>\n",
       "      <td>0.040566</td>\n",
       "    </tr>\n",
       "    <tr>\n",
       "      <th>9</th>\n",
       "      <td>Ada Grid Search 2</td>\n",
       "      <td>0.921977</td>\n",
       "      <td>0.003671</td>\n",
       "      <td>0.724409</td>\n",
       "      <td>0.019933</td>\n",
       "      <td>0.746920</td>\n",
       "      <td>0.050691</td>\n",
       "      <td>0.741913</td>\n",
       "      <td>0.018623</td>\n",
       "    </tr>\n",
       "  </tbody>\n",
       "</table>\n",
       "</div>"
      ],
      "text/plain": [
       "                 model_name  mean_accuracy  std_accuracy  mean_precision  \\\n",
       "0  Logistic_Regression_Grid       0.763689      0.010579        0.353438   \n",
       "1                 KNN_Tuned       0.891993      0.009780        0.784700   \n",
       "2               DTC_Tuned_1       0.932853      0.009118        0.741105   \n",
       "3               DTC_Tuned_2       0.925743      0.010861        0.751249   \n",
       "4        Base Decision Tree       0.924605      0.004666        0.734681   \n",
       "5               DTC_Tuned_2       0.921981      0.015129        0.726613   \n",
       "6     Bagged Trees Search 1       0.958735      0.008146        0.939648   \n",
       "7       Random_Forrest_GS_1       0.959485      0.009683        0.882323   \n",
       "8       Random_Forrest_GS_2       0.953110      0.008609        0.818240   \n",
       "9         Ada Grid Search 2       0.921977      0.003671        0.724409   \n",
       "\n",
       "   std_precision  mean_recall  std_recall   mean_f1    std_f1  \n",
       "0       0.012592     0.754545    0.007259  0.481309  0.012970  \n",
       "1       0.061339     0.351954    0.058282  0.483446  0.062658  \n",
       "2       0.036897     0.821878    0.052922  0.780402  0.033068  \n",
       "3       0.041765     0.775291    0.034702  0.746443  0.043876  \n",
       "4       0.017727     0.762471    0.050614  0.741033  0.008109  \n",
       "5       0.067193     0.777889    0.018326  0.743838  0.040125  \n",
       "6       0.044440     0.767566    0.046033  0.832945  0.042974  \n",
       "7       0.049927     0.808891    0.037752  0.845978  0.025658  \n",
       "8       0.062398     0.839927    0.045733  0.828711  0.040566  \n",
       "9       0.019933     0.746920    0.050691  0.741913  0.018623  "
      ]
     },
     "metadata": {},
     "output_type": "display_data"
    },
    {
     "data": {
      "text/html": [
       "<div>\n",
       "<style scoped>\n",
       "    .dataframe tbody tr th:only-of-type {\n",
       "        vertical-align: middle;\n",
       "    }\n",
       "\n",
       "    .dataframe tbody tr th {\n",
       "        vertical-align: top;\n",
       "    }\n",
       "\n",
       "    .dataframe thead th {\n",
       "        text-align: right;\n",
       "    }\n",
       "</style>\n",
       "<table border=\"1\" class=\"dataframe\">\n",
       "  <thead>\n",
       "    <tr style=\"text-align: right;\">\n",
       "      <th></th>\n",
       "      <th>model_name</th>\n",
       "      <th>accuracy</th>\n",
       "      <th>precision</th>\n",
       "      <th>recall</th>\n",
       "      <th>f1</th>\n",
       "    </tr>\n",
       "  </thead>\n",
       "  <tbody>\n",
       "    <tr>\n",
       "      <th>0</th>\n",
       "      <td>LogisticBaseline</td>\n",
       "      <td>0.859340</td>\n",
       "      <td>0.542857</td>\n",
       "      <td>0.196382</td>\n",
       "      <td>0.288425</td>\n",
       "    </tr>\n",
       "    <tr>\n",
       "      <th>1</th>\n",
       "      <td>LogisticTuned</td>\n",
       "      <td>0.767442</td>\n",
       "      <td>0.361474</td>\n",
       "      <td>0.785530</td>\n",
       "      <td>0.495114</td>\n",
       "    </tr>\n",
       "    <tr>\n",
       "      <th>2</th>\n",
       "      <td>KNN Base</td>\n",
       "      <td>0.918980</td>\n",
       "      <td>0.994220</td>\n",
       "      <td>0.444444</td>\n",
       "      <td>0.614286</td>\n",
       "    </tr>\n",
       "    <tr>\n",
       "      <th>3</th>\n",
       "      <td>KNN_Tuned</td>\n",
       "      <td>1.000000</td>\n",
       "      <td>1.000000</td>\n",
       "      <td>1.000000</td>\n",
       "      <td>1.000000</td>\n",
       "    </tr>\n",
       "    <tr>\n",
       "      <th>4</th>\n",
       "      <td>Base Decision Tree</td>\n",
       "      <td>1.000000</td>\n",
       "      <td>1.000000</td>\n",
       "      <td>1.000000</td>\n",
       "      <td>1.000000</td>\n",
       "    </tr>\n",
       "    <tr>\n",
       "      <th>5</th>\n",
       "      <td>Tuned Decision Tree 1</td>\n",
       "      <td>0.944861</td>\n",
       "      <td>0.772727</td>\n",
       "      <td>0.878553</td>\n",
       "      <td>0.822249</td>\n",
       "    </tr>\n",
       "    <tr>\n",
       "      <th>6</th>\n",
       "      <td>Base Bagged Tree</td>\n",
       "      <td>0.990998</td>\n",
       "      <td>1.000000</td>\n",
       "      <td>0.937984</td>\n",
       "      <td>0.968000</td>\n",
       "    </tr>\n",
       "    <tr>\n",
       "      <th>7</th>\n",
       "      <td>Bagged Trees Search 1</td>\n",
       "      <td>0.977869</td>\n",
       "      <td>0.993976</td>\n",
       "      <td>0.852713</td>\n",
       "      <td>0.917942</td>\n",
       "    </tr>\n",
       "    <tr>\n",
       "      <th>8</th>\n",
       "      <td>Base_R_Forrest</td>\n",
       "      <td>1.000000</td>\n",
       "      <td>1.000000</td>\n",
       "      <td>1.000000</td>\n",
       "      <td>1.000000</td>\n",
       "    </tr>\n",
       "    <tr>\n",
       "      <th>9</th>\n",
       "      <td>Random Forrest_GS_2</td>\n",
       "      <td>0.970368</td>\n",
       "      <td>0.903141</td>\n",
       "      <td>0.891473</td>\n",
       "      <td>0.897269</td>\n",
       "    </tr>\n",
       "    <tr>\n",
       "      <th>10</th>\n",
       "      <td>Ada Grid Search 2</td>\n",
       "      <td>1.000000</td>\n",
       "      <td>1.000000</td>\n",
       "      <td>1.000000</td>\n",
       "      <td>1.000000</td>\n",
       "    </tr>\n",
       "  </tbody>\n",
       "</table>\n",
       "</div>"
      ],
      "text/plain": [
       "               model_name  accuracy  precision    recall        f1\n",
       "0        LogisticBaseline  0.859340   0.542857  0.196382  0.288425\n",
       "1           LogisticTuned  0.767442   0.361474  0.785530  0.495114\n",
       "2                KNN Base  0.918980   0.994220  0.444444  0.614286\n",
       "3               KNN_Tuned  1.000000   1.000000  1.000000  1.000000\n",
       "4      Base Decision Tree  1.000000   1.000000  1.000000  1.000000\n",
       "5   Tuned Decision Tree 1  0.944861   0.772727  0.878553  0.822249\n",
       "6        Base Bagged Tree  0.990998   1.000000  0.937984  0.968000\n",
       "7   Bagged Trees Search 1  0.977869   0.993976  0.852713  0.917942\n",
       "8          Base_R_Forrest  1.000000   1.000000  1.000000  1.000000\n",
       "9     Random Forrest_GS_2  0.970368   0.903141  0.891473  0.897269\n",
       "10      Ada Grid Search 2  1.000000   1.000000  1.000000  1.000000"
      ]
     },
     "metadata": {},
     "output_type": "display_data"
    }
   ],
   "source": [
    "display(cross_val_df,models_df)"
   ]
  },
  {
   "cell_type": "markdown",
   "metadata": {},
   "source": [
    "The Adaboost showed very high overfitting with low recall scores on the cross-val scores of the tuned model."
   ]
  },
  {
   "cell_type": "markdown",
   "metadata": {},
   "source": [
    "## XGBOOST"
   ]
  },
  {
   "cell_type": "markdown",
   "metadata": {},
   "source": [
    "### Baseline XGBoost"
   ]
  },
  {
   "cell_type": "code",
   "execution_count": 1413,
   "metadata": {},
   "outputs": [],
   "source": [
    " Base_XGBOOST = (\n",
    "    Skippa()\n",
    "    .scale(columns(dtype_include='number'), type='standard')\n",
    "    .onehot(columns(dtype_exclude='number'))\n",
    "    .model(XGBClassifier(scale_pos_weight=80))\n",
    ")"
   ]
  },
  {
   "cell_type": "code",
   "execution_count": 1414,
   "metadata": {},
   "outputs": [
    {
     "data": {
      "text/plain": [
       "SkippaPipeline(steps=[('scale_standard_0',\n",
       "                       SkippaStandardScaler(cols=<skippa.transformers.base.ColumnSelector object at 0x7fd592c2c190>,\n",
       "                                            copy=True, with_mean=True,\n",
       "                                            with_std=True)),\n",
       "                      ('onehot_1',\n",
       "                       SkippaOneHotEncoder(categories='auto',\n",
       "                                           cols=<skippa.transformers.base.ColumnSelector object at 0x7fd57ee25d00>,\n",
       "                                           drop=None,\n",
       "                                           dtype=<class 'numpy.float64'>,\n",
       "                                           handle_unknown='err...\n",
       "                                     colsample_bytree=1, gamma=0, gpu_id=-1,\n",
       "                                     importance_type='gain',\n",
       "                                     interaction_constraints='',\n",
       "                                     learning_rate=0.300000012,\n",
       "                                     max_delta_step=0, max_depth=6,\n",
       "                                     min_child_weight=1, missing=nan,\n",
       "                                     monotone_constraints='()',\n",
       "                                     n_estimators=100, n_jobs=0,\n",
       "                                     num_parallel_tree=1, random_state=0,\n",
       "                                     reg_alpha=0, reg_lambda=1,\n",
       "                                     scale_pos_weight=80, subsample=1,\n",
       "                                     tree_method='exact', validate_parameters=1,\n",
       "                                     verbosity=None))])"
      ]
     },
     "execution_count": 1414,
     "metadata": {},
     "output_type": "execute_result"
    }
   ],
   "source": [
    "Base_XGBOOST.fit(X_train,y_train)"
   ]
  },
  {
   "cell_type": "code",
   "execution_count": 1415,
   "metadata": {},
   "outputs": [
    {
     "data": {
      "text/plain": [
       "{'model_name': 'XGB_Base',\n",
       " 'accuracy': 1.0,\n",
       " 'precision': 1.0,\n",
       " 'recall': 1.0,\n",
       " 'f1': 1.0}"
      ]
     },
     "execution_count": 1415,
     "metadata": {},
     "output_type": "execute_result"
    }
   ],
   "source": [
    "score_report('XGB_Base',Base_XGBOOST,X_train,y_train)\n"
   ]
  },
  {
   "cell_type": "code",
   "execution_count": 1417,
   "metadata": {},
   "outputs": [],
   "source": [
    "models_df = append_df(score_report('XGB_Base',Base_XGBOOST,X_train,y_train),models_df)"
   ]
  },
  {
   "cell_type": "code",
   "execution_count": 1416,
   "metadata": {},
   "outputs": [
    {
     "data": {
      "text/plain": [
       "{'model_name': 'XGB_Base',\n",
       " 'mean_accuracy': 0.9542333340360196,\n",
       " 'std_accuracy': 0.0072988647177372095,\n",
       " 'mean_precision': 0.8587907898286404,\n",
       " 'std_precision': 0.04049314528105125,\n",
       " 'mean_recall': 0.8217782217782219,\n",
       " 'std_recall': 0.02813283305946629,\n",
       " 'mean_f1': 0.8391784309811182,\n",
       " 'std_f1': 0.024806385934213453}"
      ]
     },
     "execution_count": 1416,
     "metadata": {},
     "output_type": "execute_result"
    }
   ],
   "source": [
    "cross_val_report('XGB_Base',Base_XGBOOST,X_train,y_train)\n"
   ]
  },
  {
   "cell_type": "code",
   "execution_count": 1418,
   "metadata": {},
   "outputs": [],
   "source": [
    "cross_val_df = append_df(cross_val_report('XGB_Base',Base_XGBOOST,X_train,y_train),cross_val_df)\n"
   ]
  },
  {
   "cell_type": "markdown",
   "metadata": {},
   "source": [
    "The XGBOOST is certainly overfitting, if I can get the overfitting to decrease it promises to be the best model."
   ]
  },
  {
   "cell_type": "markdown",
   "metadata": {},
   "source": [
    "### Tuned XGBOOST with Bayes Search"
   ]
  },
  {
   "cell_type": "markdown",
   "metadata": {},
   "source": [
    "In order to tune the XGBOOST I'm opting to use the Bayes Search CV instead of the Grid Search. The Bayes Search employs a Grid Search, but in a less naive way, using a range of values and informing the selection of the parameters from previous iterations. I will run it for 30 iterations."
   ]
  },
  {
   "cell_type": "code",
   "execution_count": null,
   "metadata": {},
   "outputs": [],
   "source": [
    "param_space = {\n",
    "        \"model_2__max_depth\": Integer(4, 20),\n",
    "        \"model_2__lambda\":Real(.1,1),\n",
    "        \"model_2__learning_rate\":Real(.3,1),\n",
    "        'model_2__colsample_bytree':Real(.1,1),\n",
    "        \"model_2__subsample\":Real(.1,1),\n",
    "        \"model_2__n_estimators\": Integer(50, 300),\n",
    "        \"model_2__gamma\": Real(.1,1),\n",
    "        \"model_2__scale_pos_weight\":Real(70,100)\n",
    "        \n",
    "    }"
   ]
  },
  {
   "cell_type": "code",
   "execution_count": 1420,
   "metadata": {},
   "outputs": [
    {
     "data": {
      "text/plain": [
       "BayesSearchCV(cv=5,\n",
       "              estimator=SkippaPipeline(steps=[('scale_standard_0',\n",
       "                                               SkippaStandardScaler(cols=<skippa.transformers.base.ColumnSelector object at 0x7fd592c2c190>,\n",
       "                                                                    copy=True,\n",
       "                                                                    with_mean=True,\n",
       "                                                                    with_std=True)),\n",
       "                                              ('onehot_1',\n",
       "                                               SkippaOneHotEncoder(categories='auto',\n",
       "                                                                   cols=<skippa.transformers.base.ColumnSelector object at 0x7fd57ee25d00>,\n",
       "                                                                   drop=None,\n",
       "                                                                   dtype=<class 'numpy....\n",
       "                             'model_2__learning_rate': Real(low=0.3, high=1, prior='uniform', transform='normalize'),\n",
       "                             'model_2__max_depth': Integer(low=6, high=20, prior='uniform', transform='normalize'),\n",
       "                             'model_2__n_estimators': Integer(low=50, high=300, prior='uniform', transform='normalize'),\n",
       "                             'model_2__scale_pos_weight': Real(low=70, high=100, prior='uniform', transform='normalize'),\n",
       "                             'model_2__subsample': Real(low=0.1, high=1, prior='uniform', transform='normalize')})"
      ]
     },
     "execution_count": 1420,
     "metadata": {},
     "output_type": "execute_result"
    }
   ],
   "source": [
    "XGB_B_Search = BayesSearchCV(Base_XGBOOST, search_spaces=param_space, n_iter=30, # specify how many iterations\n",
    "                                    scoring=two_scorer, n_jobs=-1, cv=5)\n",
    "\n",
    "XGB_B_Search.fit(X_train, y_train) \n"
   ]
  },
  {
   "cell_type": "code",
   "execution_count": 1424,
   "metadata": {},
   "outputs": [],
   "source": [
    "cross_val_df = append_df(cross_val_report('XGB_Bayes_Search',XGB_B_Search.best_estimator_,X_train,y_train),cross_val_df)\n"
   ]
  },
  {
   "cell_type": "code",
   "execution_count": 1427,
   "metadata": {},
   "outputs": [],
   "source": [
    "models_df = append_df(score_report('XGB_Bayes_Search',XGB_B_Search.best_estimator_,X_train,y_train),models_df)"
   ]
  },
  {
   "cell_type": "code",
   "execution_count": 1428,
   "metadata": {},
   "outputs": [
    {
     "data": {
      "text/plain": [
       "OrderedDict([('model_2__colsample_bytree', 0.9329003877706599),\n",
       "             ('model_2__gamma', 1.0),\n",
       "             ('model_2__lambda', 0.1),\n",
       "             ('model_2__learning_rate', 0.3),\n",
       "             ('model_2__max_depth', 20),\n",
       "             ('model_2__n_estimators', 300),\n",
       "             ('model_2__scale_pos_weight', 70.0),\n",
       "             ('model_2__subsample', 0.9555778661379664)])"
      ]
     },
     "execution_count": 1428,
     "metadata": {},
     "output_type": "execute_result"
    }
   ],
   "source": [
    "XGB_B_Search.best_params_\n"
   ]
  },
  {
   "cell_type": "code",
   "execution_count": 1433,
   "metadata": {},
   "outputs": [
    {
     "data": {
      "text/html": [
       "<div>\n",
       "<style scoped>\n",
       "    .dataframe tbody tr th:only-of-type {\n",
       "        vertical-align: middle;\n",
       "    }\n",
       "\n",
       "    .dataframe tbody tr th {\n",
       "        vertical-align: top;\n",
       "    }\n",
       "\n",
       "    .dataframe thead th {\n",
       "        text-align: right;\n",
       "    }\n",
       "</style>\n",
       "<table border=\"1\" class=\"dataframe\">\n",
       "  <thead>\n",
       "    <tr style=\"text-align: right;\">\n",
       "      <th></th>\n",
       "      <th>model_name</th>\n",
       "      <th>accuracy</th>\n",
       "      <th>precision</th>\n",
       "      <th>recall</th>\n",
       "      <th>f1</th>\n",
       "    </tr>\n",
       "  </thead>\n",
       "  <tbody>\n",
       "    <tr>\n",
       "      <th>0</th>\n",
       "      <td>LogisticBaseline</td>\n",
       "      <td>0.859340</td>\n",
       "      <td>0.542857</td>\n",
       "      <td>0.196382</td>\n",
       "      <td>0.288425</td>\n",
       "    </tr>\n",
       "    <tr>\n",
       "      <th>1</th>\n",
       "      <td>LogisticTuned</td>\n",
       "      <td>0.767442</td>\n",
       "      <td>0.361474</td>\n",
       "      <td>0.785530</td>\n",
       "      <td>0.495114</td>\n",
       "    </tr>\n",
       "    <tr>\n",
       "      <th>2</th>\n",
       "      <td>KNN Base</td>\n",
       "      <td>0.918980</td>\n",
       "      <td>0.994220</td>\n",
       "      <td>0.444444</td>\n",
       "      <td>0.614286</td>\n",
       "    </tr>\n",
       "    <tr>\n",
       "      <th>3</th>\n",
       "      <td>KNN_Tuned</td>\n",
       "      <td>1.000000</td>\n",
       "      <td>1.000000</td>\n",
       "      <td>1.000000</td>\n",
       "      <td>1.000000</td>\n",
       "    </tr>\n",
       "    <tr>\n",
       "      <th>4</th>\n",
       "      <td>Base Decision Tree</td>\n",
       "      <td>1.000000</td>\n",
       "      <td>1.000000</td>\n",
       "      <td>1.000000</td>\n",
       "      <td>1.000000</td>\n",
       "    </tr>\n",
       "    <tr>\n",
       "      <th>5</th>\n",
       "      <td>Tuned Decision Tree 1</td>\n",
       "      <td>0.944861</td>\n",
       "      <td>0.772727</td>\n",
       "      <td>0.878553</td>\n",
       "      <td>0.822249</td>\n",
       "    </tr>\n",
       "    <tr>\n",
       "      <th>6</th>\n",
       "      <td>Base Bagged Tree</td>\n",
       "      <td>0.990998</td>\n",
       "      <td>1.000000</td>\n",
       "      <td>0.937984</td>\n",
       "      <td>0.968000</td>\n",
       "    </tr>\n",
       "    <tr>\n",
       "      <th>7</th>\n",
       "      <td>Bagged Trees Search 1</td>\n",
       "      <td>0.977869</td>\n",
       "      <td>0.993976</td>\n",
       "      <td>0.852713</td>\n",
       "      <td>0.917942</td>\n",
       "    </tr>\n",
       "    <tr>\n",
       "      <th>8</th>\n",
       "      <td>Base_R_Forrest</td>\n",
       "      <td>1.000000</td>\n",
       "      <td>1.000000</td>\n",
       "      <td>1.000000</td>\n",
       "      <td>1.000000</td>\n",
       "    </tr>\n",
       "    <tr>\n",
       "      <th>9</th>\n",
       "      <td>Random Forrest_GS_2</td>\n",
       "      <td>0.970368</td>\n",
       "      <td>0.903141</td>\n",
       "      <td>0.891473</td>\n",
       "      <td>0.897269</td>\n",
       "    </tr>\n",
       "    <tr>\n",
       "      <th>10</th>\n",
       "      <td>Ada Grid Search 2</td>\n",
       "      <td>1.000000</td>\n",
       "      <td>1.000000</td>\n",
       "      <td>1.000000</td>\n",
       "      <td>1.000000</td>\n",
       "    </tr>\n",
       "    <tr>\n",
       "      <th>11</th>\n",
       "      <td>XGB_Base</td>\n",
       "      <td>1.000000</td>\n",
       "      <td>1.000000</td>\n",
       "      <td>1.000000</td>\n",
       "      <td>1.000000</td>\n",
       "    </tr>\n",
       "    <tr>\n",
       "      <th>12</th>\n",
       "      <td>XGB_Bayes_Search</td>\n",
       "      <td>1.000000</td>\n",
       "      <td>1.000000</td>\n",
       "      <td>1.000000</td>\n",
       "      <td>1.000000</td>\n",
       "    </tr>\n",
       "  </tbody>\n",
       "</table>\n",
       "</div>"
      ],
      "text/plain": [
       "               model_name  accuracy  precision    recall        f1\n",
       "0        LogisticBaseline  0.859340   0.542857  0.196382  0.288425\n",
       "1           LogisticTuned  0.767442   0.361474  0.785530  0.495114\n",
       "2                KNN Base  0.918980   0.994220  0.444444  0.614286\n",
       "3               KNN_Tuned  1.000000   1.000000  1.000000  1.000000\n",
       "4      Base Decision Tree  1.000000   1.000000  1.000000  1.000000\n",
       "5   Tuned Decision Tree 1  0.944861   0.772727  0.878553  0.822249\n",
       "6        Base Bagged Tree  0.990998   1.000000  0.937984  0.968000\n",
       "7   Bagged Trees Search 1  0.977869   0.993976  0.852713  0.917942\n",
       "8          Base_R_Forrest  1.000000   1.000000  1.000000  1.000000\n",
       "9     Random Forrest_GS_2  0.970368   0.903141  0.891473  0.897269\n",
       "10      Ada Grid Search 2  1.000000   1.000000  1.000000  1.000000\n",
       "11               XGB_Base  1.000000   1.000000  1.000000  1.000000\n",
       "12       XGB_Bayes_Search  1.000000   1.000000  1.000000  1.000000"
      ]
     },
     "metadata": {},
     "output_type": "display_data"
    },
    {
     "data": {
      "text/html": [
       "<div>\n",
       "<style scoped>\n",
       "    .dataframe tbody tr th:only-of-type {\n",
       "        vertical-align: middle;\n",
       "    }\n",
       "\n",
       "    .dataframe tbody tr th {\n",
       "        vertical-align: top;\n",
       "    }\n",
       "\n",
       "    .dataframe thead th {\n",
       "        text-align: right;\n",
       "    }\n",
       "</style>\n",
       "<table border=\"1\" class=\"dataframe\">\n",
       "  <thead>\n",
       "    <tr style=\"text-align: right;\">\n",
       "      <th></th>\n",
       "      <th>model_name</th>\n",
       "      <th>mean_accuracy</th>\n",
       "      <th>std_accuracy</th>\n",
       "      <th>mean_precision</th>\n",
       "      <th>std_precision</th>\n",
       "      <th>mean_recall</th>\n",
       "      <th>std_recall</th>\n",
       "      <th>mean_f1</th>\n",
       "      <th>std_f1</th>\n",
       "    </tr>\n",
       "  </thead>\n",
       "  <tbody>\n",
       "    <tr>\n",
       "      <th>0</th>\n",
       "      <td>Logistic_Regression_Grid</td>\n",
       "      <td>0.763689</td>\n",
       "      <td>0.010579</td>\n",
       "      <td>0.353438</td>\n",
       "      <td>0.012592</td>\n",
       "      <td>0.754545</td>\n",
       "      <td>0.007259</td>\n",
       "      <td>0.481309</td>\n",
       "      <td>0.012970</td>\n",
       "    </tr>\n",
       "    <tr>\n",
       "      <th>1</th>\n",
       "      <td>KNN_Tuned</td>\n",
       "      <td>0.891993</td>\n",
       "      <td>0.009780</td>\n",
       "      <td>0.784700</td>\n",
       "      <td>0.061339</td>\n",
       "      <td>0.351954</td>\n",
       "      <td>0.058282</td>\n",
       "      <td>0.483446</td>\n",
       "      <td>0.062658</td>\n",
       "    </tr>\n",
       "    <tr>\n",
       "      <th>2</th>\n",
       "      <td>DTC_Tuned_1</td>\n",
       "      <td>0.932853</td>\n",
       "      <td>0.009118</td>\n",
       "      <td>0.741105</td>\n",
       "      <td>0.036897</td>\n",
       "      <td>0.821878</td>\n",
       "      <td>0.052922</td>\n",
       "      <td>0.780402</td>\n",
       "      <td>0.033068</td>\n",
       "    </tr>\n",
       "    <tr>\n",
       "      <th>3</th>\n",
       "      <td>DTC_Tuned_2</td>\n",
       "      <td>0.925743</td>\n",
       "      <td>0.010861</td>\n",
       "      <td>0.751249</td>\n",
       "      <td>0.041765</td>\n",
       "      <td>0.775291</td>\n",
       "      <td>0.034702</td>\n",
       "      <td>0.746443</td>\n",
       "      <td>0.043876</td>\n",
       "    </tr>\n",
       "    <tr>\n",
       "      <th>4</th>\n",
       "      <td>Base Decision Tree</td>\n",
       "      <td>0.924605</td>\n",
       "      <td>0.004666</td>\n",
       "      <td>0.734681</td>\n",
       "      <td>0.017727</td>\n",
       "      <td>0.762471</td>\n",
       "      <td>0.050614</td>\n",
       "      <td>0.741033</td>\n",
       "      <td>0.008109</td>\n",
       "    </tr>\n",
       "    <tr>\n",
       "      <th>5</th>\n",
       "      <td>DTC_Tuned_2</td>\n",
       "      <td>0.921981</td>\n",
       "      <td>0.015129</td>\n",
       "      <td>0.726613</td>\n",
       "      <td>0.067193</td>\n",
       "      <td>0.777889</td>\n",
       "      <td>0.018326</td>\n",
       "      <td>0.743838</td>\n",
       "      <td>0.040125</td>\n",
       "    </tr>\n",
       "    <tr>\n",
       "      <th>6</th>\n",
       "      <td>Bagged Trees Search 1</td>\n",
       "      <td>0.958735</td>\n",
       "      <td>0.008146</td>\n",
       "      <td>0.939648</td>\n",
       "      <td>0.044440</td>\n",
       "      <td>0.767566</td>\n",
       "      <td>0.046033</td>\n",
       "      <td>0.832945</td>\n",
       "      <td>0.042974</td>\n",
       "    </tr>\n",
       "    <tr>\n",
       "      <th>7</th>\n",
       "      <td>Random_Forrest_GS_1</td>\n",
       "      <td>0.959485</td>\n",
       "      <td>0.009683</td>\n",
       "      <td>0.882323</td>\n",
       "      <td>0.049927</td>\n",
       "      <td>0.808891</td>\n",
       "      <td>0.037752</td>\n",
       "      <td>0.845978</td>\n",
       "      <td>0.025658</td>\n",
       "    </tr>\n",
       "    <tr>\n",
       "      <th>8</th>\n",
       "      <td>Random_Forrest_GS_2</td>\n",
       "      <td>0.953110</td>\n",
       "      <td>0.008609</td>\n",
       "      <td>0.818240</td>\n",
       "      <td>0.062398</td>\n",
       "      <td>0.839927</td>\n",
       "      <td>0.045733</td>\n",
       "      <td>0.828711</td>\n",
       "      <td>0.040566</td>\n",
       "    </tr>\n",
       "    <tr>\n",
       "      <th>9</th>\n",
       "      <td>Ada Grid Search 2</td>\n",
       "      <td>0.921977</td>\n",
       "      <td>0.003671</td>\n",
       "      <td>0.724409</td>\n",
       "      <td>0.019933</td>\n",
       "      <td>0.746920</td>\n",
       "      <td>0.050691</td>\n",
       "      <td>0.741913</td>\n",
       "      <td>0.018623</td>\n",
       "    </tr>\n",
       "    <tr>\n",
       "      <th>10</th>\n",
       "      <td>XGB_Base</td>\n",
       "      <td>0.954233</td>\n",
       "      <td>0.007299</td>\n",
       "      <td>0.858791</td>\n",
       "      <td>0.040493</td>\n",
       "      <td>0.821778</td>\n",
       "      <td>0.028133</td>\n",
       "      <td>0.839178</td>\n",
       "      <td>0.024806</td>\n",
       "    </tr>\n",
       "    <tr>\n",
       "      <th>11</th>\n",
       "      <td>XGB_Bayes_Search</td>\n",
       "      <td>0.956488</td>\n",
       "      <td>0.008177</td>\n",
       "      <td>0.854223</td>\n",
       "      <td>0.027717</td>\n",
       "      <td>0.845122</td>\n",
       "      <td>0.044669</td>\n",
       "      <td>0.849053</td>\n",
       "      <td>0.030377</td>\n",
       "    </tr>\n",
       "  </tbody>\n",
       "</table>\n",
       "</div>"
      ],
      "text/plain": [
       "                  model_name  mean_accuracy  std_accuracy  mean_precision  \\\n",
       "0   Logistic_Regression_Grid       0.763689      0.010579        0.353438   \n",
       "1                  KNN_Tuned       0.891993      0.009780        0.784700   \n",
       "2                DTC_Tuned_1       0.932853      0.009118        0.741105   \n",
       "3                DTC_Tuned_2       0.925743      0.010861        0.751249   \n",
       "4         Base Decision Tree       0.924605      0.004666        0.734681   \n",
       "5                DTC_Tuned_2       0.921981      0.015129        0.726613   \n",
       "6      Bagged Trees Search 1       0.958735      0.008146        0.939648   \n",
       "7        Random_Forrest_GS_1       0.959485      0.009683        0.882323   \n",
       "8        Random_Forrest_GS_2       0.953110      0.008609        0.818240   \n",
       "9          Ada Grid Search 2       0.921977      0.003671        0.724409   \n",
       "10                  XGB_Base       0.954233      0.007299        0.858791   \n",
       "11          XGB_Bayes_Search       0.956488      0.008177        0.854223   \n",
       "\n",
       "    std_precision  mean_recall  std_recall   mean_f1    std_f1  \n",
       "0        0.012592     0.754545    0.007259  0.481309  0.012970  \n",
       "1        0.061339     0.351954    0.058282  0.483446  0.062658  \n",
       "2        0.036897     0.821878    0.052922  0.780402  0.033068  \n",
       "3        0.041765     0.775291    0.034702  0.746443  0.043876  \n",
       "4        0.017727     0.762471    0.050614  0.741033  0.008109  \n",
       "5        0.067193     0.777889    0.018326  0.743838  0.040125  \n",
       "6        0.044440     0.767566    0.046033  0.832945  0.042974  \n",
       "7        0.049927     0.808891    0.037752  0.845978  0.025658  \n",
       "8        0.062398     0.839927    0.045733  0.828711  0.040566  \n",
       "9        0.019933     0.746920    0.050691  0.741913  0.018623  \n",
       "10       0.040493     0.821778    0.028133  0.839178  0.024806  \n",
       "11       0.027717     0.845122    0.044669  0.849053  0.030377  "
      ]
     },
     "metadata": {},
     "output_type": "display_data"
    }
   ],
   "source": [
    "display(models_df,cross_val_df)"
   ]
  },
  {
   "cell_type": "code",
   "execution_count": 1434,
   "metadata": {},
   "outputs": [
    {
     "data": {
      "text/plain": [
       "OrderedDict([('model_2__colsample_bytree', 0.9329003877706599),\n",
       "             ('model_2__gamma', 1.0),\n",
       "             ('model_2__lambda', 0.1),\n",
       "             ('model_2__learning_rate', 0.3),\n",
       "             ('model_2__max_depth', 20),\n",
       "             ('model_2__n_estimators', 300),\n",
       "             ('model_2__scale_pos_weight', 70.0),\n",
       "             ('model_2__subsample', 0.9555778661379664)])"
      ]
     },
     "execution_count": 1434,
     "metadata": {},
     "output_type": "execute_result"
    }
   ],
   "source": [
    "XGB_B_Search.best_params_"
   ]
  },
  {
   "cell_type": "markdown",
   "metadata": {},
   "source": [
    "The XGB Bayes search increased the recall score, but it shows a higher recall std. I will make one more attempt at tuning the XGB model with the Bayes Search. The training scores are still overfitting, I will judge the model on its cross-val scores."
   ]
  },
  {
   "cell_type": "code",
   "execution_count": 1436,
   "metadata": {},
   "outputs": [],
   "source": [
    "param_space_2 = {\n",
    "        \"model_2__max_depth\": Integer(3,30),\n",
    "        \"model_2__lambda\":Real(.1,1),\n",
    "        \"model_2__learning_rate\":Real(.3,1),\n",
    "        'model_2__colsample_bytree':Real(.1,1),\n",
    "        \"model_2__subsample\":Real(.1,1),\n",
    "        \"model_2__n_estimators\": Integer(50, 500),\n",
    "        \"model_2__gamma\": Real(.1,1),\n",
    "        \"model_2__scale_pos_weight\":Real(50,100)\n",
    "        \n",
    "    }"
   ]
  },
  {
   "cell_type": "code",
   "execution_count": 1440,
   "metadata": {},
   "outputs": [
    {
     "data": {
      "text/plain": [
       "BayesSearchCV(cv=5,\n",
       "              estimator=SkippaPipeline(steps=[('scale_standard_0',\n",
       "                                               SkippaStandardScaler(cols=<skippa.transformers.base.ColumnSelector object at 0x7fd592c2c190>,\n",
       "                                                                    copy=True,\n",
       "                                                                    with_mean=True,\n",
       "                                                                    with_std=True)),\n",
       "                                              ('onehot_1',\n",
       "                                               SkippaOneHotEncoder(categories='auto',\n",
       "                                                                   cols=<skippa.transformers.base.ColumnSelector object at 0x7fd57ee25d00>,\n",
       "                                                                   drop=None,\n",
       "                                                                   dtype=<class 'numpy....\n",
       "                             'model_2__learning_rate': Real(low=0.3, high=1, prior='uniform', transform='normalize'),\n",
       "                             'model_2__max_depth': Integer(low=6, high=20, prior='uniform', transform='normalize'),\n",
       "                             'model_2__n_estimators': Integer(low=50, high=300, prior='uniform', transform='normalize'),\n",
       "                             'model_2__scale_pos_weight': Real(low=70, high=100, prior='uniform', transform='normalize'),\n",
       "                             'model_2__subsample': Real(low=0.1, high=1, prior='uniform', transform='normalize')})"
      ]
     },
     "execution_count": 1440,
     "metadata": {},
     "output_type": "execute_result"
    }
   ],
   "source": [
    "XGB_B_Search_2 = BayesSearchCV(Base_XGBOOST, search_spaces=param_space, n_iter=30, # specify how many iterations\n",
    "                                    scoring=two_scorer, n_jobs=-1, cv=5)\n",
    "\n",
    "XGB_B_Search_2.fit(X_train, y_train) "
   ]
  },
  {
   "cell_type": "code",
   "execution_count": 1441,
   "metadata": {},
   "outputs": [
    {
     "data": {
      "text/plain": [
       "OrderedDict([('model_2__colsample_bytree', 1.0),\n",
       "             ('model_2__gamma', 1.0),\n",
       "             ('model_2__lambda', 0.6494002350454507),\n",
       "             ('model_2__learning_rate', 0.33352692119943356),\n",
       "             ('model_2__max_depth', 20),\n",
       "             ('model_2__n_estimators', 50),\n",
       "             ('model_2__scale_pos_weight', 99.53251450518172),\n",
       "             ('model_2__subsample', 0.9480140998285264)])"
      ]
     },
     "execution_count": 1441,
     "metadata": {},
     "output_type": "execute_result"
    }
   ],
   "source": [
    "XGB_B_Search_2.best_params_"
   ]
  },
  {
   "cell_type": "code",
   "execution_count": 1446,
   "metadata": {},
   "outputs": [],
   "source": [
    "cross_val_df = append_df(cross_val_report('XGB_Bayes_Search_2',XGB_B_Search_2.best_estimator_,X_train,y_train),cross_val_df)"
   ]
  },
  {
   "cell_type": "code",
   "execution_count": 1452,
   "metadata": {},
   "outputs": [],
   "source": [
    "models_df = append_df(score_report('XGB_Bayes_Search_2',XGB_B_Search_2.best_estimator_,X_train,y_train),models_df)"
   ]
  },
  {
   "cell_type": "markdown",
   "metadata": {},
   "source": [
    "## Final Model Selection"
   ]
  },
  {
   "cell_type": "code",
   "execution_count": 1471,
   "metadata": {},
   "outputs": [
    {
     "data": {
      "text/html": [
       "<div>\n",
       "<style scoped>\n",
       "    .dataframe tbody tr th:only-of-type {\n",
       "        vertical-align: middle;\n",
       "    }\n",
       "\n",
       "    .dataframe tbody tr th {\n",
       "        vertical-align: top;\n",
       "    }\n",
       "\n",
       "    .dataframe thead th {\n",
       "        text-align: right;\n",
       "    }\n",
       "</style>\n",
       "<table border=\"1\" class=\"dataframe\">\n",
       "  <thead>\n",
       "    <tr style=\"text-align: right;\">\n",
       "      <th></th>\n",
       "      <th>model_name</th>\n",
       "      <th>mean_accuracy</th>\n",
       "      <th>std_accuracy</th>\n",
       "      <th>mean_precision</th>\n",
       "      <th>std_precision</th>\n",
       "      <th>mean_recall</th>\n",
       "      <th>std_recall</th>\n",
       "      <th>mean_f1</th>\n",
       "      <th>std_f1</th>\n",
       "    </tr>\n",
       "  </thead>\n",
       "  <tbody>\n",
       "    <tr>\n",
       "      <th>0</th>\n",
       "      <td>Logistic_Regression_Grid</td>\n",
       "      <td>0.763689</td>\n",
       "      <td>0.010579</td>\n",
       "      <td>0.353438</td>\n",
       "      <td>0.012592</td>\n",
       "      <td>0.754545</td>\n",
       "      <td>0.007259</td>\n",
       "      <td>0.481309</td>\n",
       "      <td>0.012970</td>\n",
       "    </tr>\n",
       "    <tr>\n",
       "      <th>1</th>\n",
       "      <td>KNN_Tuned</td>\n",
       "      <td>0.891993</td>\n",
       "      <td>0.009780</td>\n",
       "      <td>0.784700</td>\n",
       "      <td>0.061339</td>\n",
       "      <td>0.351954</td>\n",
       "      <td>0.058282</td>\n",
       "      <td>0.483446</td>\n",
       "      <td>0.062658</td>\n",
       "    </tr>\n",
       "    <tr>\n",
       "      <th>2</th>\n",
       "      <td>DTC_Tuned_1</td>\n",
       "      <td>0.932853</td>\n",
       "      <td>0.009118</td>\n",
       "      <td>0.741105</td>\n",
       "      <td>0.036897</td>\n",
       "      <td>0.821878</td>\n",
       "      <td>0.052922</td>\n",
       "      <td>0.780402</td>\n",
       "      <td>0.033068</td>\n",
       "    </tr>\n",
       "    <tr>\n",
       "      <th>3</th>\n",
       "      <td>DTC_Tuned_2</td>\n",
       "      <td>0.925743</td>\n",
       "      <td>0.010861</td>\n",
       "      <td>0.751249</td>\n",
       "      <td>0.041765</td>\n",
       "      <td>0.775291</td>\n",
       "      <td>0.034702</td>\n",
       "      <td>0.746443</td>\n",
       "      <td>0.043876</td>\n",
       "    </tr>\n",
       "    <tr>\n",
       "      <th>4</th>\n",
       "      <td>Base Decision Tree</td>\n",
       "      <td>0.924605</td>\n",
       "      <td>0.004666</td>\n",
       "      <td>0.734681</td>\n",
       "      <td>0.017727</td>\n",
       "      <td>0.762471</td>\n",
       "      <td>0.050614</td>\n",
       "      <td>0.741033</td>\n",
       "      <td>0.008109</td>\n",
       "    </tr>\n",
       "    <tr>\n",
       "      <th>5</th>\n",
       "      <td>DTC_Tuned_2</td>\n",
       "      <td>0.921981</td>\n",
       "      <td>0.015129</td>\n",
       "      <td>0.726613</td>\n",
       "      <td>0.067193</td>\n",
       "      <td>0.777889</td>\n",
       "      <td>0.018326</td>\n",
       "      <td>0.743838</td>\n",
       "      <td>0.040125</td>\n",
       "    </tr>\n",
       "    <tr>\n",
       "      <th>6</th>\n",
       "      <td>Bagged Trees Search 1</td>\n",
       "      <td>0.958735</td>\n",
       "      <td>0.008146</td>\n",
       "      <td>0.939648</td>\n",
       "      <td>0.044440</td>\n",
       "      <td>0.767566</td>\n",
       "      <td>0.046033</td>\n",
       "      <td>0.832945</td>\n",
       "      <td>0.042974</td>\n",
       "    </tr>\n",
       "    <tr>\n",
       "      <th>7</th>\n",
       "      <td>Random_Forrest_GS_1</td>\n",
       "      <td>0.959485</td>\n",
       "      <td>0.009683</td>\n",
       "      <td>0.882323</td>\n",
       "      <td>0.049927</td>\n",
       "      <td>0.808891</td>\n",
       "      <td>0.037752</td>\n",
       "      <td>0.845978</td>\n",
       "      <td>0.025658</td>\n",
       "    </tr>\n",
       "    <tr>\n",
       "      <th>8</th>\n",
       "      <td>Random_Forrest_GS_2</td>\n",
       "      <td>0.953110</td>\n",
       "      <td>0.008609</td>\n",
       "      <td>0.818240</td>\n",
       "      <td>0.062398</td>\n",
       "      <td>0.839927</td>\n",
       "      <td>0.045733</td>\n",
       "      <td>0.828711</td>\n",
       "      <td>0.040566</td>\n",
       "    </tr>\n",
       "    <tr>\n",
       "      <th>9</th>\n",
       "      <td>Ada Grid Search 2</td>\n",
       "      <td>0.921977</td>\n",
       "      <td>0.003671</td>\n",
       "      <td>0.724409</td>\n",
       "      <td>0.019933</td>\n",
       "      <td>0.746920</td>\n",
       "      <td>0.050691</td>\n",
       "      <td>0.741913</td>\n",
       "      <td>0.018623</td>\n",
       "    </tr>\n",
       "    <tr>\n",
       "      <th>10</th>\n",
       "      <td>XGB_Base</td>\n",
       "      <td>0.954233</td>\n",
       "      <td>0.007299</td>\n",
       "      <td>0.858791</td>\n",
       "      <td>0.040493</td>\n",
       "      <td>0.821778</td>\n",
       "      <td>0.028133</td>\n",
       "      <td>0.839178</td>\n",
       "      <td>0.024806</td>\n",
       "    </tr>\n",
       "    <tr>\n",
       "      <th>11</th>\n",
       "      <td>XGB_Bayes_Search</td>\n",
       "      <td>0.956488</td>\n",
       "      <td>0.008177</td>\n",
       "      <td>0.854223</td>\n",
       "      <td>0.027717</td>\n",
       "      <td>0.845122</td>\n",
       "      <td>0.044669</td>\n",
       "      <td>0.849053</td>\n",
       "      <td>0.030377</td>\n",
       "    </tr>\n",
       "    <tr>\n",
       "      <th>12</th>\n",
       "      <td>XGB_Bayes_Search_2</td>\n",
       "      <td>0.953485</td>\n",
       "      <td>0.008522</td>\n",
       "      <td>0.839295</td>\n",
       "      <td>0.038590</td>\n",
       "      <td>0.842524</td>\n",
       "      <td>0.031176</td>\n",
       "      <td>0.840401</td>\n",
       "      <td>0.028294</td>\n",
       "    </tr>\n",
       "  </tbody>\n",
       "</table>\n",
       "</div>"
      ],
      "text/plain": [
       "                  model_name  mean_accuracy  std_accuracy  mean_precision  \\\n",
       "0   Logistic_Regression_Grid       0.763689      0.010579        0.353438   \n",
       "1                  KNN_Tuned       0.891993      0.009780        0.784700   \n",
       "2                DTC_Tuned_1       0.932853      0.009118        0.741105   \n",
       "3                DTC_Tuned_2       0.925743      0.010861        0.751249   \n",
       "4         Base Decision Tree       0.924605      0.004666        0.734681   \n",
       "5                DTC_Tuned_2       0.921981      0.015129        0.726613   \n",
       "6      Bagged Trees Search 1       0.958735      0.008146        0.939648   \n",
       "7        Random_Forrest_GS_1       0.959485      0.009683        0.882323   \n",
       "8        Random_Forrest_GS_2       0.953110      0.008609        0.818240   \n",
       "9          Ada Grid Search 2       0.921977      0.003671        0.724409   \n",
       "10                  XGB_Base       0.954233      0.007299        0.858791   \n",
       "11          XGB_Bayes_Search       0.956488      0.008177        0.854223   \n",
       "12        XGB_Bayes_Search_2       0.953485      0.008522        0.839295   \n",
       "\n",
       "    std_precision  mean_recall  std_recall   mean_f1    std_f1  \n",
       "0        0.012592     0.754545    0.007259  0.481309  0.012970  \n",
       "1        0.061339     0.351954    0.058282  0.483446  0.062658  \n",
       "2        0.036897     0.821878    0.052922  0.780402  0.033068  \n",
       "3        0.041765     0.775291    0.034702  0.746443  0.043876  \n",
       "4        0.017727     0.762471    0.050614  0.741033  0.008109  \n",
       "5        0.067193     0.777889    0.018326  0.743838  0.040125  \n",
       "6        0.044440     0.767566    0.046033  0.832945  0.042974  \n",
       "7        0.049927     0.808891    0.037752  0.845978  0.025658  \n",
       "8        0.062398     0.839927    0.045733  0.828711  0.040566  \n",
       "9        0.019933     0.746920    0.050691  0.741913  0.018623  \n",
       "10       0.040493     0.821778    0.028133  0.839178  0.024806  \n",
       "11       0.027717     0.845122    0.044669  0.849053  0.030377  \n",
       "12       0.038590     0.842524    0.031176  0.840401  0.028294  "
      ]
     },
     "metadata": {},
     "output_type": "display_data"
    },
    {
     "data": {
      "text/html": [
       "<div>\n",
       "<style scoped>\n",
       "    .dataframe tbody tr th:only-of-type {\n",
       "        vertical-align: middle;\n",
       "    }\n",
       "\n",
       "    .dataframe tbody tr th {\n",
       "        vertical-align: top;\n",
       "    }\n",
       "\n",
       "    .dataframe thead th {\n",
       "        text-align: right;\n",
       "    }\n",
       "</style>\n",
       "<table border=\"1\" class=\"dataframe\">\n",
       "  <thead>\n",
       "    <tr style=\"text-align: right;\">\n",
       "      <th></th>\n",
       "      <th>model_name</th>\n",
       "      <th>accuracy</th>\n",
       "      <th>precision</th>\n",
       "      <th>recall</th>\n",
       "      <th>f1</th>\n",
       "    </tr>\n",
       "  </thead>\n",
       "  <tbody>\n",
       "    <tr>\n",
       "      <th>0</th>\n",
       "      <td>LogisticBaseline</td>\n",
       "      <td>0.859340</td>\n",
       "      <td>0.542857</td>\n",
       "      <td>0.196382</td>\n",
       "      <td>0.288425</td>\n",
       "    </tr>\n",
       "    <tr>\n",
       "      <th>1</th>\n",
       "      <td>LogisticTuned</td>\n",
       "      <td>0.767442</td>\n",
       "      <td>0.361474</td>\n",
       "      <td>0.785530</td>\n",
       "      <td>0.495114</td>\n",
       "    </tr>\n",
       "    <tr>\n",
       "      <th>2</th>\n",
       "      <td>KNN Base</td>\n",
       "      <td>0.918980</td>\n",
       "      <td>0.994220</td>\n",
       "      <td>0.444444</td>\n",
       "      <td>0.614286</td>\n",
       "    </tr>\n",
       "    <tr>\n",
       "      <th>3</th>\n",
       "      <td>KNN_Tuned</td>\n",
       "      <td>1.000000</td>\n",
       "      <td>1.000000</td>\n",
       "      <td>1.000000</td>\n",
       "      <td>1.000000</td>\n",
       "    </tr>\n",
       "    <tr>\n",
       "      <th>4</th>\n",
       "      <td>Base Decision Tree</td>\n",
       "      <td>1.000000</td>\n",
       "      <td>1.000000</td>\n",
       "      <td>1.000000</td>\n",
       "      <td>1.000000</td>\n",
       "    </tr>\n",
       "    <tr>\n",
       "      <th>5</th>\n",
       "      <td>Tuned Decision Tree 1</td>\n",
       "      <td>0.944861</td>\n",
       "      <td>0.772727</td>\n",
       "      <td>0.878553</td>\n",
       "      <td>0.822249</td>\n",
       "    </tr>\n",
       "    <tr>\n",
       "      <th>6</th>\n",
       "      <td>Base Bagged Tree</td>\n",
       "      <td>0.990998</td>\n",
       "      <td>1.000000</td>\n",
       "      <td>0.937984</td>\n",
       "      <td>0.968000</td>\n",
       "    </tr>\n",
       "    <tr>\n",
       "      <th>7</th>\n",
       "      <td>Bagged Trees Search 1</td>\n",
       "      <td>0.977869</td>\n",
       "      <td>0.993976</td>\n",
       "      <td>0.852713</td>\n",
       "      <td>0.917942</td>\n",
       "    </tr>\n",
       "    <tr>\n",
       "      <th>8</th>\n",
       "      <td>Base_R_Forrest</td>\n",
       "      <td>1.000000</td>\n",
       "      <td>1.000000</td>\n",
       "      <td>1.000000</td>\n",
       "      <td>1.000000</td>\n",
       "    </tr>\n",
       "    <tr>\n",
       "      <th>9</th>\n",
       "      <td>Random Forrest_GS_2</td>\n",
       "      <td>0.970368</td>\n",
       "      <td>0.903141</td>\n",
       "      <td>0.891473</td>\n",
       "      <td>0.897269</td>\n",
       "    </tr>\n",
       "    <tr>\n",
       "      <th>10</th>\n",
       "      <td>Ada Grid Search 2</td>\n",
       "      <td>1.000000</td>\n",
       "      <td>1.000000</td>\n",
       "      <td>1.000000</td>\n",
       "      <td>1.000000</td>\n",
       "    </tr>\n",
       "    <tr>\n",
       "      <th>11</th>\n",
       "      <td>XGB_Base</td>\n",
       "      <td>1.000000</td>\n",
       "      <td>1.000000</td>\n",
       "      <td>1.000000</td>\n",
       "      <td>1.000000</td>\n",
       "    </tr>\n",
       "    <tr>\n",
       "      <th>12</th>\n",
       "      <td>XGB_Bayes_Search</td>\n",
       "      <td>1.000000</td>\n",
       "      <td>1.000000</td>\n",
       "      <td>1.000000</td>\n",
       "      <td>1.000000</td>\n",
       "    </tr>\n",
       "    <tr>\n",
       "      <th>13</th>\n",
       "      <td>XGB_Bayes_Search_2</td>\n",
       "      <td>1.000000</td>\n",
       "      <td>1.000000</td>\n",
       "      <td>1.000000</td>\n",
       "      <td>1.000000</td>\n",
       "    </tr>\n",
       "  </tbody>\n",
       "</table>\n",
       "</div>"
      ],
      "text/plain": [
       "               model_name  accuracy  precision    recall        f1\n",
       "0        LogisticBaseline  0.859340   0.542857  0.196382  0.288425\n",
       "1           LogisticTuned  0.767442   0.361474  0.785530  0.495114\n",
       "2                KNN Base  0.918980   0.994220  0.444444  0.614286\n",
       "3               KNN_Tuned  1.000000   1.000000  1.000000  1.000000\n",
       "4      Base Decision Tree  1.000000   1.000000  1.000000  1.000000\n",
       "5   Tuned Decision Tree 1  0.944861   0.772727  0.878553  0.822249\n",
       "6        Base Bagged Tree  0.990998   1.000000  0.937984  0.968000\n",
       "7   Bagged Trees Search 1  0.977869   0.993976  0.852713  0.917942\n",
       "8          Base_R_Forrest  1.000000   1.000000  1.000000  1.000000\n",
       "9     Random Forrest_GS_2  0.970368   0.903141  0.891473  0.897269\n",
       "10      Ada Grid Search 2  1.000000   1.000000  1.000000  1.000000\n",
       "11               XGB_Base  1.000000   1.000000  1.000000  1.000000\n",
       "12       XGB_Bayes_Search  1.000000   1.000000  1.000000  1.000000\n",
       "13     XGB_Bayes_Search_2  1.000000   1.000000  1.000000  1.000000"
      ]
     },
     "metadata": {},
     "output_type": "display_data"
    }
   ],
   "source": [
    "display(cross_val_df,models_df)"
   ]
  },
  {
   "cell_type": "markdown",
   "metadata": {},
   "source": [
    "Looking at all the models above, it seems to be a tough call. The Random Forrest Grid Search 1 seems to overfit less than the XGBOOST model, but has a slightly lower recall score, I think the cross-val scores give reason to go with the XGBOOST model. The first tuned XGBOOST does have a lower recall score so I will test that on the test data."
   ]
  },
  {
   "cell_type": "markdown",
   "metadata": {},
   "source": [
    "### Test Data Scoring"
   ]
  },
  {
   "cell_type": "code",
   "execution_count": 1496,
   "metadata": {},
   "outputs": [
    {
     "data": {
      "text/plain": [
       "{'model_name': 'XGB_Bayes_Search_2',\n",
       " 'accuracy': 0.9535232383808095,\n",
       " 'precision': 0.8571428571428571,\n",
       " 'recall': 0.8125,\n",
       " 'f1': 0.8342245989304812}"
      ]
     },
     "execution_count": 1496,
     "metadata": {},
     "output_type": "execute_result"
    }
   ],
   "source": [
    "score_report('XGB_Bayes_Search_2',XGB_B_Search.best_estimator_,X_test,y_test)"
   ]
  },
  {
   "cell_type": "markdown",
   "metadata": {},
   "source": [
    "On the test data the model was able to correctly predict 81.25% correctly the actual Churn customers, it misidentified non-churn customers 14.3% of the time."
   ]
  },
  {
   "cell_type": "code",
   "execution_count": 1518,
   "metadata": {},
   "outputs": [
    {
     "name": "stdout",
     "output_type": "stream",
     "text": [
      "              precision    recall  f1-score   support\n",
      "\n",
      "           0       0.97      0.98      0.97       571\n",
      "           1       0.86      0.81      0.83        96\n",
      "\n",
      "    accuracy                           0.95       667\n",
      "   macro avg       0.91      0.89      0.90       667\n",
      "weighted avg       0.95      0.95      0.95       667\n",
      "\n"
     ]
    }
   ],
   "source": [
    "print(classification_report(y_test,y_preds))"
   ]
  },
  {
   "cell_type": "markdown",
   "metadata": {},
   "source": [
    "As shown above it is harder for the model to correctly identify churn customers vs. non-churn customers, but it has many more examples of non-churn customers to work with in the training process."
   ]
  },
  {
   "cell_type": "markdown",
   "metadata": {},
   "source": [
    "## Scoring Visualized"
   ]
  },
  {
   "cell_type": "markdown",
   "metadata": {},
   "source": [
    "### Confusion Matrix"
   ]
  },
  {
   "cell_type": "code",
   "execution_count": 1572,
   "metadata": {},
   "outputs": [
    {
     "data": {
      "text/plain": [
       "<Figure size 432x288 with 0 Axes>"
      ]
     },
     "metadata": {},
     "output_type": "display_data"
    },
    {
     "data": {
      "image/png": "[encoded data removed]",
      "text/plain": [
       "<Figure size 432x288 with 2 Axes>"
      ]
     },
     "metadata": {},
     "output_type": "display_data"
    }
   ],
   "source": [
    "fig = plt.figure()\n",
    "\n",
    "cf_matrix = ConfusionMatrixDisplay.from_estimator(XGB_B_Search.best_estimator_,X_test,y_test,colorbar=True,display_labels=['No Churn','Churn'],cmap='Blues')\n",
    "plt.grid(False)\n",
    "\n",
    "plt.show()"
   ]
  },
  {
   "cell_type": "code",
   "execution_count": 1568,
   "metadata": {},
   "outputs": [
    {
     "ename": "NameError",
     "evalue": "name 'make_confusion_matrix' is not defined",
     "output_type": "error",
     "traceback": [
      "\u001b[0;31m---------------------------------------------------------------------------\u001b[0m",
      "\u001b[0;31mNameError\u001b[0m                                 Traceback (most recent call last)",
      "\u001b[0;32m<ipython-input-1568-4e903625d3a8>\u001b[0m in \u001b[0;36m<module>\u001b[0;34m\u001b[0m\n\u001b[1;32m      1\u001b[0m \u001b[0mlabels\u001b[0m \u001b[0;34m=\u001b[0m \u001b[0;34m[\u001b[0m\u001b[0;34m'True Retention'\u001b[0m\u001b[0;34m,\u001b[0m\u001b[0;34m'False Churn'\u001b[0m\u001b[0;34m,\u001b[0m\u001b[0;34m'False Retention'\u001b[0m\u001b[0;34m,\u001b[0m\u001b[0;34m'True Churn'\u001b[0m\u001b[0;34m]\u001b[0m\u001b[0;34m\u001b[0m\u001b[0;34m\u001b[0m\u001b[0m\n\u001b[1;32m      2\u001b[0m \u001b[0mcategories\u001b[0m \u001b[0;34m=\u001b[0m \u001b[0;34m[\u001b[0m\u001b[0;34m'No Churn'\u001b[0m\u001b[0;34m,\u001b[0m \u001b[0;34m'Churn'\u001b[0m\u001b[0;34m]\u001b[0m\u001b[0;34m\u001b[0m\u001b[0;34m\u001b[0m\u001b[0m\n\u001b[0;32m----> 3\u001b[0;31m make_confusion_matrix(cf_matrix, \n\u001b[0m\u001b[1;32m      4\u001b[0m                       \u001b[0mgroup_names\u001b[0m\u001b[0;34m=\u001b[0m\u001b[0mlabels\u001b[0m\u001b[0;34m,\u001b[0m\u001b[0;34m\u001b[0m\u001b[0;34m\u001b[0m\u001b[0m\n\u001b[1;32m      5\u001b[0m                       \u001b[0mcategories\u001b[0m\u001b[0;34m=\u001b[0m\u001b[0mcategories\u001b[0m\u001b[0;34m,\u001b[0m\u001b[0;34m\u001b[0m\u001b[0;34m\u001b[0m\u001b[0m\n",
      "\u001b[0;31mNameError\u001b[0m: name 'make_confusion_matrix' is not defined"
     ]
    }
   ],
   "source": [
    "labels = ['True Retention','False Churn','False Retention','True Churn']\n",
    "categories = ['No Churn', 'Churn']\n",
    "make_confusion_matrix(cf_matrix, \n",
    "                      group_names=labels,\n",
    "                      categories=categories, \n",
    "                      cmap='binary')"
   ]
  },
  {
   "cell_type": "markdown",
   "metadata": {},
   "source": [
    "### ROC Curve"
   ]
  },
  {
   "cell_type": "code",
   "execution_count": 1534,
   "metadata": {},
   "outputs": [
    {
     "data": {
      "image/png": "[encoded data removed]",
      "text/plain": [
       "<Figure size 432x288 with 1 Axes>"
      ]
     },
     "metadata": {},
     "output_type": "display_data"
    }
   ],
   "source": [
    "y_probs = final_model.predict_proba(X_test)\n",
    "pred_probs = y_probs[:, 1]\n",
    "ns_probs = [0 for _ in range(len(y_test))]\n",
    "\n",
    "ns_auc = roc_auc_score(y_test, ns_probs)\n",
    "XG_auc = roc_auc_score(y_test, pred_probs)\n",
    "\n",
    "ns_fpr, ns_tpr, _ = roc_curve(y_test, ns_probs)\n",
    "XG_fpr, XG_tpr, _ = roc_curve(y_test, pred_probs)\n",
    "\n",
    "pyplot.plot(ns_fpr, ns_tpr, linestyle='--', label='No Model')\n",
    "pyplot.plot(XG_fpr, XG_tpr, marker='.', label='XBOOST Model')\n",
    "pyplot.xlabel('False Positive Rate')\n",
    "pyplot.ylabel('True Positive Rate')\n",
    "# show the legend\n",
    "pyplot.legend()\n",
    "# show the plot\n",
    "pyplot.show()"
   ]
  },
  {
   "cell_type": "code",
   "execution_count": 1536,
   "metadata": {},
   "outputs": [
    {
     "name": "stdout",
     "output_type": "stream",
     "text": [
      "The AUC score for the XGBOOST model is 0.906104057209574.\n"
     ]
    }
   ],
   "source": [
    "print(f'The AUC score for the XGBOOST model is {XG_auc}.')"
   ]
  },
  {
   "cell_type": "code",
   "execution_count": 1540,
   "metadata": {},
   "outputs": [],
   "source": [
    "final_model = XGB_B_Search.best_estimator_"
   ]
  },
  {
   "cell_type": "markdown",
   "metadata": {},
   "source": [
    "## Model Interpretation"
   ]
  },
  {
   "cell_type": "markdown",
   "metadata": {},
   "source": [
    "### Shapley Scores"
   ]
  },
  {
   "cell_type": "markdown",
   "metadata": {},
   "source": [
    "Shapley values can help understand what is contributing to decisions the model is making. What are the most important features in the model. "
   ]
  },
  {
   "cell_type": "code",
   "execution_count": 1606,
   "metadata": {},
   "outputs": [
    {
     "data": {
      "image/png": "[encoded data removed]",
      "text/plain": [
       "<Figure size 576x655.2 with 1 Axes>"
      ]
     },
     "metadata": {},
     "output_type": "display_data"
    }
   ],
   "source": [
    "shap_values = shap.TreeExplainer(final_model.steps[2][1]).shap_values(Processed_X_train)\n",
    "shap.summary_plot(shap_values, Processed_X_train, plot_type=\"bar\")"
   ]
  },
  {
   "cell_type": "markdown",
   "metadata": {},
   "source": [
    "The above values show the biggest influences on the models decisions. Total day charge, total minutes, customer service calls, and not having the international plan show the greatest influence."
   ]
  },
  {
   "cell_type": "code",
   "execution_count": 1607,
   "metadata": {},
   "outputs": [
    {
     "data": {
      "image/png": "[encoded data removed]",
      "text/plain": [
       "<Figure size 576x655.2 with 2 Axes>"
      ]
     },
     "metadata": {},
     "output_type": "display_data"
    }
   ],
   "source": [
    "shap.summary_plot(shap_values, features=Processed_X_train, feature_names=Processed_X_train.columns)"
   ]
  },
  {
   "cell_type": "markdown",
   "metadata": {},
   "source": [
    "The Shapley scores show the contribution of the model's decision if a customer would churn. Not having the international plan shows a strong marking towards churn. High customer service calls also line up this way. A high number of voicemail messages point towards NOT churning."
   ]
  },
  {
   "cell_type": "markdown",
   "metadata": {},
   "source": [
    "### Individual Shapley Scores"
   ]
  },
  {
   "cell_type": "code",
   "execution_count": 1127,
   "metadata": {},
   "outputs": [],
   "source": [
    "#Processing All X Values\n",
    "Processed_X = Preprocessed.fit_transform(X)"
   ]
  },
  {
   "cell_type": "code",
   "execution_count": 1131,
   "metadata": {},
   "outputs": [],
   "source": [
    "#Predicting on the Entire Dataset\n",
    "ALL_PREDS = XGB_B_Search.best_estimator_.predict(X)"
   ]
  },
  {
   "cell_type": "code",
   "execution_count": 1546,
   "metadata": {},
   "outputs": [],
   "source": [
    "ALL_PREDS = pd.DataFrame(ALL_PREDS)"
   ]
  },
  {
   "cell_type": "code",
   "execution_count": 1549,
   "metadata": {},
   "outputs": [
    {
     "data": {
      "text/html": [
       "<div>\n",
       "<style scoped>\n",
       "    .dataframe tbody tr th:only-of-type {\n",
       "        vertical-align: middle;\n",
       "    }\n",
       "\n",
       "    .dataframe tbody tr th {\n",
       "        vertical-align: top;\n",
       "    }\n",
       "\n",
       "    .dataframe thead th {\n",
       "        text-align: right;\n",
       "    }\n",
       "</style>\n",
       "<table border=\"1\" class=\"dataframe\">\n",
       "  <thead>\n",
       "    <tr style=\"text-align: right;\">\n",
       "      <th></th>\n",
       "      <th>0</th>\n",
       "      <th>churn</th>\n",
       "    </tr>\n",
       "  </thead>\n",
       "  <tbody>\n",
       "    <tr>\n",
       "      <th>0</th>\n",
       "      <td>0</td>\n",
       "      <td>False</td>\n",
       "    </tr>\n",
       "    <tr>\n",
       "      <th>1</th>\n",
       "      <td>0</td>\n",
       "      <td>False</td>\n",
       "    </tr>\n",
       "    <tr>\n",
       "      <th>2</th>\n",
       "      <td>0</td>\n",
       "      <td>False</td>\n",
       "    </tr>\n",
       "    <tr>\n",
       "      <th>3</th>\n",
       "      <td>0</td>\n",
       "      <td>False</td>\n",
       "    </tr>\n",
       "    <tr>\n",
       "      <th>4</th>\n",
       "      <td>0</td>\n",
       "      <td>False</td>\n",
       "    </tr>\n",
       "    <tr>\n",
       "      <th>...</th>\n",
       "      <td>...</td>\n",
       "      <td>...</td>\n",
       "    </tr>\n",
       "    <tr>\n",
       "      <th>3328</th>\n",
       "      <td>0</td>\n",
       "      <td>False</td>\n",
       "    </tr>\n",
       "    <tr>\n",
       "      <th>3329</th>\n",
       "      <td>0</td>\n",
       "      <td>False</td>\n",
       "    </tr>\n",
       "    <tr>\n",
       "      <th>3330</th>\n",
       "      <td>0</td>\n",
       "      <td>False</td>\n",
       "    </tr>\n",
       "    <tr>\n",
       "      <th>3331</th>\n",
       "      <td>0</td>\n",
       "      <td>False</td>\n",
       "    </tr>\n",
       "    <tr>\n",
       "      <th>3332</th>\n",
       "      <td>0</td>\n",
       "      <td>False</td>\n",
       "    </tr>\n",
       "  </tbody>\n",
       "</table>\n",
       "<p>3333 rows × 2 columns</p>\n",
       "</div>"
      ],
      "text/plain": [
       "      0  churn\n",
       "0     0  False\n",
       "1     0  False\n",
       "2     0  False\n",
       "3     0  False\n",
       "4     0  False\n",
       "...  ..    ...\n",
       "3328  0  False\n",
       "3329  0  False\n",
       "3330  0  False\n",
       "3331  0  False\n",
       "3332  0  False\n",
       "\n",
       "[3333 rows x 2 columns]"
      ]
     },
     "execution_count": 1549,
     "metadata": {},
     "output_type": "execute_result"
    }
   ],
   "source": [
    "PRED_COMPARE  = ALL_PREDS.join(df['churn'])\n",
    "PRED_COMPARE"
   ]
  },
  {
   "cell_type": "code",
   "execution_count": 1243,
   "metadata": {},
   "outputs": [],
   "source": [
    "def individual_shap(i,Processed_X,PRED_COMPARE):\n",
    "    #Extracts the Shapley Score and also adds a string saying if it was a predicted\n",
    "    #churn and if that prediction was correct. Might be interesting to add a similar \n",
    "    #value feature.\n",
    "    Prediction = None\n",
    "    True_Value = None\n",
    "    if PRED_COMPARE.loc[i][0]==0:\n",
    "        Prediction = 'No Churn'\n",
    "    else:\n",
    "        Prediction = 'Churn'\n",
    "    if PRED_COMPARE.loc[i]['churn']==0:\n",
    "        True_Value = 'No Churn'\n",
    "    else:\n",
    "        True_Value = 'Churn'\n",
    "    Summary = f'The Prediction for this value was {Prediction}. The actual result was {True_Value}. The above Shap_Chart indicates what made this prediction'\n",
    "    Shap_Chart = shap.force_plot(explainer.expected_value, shap_values[i], features=Processed_X.loc[i], feature_names=Processed_X.columns)\n",
    "    \n",
    "    return display(Shap_Chart,Summary)"
   ]
  },
  {
   "cell_type": "code",
   "execution_count": 1550,
   "metadata": {},
   "outputs": [],
   "source": [
    "#Removing the scaling for clarity\n",
    "Preprocessed = (\n",
    "    Skippa()\n",
    "#     .scale(columns(dtype_include='number'), type='standard')\n",
    "   \n",
    "    .onehot(columns(dtype_exclude='number'))\n",
    "    .build())"
   ]
  },
  {
   "cell_type": "code",
   "execution_count": 1551,
   "metadata": {},
   "outputs": [],
   "source": [
    "No_Scale_X = Preprocessed.fit_transform(X)"
   ]
  },
  {
   "cell_type": "code",
   "execution_count": 1581,
   "metadata": {},
   "outputs": [
    {
     "data": {
      "text/html": [
       "<div>\n",
       "<style scoped>\n",
       "    .dataframe tbody tr th:only-of-type {\n",
       "        vertical-align: middle;\n",
       "    }\n",
       "\n",
       "    .dataframe tbody tr th {\n",
       "        vertical-align: top;\n",
       "    }\n",
       "\n",
       "    .dataframe thead th {\n",
       "        text-align: right;\n",
       "    }\n",
       "</style>\n",
       "<table border=\"1\" class=\"dataframe\">\n",
       "  <thead>\n",
       "    <tr style=\"text-align: right;\">\n",
       "      <th></th>\n",
       "      <th>state</th>\n",
       "      <th>account length</th>\n",
       "      <th>area code</th>\n",
       "      <th>phone number</th>\n",
       "      <th>international plan</th>\n",
       "      <th>voice mail plan</th>\n",
       "      <th>number vmail messages</th>\n",
       "      <th>total day calls</th>\n",
       "      <th>total day charge</th>\n",
       "      <th>total eve calls</th>\n",
       "      <th>total eve charge</th>\n",
       "      <th>total night calls</th>\n",
       "      <th>total night charge</th>\n",
       "      <th>total intl calls</th>\n",
       "      <th>total intl charge</th>\n",
       "      <th>customer service calls</th>\n",
       "      <th>churn</th>\n",
       "      <th>total minutes</th>\n",
       "    </tr>\n",
       "  </thead>\n",
       "  <tbody>\n",
       "    <tr>\n",
       "      <th>10</th>\n",
       "      <td>IN</td>\n",
       "      <td>65</td>\n",
       "      <td>415</td>\n",
       "      <td>329-6603</td>\n",
       "      <td>no</td>\n",
       "      <td>no</td>\n",
       "      <td>0</td>\n",
       "      <td>137</td>\n",
       "      <td>21.95</td>\n",
       "      <td>83</td>\n",
       "      <td>19.42</td>\n",
       "      <td>111</td>\n",
       "      <td>9.40</td>\n",
       "      <td>6</td>\n",
       "      <td>3.43</td>\n",
       "      <td>4</td>\n",
       "      <td>True</td>\n",
       "      <td>579.1</td>\n",
       "    </tr>\n",
       "    <tr>\n",
       "      <th>15</th>\n",
       "      <td>NY</td>\n",
       "      <td>161</td>\n",
       "      <td>415</td>\n",
       "      <td>351-7269</td>\n",
       "      <td>no</td>\n",
       "      <td>no</td>\n",
       "      <td>0</td>\n",
       "      <td>67</td>\n",
       "      <td>56.59</td>\n",
       "      <td>97</td>\n",
       "      <td>27.01</td>\n",
       "      <td>128</td>\n",
       "      <td>7.23</td>\n",
       "      <td>9</td>\n",
       "      <td>1.46</td>\n",
       "      <td>4</td>\n",
       "      <td>True</td>\n",
       "      <td>816.7</td>\n",
       "    </tr>\n",
       "    <tr>\n",
       "      <th>21</th>\n",
       "      <td>CO</td>\n",
       "      <td>77</td>\n",
       "      <td>408</td>\n",
       "      <td>393-7984</td>\n",
       "      <td>no</td>\n",
       "      <td>no</td>\n",
       "      <td>0</td>\n",
       "      <td>89</td>\n",
       "      <td>10.61</td>\n",
       "      <td>121</td>\n",
       "      <td>14.44</td>\n",
       "      <td>64</td>\n",
       "      <td>9.43</td>\n",
       "      <td>6</td>\n",
       "      <td>1.54</td>\n",
       "      <td>5</td>\n",
       "      <td>True</td>\n",
       "      <td>447.6</td>\n",
       "    </tr>\n",
       "    <tr>\n",
       "      <th>33</th>\n",
       "      <td>AZ</td>\n",
       "      <td>12</td>\n",
       "      <td>408</td>\n",
       "      <td>360-1596</td>\n",
       "      <td>no</td>\n",
       "      <td>no</td>\n",
       "      <td>0</td>\n",
       "      <td>118</td>\n",
       "      <td>42.43</td>\n",
       "      <td>119</td>\n",
       "      <td>21.45</td>\n",
       "      <td>90</td>\n",
       "      <td>12.61</td>\n",
       "      <td>3</td>\n",
       "      <td>3.19</td>\n",
       "      <td>1</td>\n",
       "      <td>True</td>\n",
       "      <td>794.0</td>\n",
       "    </tr>\n",
       "    <tr>\n",
       "      <th>41</th>\n",
       "      <td>MD</td>\n",
       "      <td>135</td>\n",
       "      <td>408</td>\n",
       "      <td>383-6029</td>\n",
       "      <td>yes</td>\n",
       "      <td>yes</td>\n",
       "      <td>41</td>\n",
       "      <td>85</td>\n",
       "      <td>29.43</td>\n",
       "      <td>107</td>\n",
       "      <td>17.33</td>\n",
       "      <td>78</td>\n",
       "      <td>5.50</td>\n",
       "      <td>15</td>\n",
       "      <td>3.94</td>\n",
       "      <td>0</td>\n",
       "      <td>True</td>\n",
       "      <td>513.8</td>\n",
       "    </tr>\n",
       "    <tr>\n",
       "      <th>...</th>\n",
       "      <td>...</td>\n",
       "      <td>...</td>\n",
       "      <td>...</td>\n",
       "      <td>...</td>\n",
       "      <td>...</td>\n",
       "      <td>...</td>\n",
       "      <td>...</td>\n",
       "      <td>...</td>\n",
       "      <td>...</td>\n",
       "      <td>...</td>\n",
       "      <td>...</td>\n",
       "      <td>...</td>\n",
       "      <td>...</td>\n",
       "      <td>...</td>\n",
       "      <td>...</td>\n",
       "      <td>...</td>\n",
       "      <td>...</td>\n",
       "      <td>...</td>\n",
       "    </tr>\n",
       "    <tr>\n",
       "      <th>3301</th>\n",
       "      <td>CA</td>\n",
       "      <td>84</td>\n",
       "      <td>415</td>\n",
       "      <td>417-1488</td>\n",
       "      <td>no</td>\n",
       "      <td>no</td>\n",
       "      <td>0</td>\n",
       "      <td>113</td>\n",
       "      <td>47.60</td>\n",
       "      <td>90</td>\n",
       "      <td>17.19</td>\n",
       "      <td>103</td>\n",
       "      <td>7.06</td>\n",
       "      <td>4</td>\n",
       "      <td>2.81</td>\n",
       "      <td>0</td>\n",
       "      <td>True</td>\n",
       "      <td>649.4</td>\n",
       "    </tr>\n",
       "    <tr>\n",
       "      <th>3304</th>\n",
       "      <td>IL</td>\n",
       "      <td>71</td>\n",
       "      <td>510</td>\n",
       "      <td>330-7137</td>\n",
       "      <td>yes</td>\n",
       "      <td>no</td>\n",
       "      <td>0</td>\n",
       "      <td>114</td>\n",
       "      <td>31.64</td>\n",
       "      <td>140</td>\n",
       "      <td>16.88</td>\n",
       "      <td>80</td>\n",
       "      <td>9.29</td>\n",
       "      <td>5</td>\n",
       "      <td>3.73</td>\n",
       "      <td>4</td>\n",
       "      <td>True</td>\n",
       "      <td>605.0</td>\n",
       "    </tr>\n",
       "    <tr>\n",
       "      <th>3320</th>\n",
       "      <td>GA</td>\n",
       "      <td>122</td>\n",
       "      <td>510</td>\n",
       "      <td>411-5677</td>\n",
       "      <td>yes</td>\n",
       "      <td>no</td>\n",
       "      <td>0</td>\n",
       "      <td>101</td>\n",
       "      <td>23.80</td>\n",
       "      <td>77</td>\n",
       "      <td>16.69</td>\n",
       "      <td>133</td>\n",
       "      <td>5.40</td>\n",
       "      <td>4</td>\n",
       "      <td>2.62</td>\n",
       "      <td>4</td>\n",
       "      <td>True</td>\n",
       "      <td>466.2</td>\n",
       "    </tr>\n",
       "    <tr>\n",
       "      <th>3322</th>\n",
       "      <td>MD</td>\n",
       "      <td>62</td>\n",
       "      <td>408</td>\n",
       "      <td>409-1856</td>\n",
       "      <td>no</td>\n",
       "      <td>no</td>\n",
       "      <td>0</td>\n",
       "      <td>105</td>\n",
       "      <td>54.59</td>\n",
       "      <td>122</td>\n",
       "      <td>22.57</td>\n",
       "      <td>72</td>\n",
       "      <td>8.12</td>\n",
       "      <td>2</td>\n",
       "      <td>3.11</td>\n",
       "      <td>4</td>\n",
       "      <td>True</td>\n",
       "      <td>778.6</td>\n",
       "    </tr>\n",
       "    <tr>\n",
       "      <th>3323</th>\n",
       "      <td>IN</td>\n",
       "      <td>117</td>\n",
       "      <td>415</td>\n",
       "      <td>362-5899</td>\n",
       "      <td>no</td>\n",
       "      <td>no</td>\n",
       "      <td>0</td>\n",
       "      <td>126</td>\n",
       "      <td>20.13</td>\n",
       "      <td>97</td>\n",
       "      <td>21.19</td>\n",
       "      <td>56</td>\n",
       "      <td>10.22</td>\n",
       "      <td>3</td>\n",
       "      <td>3.67</td>\n",
       "      <td>5</td>\n",
       "      <td>True</td>\n",
       "      <td>608.3</td>\n",
       "    </tr>\n",
       "  </tbody>\n",
       "</table>\n",
       "<p>483 rows × 18 columns</p>\n",
       "</div>"
      ],
      "text/plain": [
       "     state  account length  area code phone number international plan  \\\n",
       "10      IN              65        415     329-6603                 no   \n",
       "15      NY             161        415     351-7269                 no   \n",
       "21      CO              77        408     393-7984                 no   \n",
       "33      AZ              12        408     360-1596                 no   \n",
       "41      MD             135        408     383-6029                yes   \n",
       "...    ...             ...        ...          ...                ...   \n",
       "3301    CA              84        415     417-1488                 no   \n",
       "3304    IL              71        510     330-7137                yes   \n",
       "3320    GA             122        510     411-5677                yes   \n",
       "3322    MD              62        408     409-1856                 no   \n",
       "3323    IN             117        415     362-5899                 no   \n",
       "\n",
       "     voice mail plan  number vmail messages  total day calls  \\\n",
       "10                no                      0              137   \n",
       "15                no                      0               67   \n",
       "21                no                      0               89   \n",
       "33                no                      0              118   \n",
       "41               yes                     41               85   \n",
       "...              ...                    ...              ...   \n",
       "3301              no                      0              113   \n",
       "3304              no                      0              114   \n",
       "3320              no                      0              101   \n",
       "3322              no                      0              105   \n",
       "3323              no                      0              126   \n",
       "\n",
       "      total day charge  total eve calls  total eve charge  total night calls  \\\n",
       "10               21.95               83             19.42                111   \n",
       "15               56.59               97             27.01                128   \n",
       "21               10.61              121             14.44                 64   \n",
       "33               42.43              119             21.45                 90   \n",
       "41               29.43              107             17.33                 78   \n",
       "...                ...              ...               ...                ...   \n",
       "3301             47.60               90             17.19                103   \n",
       "3304             31.64              140             16.88                 80   \n",
       "3320             23.80               77             16.69                133   \n",
       "3322             54.59              122             22.57                 72   \n",
       "3323             20.13               97             21.19                 56   \n",
       "\n",
       "      total night charge  total intl calls  total intl charge  \\\n",
       "10                  9.40                 6               3.43   \n",
       "15                  7.23                 9               1.46   \n",
       "21                  9.43                 6               1.54   \n",
       "33                 12.61                 3               3.19   \n",
       "41                  5.50                15               3.94   \n",
       "...                  ...               ...                ...   \n",
       "3301                7.06                 4               2.81   \n",
       "3304                9.29                 5               3.73   \n",
       "3320                5.40                 4               2.62   \n",
       "3322                8.12                 2               3.11   \n",
       "3323               10.22                 3               3.67   \n",
       "\n",
       "      customer service calls  churn  total minutes  \n",
       "10                         4   True          579.1  \n",
       "15                         4   True          816.7  \n",
       "21                         5   True          447.6  \n",
       "33                         1   True          794.0  \n",
       "41                         0   True          513.8  \n",
       "...                      ...    ...            ...  \n",
       "3301                       0   True          649.4  \n",
       "3304                       4   True          605.0  \n",
       "3320                       4   True          466.2  \n",
       "3322                       4   True          778.6  \n",
       "3323                       5   True          608.3  \n",
       "\n",
       "[483 rows x 18 columns]"
      ]
     },
     "execution_count": 1581,
     "metadata": {},
     "output_type": "execute_result"
    }
   ],
   "source": [
    "df[df['churn']==1]"
   ]
  },
  {
   "cell_type": "code",
   "execution_count": 1608,
   "metadata": {},
   "outputs": [
    {
     "data": {
      "text/plain": [
       "2666"
      ]
     },
     "execution_count": 1608,
     "metadata": {},
     "output_type": "execute_result"
    }
   ],
   "source": [
    "len(shap_values)"
   ]
  },
  {
   "cell_type": "code",
   "execution_count": 1612,
   "metadata": {},
   "outputs": [
    {
     "data": {
      "text/html": [
       "\n",
       "<div id='i5O30NOXX5ML0WRK9UQ4P'>\n",
       "<div style='color: #900; text-align: center;'>\n",
       "  <b>Visualization omitted, Javascript library not loaded!</b><br>\n",
       "  Have you run `initjs()` in this notebook? If this notebook was from another\n",
       "  user you must also trust this notebook (File -> Trust notebook). If you are viewing\n",
       "  this notebook on github the Javascript has been stripped for security. If you are using\n",
       "  JupyterLab this error is because a JupyterLab extension has not yet been written.\n",
       "</div></div>\n",
       " <script>\n",
       "   if (window.SHAP) SHAP.ReactDom.render(\n",
       "    SHAP.React.createElement(SHAP.AdditiveForceVisualizer, {\"outNames\": [\"f(x)\"], \"baseValue\": 5.436802864074707, \"outValue\": -1.6639041900634766, \"link\": \"identity\", \"featureNames\": [\"account length\", \"number vmail messages\", \"total day calls\", \"total day charge\", \"total eve calls\", \"total eve charge\", \"total night calls\", \"total night charge\", \"total intl calls\", \"total intl charge\", \"customer service calls\", \"total minutes\", \"area code_408\", \"area code_415\", \"area code_510\", \"international plan_no\", \"international plan_yes\", \"voice mail plan_no\", \"voice mail plan_yes\"], \"features\": {\"0\": {\"effect\": -0.3492850363254547, \"value\": 65.0}, \"1\": {\"effect\": -0.42919301986694336, \"value\": 0.0}, \"2\": {\"effect\": 0.7291849851608276, \"value\": 137.0}, \"3\": {\"effect\": -4.2904205322265625, \"value\": 21.95}, \"4\": {\"effect\": -0.0130949467420578, \"value\": 83.0}, \"5\": {\"effect\": -1.4698926210403442, \"value\": 19.42}, \"6\": {\"effect\": -0.4992271065711975, \"value\": 111.0}, \"7\": {\"effect\": -1.0878055095672607, \"value\": 9.4}, \"8\": {\"effect\": -0.8816713094711304, \"value\": 6.0}, \"9\": {\"effect\": -0.20928995311260223, \"value\": 3.43}, \"10\": {\"effect\": 2.6679837703704834, \"value\": 4.0}, \"11\": {\"effect\": -0.5702309608459473, \"value\": 579.1}, \"12\": {\"effect\": -0.05653742700815201, \"value\": 0.0}, \"13\": {\"effect\": -0.3632175624370575, \"value\": 1.0}, \"14\": {\"effect\": 0.03329864889383316, \"value\": 0.0}, \"15\": {\"effect\": -0.2915443778038025, \"value\": 1.0}, \"16\": {\"effect\": 0.00522958068177104, \"value\": 0.0}, \"17\": {\"effect\": -0.024993572384119034, \"value\": 1.0}}, \"plot_cmap\": \"RdBu\", \"labelMargin\": 20}),\n",
       "    document.getElementById('i5O30NOXX5ML0WRK9UQ4P')\n",
       "  );\n",
       "</script>"
      ],
      "text/plain": [
       "<shap.plots._force.AdditiveForceVisualizer at 0x7fd557c319d0>"
      ]
     },
     "metadata": {},
     "output_type": "display_data"
    },
    {
     "data": {
      "text/plain": [
       "'The Prediction for this value was Churn. The actual result was Churn. The above Shap_Chart indicates what made this prediction'"
      ]
     },
     "metadata": {},
     "output_type": "display_data"
    }
   ],
   "source": [
    "#Removing the Scaling allows for an interpretable Shapley individual visualization without changing the score\n",
    "individual_shap(10,No_Scale_X,PRED_COMPARE)"
   ]
  },
  {
   "cell_type": "code",
   "execution_count": 1613,
   "metadata": {},
   "outputs": [
    {
     "data": {
      "text/html": [
       "\n",
       "<div id='iTG0I63N59LETT0LM4VVL'>\n",
       "<div style='color: #900; text-align: center;'>\n",
       "  <b>Visualization omitted, Javascript library not loaded!</b><br>\n",
       "  Have you run `initjs()` in this notebook? If this notebook was from another\n",
       "  user you must also trust this notebook (File -> Trust notebook). If you are viewing\n",
       "  this notebook on github the Javascript has been stripped for security. If you are using\n",
       "  JupyterLab this error is because a JupyterLab extension has not yet been written.\n",
       "</div></div>\n",
       " <script>\n",
       "   if (window.SHAP) SHAP.ReactDom.render(\n",
       "    SHAP.React.createElement(SHAP.AdditiveForceVisualizer, {\"outNames\": [\"f(x)\"], \"baseValue\": 5.436802864074707, \"outValue\": -1.6639041900634766, \"link\": \"identity\", \"featureNames\": [\"account length\", \"number vmail messages\", \"total day calls\", \"total day charge\", \"total eve calls\", \"total eve charge\", \"total night calls\", \"total night charge\", \"total intl calls\", \"total intl charge\", \"customer service calls\", \"total minutes\", \"area code_408\", \"area code_415\", \"area code_510\", \"international plan_no\", \"international plan_yes\", \"voice mail plan_no\", \"voice mail plan_yes\"], \"features\": {\"0\": {\"effect\": -0.3492850363254547, \"value\": 65.0}, \"1\": {\"effect\": -0.42919301986694336, \"value\": 0.0}, \"2\": {\"effect\": 0.7291849851608276, \"value\": 137.0}, \"3\": {\"effect\": -4.2904205322265625, \"value\": 21.95}, \"4\": {\"effect\": -0.0130949467420578, \"value\": 83.0}, \"5\": {\"effect\": -1.4698926210403442, \"value\": 19.42}, \"6\": {\"effect\": -0.4992271065711975, \"value\": 111.0}, \"7\": {\"effect\": -1.0878055095672607, \"value\": 9.4}, \"8\": {\"effect\": -0.8816713094711304, \"value\": 6.0}, \"9\": {\"effect\": -0.20928995311260223, \"value\": 3.43}, \"10\": {\"effect\": 2.6679837703704834, \"value\": 4.0}, \"11\": {\"effect\": -0.5702309608459473, \"value\": 579.1}, \"12\": {\"effect\": -0.05653742700815201, \"value\": 0.0}, \"13\": {\"effect\": -0.3632175624370575, \"value\": 1.0}, \"14\": {\"effect\": 0.03329864889383316, \"value\": 0.0}, \"15\": {\"effect\": -0.2915443778038025, \"value\": 1.0}, \"16\": {\"effect\": 0.00522958068177104, \"value\": 0.0}, \"17\": {\"effect\": -0.024993572384119034, \"value\": 1.0}}, \"plot_cmap\": \"RdBu\", \"labelMargin\": 20}),\n",
       "    document.getElementById('iTG0I63N59LETT0LM4VVL')\n",
       "  );\n",
       "</script>"
      ],
      "text/plain": [
       "<shap.plots._force.AdditiveForceVisualizer at 0x7fd556771d90>"
      ]
     },
     "metadata": {},
     "output_type": "display_data"
    },
    {
     "data": {
      "text/plain": [
       "'The Prediction for this value was Churn. The actual result was Churn. The above Shap_Chart indicates what made this prediction'"
      ]
     },
     "metadata": {},
     "output_type": "display_data"
    }
   ],
   "source": [
    "individual_shap(10,Processed_X,PRED_COMPARE)"
   ]
  },
  {
   "cell_type": "markdown",
   "metadata": {},
   "source": [
    "### Shapley Conclusions"
   ]
  },
  {
   "cell_type": "markdown",
   "metadata": {},
   "source": [
    "The international plan also seems to be relevent area. Not having the international plan had a high impact on churn, though the opposite cannot be said for having the international plan -- having the international plan did not have a high impact on churn.\n",
    "\n",
    "Voicemail messages also showed a negative impact on churn. High voicemail messages had a negative impact on the model - voicemail users impacted the model away from a churn decision.  "
   ]
  },
  {
   "cell_type": "markdown",
   "metadata": {},
   "source": [
    "## Conclusions"
   ]
  },
  {
   "cell_type": "markdown",
   "metadata": {},
   "source": [
    "The final model was able to identify the actual Churn customers 81% of the time. 11% of the time the model misidentified non-churn customers as churn customers. This model was tuned to avoid overfitting and memorizing training data, I would expect it to show similar scores with further unseen data. The model used weighting to avoid synthesizing more training data give the unbalanced dataset. \n",
    "\n",
    "The Shapley Scores indicate customer service calls are an intuitive cause of churn. Not having an international plan highly contributed to churn predictions in the model. \n",
    "\n",
    "Utilizing voicemail had the opposite effect on churn - it had an anti-churn effect. "
   ]
  },
  {
   "cell_type": "markdown",
   "metadata": {},
   "source": [
    "### Reccomendations "
   ]
  },
  {
   "cell_type": "markdown",
   "metadata": {},
   "source": [
    "Targeting churn customers with discounts, deals, and further customer service attention could help in customer retention. Enticing customers who make international calls with the international plan may also help retain guests \n",
    "as customers that did not have the international plan also racked up charges and calls without the plan."
   ]
  },
  {
   "cell_type": "code",
   "execution_count": 1265,
   "metadata": {},
   "outputs": [
    {
     "data": {
      "text/plain": [
       "international plan\n",
       "no     4.465449\n",
       "yes    4.609907\n",
       "Name: total intl calls, dtype: float64"
      ]
     },
     "execution_count": 1265,
     "metadata": {},
     "output_type": "execute_result"
    }
   ],
   "source": [
    "df.groupby('international plan')['total intl calls'].mean()"
   ]
  },
  {
   "cell_type": "code",
   "execution_count": 1266,
   "metadata": {},
   "outputs": [
    {
     "data": {
      "text/plain": [
       "international plan\n",
       "no     2.753279\n",
       "yes    2.869907\n",
       "Name: total intl charge, dtype: float64"
      ]
     },
     "execution_count": 1266,
     "metadata": {},
     "output_type": "execute_result"
    }
   ],
   "source": [
    "df.groupby('international plan')['total intl charge'].mean()"
   ]
  },
  {
   "cell_type": "markdown",
   "metadata": {},
   "source": [
    "### Further Modeling"
   ]
  },
  {
   "cell_type": "markdown",
   "metadata": {},
   "source": [
    "For further modeling I would like to see text message useage, internet usage, and recent phone purchase. It would also be helpful to look at a longer stretch of customer data. Data useage will show how current customers are using their smartphones. "
   ]
  }
 ],
 "metadata": {
  "kernelspec": {
   "display_name": "Python (learn-env)",
   "language": "python",
   "name": "learn-env"
  },
  "language_info": {
   "codemirror_mode": {
    "name": "ipython",
    "version": 3
   },
   "file_extension": ".py",
   "mimetype": "text/x-python",
   "name": "python",
   "nbconvert_exporter": "python",
   "pygments_lexer": "ipython3",
   "version": "3.8.5"
  },
  "toc": {
   "base_numbering": 1,
   "nav_menu": {},
   "number_sections": true,
   "sideBar": true,
   "skip_h1_title": true,
   "title_cell": "Table of Contents",
   "title_sidebar": "Contents",
   "toc_cell": false,
   "toc_position": {
    "height": "calc(100% - 180px)",
    "left": "10px",
    "top": "150px",
    "width": "195px"
   },
   "toc_section_display": true,
   "toc_window_display": true
  },
  "varInspector": {
   "cols": {
    "lenName": 16,
    "lenType": 16,
    "lenVar": 40
   },
   "kernels_config": {
    "python": {
     "delete_cmd_postfix": "",
     "delete_cmd_prefix": "del ",
     "library": "var_list.py",
     "varRefreshCmd": "print(var_dic_list())"
    },
    "r": {
     "delete_cmd_postfix": ") ",
     "delete_cmd_prefix": "rm(",
     "library": "var_list.r",
     "varRefreshCmd": "cat(var_dic_list()) "
    }
   },
   "types_to_exclude": [
    "module",
    "function",
    "builtin_function_or_method",
    "instance",
    "_Feature"
   ],
   "window_display": false
  }
 },
 "nbformat": 4,
 "nbformat_minor": 4
}
